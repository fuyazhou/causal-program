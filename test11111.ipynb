{
 "cells": [
  {
   "cell_type": "code",
   "execution_count": 1,
   "id": "67a30738",
   "metadata": {
    "ExecuteTime": {
     "end_time": "2022-12-06T08:25:56.973962Z",
     "start_time": "2022-12-06T08:25:56.628748Z"
    }
   },
   "outputs": [],
   "source": [
    "import pandas as pd\n",
    "import numpy as np"
   ]
  },
  {
   "cell_type": "code",
   "execution_count": 14,
   "id": "e54622b4",
   "metadata": {
    "ExecuteTime": {
     "end_time": "2022-12-06T09:10:47.073737Z",
     "start_time": "2022-12-06T09:10:47.029896Z"
    }
   },
   "outputs": [
    {
     "name": "stderr",
     "output_type": "stream",
     "text": [
      "C:\\temp\\ipykernel_11968\\232866235.py:1: FutureWarning: The error_bad_lines argument has been deprecated and will be removed in a future version. Use on_bad_lines in the future.\n",
      "\n",
      "\n",
      "  data=pd.read_csv(\"C:/Users/Yazhou Fu/Downloads/8cb0a2f2-0b12-4c8e-840b-ebcc0a1a9b12.csv\",error_bad_lines = False)\n",
      "b'Skipping line 21: expected 21 fields, saw 22\\nSkipping line 22: expected 21 fields, saw 23\\nSkipping line 23: expected 21 fields, saw 24\\nSkipping line 24: expected 21 fields, saw 25\\nSkipping line 25: expected 21 fields, saw 26\\nSkipping line 26: expected 21 fields, saw 27\\nSkipping line 27: expected 21 fields, saw 28\\nSkipping line 28: expected 21 fields, saw 29\\nSkipping line 29: expected 21 fields, saw 30\\nSkipping line 30: expected 21 fields, saw 31\\nSkipping line 31: expected 21 fields, saw 32\\nSkipping line 32: expected 21 fields, saw 33\\nSkipping line 33: expected 21 fields, saw 34\\nSkipping line 34: expected 21 fields, saw 35\\nSkipping line 35: expected 21 fields, saw 36\\nSkipping line 36: expected 21 fields, saw 37\\nSkipping line 37: expected 21 fields, saw 38\\nSkipping line 38: expected 21 fields, saw 39\\nSkipping line 39: expected 21 fields, saw 40\\nSkipping line 40: expected 21 fields, saw 41\\nSkipping line 41: expected 21 fields, saw 42\\nSkipping line 42: expected 21 fields, saw 43\\nSkipping line 43: expected 21 fields, saw 44\\nSkipping line 44: expected 21 fields, saw 45\\nSkipping line 45: expected 21 fields, saw 46\\nSkipping line 46: expected 21 fields, saw 47\\nSkipping line 47: expected 21 fields, saw 48\\nSkipping line 48: expected 21 fields, saw 49\\nSkipping line 49: expected 21 fields, saw 50\\nSkipping line 50: expected 21 fields, saw 51\\nSkipping line 51: expected 21 fields, saw 52\\nSkipping line 52: expected 21 fields, saw 53\\nSkipping line 53: expected 21 fields, saw 54\\nSkipping line 54: expected 21 fields, saw 55\\nSkipping line 55: expected 21 fields, saw 56\\nSkipping line 56: expected 21 fields, saw 57\\nSkipping line 57: expected 21 fields, saw 58\\nSkipping line 58: expected 21 fields, saw 59\\nSkipping line 59: expected 21 fields, saw 60\\nSkipping line 60: expected 21 fields, saw 61\\nSkipping line 61: expected 21 fields, saw 62\\nSkipping line 62: expected 21 fields, saw 63\\nSkipping line 63: expected 21 fields, saw 64\\nSkipping line 64: expected 21 fields, saw 65\\nSkipping line 65: expected 21 fields, saw 66\\nSkipping line 66: expected 21 fields, saw 67\\nSkipping line 67: expected 21 fields, saw 68\\nSkipping line 68: expected 21 fields, saw 69\\nSkipping line 69: expected 21 fields, saw 70\\nSkipping line 70: expected 21 fields, saw 71\\nSkipping line 71: expected 21 fields, saw 72\\nSkipping line 72: expected 21 fields, saw 73\\nSkipping line 73: expected 21 fields, saw 74\\nSkipping line 74: expected 21 fields, saw 75\\nSkipping line 75: expected 21 fields, saw 76\\nSkipping line 76: expected 21 fields, saw 77\\nSkipping line 77: expected 21 fields, saw 78\\nSkipping line 78: expected 21 fields, saw 79\\nSkipping line 79: expected 21 fields, saw 80\\nSkipping line 80: expected 21 fields, saw 81\\nSkipping line 81: expected 21 fields, saw 82\\nSkipping line 82: expected 21 fields, saw 83\\nSkipping line 83: expected 21 fields, saw 84\\nSkipping line 84: expected 21 fields, saw 85\\nSkipping line 85: expected 21 fields, saw 86\\n'\n"
     ]
    }
   ],
   "source": [
    "data=pd.read_csv(\"C:/Users/Yazhou Fu/Downloads/8cb0a2f2-0b12-4c8e-840b-ebcc0a1a9b12.csv\",error_bad_lines = False)"
   ]
  },
  {
   "cell_type": "code",
   "execution_count": 16,
   "id": "14dd4ea3",
   "metadata": {
    "ExecuteTime": {
     "end_time": "2022-12-06T09:10:56.317158Z",
     "start_time": "2022-12-06T09:10:56.295158Z"
    }
   },
   "outputs": [
    {
     "name": "stdout",
     "output_type": "stream",
     "text": [
      "<class 'pandas.core.frame.DataFrame'>\n",
      "RangeIndex: 19 entries, 0 to 18\n",
      "Data columns (total 21 columns):\n",
      " #   Column         Non-Null Count  Dtype  \n",
      "---  ------         --------------  -----  \n",
      " 0   UID            19 non-null     int64  \n",
      " 1   逐梦支付金额_TT      0 non-null      float64\n",
      " 2   逐梦流量_TT        19 non-null     float64\n",
      " 3   站外投放花费_种草_小红书  19 non-null     int64  \n",
      " 4   逐梦相关互动量_小红书    19 non-null     float64\n",
      " 5   站外投放 _明星发布     19 non-null     int64  \n",
      " 6   逐梦相关互动量_微博     19 non-null     float64\n",
      " 7   站外投放_KOL博主/媒体  19 non-null     int64  \n",
      " 8   站外投放_微博新华网     19 non-null     int64  \n",
      " 9   站外投放_ 账号采买     19 non-null     int64  \n",
      " 10  逐梦相关互动量_微信     19 non-null     float64\n",
      " 11  站外投放花费_种草_公众号  19 non-null     int64  \n",
      " 12  逐梦相关互动量_短视频    19 non-null     float64\n",
      " 13  站外投放花费_种草_抖音   19 non-null     int64  \n",
      " 14  逐梦相关互动量_得物     19 non-null     int64  \n",
      " 15  站外投放花费_种草_得物   19 non-null     int64  \n",
      " 16  逐梦加购件数_TT      19 non-null     float64\n",
      " 17  逐梦支付金额_JD      19 non-null     float64\n",
      " 18  逐梦支付金额_TM      19 non-null     float64\n",
      " 19  oid            19 non-null     int64  \n",
      " 20  pre            19 non-null     float64\n",
      "dtypes: float64(10), int64(11)\n",
      "memory usage: 3.2 KB\n"
     ]
    }
   ],
   "source": [
    "data.info()"
   ]
  },
  {
   "cell_type": "code",
   "execution_count": 15,
   "id": "f4fc6113",
   "metadata": {
    "ExecuteTime": {
     "end_time": "2022-12-06T09:10:49.315586Z",
     "start_time": "2022-12-06T09:10:49.296590Z"
    }
   },
   "outputs": [
    {
     "data": {
      "text/plain": [
       "0    NaN\n",
       "1    NaN\n",
       "2    NaN\n",
       "3    NaN\n",
       "4    NaN\n",
       "5    NaN\n",
       "6    NaN\n",
       "7    NaN\n",
       "8    NaN\n",
       "9    NaN\n",
       "10   NaN\n",
       "11   NaN\n",
       "12   NaN\n",
       "13   NaN\n",
       "14   NaN\n",
       "15   NaN\n",
       "16   NaN\n",
       "17   NaN\n",
       "18   NaN\n",
       "Name: 逐梦支付金额_TT, dtype: float64"
      ]
     },
     "execution_count": 15,
     "metadata": {},
     "output_type": "execute_result"
    }
   ],
   "source": [
    "data[\"逐梦支付金额_TT\"]"
   ]
  },
  {
   "cell_type": "code",
   "execution_count": 12,
   "id": "55816ae4",
   "metadata": {
    "ExecuteTime": {
     "end_time": "2022-12-06T09:10:44.305294Z",
     "start_time": "2022-12-06T09:10:42.459894Z"
    }
   },
   "outputs": [],
   "source": [
    "data=pd.read_excel(\"df1121(2).xlsx\")"
   ]
  },
  {
   "cell_type": "code",
   "execution_count": 23,
   "id": "2c499413",
   "metadata": {
    "ExecuteTime": {
     "end_time": "2022-11-22T06:15:20.092796Z",
     "start_time": "2022-11-22T06:15:20.078698Z"
    }
   },
   "outputs": [
    {
     "data": {
      "text/html": [
       "<div>\n",
       "<style scoped>\n",
       "    .dataframe tbody tr th:only-of-type {\n",
       "        vertical-align: middle;\n",
       "    }\n",
       "\n",
       "    .dataframe tbody tr th {\n",
       "        vertical-align: top;\n",
       "    }\n",
       "\n",
       "    .dataframe thead th {\n",
       "        text-align: right;\n",
       "    }\n",
       "</style>\n",
       "<table border=\"1\" class=\"dataframe\">\n",
       "  <thead>\n",
       "    <tr style=\"text-align: right;\">\n",
       "      <th></th>\n",
       "      <th>VIN</th>\n",
       "      <th>('DISCOUNT_mean' '机油滤清器')</th>\n",
       "      <th>('DISCOUNT_mean' '机油')</th>\n",
       "      <th>age</th>\n",
       "      <th>gender</th>\n",
       "      <th>IS_WASH</th>\n",
       "      <th>LABOUR_AMOUNT</th>\n",
       "      <th>REPAIR_PART_AMOUNT</th>\n",
       "      <th>REPAIR_AMOUNT</th>\n",
       "      <th>配件数量</th>\n",
       "      <th>oneyear_average_mileage</th>\n",
       "      <th>WAIT_TIME</th>\n",
       "      <th>oneyear_tc</th>\n",
       "      <th>Retention_service</th>\n",
       "      <th>Model</th>\n",
       "      <th>auto_age</th>\n",
       "    </tr>\n",
       "  </thead>\n",
       "  <tbody>\n",
       "    <tr>\n",
       "      <th>0</th>\n",
       "      <td>L2CAB3B20KG100761</td>\n",
       "      <td>1.0</td>\n",
       "      <td>0.0</td>\n",
       "      <td>29</td>\n",
       "      <td>2</td>\n",
       "      <td>1</td>\n",
       "      <td>682.0</td>\n",
       "      <td>1038.32</td>\n",
       "      <td>1720.32</td>\n",
       "      <td>2</td>\n",
       "      <td>7741.65</td>\n",
       "      <td>96</td>\n",
       "      <td>1</td>\n",
       "      <td>1</td>\n",
       "      <td>XEL</td>\n",
       "      <td>36</td>\n",
       "    </tr>\n",
       "    <tr>\n",
       "      <th>1</th>\n",
       "      <td>L2CAB3B20KG100792</td>\n",
       "      <td>0.0</td>\n",
       "      <td>1.0</td>\n",
       "      <td>26</td>\n",
       "      <td>1</td>\n",
       "      <td>1</td>\n",
       "      <td>0.0</td>\n",
       "      <td>236.67</td>\n",
       "      <td>236.67</td>\n",
       "      <td>1</td>\n",
       "      <td>15399.35</td>\n",
       "      <td>52</td>\n",
       "      <td>2</td>\n",
       "      <td>1</td>\n",
       "      <td>XEL</td>\n",
       "      <td>33</td>\n",
       "    </tr>\n",
       "    <tr>\n",
       "      <th>2</th>\n",
       "      <td>L2CAB3B20KG101148</td>\n",
       "      <td>1.0</td>\n",
       "      <td>0.0</td>\n",
       "      <td>49</td>\n",
       "      <td>1</td>\n",
       "      <td>1</td>\n",
       "      <td>385.0</td>\n",
       "      <td>1630.00</td>\n",
       "      <td>2015.00</td>\n",
       "      <td>5</td>\n",
       "      <td>16779.05</td>\n",
       "      <td>65</td>\n",
       "      <td>5</td>\n",
       "      <td>1</td>\n",
       "      <td>XEL</td>\n",
       "      <td>35</td>\n",
       "    </tr>\n",
       "    <tr>\n",
       "      <th>3</th>\n",
       "      <td>L2CAB3B20KG101277</td>\n",
       "      <td>1.0</td>\n",
       "      <td>0.0</td>\n",
       "      <td>43</td>\n",
       "      <td>1</td>\n",
       "      <td>1</td>\n",
       "      <td>392.0</td>\n",
       "      <td>1038.32</td>\n",
       "      <td>1430.32</td>\n",
       "      <td>2</td>\n",
       "      <td>9336.70</td>\n",
       "      <td>112</td>\n",
       "      <td>3</td>\n",
       "      <td>1</td>\n",
       "      <td>XEL</td>\n",
       "      <td>35</td>\n",
       "    </tr>\n",
       "    <tr>\n",
       "      <th>4</th>\n",
       "      <td>L2CAB3B20KG101408</td>\n",
       "      <td>1.0</td>\n",
       "      <td>0.0</td>\n",
       "      <td>41</td>\n",
       "      <td>2</td>\n",
       "      <td>1</td>\n",
       "      <td>388.5</td>\n",
       "      <td>1891.27</td>\n",
       "      <td>2279.77</td>\n",
       "      <td>4</td>\n",
       "      <td>17593.00</td>\n",
       "      <td>133</td>\n",
       "      <td>7</td>\n",
       "      <td>1</td>\n",
       "      <td>XEL</td>\n",
       "      <td>31</td>\n",
       "    </tr>\n",
       "  </tbody>\n",
       "</table>\n",
       "</div>"
      ],
      "text/plain": [
       "                 VIN  ('DISCOUNT_mean' '机油滤清器')  ('DISCOUNT_mean' '机油')  age  \\\n",
       "0  L2CAB3B20KG100761                        1.0                     0.0   29   \n",
       "1  L2CAB3B20KG100792                        0.0                     1.0   26   \n",
       "2  L2CAB3B20KG101148                        1.0                     0.0   49   \n",
       "3  L2CAB3B20KG101277                        1.0                     0.0   43   \n",
       "4  L2CAB3B20KG101408                        1.0                     0.0   41   \n",
       "\n",
       "   gender  IS_WASH  LABOUR_AMOUNT  REPAIR_PART_AMOUNT  REPAIR_AMOUNT  配件数量  \\\n",
       "0       2        1          682.0             1038.32        1720.32     2   \n",
       "1       1        1            0.0              236.67         236.67     1   \n",
       "2       1        1          385.0             1630.00        2015.00     5   \n",
       "3       1        1          392.0             1038.32        1430.32     2   \n",
       "4       2        1          388.5             1891.27        2279.77     4   \n",
       "\n",
       "   oneyear_average_mileage  WAIT_TIME  oneyear_tc  Retention_service Model  \\\n",
       "0                  7741.65         96           1                  1   XEL   \n",
       "1                 15399.35         52           2                  1   XEL   \n",
       "2                 16779.05         65           5                  1   XEL   \n",
       "3                  9336.70        112           3                  1   XEL   \n",
       "4                 17593.00        133           7                  1   XEL   \n",
       "\n",
       "   auto_age  \n",
       "0        36  \n",
       "1        33  \n",
       "2        35  \n",
       "3        35  \n",
       "4        31  "
      ]
     },
     "execution_count": 23,
     "metadata": {},
     "output_type": "execute_result"
    }
   ],
   "source": [
    "data.head()"
   ]
  },
  {
   "cell_type": "code",
   "execution_count": 29,
   "id": "1c05bc8e",
   "metadata": {
    "ExecuteTime": {
     "end_time": "2022-11-22T06:16:52.310426Z",
     "start_time": "2022-11-22T06:16:52.289276Z"
    }
   },
   "outputs": [
    {
     "data": {
      "text/html": [
       "<div>\n",
       "<style scoped>\n",
       "    .dataframe tbody tr th:only-of-type {\n",
       "        vertical-align: middle;\n",
       "    }\n",
       "\n",
       "    .dataframe tbody tr th {\n",
       "        vertical-align: top;\n",
       "    }\n",
       "\n",
       "    .dataframe thead th {\n",
       "        text-align: right;\n",
       "    }\n",
       "</style>\n",
       "<table border=\"1\" class=\"dataframe\">\n",
       "  <thead>\n",
       "    <tr style=\"text-align: right;\">\n",
       "      <th></th>\n",
       "      <th>VIN</th>\n",
       "      <th>DISCOUNT_mean机油滤清器</th>\n",
       "      <th>DISCOUNT_mean机油</th>\n",
       "      <th>age</th>\n",
       "      <th>gender</th>\n",
       "      <th>IS_WASH</th>\n",
       "      <th>LABOUR_AMOUNT</th>\n",
       "      <th>REPAIR_PART_AMOUNT</th>\n",
       "      <th>REPAIR_AMOUNT</th>\n",
       "      <th>配件数量</th>\n",
       "      <th>oneyear_average_mileage</th>\n",
       "      <th>WAIT_TIME</th>\n",
       "      <th>oneyear_tc</th>\n",
       "      <th>Retention_service</th>\n",
       "      <th>Model</th>\n",
       "      <th>auto_age</th>\n",
       "    </tr>\n",
       "  </thead>\n",
       "  <tbody>\n",
       "    <tr>\n",
       "      <th>0</th>\n",
       "      <td>L2CAB3B20KG100761</td>\n",
       "      <td>1.0</td>\n",
       "      <td>0.0</td>\n",
       "      <td>29</td>\n",
       "      <td>2</td>\n",
       "      <td>1</td>\n",
       "      <td>682.0</td>\n",
       "      <td>1038.32</td>\n",
       "      <td>1720.32</td>\n",
       "      <td>2</td>\n",
       "      <td>7741.65</td>\n",
       "      <td>96</td>\n",
       "      <td>1</td>\n",
       "      <td>1</td>\n",
       "      <td>XEL</td>\n",
       "      <td>36</td>\n",
       "    </tr>\n",
       "    <tr>\n",
       "      <th>1</th>\n",
       "      <td>L2CAB3B20KG100792</td>\n",
       "      <td>0.0</td>\n",
       "      <td>1.0</td>\n",
       "      <td>26</td>\n",
       "      <td>1</td>\n",
       "      <td>1</td>\n",
       "      <td>0.0</td>\n",
       "      <td>236.67</td>\n",
       "      <td>236.67</td>\n",
       "      <td>1</td>\n",
       "      <td>15399.35</td>\n",
       "      <td>52</td>\n",
       "      <td>2</td>\n",
       "      <td>1</td>\n",
       "      <td>XEL</td>\n",
       "      <td>33</td>\n",
       "    </tr>\n",
       "    <tr>\n",
       "      <th>2</th>\n",
       "      <td>L2CAB3B20KG101148</td>\n",
       "      <td>1.0</td>\n",
       "      <td>0.0</td>\n",
       "      <td>49</td>\n",
       "      <td>1</td>\n",
       "      <td>1</td>\n",
       "      <td>385.0</td>\n",
       "      <td>1630.00</td>\n",
       "      <td>2015.00</td>\n",
       "      <td>5</td>\n",
       "      <td>16779.05</td>\n",
       "      <td>65</td>\n",
       "      <td>5</td>\n",
       "      <td>1</td>\n",
       "      <td>XEL</td>\n",
       "      <td>35</td>\n",
       "    </tr>\n",
       "    <tr>\n",
       "      <th>3</th>\n",
       "      <td>L2CAB3B20KG101277</td>\n",
       "      <td>1.0</td>\n",
       "      <td>0.0</td>\n",
       "      <td>43</td>\n",
       "      <td>1</td>\n",
       "      <td>1</td>\n",
       "      <td>392.0</td>\n",
       "      <td>1038.32</td>\n",
       "      <td>1430.32</td>\n",
       "      <td>2</td>\n",
       "      <td>9336.70</td>\n",
       "      <td>112</td>\n",
       "      <td>3</td>\n",
       "      <td>1</td>\n",
       "      <td>XEL</td>\n",
       "      <td>35</td>\n",
       "    </tr>\n",
       "    <tr>\n",
       "      <th>4</th>\n",
       "      <td>L2CAB3B20KG101408</td>\n",
       "      <td>1.0</td>\n",
       "      <td>0.0</td>\n",
       "      <td>41</td>\n",
       "      <td>2</td>\n",
       "      <td>1</td>\n",
       "      <td>388.5</td>\n",
       "      <td>1891.27</td>\n",
       "      <td>2279.77</td>\n",
       "      <td>4</td>\n",
       "      <td>17593.00</td>\n",
       "      <td>133</td>\n",
       "      <td>7</td>\n",
       "      <td>1</td>\n",
       "      <td>XEL</td>\n",
       "      <td>31</td>\n",
       "    </tr>\n",
       "  </tbody>\n",
       "</table>\n",
       "</div>"
      ],
      "text/plain": [
       "                 VIN  DISCOUNT_mean机油滤清器  DISCOUNT_mean机油  age  gender  \\\n",
       "0  L2CAB3B20KG100761                 1.0              0.0   29       2   \n",
       "1  L2CAB3B20KG100792                 0.0              1.0   26       1   \n",
       "2  L2CAB3B20KG101148                 1.0              0.0   49       1   \n",
       "3  L2CAB3B20KG101277                 1.0              0.0   43       1   \n",
       "4  L2CAB3B20KG101408                 1.0              0.0   41       2   \n",
       "\n",
       "   IS_WASH  LABOUR_AMOUNT  REPAIR_PART_AMOUNT  REPAIR_AMOUNT  配件数量  \\\n",
       "0        1          682.0             1038.32        1720.32     2   \n",
       "1        1            0.0              236.67         236.67     1   \n",
       "2        1          385.0             1630.00        2015.00     5   \n",
       "3        1          392.0             1038.32        1430.32     2   \n",
       "4        1          388.5             1891.27        2279.77     4   \n",
       "\n",
       "   oneyear_average_mileage  WAIT_TIME  oneyear_tc  Retention_service Model  \\\n",
       "0                  7741.65         96           1                  1   XEL   \n",
       "1                 15399.35         52           2                  1   XEL   \n",
       "2                 16779.05         65           5                  1   XEL   \n",
       "3                  9336.70        112           3                  1   XEL   \n",
       "4                 17593.00        133           7                  1   XEL   \n",
       "\n",
       "   auto_age  \n",
       "0        36  \n",
       "1        33  \n",
       "2        35  \n",
       "3        35  \n",
       "4        31  "
      ]
     },
     "execution_count": 29,
     "metadata": {},
     "output_type": "execute_result"
    }
   ],
   "source": [
    "data.head()"
   ]
  },
  {
   "cell_type": "code",
   "execution_count": 27,
   "id": "65fabfe9",
   "metadata": {
    "ExecuteTime": {
     "end_time": "2022-11-22T06:16:24.335389Z",
     "start_time": "2022-11-22T06:16:24.324369Z"
    }
   },
   "outputs": [],
   "source": [
    "data.columns=['VIN', 'DISCOUNT_mean机油滤清器', 'DISCOUNT_mean机油', 'age', 'gender',\n",
    "       'IS_WASH', 'LABOUR_AMOUNT', 'REPAIR_PART_AMOUNT', 'REPAIR_AMOUNT',\n",
    "       '配件数量', 'oneyear_average_mileage', 'WAIT_TIME', 'oneyear_tc',\n",
    "       'Retention_service', 'Model', 'auto_age']"
   ]
  },
  {
   "cell_type": "code",
   "execution_count": 24,
   "id": "1ad93049",
   "metadata": {
    "ExecuteTime": {
     "end_time": "2022-11-22T06:15:25.071851Z",
     "start_time": "2022-11-22T06:15:25.063852Z"
    }
   },
   "outputs": [
    {
     "data": {
      "text/plain": [
       "5      1511\n",
       "4      1434\n",
       "6      1401\n",
       "7      1071\n",
       "3      1069\n",
       "8       752\n",
       "9       543\n",
       "2       494\n",
       "10      364\n",
       "11      226\n",
       "1       157\n",
       "12      150\n",
       "13       92\n",
       "14       70\n",
       "15       43\n",
       "16       32\n",
       "0        32\n",
       "17       15\n",
       "18        9\n",
       "23        4\n",
       "19        3\n",
       "21        3\n",
       "20        3\n",
       "36        1\n",
       "133       1\n",
       "Name: oneyear_tc, dtype: int64"
      ]
     },
     "execution_count": 24,
     "metadata": {},
     "output_type": "execute_result"
    }
   ],
   "source": [
    "data.oneyear_tc.value_counts()"
   ]
  },
  {
   "cell_type": "code",
   "execution_count": 35,
   "id": "89b18013",
   "metadata": {
    "ExecuteTime": {
     "end_time": "2022-11-22T06:18:35.557381Z",
     "start_time": "2022-11-22T06:18:35.547384Z"
    }
   },
   "outputs": [
    {
     "data": {
      "text/plain": [
       "1.0    573\n",
       "0.0    110\n",
       "Name: DISCOUNT_mean机油滤清器, dtype: int64"
      ]
     },
     "execution_count": 35,
     "metadata": {},
     "output_type": "execute_result"
    }
   ],
   "source": [
    "inference[\"DISCOUNT_mean机油滤清器\"].value_counts()"
   ]
  },
  {
   "cell_type": "code",
   "execution_count": 30,
   "id": "6ced31c0",
   "metadata": {
    "ExecuteTime": {
     "end_time": "2022-11-22T06:17:02.260692Z",
     "start_time": "2022-11-22T06:17:02.247712Z"
    }
   },
   "outputs": [],
   "source": [
    "inference = data[data[\"oneyear_tc\"]<=2]"
   ]
  },
  {
   "cell_type": "code",
   "execution_count": 31,
   "id": "15d707f9",
   "metadata": {
    "ExecuteTime": {
     "end_time": "2022-11-22T06:17:05.388273Z",
     "start_time": "2022-11-22T06:17:05.341171Z"
    }
   },
   "outputs": [],
   "source": [
    "data.to_csv(\"df1121.csv\",index=False,encoding=\"utf_8_sig\")"
   ]
  },
  {
   "cell_type": "code",
   "execution_count": 32,
   "id": "afb70202",
   "metadata": {
    "ExecuteTime": {
     "end_time": "2022-11-22T06:17:06.010505Z",
     "start_time": "2022-11-22T06:17:05.986434Z"
    }
   },
   "outputs": [],
   "source": [
    "inference.to_csv(\"df1121-inference.csv\",index=False,encoding=\"utf_8_sig\")"
   ]
  },
  {
   "cell_type": "code",
   "execution_count": 10,
   "id": "41352a99",
   "metadata": {
    "ExecuteTime": {
     "end_time": "2022-11-21T10:26:47.525380Z",
     "start_time": "2022-11-21T10:26:47.516336Z"
    }
   },
   "outputs": [
    {
     "data": {
      "text/plain": [
       "Index(['VIN', 'DISCOUNT_mean机油滤清器', 'DISCOUNT_mean机油', 'age', 'gender',\n",
       "       'IS_WASH', 'LABOUR_AMOUNT', 'REPAIR_PART_AMOUNT', 'REPAIR_AMOUNT',\n",
       "       '配件数量', 'oneyear_average_mileage', 'WAIT_TIME', 'oneyear_tc',\n",
       "       'Retention_service', 'Model', 'auto_age'],\n",
       "      dtype='object')"
      ]
     },
     "execution_count": 10,
     "metadata": {},
     "output_type": "execute_result"
    }
   ],
   "source": [
    "data.columns"
   ]
  },
  {
   "cell_type": "code",
   "execution_count": 26,
   "id": "7fcc1653",
   "metadata": {
    "ExecuteTime": {
     "end_time": "2022-11-22T06:15:37.176910Z",
     "start_time": "2022-11-22T06:15:37.162851Z"
    }
   },
   "outputs": [
    {
     "data": {
      "text/plain": [
       "Index(['VIN', '('DISCOUNT_mean' '机油滤清器')', '('DISCOUNT_mean' '机油')', 'age',\n",
       "       'gender', 'IS_WASH', 'LABOUR_AMOUNT', 'REPAIR_PART_AMOUNT',\n",
       "       'REPAIR_AMOUNT', '配件数量', 'oneyear_average_mileage', 'WAIT_TIME',\n",
       "       'oneyear_tc', 'Retention_service', 'Model', 'auto_age'],\n",
       "      dtype='object')"
      ]
     },
     "execution_count": 26,
     "metadata": {},
     "output_type": "execute_result"
    }
   ],
   "source": [
    "data.columns"
   ]
  },
  {
   "cell_type": "code",
   "execution_count": null,
   "id": "df3bb745",
   "metadata": {},
   "outputs": [],
   "source": [
    "['VIN', 'DISCOUNT_mean机油滤清器', 'DISCOUNT_mean机油', 'age', 'gender',\n",
    "       'IS_WASH', 'LABOUR_AMOUNT', 'REPAIR_PART_AMOUNT', 'REPAIR_AMOUNT',\n",
    "       '配件数量', 'oneyear_average_mileage', 'WAIT_TIME', 'oneyear_tc',\n",
    "       'Retention_service', 'Model', 'auto_age']"
   ]
  },
  {
   "cell_type": "code",
   "execution_count": null,
   "id": "de8eb534",
   "metadata": {},
   "outputs": [],
   "source": [
    "['DISCOUNT_mean机油滤清器', 'DISCOUNT_mean机油', 'age', 'gender',\n",
    "       'IS_WASH', 'LABOUR_AMOUNT', 'REPAIR_PART_AMOUNT', 'REPAIR_AMOUNT',\n",
    "       '配件数量', 'oneyear_average_mileage', 'WAIT_TIME',\n",
    "       'Retention_service', 'Model', 'auto_age']"
   ]
  },
  {
   "cell_type": "code",
   "execution_count": null,
   "id": "d3ec53c1",
   "metadata": {},
   "outputs": [],
   "source": [
    "{\n",
    "    \"train_data_path\":\"df1121.csv\",\n",
    "    \"inference_data_path\":\"df1121-inference.csv\",\n",
    "    \"target_data_path\":\"df1121-inference-target.json\",\n",
    "    \"feature_columns\":['DISCOUNT_mean机油滤清器', 'DISCOUNT_mean机油', 'age', 'gender',\n",
    "       'IS_WASH', 'LABOUR_AMOUNT', 'REPAIR_PART_AMOUNT', 'REPAIR_AMOUNT',\n",
    "       '配件数量', 'oneyear_average_mileage', 'WAIT_TIME',\n",
    "       'Retention_service', 'Model', 'auto_age'],\n",
    "    \"treatment_columns_category\":[\n",
    "    ],\n",
    "    \"treatment_columns_continuous\":{\n",
    "        \"DISCOUNT_mean机油滤清器\":[\n",
    "            null,\n",
    "            null,\n",
    "            1\n",
    "        ],\n",
    "        \"DISCOUNT_mean机油\":[\n",
    "            null,\n",
    "            null,\n",
    "            1\n",
    "        ]\n",
    "        \"WAIT_TIME\":[\n",
    "            null,\n",
    "            null,\n",
    "            0\n",
    "        ]\n",
    "    },\n",
    "    \"treatment_columns_common\":[\n",
    "    ],\n",
    "    \"outcome_column\":[\n",
    "        \"oneyear_tc\"\n",
    "    ],\n",
    "    \"userid_column\":[\n",
    "        \"VIN\"\n",
    "    ]\n",
    "}"
   ]
  }
 ],
 "metadata": {
  "kernelspec": {
   "display_name": "Python 3 (ipykernel)",
   "language": "python",
   "name": "python3"
  },
  "language_info": {
   "codemirror_mode": {
    "name": "ipython",
    "version": 3
   },
   "file_extension": ".py",
   "mimetype": "text/x-python",
   "name": "python",
   "nbconvert_exporter": "python",
   "pygments_lexer": "ipython3",
   "version": "3.9.12"
  },
  "toc": {
   "base_numbering": 1,
   "nav_menu": {},
   "number_sections": true,
   "sideBar": true,
   "skip_h1_title": false,
   "title_cell": "Table of Contents",
   "title_sidebar": "Contents",
   "toc_cell": false,
   "toc_position": {},
   "toc_section_display": true,
   "toc_window_display": false
  },
  "varInspector": {
   "cols": {
    "lenName": 16,
    "lenType": 16,
    "lenVar": 40
   },
   "kernels_config": {
    "python": {
     "delete_cmd_postfix": "",
     "delete_cmd_prefix": "del ",
     "library": "var_list.py",
     "varRefreshCmd": "print(var_dic_list())"
    },
    "r": {
     "delete_cmd_postfix": ") ",
     "delete_cmd_prefix": "rm(",
     "library": "var_list.r",
     "varRefreshCmd": "cat(var_dic_list()) "
    }
   },
   "types_to_exclude": [
    "module",
    "function",
    "builtin_function_or_method",
    "instance",
    "_Feature"
   ],
   "window_display": false
  }
 },
 "nbformat": 4,
 "nbformat_minor": 5
}
