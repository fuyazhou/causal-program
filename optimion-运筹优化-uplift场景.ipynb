{
 "cells": [
  {
   "cell_type": "code",
   "execution_count": 1,
   "id": "b53ae49a",
   "metadata": {
    "ExecuteTime": {
     "end_time": "2022-11-24T08:22:44.794041Z",
     "start_time": "2022-11-24T08:22:44.768025Z"
    }
   },
   "outputs": [],
   "source": [
    "from ortools.linear_solver import pywraplp\n",
    "from ortools.init import pywrapinit\n"
   ]
  },
  {
   "cell_type": "code",
   "execution_count": 2,
   "id": "ec6e7e94",
   "metadata": {
    "ExecuteTime": {
     "end_time": "2022-11-24T08:22:45.743733Z",
     "start_time": "2022-11-24T08:22:45.737734Z"
    }
   },
   "outputs": [],
   "source": [
    "def main():\n",
    "    # Create the linear solver with the GLOP backend.\n",
    "    solver = pywraplp.Solver.CreateSolver('GLOP')\n",
    "    if not solver:\n",
    "        return\n",
    "\n",
    "    # Create the variables x and y.\n",
    "    x = solver.NumVar(0, 1, 'x')\n",
    "    y = solver.NumVar(0, 2, 'y')\n",
    "\n",
    "    print('Number of variables =', solver.NumVariables())\n",
    "\n",
    "    # Create a linear constraint, 0 <= x + y <= 2.\n",
    "    ct = solver.Constraint(0, 2, 'ct')\n",
    "    ct.SetCoefficient(x, 1)\n",
    "    ct.SetCoefficient(y, 1)\n",
    "\n",
    "    print('Number of constraints =', solver.NumConstraints())\n",
    "\n",
    "    # Create the objective function, 3 * x + y.\n",
    "    objective = solver.Objective()\n",
    "    objective.SetCoefficient(x, 3)\n",
    "    objective.SetCoefficient(y, 1)\n",
    "    objective.SetMaximization()\n",
    "\n",
    "    solver.Solve()\n",
    "\n",
    "    print('Solution:')\n",
    "    print('Objective value =', objective.Value())\n",
    "    print('x =', x.solution_value())\n",
    "    print('y =', y.solution_value())"
   ]
  },
  {
   "cell_type": "code",
   "execution_count": 3,
   "id": "036e8223",
   "metadata": {
    "ExecuteTime": {
     "end_time": "2022-11-24T08:22:46.134164Z",
     "start_time": "2022-11-24T08:22:46.131165Z"
    }
   },
   "outputs": [],
   "source": [
    "pywrapinit.CppBridge.InitLogging('basic_example.py')\n",
    "cpp_flags = pywrapinit.CppFlags()\n",
    "cpp_flags.logtostderr = True\n",
    "cpp_flags.log_prefix = False\n",
    "pywrapinit.CppBridge.SetFlags(cpp_flags)"
   ]
  },
  {
   "cell_type": "code",
   "execution_count": 4,
   "id": "da2ba030",
   "metadata": {
    "ExecuteTime": {
     "end_time": "2022-11-24T08:22:46.740491Z",
     "start_time": "2022-11-24T08:22:46.726492Z"
    }
   },
   "outputs": [
    {
     "name": "stdout",
     "output_type": "stream",
     "text": [
      "Number of variables = 2\n",
      "Number of constraints = 1\n",
      "Solution:\n",
      "Objective value = 4.0\n",
      "x = 1.0\n",
      "y = 1.0\n"
     ]
    }
   ],
   "source": [
    "main()"
   ]
  },
  {
   "cell_type": "code",
   "execution_count": 5,
   "id": "34a6adc2",
   "metadata": {
    "ExecuteTime": {
     "end_time": "2022-11-24T08:22:46.927750Z",
     "start_time": "2022-11-24T08:22:46.916735Z"
    }
   },
   "outputs": [],
   "source": [
    "from ortools.linear_solver import pywraplp"
   ]
  },
  {
   "cell_type": "code",
   "execution_count": 6,
   "id": "0537b77e",
   "metadata": {
    "ExecuteTime": {
     "end_time": "2022-11-24T08:22:47.131239Z",
     "start_time": "2022-11-24T08:22:47.102216Z"
    }
   },
   "outputs": [],
   "source": [
    "# Nutrient minimums.\n",
    "nutrients = [\n",
    "    ['Calories (kcal)', 3],\n",
    "    ['Protein (g)', 70],\n",
    "    ['Calcium (g)', 0.8],\n",
    "    ['Iron (mg)', 12],\n",
    "    ['Vitamin A (KIU)', 5],\n",
    "    ['Vitamin B1 (mg)', 1.8],\n",
    "    ['Vitamin B2 (mg)', 2.7],\n",
    "    ['Niacin (mg)', 18],\n",
    "    ['Vitamin C (mg)', 75],\n",
    "]\n",
    "\n",
    "# Commodity, Unit, 1939 price (cents), Calories (kcal), Protein (g),\n",
    "# Calcium (g), Iron (mg), Vitamin A (KIU), Vitamin B1 (mg), Vitamin B2 (mg),\n",
    "# Niacin (mg), Vitamin C (mg)\n",
    "data = [\n",
    "    [\n",
    "        'Wheat Flour (Enriched)', '10 lb.', 36, 44.7, 1411, 2, 365, 0, 55.4,\n",
    "        33.3, 441, 0\n",
    "    ],\n",
    "    ['Macaroni', '1 lb.', 14.1, 11.6, 418, 0.7, 54, 0, 3.2, 1.9, 68, 0],\n",
    "    [\n",
    "        'Wheat Cereal (Enriched)', '28 oz.', 24.2, 11.8, 377, 14.4, 175, 0,\n",
    "        14.4, 8.8, 114, 0\n",
    "    ],\n",
    "    ['Corn Flakes', '8 oz.', 7.1, 11.4, 252, 0.1, 56, 0, 13.5, 2.3, 68, 0],\n",
    "    [\n",
    "        'Corn Meal', '1 lb.', 4.6, 36.0, 897, 1.7, 99, 30.9, 17.4, 7.9, 106,\n",
    "        0\n",
    "    ],\n",
    "    [\n",
    "        'Hominy Grits', '24 oz.', 8.5, 28.6, 680, 0.8, 80, 0, 10.6, 1.6,\n",
    "        110, 0\n",
    "    ],\n",
    "    ['Rice', '1 lb.', 7.5, 21.2, 460, 0.6, 41, 0, 2, 4.8, 60, 0],\n",
    "    ['Rolled Oats', '1 lb.', 7.1, 25.3, 907, 5.1, 341, 0, 37.1, 8.9, 64, 0],\n",
    "    [\n",
    "        'White Bread (Enriched)', '1 lb.', 7.9, 15.0, 488, 2.5, 115, 0,\n",
    "        13.8, 8.5, 126, 0\n",
    "    ],\n",
    "    [\n",
    "        'Whole Wheat Bread', '1 lb.', 9.1, 12.2, 484, 2.7, 125, 0, 13.9,\n",
    "        6.4, 160, 0\n",
    "    ],\n",
    "    ['Rye Bread', '1 lb.', 9.1, 12.4, 439, 1.1, 82, 0, 9.9, 3, 66, 0],\n",
    "    ['Pound Cake', '1 lb.', 24.8, 8.0, 130, 0.4, 31, 18.9, 2.8, 3, 17, 0],\n",
    "    ['Soda Crackers', '1 lb.', 15.1, 12.5, 288, 0.5, 50, 0, 0, 0, 0, 0],\n",
    "    ['Milk', '1 qt.', 11, 6.1, 310, 10.5, 18, 16.8, 4, 16, 7, 177],\n",
    "    [\n",
    "        'Evaporated Milk (can)', '14.5 oz.', 6.7, 8.4, 422, 15.1, 9, 26, 3,\n",
    "        23.5, 11, 60\n",
    "    ],\n",
    "    ['Butter', '1 lb.', 30.8, 10.8, 9, 0.2, 3, 44.2, 0, 0.2, 2, 0],\n",
    "    ['Oleomargarine', '1 lb.', 16.1, 20.6, 17, 0.6, 6, 55.8, 0.2, 0, 0, 0],\n",
    "    ['Eggs', '1 doz.', 32.6, 2.9, 238, 1.0, 52, 18.6, 2.8, 6.5, 1, 0],\n",
    "    [\n",
    "        'Cheese (Cheddar)', '1 lb.', 24.2, 7.4, 448, 16.4, 19, 28.1, 0.8,\n",
    "        10.3, 4, 0\n",
    "    ],\n",
    "    ['Cream', '1/2 pt.', 14.1, 3.5, 49, 1.7, 3, 16.9, 0.6, 2.5, 0, 17],\n",
    "    [\n",
    "        'Peanut Butter', '1 lb.', 17.9, 15.7, 661, 1.0, 48, 0, 9.6, 8.1,\n",
    "        471, 0\n",
    "    ],\n",
    "    ['Mayonnaise', '1/2 pt.', 16.7, 8.6, 18, 0.2, 8, 2.7, 0.4, 0.5, 0, 0],\n",
    "    ['Crisco', '1 lb.', 20.3, 20.1, 0, 0, 0, 0, 0, 0, 0, 0],\n",
    "    ['Lard', '1 lb.', 9.8, 41.7, 0, 0, 0, 0.2, 0, 0.5, 5, 0],\n",
    "    [\n",
    "        'Sirloin Steak', '1 lb.', 39.6, 2.9, 166, 0.1, 34, 0.2, 2.1, 2.9,\n",
    "        69, 0\n",
    "    ],\n",
    "    ['Round Steak', '1 lb.', 36.4, 2.2, 214, 0.1, 32, 0.4, 2.5, 2.4, 87, 0],\n",
    "    ['Rib Roast', '1 lb.', 29.2, 3.4, 213, 0.1, 33, 0, 0, 2, 0, 0],\n",
    "    ['Chuck Roast', '1 lb.', 22.6, 3.6, 309, 0.2, 46, 0.4, 1, 4, 120, 0],\n",
    "    ['Plate', '1 lb.', 14.6, 8.5, 404, 0.2, 62, 0, 0.9, 0, 0, 0],\n",
    "    [\n",
    "        'Liver (Beef)', '1 lb.', 26.8, 2.2, 333, 0.2, 139, 169.2, 6.4, 50.8,\n",
    "        316, 525\n",
    "    ],\n",
    "    ['Leg of Lamb', '1 lb.', 27.6, 3.1, 245, 0.1, 20, 0, 2.8, 3.9, 86, 0],\n",
    "    [\n",
    "        'Lamb Chops (Rib)', '1 lb.', 36.6, 3.3, 140, 0.1, 15, 0, 1.7, 2.7,\n",
    "        54, 0\n",
    "    ],\n",
    "    ['Pork Chops', '1 lb.', 30.7, 3.5, 196, 0.2, 30, 0, 17.4, 2.7, 60, 0],\n",
    "    [\n",
    "        'Pork Loin Roast', '1 lb.', 24.2, 4.4, 249, 0.3, 37, 0, 18.2, 3.6,\n",
    "        79, 0\n",
    "    ],\n",
    "    ['Bacon', '1 lb.', 25.6, 10.4, 152, 0.2, 23, 0, 1.8, 1.8, 71, 0],\n",
    "    ['Ham, smoked', '1 lb.', 27.4, 6.7, 212, 0.2, 31, 0, 9.9, 3.3, 50, 0],\n",
    "    ['Salt Pork', '1 lb.', 16, 18.8, 164, 0.1, 26, 0, 1.4, 1.8, 0, 0],\n",
    "    [\n",
    "        'Roasting Chicken', '1 lb.', 30.3, 1.8, 184, 0.1, 30, 0.1, 0.9, 1.8,\n",
    "        68, 46\n",
    "    ],\n",
    "    ['Veal Cutlets', '1 lb.', 42.3, 1.7, 156, 0.1, 24, 0, 1.4, 2.4, 57, 0],\n",
    "    [\n",
    "        'Salmon, Pink (can)', '16 oz.', 13, 5.8, 705, 6.8, 45, 3.5, 1, 4.9,\n",
    "        209, 0\n",
    "    ],\n",
    "    ['Apples', '1 lb.', 4.4, 5.8, 27, 0.5, 36, 7.3, 3.6, 2.7, 5, 544],\n",
    "    ['Bananas', '1 lb.', 6.1, 4.9, 60, 0.4, 30, 17.4, 2.5, 3.5, 28, 498],\n",
    "    ['Lemons', '1 doz.', 26, 1.0, 21, 0.5, 14, 0, 0.5, 0, 4, 952],\n",
    "    ['Oranges', '1 doz.', 30.9, 2.2, 40, 1.1, 18, 11.1, 3.6, 1.3, 10, 1998],\n",
    "    ['Green Beans', '1 lb.', 7.1, 2.4, 138, 3.7, 80, 69, 4.3, 5.8, 37, 862],\n",
    "    ['Cabbage', '1 lb.', 3.7, 2.6, 125, 4.0, 36, 7.2, 9, 4.5, 26, 5369],\n",
    "    ['Carrots', '1 bunch', 4.7, 2.7, 73, 2.8, 43, 188.5, 6.1, 4.3, 89, 608],\n",
    "    ['Celery', '1 stalk', 7.3, 0.9, 51, 3.0, 23, 0.9, 1.4, 1.4, 9, 313],\n",
    "    ['Lettuce', '1 head', 8.2, 0.4, 27, 1.1, 22, 112.4, 1.8, 3.4, 11, 449],\n",
    "    ['Onions', '1 lb.', 3.6, 5.8, 166, 3.8, 59, 16.6, 4.7, 5.9, 21, 1184],\n",
    "    [\n",
    "        'Potatoes', '15 lb.', 34, 14.3, 336, 1.8, 118, 6.7, 29.4, 7.1, 198,\n",
    "        2522\n",
    "    ],\n",
    "    ['Spinach', '1 lb.', 8.1, 1.1, 106, 0, 138, 918.4, 5.7, 13.8, 33, 2755],\n",
    "    [\n",
    "        'Sweet Potatoes', '1 lb.', 5.1, 9.6, 138, 2.7, 54, 290.7, 8.4, 5.4,\n",
    "        83, 1912\n",
    "    ],\n",
    "    [\n",
    "        'Peaches (can)', 'No. 2 1/2', 16.8, 3.7, 20, 0.4, 10, 21.5, 0.5, 1,\n",
    "        31, 196\n",
    "    ],\n",
    "    [\n",
    "        'Pears (can)', 'No. 2 1/2', 20.4, 3.0, 8, 0.3, 8, 0.8, 0.8, 0.8, 5,\n",
    "        81\n",
    "    ],\n",
    "    [\n",
    "        'Pineapple (can)', 'No. 2 1/2', 21.3, 2.4, 16, 0.4, 8, 2, 2.8, 0.8,\n",
    "        7, 399\n",
    "    ],\n",
    "    [\n",
    "        'Asparagus (can)', 'No. 2', 27.7, 0.4, 33, 0.3, 12, 16.3, 1.4, 2.1,\n",
    "        17, 272\n",
    "    ],\n",
    "    [\n",
    "        'Green Beans (can)', 'No. 2', 10, 1.0, 54, 2, 65, 53.9, 1.6, 4.3,\n",
    "        32, 431\n",
    "    ],\n",
    "    [\n",
    "        'Pork and Beans (can)', '16 oz.', 7.1, 7.5, 364, 4, 134, 3.5, 8.3,\n",
    "        7.7, 56, 0\n",
    "    ],\n",
    "    ['Corn (can)', 'No. 2', 10.4, 5.2, 136, 0.2, 16, 12, 1.6, 2.7, 42, 218],\n",
    "    [\n",
    "        'Peas (can)', 'No. 2', 13.8, 2.3, 136, 0.6, 45, 34.9, 4.9, 2.5, 37,\n",
    "        370\n",
    "    ],\n",
    "    [\n",
    "        'Tomatoes (can)', 'No. 2', 8.6, 1.3, 63, 0.7, 38, 53.2, 3.4, 2.5,\n",
    "        36, 1253\n",
    "    ],\n",
    "    [\n",
    "        'Tomato Soup (can)', '10 1/2 oz.', 7.6, 1.6, 71, 0.6, 43, 57.9, 3.5,\n",
    "        2.4, 67, 862\n",
    "    ],\n",
    "    [\n",
    "        'Peaches, Dried', '1 lb.', 15.7, 8.5, 87, 1.7, 173, 86.8, 1.2, 4.3,\n",
    "        55, 57\n",
    "    ],\n",
    "    [\n",
    "        'Prunes, Dried', '1 lb.', 9, 12.8, 99, 2.5, 154, 85.7, 3.9, 4.3, 65,\n",
    "        257\n",
    "    ],\n",
    "    [\n",
    "        'Raisins, Dried', '15 oz.', 9.4, 13.5, 104, 2.5, 136, 4.5, 6.3, 1.4,\n",
    "        24, 136\n",
    "    ],\n",
    "    [\n",
    "        'Peas, Dried', '1 lb.', 7.9, 20.0, 1367, 4.2, 345, 2.9, 28.7, 18.4,\n",
    "        162, 0\n",
    "    ],\n",
    "    [\n",
    "        'Lima Beans, Dried', '1 lb.', 8.9, 17.4, 1055, 3.7, 459, 5.1, 26.9,\n",
    "        38.2, 93, 0\n",
    "    ],\n",
    "    [\n",
    "        'Navy Beans, Dried', '1 lb.', 5.9, 26.9, 1691, 11.4, 792, 0, 38.4,\n",
    "        24.6, 217, 0\n",
    "    ],\n",
    "    ['Coffee', '1 lb.', 22.4, 0, 0, 0, 0, 0, 4, 5.1, 50, 0],\n",
    "    ['Tea', '1/4 lb.', 17.4, 0, 0, 0, 0, 0, 0, 2.3, 42, 0],\n",
    "    ['Cocoa', '8 oz.', 8.6, 8.7, 237, 3, 72, 0, 2, 11.9, 40, 0],\n",
    "    ['Chocolate', '8 oz.', 16.2, 8.0, 77, 1.3, 39, 0, 0.9, 3.4, 14, 0],\n",
    "    ['Sugar', '10 lb.', 51.7, 34.9, 0, 0, 0, 0, 0, 0, 0, 0],\n",
    "    ['Corn Syrup', '24 oz.', 13.7, 14.7, 0, 0.5, 74, 0, 0, 0, 5, 0],\n",
    "    ['Molasses', '18 oz.', 13.6, 9.0, 0, 10.3, 244, 0, 1.9, 7.5, 146, 0],\n",
    "    [\n",
    "        'Strawberry Preserves', '1 lb.', 20.5, 6.4, 11, 0.4, 7, 0.2, 0.2,\n",
    "        0.4, 3, 0\n",
    "    ],\n",
    "]"
   ]
  },
  {
   "cell_type": "code",
   "execution_count": 7,
   "id": "4eef1173",
   "metadata": {
    "ExecuteTime": {
     "end_time": "2022-11-24T08:22:47.318907Z",
     "start_time": "2022-11-24T08:22:47.301887Z"
    }
   },
   "outputs": [],
   "source": [
    "# Instantiate a Glop solver and naming it.\n",
    "solver = pywraplp.Solver.CreateSolver('GLOP')"
   ]
  },
  {
   "cell_type": "code",
   "execution_count": 8,
   "id": "54ce1690",
   "metadata": {
    "ExecuteTime": {
     "end_time": "2022-11-24T08:22:47.503863Z",
     "start_time": "2022-11-24T08:22:47.485863Z"
    }
   },
   "outputs": [
    {
     "data": {
      "text/plain": [
       "<ortools.linear_solver.pywraplp.Solver; proxy of <Swig Object of type 'operations_research::MPSolver *' at 0x000002C796CDEA80> >"
      ]
     },
     "execution_count": 8,
     "metadata": {},
     "output_type": "execute_result"
    }
   ],
   "source": [
    "solver"
   ]
  },
  {
   "cell_type": "code",
   "execution_count": 9,
   "id": "0015338d",
   "metadata": {
    "ExecuteTime": {
     "end_time": "2022-11-24T08:22:47.677158Z",
     "start_time": "2022-11-24T08:22:47.669144Z"
    }
   },
   "outputs": [
    {
     "name": "stdout",
     "output_type": "stream",
     "text": [
      "Number of variables = 77\n"
     ]
    }
   ],
   "source": [
    "# Declare an array to hold our variables.\n",
    "foods = [solver.NumVar(0.0, solver.infinity(), item[0]) for item in data]\n",
    "\n",
    "print('Number of variables =', solver.NumVariables())"
   ]
  },
  {
   "cell_type": "code",
   "execution_count": null,
   "id": "6f6615a0",
   "metadata": {
    "ExecuteTime": {
     "end_time": "2022-09-07T08:12:03.149215Z",
     "start_time": "2022-09-07T08:12:03.128118Z"
    }
   },
   "outputs": [],
   "source": []
  },
  {
   "cell_type": "code",
   "execution_count": 10,
   "id": "779bd10e",
   "metadata": {
    "ExecuteTime": {
     "end_time": "2022-11-24T08:22:48.300860Z",
     "start_time": "2022-11-24T08:22:48.290843Z"
    }
   },
   "outputs": [
    {
     "name": "stdout",
     "output_type": "stream",
     "text": [
      "Number of constraints = 9\n"
     ]
    }
   ],
   "source": [
    "# Create the constraints, one per nutrient.\n",
    "constraints = []\n",
    "for i, nutrient in enumerate(nutrients):\n",
    "    constraints.append(solver.Constraint(nutrient[1], solver.infinity()))\n",
    "    for j, item in enumerate(data):\n",
    "        constraints[i].SetCoefficient(foods[j], item[i + 3])\n",
    "\n",
    "print('Number of constraints =', solver.NumConstraints())"
   ]
  },
  {
   "cell_type": "code",
   "execution_count": 11,
   "id": "89a2a5e5",
   "metadata": {
    "ExecuteTime": {
     "end_time": "2022-11-24T08:22:48.501382Z",
     "start_time": "2022-11-24T08:22:48.492401Z"
    }
   },
   "outputs": [
    {
     "data": {
      "text/plain": [
       "[['Calories (kcal)', 3],\n",
       " ['Protein (g)', 70],\n",
       " ['Calcium (g)', 0.8],\n",
       " ['Iron (mg)', 12],\n",
       " ['Vitamin A (KIU)', 5],\n",
       " ['Vitamin B1 (mg)', 1.8],\n",
       " ['Vitamin B2 (mg)', 2.7],\n",
       " ['Niacin (mg)', 18],\n",
       " ['Vitamin C (mg)', 75]]"
      ]
     },
     "execution_count": 11,
     "metadata": {},
     "output_type": "execute_result"
    }
   ],
   "source": [
    "nutrients"
   ]
  },
  {
   "cell_type": "code",
   "execution_count": 12,
   "id": "3be733ee",
   "metadata": {
    "ExecuteTime": {
     "end_time": "2022-11-24T08:22:48.690089Z",
     "start_time": "2022-11-24T08:22:48.676075Z"
    }
   },
   "outputs": [
    {
     "data": {
      "text/plain": [
       "[<ortools.linear_solver.pywraplp.Constraint; proxy of <Swig Object of type 'operations_research::MPConstraint *' at 0x000002C796D0C3C0> >,\n",
       " <ortools.linear_solver.pywraplp.Constraint; proxy of <Swig Object of type 'operations_research::MPConstraint *' at 0x000002C796D0C480> >,\n",
       " <ortools.linear_solver.pywraplp.Constraint; proxy of <Swig Object of type 'operations_research::MPConstraint *' at 0x000002C796D0C090> >,\n",
       " <ortools.linear_solver.pywraplp.Constraint; proxy of <Swig Object of type 'operations_research::MPConstraint *' at 0x000002C796D0C960> >,\n",
       " <ortools.linear_solver.pywraplp.Constraint; proxy of <Swig Object of type 'operations_research::MPConstraint *' at 0x000002C796D0C9F0> >,\n",
       " <ortools.linear_solver.pywraplp.Constraint; proxy of <Swig Object of type 'operations_research::MPConstraint *' at 0x000002C796D0CD80> >,\n",
       " <ortools.linear_solver.pywraplp.Constraint; proxy of <Swig Object of type 'operations_research::MPConstraint *' at 0x000002C796D0CFC0> >,\n",
       " <ortools.linear_solver.pywraplp.Constraint; proxy of <Swig Object of type 'operations_research::MPConstraint *' at 0x000002C796CFBAB0> >,\n",
       " <ortools.linear_solver.pywraplp.Constraint; proxy of <Swig Object of type 'operations_research::MPConstraint *' at 0x000002C796CFB9C0> >]"
      ]
     },
     "execution_count": 12,
     "metadata": {},
     "output_type": "execute_result"
    }
   ],
   "source": [
    "constraints"
   ]
  },
  {
   "cell_type": "code",
   "execution_count": null,
   "id": "feb3654e",
   "metadata": {
    "ExecuteTime": {
     "end_time": "2022-09-07T06:47:36.719018Z",
     "start_time": "2022-09-07T06:47:36.707516Z"
    }
   },
   "outputs": [],
   "source": []
  },
  {
   "cell_type": "code",
   "execution_count": 13,
   "id": "97352c03",
   "metadata": {
    "ExecuteTime": {
     "end_time": "2022-11-24T08:22:49.848058Z",
     "start_time": "2022-11-24T08:22:49.841066Z"
    }
   },
   "outputs": [],
   "source": [
    "# Objective function: Minimize the sum of (price-normalized) foods.\n",
    "objective = solver.Objective()\n",
    "for food in foods:\n",
    "    objective.SetCoefficient(food, 1)\n",
    "objective.SetMinimization()"
   ]
  },
  {
   "cell_type": "code",
   "execution_count": 14,
   "id": "2cd241ac",
   "metadata": {
    "ExecuteTime": {
     "end_time": "2022-11-24T08:22:50.419863Z",
     "start_time": "2022-11-24T08:22:50.409894Z"
    }
   },
   "outputs": [],
   "source": [
    "status = solver.Solve()"
   ]
  },
  {
   "cell_type": "code",
   "execution_count": 15,
   "id": "33683315",
   "metadata": {
    "ExecuteTime": {
     "end_time": "2022-11-24T08:22:50.606309Z",
     "start_time": "2022-11-24T08:22:50.593309Z"
    }
   },
   "outputs": [
    {
     "data": {
      "text/plain": [
       "0"
      ]
     },
     "execution_count": 15,
     "metadata": {},
     "output_type": "execute_result"
    }
   ],
   "source": [
    "solver.OPTIMAL"
   ]
  },
  {
   "cell_type": "code",
   "execution_count": 16,
   "id": "2d40b777",
   "metadata": {
    "ExecuteTime": {
     "end_time": "2022-11-24T08:22:50.777306Z",
     "start_time": "2022-11-24T08:22:50.767308Z"
    }
   },
   "outputs": [],
   "source": [
    "if status != solver.OPTIMAL:\n",
    "    print('The problem does not have an optimal solution!')\n",
    "    if status == solver.FEASIBLE:\n",
    "        print('A potentially suboptimal solution was found.')\n",
    "    else:\n",
    "        print('The solver could not solve the problem.')\n",
    "        exit(1)"
   ]
  },
  {
   "cell_type": "code",
   "execution_count": 17,
   "id": "33e87333",
   "metadata": {
    "ExecuteTime": {
     "end_time": "2022-11-24T08:22:50.963674Z",
     "start_time": "2022-11-24T08:22:50.959671Z"
    }
   },
   "outputs": [
    {
     "data": {
      "text/plain": [
       "0.029519061676488285"
      ]
     },
     "execution_count": 17,
     "metadata": {},
     "output_type": "execute_result"
    }
   ],
   "source": [
    "foods[0].solution_value()"
   ]
  },
  {
   "cell_type": "code",
   "execution_count": 18,
   "id": "5eb7947a",
   "metadata": {
    "ExecuteTime": {
     "end_time": "2022-11-24T08:22:51.836506Z",
     "start_time": "2022-11-24T08:22:51.793067Z"
    }
   },
   "outputs": [],
   "source": [
    "objective.SetMinimization??"
   ]
  },
  {
   "cell_type": "code",
   "execution_count": 19,
   "id": "415fb061",
   "metadata": {
    "ExecuteTime": {
     "end_time": "2022-11-24T08:22:52.088398Z",
     "start_time": "2022-11-24T08:22:52.069394Z"
    }
   },
   "outputs": [],
   "source": [
    "solver = pywraplp.Solver.CreateSolver('SCIP')\n"
   ]
  },
  {
   "cell_type": "code",
   "execution_count": null,
   "id": "5754bdad",
   "metadata": {
    "ExecuteTime": {
     "end_time": "2022-09-07T09:41:20.157425Z",
     "start_time": "2022-09-07T09:41:20.154125Z"
    }
   },
   "outputs": [],
   "source": []
  },
  {
   "cell_type": "code",
   "execution_count": null,
   "id": "e2f169bc",
   "metadata": {},
   "outputs": [],
   "source": []
  },
  {
   "cell_type": "code",
   "execution_count": null,
   "id": "c7de94a1",
   "metadata": {},
   "outputs": [],
   "source": []
  },
  {
   "cell_type": "code",
   "execution_count": 20,
   "id": "ebdec927",
   "metadata": {
    "ExecuteTime": {
     "end_time": "2022-11-24T08:22:53.379925Z",
     "start_time": "2022-11-24T08:22:53.366911Z"
    }
   },
   "outputs": [
    {
     "name": "stdout",
     "output_type": "stream",
     "text": [
      "\n",
      "Annual Foods:\n",
      "Wheat Flour (Enriched): $10.774457511918223\n",
      "Liver (Beef): $0.6907834111074193\n",
      "Cabbage: $4.093268864842877\n",
      "Spinach: $1.8277960703546996\n",
      "Navy Beans, Dried: $22.275425687243036\n",
      "\n",
      "Optimal annual price: $39.6617\n",
      "\n",
      "Nutrients per day:\n",
      "Calories (kcal): 3.00 (min 3)\n",
      "Protein (g): 147.41 (min 70)\n",
      "Calcium (g): 0.80 (min 0.8)\n",
      "Iron (mg): 60.47 (min 12)\n",
      "Vitamin A (KIU): 5.00 (min 5)\n",
      "Vitamin B1 (mg): 4.12 (min 1.8)\n",
      "Vitamin B2 (mg): 2.70 (min 2.7)\n",
      "Niacin (mg): 27.32 (min 18)\n",
      "Vitamin C (mg): 75.00 (min 75)\n"
     ]
    }
   ],
   "source": [
    "# Display the amounts (in dollars) to purchase of each food.\n",
    "nutrients_result = [0] * len(nutrients)\n",
    "print('\\nAnnual Foods:')\n",
    "for i, food in enumerate(foods):\n",
    "    if food.solution_value() > 0.0:\n",
    "        print('{}: ${}'.format(data[i][0], 365. * food.solution_value()))\n",
    "        for j, _ in enumerate(nutrients):\n",
    "            nutrients_result[j] += data[i][j + 3] * food.solution_value()\n",
    "print('\\nOptimal annual price: ${:.4f}'.format(365. * objective.Value()))\n",
    "\n",
    "print('\\nNutrients per day:')\n",
    "for i, nutrient in enumerate(nutrients):\n",
    "    print('{}: {:.2f} (min {})'.format(nutrient[0], nutrients_result[i],\n",
    "                                       nutrient[1]))"
   ]
  },
  {
   "cell_type": "code",
   "execution_count": null,
   "id": "5fc080d8",
   "metadata": {},
   "outputs": [],
   "source": []
  },
  {
   "cell_type": "code",
   "execution_count": 21,
   "id": "4d5da8c0",
   "metadata": {
    "ExecuteTime": {
     "end_time": "2022-11-24T08:22:53.755549Z",
     "start_time": "2022-11-24T08:22:53.743534Z"
    }
   },
   "outputs": [],
   "source": [
    "solver.infinity??"
   ]
  },
  {
   "cell_type": "code",
   "execution_count": 22,
   "id": "3bf448e4",
   "metadata": {
    "ExecuteTime": {
     "end_time": "2022-11-24T08:22:53.988843Z",
     "start_time": "2022-11-24T08:22:53.980844Z"
    }
   },
   "outputs": [
    {
     "ename": "SyntaxError",
     "evalue": "unexpected EOF while parsing (1694260023.py, line 1)",
     "output_type": "error",
     "traceback": [
      "\u001b[1;36m  Input \u001b[1;32mIn [22]\u001b[1;36m\u001b[0m\n\u001b[1;33m    solver.NumVar(\u001b[0m\n\u001b[1;37m                  ^\u001b[0m\n\u001b[1;31mSyntaxError\u001b[0m\u001b[1;31m:\u001b[0m unexpected EOF while parsing\n"
     ]
    }
   ],
   "source": [
    "solver.NumVar("
   ]
  },
  {
   "cell_type": "code",
   "execution_count": 23,
   "id": "d29c51be",
   "metadata": {
    "ExecuteTime": {
     "end_time": "2022-11-24T08:22:54.192146Z",
     "start_time": "2022-11-24T08:22:54.182144Z"
    }
   },
   "outputs": [],
   "source": [
    "objective.SetCoefficient??"
   ]
  },
  {
   "cell_type": "code",
   "execution_count": 24,
   "id": "1419978b",
   "metadata": {
    "ExecuteTime": {
     "end_time": "2022-11-24T08:22:54.395066Z",
     "start_time": "2022-11-24T08:22:54.382052Z"
    }
   },
   "outputs": [],
   "source": [
    "solver.Constraint??"
   ]
  },
  {
   "cell_type": "code",
   "execution_count": 25,
   "id": "f53ce517",
   "metadata": {
    "ExecuteTime": {
     "end_time": "2022-11-24T08:22:54.910523Z",
     "start_time": "2022-11-24T08:22:54.899508Z"
    }
   },
   "outputs": [
    {
     "ename": "IndentationError",
     "evalue": "unexpected indent (2284710089.py, line 16)",
     "output_type": "error",
     "traceback": [
      "\u001b[1;36m  Input \u001b[1;32mIn [25]\u001b[1;36m\u001b[0m\n\u001b[1;33m    data = [\u001b[0m\n\u001b[1;37m    ^\u001b[0m\n\u001b[1;31mIndentationError\u001b[0m\u001b[1;31m:\u001b[0m unexpected indent\n"
     ]
    }
   ],
   "source": [
    "nutrients = [\n",
    "        ['Calories (kcal)', 3],\n",
    "        ['Protein (g)', 70],\n",
    "        ['Calcium (g)', 0.8],\n",
    "        ['Iron (mg)', 12],\n",
    "        ['Vitamin A (KIU)', 5],\n",
    "        ['Vitamin B1 (mg)', 1.8],\n",
    "        ['Vitamin B2 (mg)', 2.7],\n",
    "        ['Niacin (mg)', 18],\n",
    "        ['Vitamin C (mg)', 75],\n",
    "    ]\n",
    "\n",
    "    # Commodity, Unit, 1939 price (cents), Calories (kcal), Protein (g),\n",
    "    # Calcium (g), Iron (mg), Vitamin A (KIU), Vitamin B1 (mg), Vitamin B2 (mg),\n",
    "    # Niacin (mg), Vitamin C (mg)\n",
    "    data = [\n",
    "        [\n",
    "            'Wheat Flour (Enriched)', '10 lb.', 36, 44.7, 1411, 2, 365, 0, 55.4,\n",
    "            33.3, 441, 0"
   ]
  },
  {
   "cell_type": "code",
   "execution_count": null,
   "id": "750e31a0",
   "metadata": {},
   "outputs": [],
   "source": []
  },
  {
   "cell_type": "code",
   "execution_count": null,
   "id": "96209ae6",
   "metadata": {},
   "outputs": [],
   "source": []
  },
  {
   "cell_type": "code",
   "execution_count": null,
   "id": "8ae09ca6",
   "metadata": {},
   "outputs": [],
   "source": []
  },
  {
   "cell_type": "code",
   "execution_count": null,
   "id": "478fd08f",
   "metadata": {},
   "outputs": [],
   "source": []
  },
  {
   "cell_type": "code",
   "execution_count": null,
   "id": "f5290c3c",
   "metadata": {},
   "outputs": [],
   "source": []
  },
  {
   "cell_type": "code",
   "execution_count": null,
   "id": "8310bd04",
   "metadata": {},
   "outputs": [],
   "source": []
  },
  {
   "cell_type": "code",
   "execution_count": 26,
   "id": "783a9f76",
   "metadata": {
    "ExecuteTime": {
     "end_time": "2022-11-24T08:22:56.607523Z",
     "start_time": "2022-11-24T08:22:56.586526Z"
    }
   },
   "outputs": [],
   "source": [
    "# Create the mip solver with the SCIP backend.\n",
    "solver = pywraplp.Solver.CreateSolver('SCIP')\n"
   ]
  },
  {
   "cell_type": "code",
   "execution_count": 27,
   "id": "03e2fc72",
   "metadata": {
    "ExecuteTime": {
     "end_time": "2022-11-24T08:22:56.919542Z",
     "start_time": "2022-11-24T08:22:56.909527Z"
    }
   },
   "outputs": [
    {
     "name": "stdout",
     "output_type": "stream",
     "text": [
      "Number of variables = 2\n"
     ]
    }
   ],
   "source": [
    "infinity = solver.infinity()\n",
    "# x and y are integer non-negative variables.\n",
    "x = solver.IntVar(0.0, infinity, 'x')\n",
    "y = solver.IntVar(0.0, infinity, 'y')\n",
    "\n",
    "print('Number of variables =', solver.NumVariables())"
   ]
  },
  {
   "cell_type": "code",
   "execution_count": 28,
   "id": "105c1c54",
   "metadata": {
    "ExecuteTime": {
     "end_time": "2022-11-24T08:22:57.108025Z",
     "start_time": "2022-11-24T08:22:57.102023Z"
    }
   },
   "outputs": [
    {
     "name": "stdout",
     "output_type": "stream",
     "text": [
      "Number of constraints = 2\n"
     ]
    }
   ],
   "source": [
    "# x + 7 * y <= 17.5.\n",
    "solver.Add(x + 7 * y <= 17.5)\n",
    "\n",
    "# x <= 3.5.\n",
    "solver.Add(x <= 3.5)\n",
    "\n",
    "print('Number of constraints =', solver.NumConstraints())"
   ]
  },
  {
   "cell_type": "code",
   "execution_count": 29,
   "id": "158702d6",
   "metadata": {
    "ExecuteTime": {
     "end_time": "2022-11-24T08:22:57.310240Z",
     "start_time": "2022-11-24T08:22:57.303223Z"
    }
   },
   "outputs": [],
   "source": [
    "# Maximize x + 10 * y.\n",
    "solver.Maximize(x + 10 * y)"
   ]
  },
  {
   "cell_type": "code",
   "execution_count": 30,
   "id": "c8888b4f",
   "metadata": {
    "ExecuteTime": {
     "end_time": "2022-11-24T08:22:57.497110Z",
     "start_time": "2022-11-24T08:22:57.479112Z"
    }
   },
   "outputs": [],
   "source": [
    "status = solver.Solve()"
   ]
  },
  {
   "cell_type": "code",
   "execution_count": 31,
   "id": "3ccc2802",
   "metadata": {
    "ExecuteTime": {
     "end_time": "2022-11-24T08:22:57.669237Z",
     "start_time": "2022-11-24T08:22:57.653239Z"
    }
   },
   "outputs": [
    {
     "data": {
      "text/plain": [
       "0"
      ]
     },
     "execution_count": 31,
     "metadata": {},
     "output_type": "execute_result"
    }
   ],
   "source": [
    "status"
   ]
  },
  {
   "cell_type": "code",
   "execution_count": 32,
   "id": "3c073dde",
   "metadata": {
    "ExecuteTime": {
     "end_time": "2022-11-24T08:22:57.826029Z",
     "start_time": "2022-11-24T08:22:57.812009Z"
    }
   },
   "outputs": [
    {
     "data": {
      "text/plain": [
       "0"
      ]
     },
     "execution_count": 32,
     "metadata": {},
     "output_type": "execute_result"
    }
   ],
   "source": [
    " pywraplp.Solver.OPTIMAL"
   ]
  },
  {
   "cell_type": "code",
   "execution_count": 33,
   "id": "2d4f020f",
   "metadata": {
    "ExecuteTime": {
     "end_time": "2022-11-24T08:22:58.013485Z",
     "start_time": "2022-11-24T08:22:57.995472Z"
    }
   },
   "outputs": [
    {
     "name": "stdout",
     "output_type": "stream",
     "text": [
      "Solution:\n",
      "Objective value = 23.0\n",
      "x = 3.0\n",
      "y = 2.0\n"
     ]
    }
   ],
   "source": [
    "if status == pywraplp.Solver.OPTIMAL:\n",
    "    print('Solution:')\n",
    "    print('Objective value =', solver.Objective().Value())\n",
    "    print('x =', x.solution_value())\n",
    "    print('y =', y.solution_value())\n",
    "else:\n",
    "    print('The problem does not have an optimal solution.')"
   ]
  },
  {
   "cell_type": "code",
   "execution_count": null,
   "id": "a213d776",
   "metadata": {},
   "outputs": [],
   "source": []
  },
  {
   "cell_type": "code",
   "execution_count": null,
   "id": "7b7bb23d",
   "metadata": {},
   "outputs": [],
   "source": []
  },
  {
   "cell_type": "code",
   "execution_count": 34,
   "id": "e1a96721",
   "metadata": {
    "ExecuteTime": {
     "end_time": "2022-11-24T08:22:58.589803Z",
     "start_time": "2022-11-24T08:22:58.574782Z"
    }
   },
   "outputs": [],
   "source": [
    "def create_data_model():\n",
    "    \"\"\"Stores the data for the problem.\"\"\"\n",
    "    data = {}\n",
    "    data['constraint_coeffs'] = [\n",
    "        [5, 7, 9, 2, 1],\n",
    "        [18, 4, -9, 10, 12],\n",
    "        [4, 7, 3, 8, 5],\n",
    "        [5, 13, 16, 3, -7],\n",
    "    ]\n",
    "    data['bounds'] = [250, 285, 211, 315]\n",
    "    data['obj_coeffs'] = [7, 8, 2, 9, 6]\n",
    "    data['num_vars'] = 5\n",
    "    data['num_constraints'] = 4\n",
    "    return data\n"
   ]
  },
  {
   "cell_type": "code",
   "execution_count": 35,
   "id": "c44ca18a",
   "metadata": {
    "ExecuteTime": {
     "end_time": "2022-11-24T08:22:58.760448Z",
     "start_time": "2022-11-24T08:22:58.748432Z"
    }
   },
   "outputs": [],
   "source": [
    "data = create_data_model()"
   ]
  },
  {
   "cell_type": "code",
   "execution_count": 36,
   "id": "6ba39293",
   "metadata": {
    "ExecuteTime": {
     "end_time": "2022-11-24T08:22:58.963722Z",
     "start_time": "2022-11-24T08:22:58.948709Z"
    }
   },
   "outputs": [
    {
     "data": {
      "text/plain": [
       "{'constraint_coeffs': [[5, 7, 9, 2, 1],\n",
       "  [18, 4, -9, 10, 12],\n",
       "  [4, 7, 3, 8, 5],\n",
       "  [5, 13, 16, 3, -7]],\n",
       " 'bounds': [250, 285, 211, 315],\n",
       " 'obj_coeffs': [7, 8, 2, 9, 6],\n",
       " 'num_vars': 5,\n",
       " 'num_constraints': 4}"
      ]
     },
     "execution_count": 36,
     "metadata": {},
     "output_type": "execute_result"
    }
   ],
   "source": [
    "data"
   ]
  },
  {
   "cell_type": "code",
   "execution_count": 37,
   "id": "99441107",
   "metadata": {
    "ExecuteTime": {
     "end_time": "2022-11-24T08:22:59.138816Z",
     "start_time": "2022-11-24T08:22:59.131814Z"
    }
   },
   "outputs": [],
   "source": [
    "# Create the mip solver with the SCIP backend.\n",
    "solver = pywraplp.Solver.CreateSolver('SCIP')"
   ]
  },
  {
   "cell_type": "code",
   "execution_count": null,
   "id": "ebf753bb",
   "metadata": {
    "ExecuteTime": {
     "start_time": "2022-11-24T08:22:59.315Z"
    }
   },
   "outputs": [],
   "source": [
    "infinity = solver.infinity()\n",
    "x = {}\n",
    "for j in range(data['num_vars']):\n",
    "    x[j] = solver.IntVar(0, infinity, 'x[%i]' % j)\n",
    "print('Number of variables =', solver.NumVariables())"
   ]
  },
  {
   "cell_type": "code",
   "execution_count": null,
   "id": "c3ae959b",
   "metadata": {
    "ExecuteTime": {
     "start_time": "2022-11-24T08:22:59.527Z"
    }
   },
   "outputs": [],
   "source": [
    " 'x[%i]' % 4"
   ]
  },
  {
   "cell_type": "code",
   "execution_count": null,
   "id": "5c3fcc83",
   "metadata": {
    "ExecuteTime": {
     "start_time": "2022-11-24T08:22:59.717Z"
    }
   },
   "outputs": [],
   "source": [
    "for j in range(data['num_vars']):\n",
    "    print(j)"
   ]
  },
  {
   "cell_type": "code",
   "execution_count": 72,
   "id": "75f95408",
   "metadata": {
    "ExecuteTime": {
     "end_time": "2022-09-07T10:43:10.626970Z",
     "start_time": "2022-09-07T10:43:10.615486Z"
    }
   },
   "outputs": [
    {
     "name": "stdout",
     "output_type": "stream",
     "text": [
      "Number of constraints = 4\n"
     ]
    }
   ],
   "source": [
    "for i in range(data['num_constraints']):\n",
    "    constraint = solver.RowConstraint(0, data['bounds'][i], '')\n",
    "    for j in range(data['num_vars']):\n",
    "        constraint.SetCoefficient(x[j], data['constraint_coeffs'][i][j])\n",
    "print('Number of constraints =', solver.NumConstraints())\n",
    "# In Python, you can also set the constraints as follows.\n",
    "# for i in range(data['num_constraints']):\n",
    "#  constraint_expr = \\\n",
    "# [data['constraint_coeffs'][i][j] * x[j] for j in range(data['num_vars'])]\n",
    "#  solver.Add(sum(constraint_expr) <= data['bounds'][i])"
   ]
  },
  {
   "cell_type": "code",
   "execution_count": 73,
   "id": "b3f2480e",
   "metadata": {
    "ExecuteTime": {
     "end_time": "2022-09-07T10:44:12.264468Z",
     "start_time": "2022-09-07T10:44:12.257919Z"
    }
   },
   "outputs": [],
   "source": [
    "objective = solver.Objective()\n",
    "for j in range(data['num_vars']):\n",
    "    objective.SetCoefficient(x[j], data['obj_coeffs'][j])\n",
    "objective.SetMaximization()\n",
    "# In Python, you can also set the objective as follows.\n",
    "# obj_expr = [data['obj_coeffs'][j] * x[j] for j in range(data['num_vars'])]\n",
    "# solver.Maximize(solver.Sum(obj_expr))"
   ]
  },
  {
   "cell_type": "code",
   "execution_count": 74,
   "id": "b6a76fe7",
   "metadata": {
    "ExecuteTime": {
     "end_time": "2022-09-07T10:44:16.653746Z",
     "start_time": "2022-09-07T10:44:16.633033Z"
    }
   },
   "outputs": [],
   "source": [
    "status = solver.Solve()"
   ]
  },
  {
   "cell_type": "code",
   "execution_count": 133,
   "id": "5236df43",
   "metadata": {
    "ExecuteTime": {
     "end_time": "2022-09-07T10:44:56.801877Z",
     "start_time": "2022-09-07T10:44:56.785747Z"
    }
   },
   "outputs": [
    {
     "name": "stdout",
     "output_type": "stream",
     "text": [
      "Objective value = 259.99999999999966\n",
      "x[0]  =  8.0\n",
      "x[1]  =  21.0\n",
      "x[2]  =  0.0\n",
      "x[3]  =  2.0\n",
      "x[4]  =  3.0\n",
      "\n",
      "Problem solved in 3416092.000000 milliseconds\n",
      "Problem solved in 71 iterations\n",
      "Problem solved in 7 branch-and-bound nodes\n"
     ]
    }
   ],
   "source": [
    "if status == pywraplp.Solver.OPTIMAL:\n",
    "    print('Objective value =', solver.Objective().Value())\n",
    "    for j in range(data['num_vars']):\n",
    "        print(x[j].name(), ' = ', x[j].solution_value())\n",
    "    print()\n",
    "    print('Problem solved in %f milliseconds' % solver.wall_time())\n",
    "    print('Problem solved in %d iterations' % solver.iterations())\n",
    "    print('Problem solved in %d branch-and-bound nodes' % solver.nodes())\n",
    "else:\n",
    "    print('The problem does not have an optimal solution.')"
   ]
  },
  {
   "cell_type": "code",
   "execution_count": null,
   "id": "0dc1d6ed",
   "metadata": {},
   "outputs": [],
   "source": []
  },
  {
   "cell_type": "code",
   "execution_count": null,
   "id": "da976d71",
   "metadata": {},
   "outputs": [],
   "source": []
  },
  {
   "cell_type": "code",
   "execution_count": null,
   "id": "d859dae8",
   "metadata": {},
   "outputs": [],
   "source": []
  },
  {
   "cell_type": "code",
   "execution_count": 134,
   "id": "7664663f",
   "metadata": {
    "ExecuteTime": {
     "end_time": "2022-09-08T06:07:21.801122Z",
     "start_time": "2022-09-08T06:07:21.746170Z"
    }
   },
   "outputs": [],
   "source": [
    "from ortools.sat.python import cp_model"
   ]
  },
  {
   "cell_type": "code",
   "execution_count": 136,
   "id": "56dcf29b",
   "metadata": {
    "ExecuteTime": {
     "end_time": "2022-09-08T06:07:27.428285Z",
     "start_time": "2022-09-08T06:07:27.413164Z"
    }
   },
   "outputs": [],
   "source": [
    "model = cp_model.CpModel()"
   ]
  },
  {
   "cell_type": "code",
   "execution_count": 137,
   "id": "30151da6",
   "metadata": {
    "ExecuteTime": {
     "end_time": "2022-09-08T06:07:29.602556Z",
     "start_time": "2022-09-08T06:07:29.584847Z"
    }
   },
   "outputs": [
    {
     "data": {
      "text/plain": [
       "<ortools.sat.python.cp_model.CpModel at 0x20baa255490>"
      ]
     },
     "execution_count": 137,
     "metadata": {},
     "output_type": "execute_result"
    }
   ],
   "source": [
    "model"
   ]
  },
  {
   "cell_type": "code",
   "execution_count": 139,
   "id": "1ddbc5e6",
   "metadata": {
    "ExecuteTime": {
     "end_time": "2022-09-08T06:07:56.210098Z",
     "start_time": "2022-09-08T06:07:56.200320Z"
    }
   },
   "outputs": [],
   "source": [
    "num_vals = 3\n",
    "x = model.NewIntVar(0, num_vals - 1, 'x')\n",
    "y = model.NewIntVar(0, num_vals - 1, 'y')\n",
    "z = model.NewIntVar(0, num_vals - 1, 'z')"
   ]
  },
  {
   "cell_type": "code",
   "execution_count": 141,
   "id": "fed2da35",
   "metadata": {
    "ExecuteTime": {
     "end_time": "2022-09-08T06:08:05.113056Z",
     "start_time": "2022-09-08T06:08:05.102863Z"
    }
   },
   "outputs": [
    {
     "data": {
      "text/plain": [
       "y(0..2)"
      ]
     },
     "execution_count": 141,
     "metadata": {},
     "output_type": "execute_result"
    }
   ],
   "source": [
    "y"
   ]
  },
  {
   "cell_type": "code",
   "execution_count": 142,
   "id": "8b903b32",
   "metadata": {
    "ExecuteTime": {
     "end_time": "2022-09-08T06:08:20.273820Z",
     "start_time": "2022-09-08T06:08:20.266642Z"
    }
   },
   "outputs": [
    {
     "data": {
      "text/plain": [
       "<ortools.sat.python.cp_model.Constraint at 0x20baa274850>"
      ]
     },
     "execution_count": 142,
     "metadata": {},
     "output_type": "execute_result"
    }
   ],
   "source": [
    "model.Add(x != y)"
   ]
  },
  {
   "cell_type": "code",
   "execution_count": 143,
   "id": "7b507b85",
   "metadata": {
    "ExecuteTime": {
     "end_time": "2022-09-08T06:08:27.535834Z",
     "start_time": "2022-09-08T06:08:27.530296Z"
    }
   },
   "outputs": [
    {
     "data": {
      "text/plain": [
       "<ortools.sat.python.cp_model.Constraint at 0x20baa274b20>"
      ]
     },
     "execution_count": 143,
     "metadata": {},
     "output_type": "execute_result"
    }
   ],
   "source": [
    "model.Add(x != y)"
   ]
  },
  {
   "cell_type": "code",
   "execution_count": 145,
   "id": "04bf4be9",
   "metadata": {
    "ExecuteTime": {
     "end_time": "2022-09-08T06:09:31.141048Z",
     "start_time": "2022-09-08T06:09:31.093003Z"
    }
   },
   "outputs": [],
   "source": [
    "solver = cp_model.CpSolver()\n",
    "status = solver.Solve(model)"
   ]
  },
  {
   "cell_type": "code",
   "execution_count": 155,
   "id": "3bfe5f42",
   "metadata": {
    "ExecuteTime": {
     "end_time": "2022-09-08T06:09:36.314302Z",
     "start_time": "2022-09-08T06:09:36.310197Z"
    }
   },
   "outputs": [
    {
     "name": "stdout",
     "output_type": "stream",
     "text": [
      "x = 1\n",
      "y = 0\n",
      "z = 0\n"
     ]
    }
   ],
   "source": [
    "if status == cp_model.OPTIMAL or status == cp_model.FEASIBLE:\n",
    "    print('x = %i' % solver.Value(x))\n",
    "    print('y = %i' % solver.Value(y))\n",
    "    print('z = %i' % solver.Value(z))\n",
    "else:\n",
    "    print('No solution found.')"
   ]
  },
  {
   "cell_type": "code",
   "execution_count": 156,
   "id": "2de7c975",
   "metadata": {
    "ExecuteTime": {
     "end_time": "2022-09-08T06:09:41.708951Z",
     "start_time": "2022-09-08T06:09:41.703023Z"
    }
   },
   "outputs": [
    {
     "data": {
      "text/plain": [
       "4"
      ]
     },
     "execution_count": 156,
     "metadata": {},
     "output_type": "execute_result"
    }
   ],
   "source": [
    "status"
   ]
  },
  {
   "cell_type": "code",
   "execution_count": null,
   "id": "c4566498",
   "metadata": {},
   "outputs": [],
   "source": []
  },
  {
   "cell_type": "code",
   "execution_count": 157,
   "id": "ae9519ce",
   "metadata": {
    "ExecuteTime": {
     "end_time": "2022-09-08T06:10:05.550577Z",
     "start_time": "2022-09-08T06:10:05.513722Z"
    }
   },
   "outputs": [
    {
     "name": "stdout",
     "output_type": "stream",
     "text": [
      "x = 1\n",
      "y = 0\n",
      "z = 0\n"
     ]
    }
   ],
   "source": [
    "\"\"\"Simple solve.\"\"\"\n",
    "from ortools.sat.python import cp_model\n",
    "\n",
    "\n",
    "def SimpleSatProgram():\n",
    "    \"\"\"Minimal CP-SAT example to showcase calling the solver.\"\"\"\n",
    "    # Creates the model.\n",
    "    model = cp_model.CpModel()\n",
    "\n",
    "    # Creates the variables.\n",
    "    num_vals = 3\n",
    "    x = model.NewIntVar(0, num_vals - 1, 'x')\n",
    "    y = model.NewIntVar(0, num_vals - 1, 'y')\n",
    "    z = model.NewIntVar(0, num_vals - 1, 'z')\n",
    "\n",
    "    # Creates the constraints.\n",
    "    model.Add(x != y)\n",
    "\n",
    "    # Creates a solver and solves the model.\n",
    "    solver = cp_model.CpSolver()\n",
    "    status = solver.Solve(model)\n",
    "\n",
    "    if status == cp_model.OPTIMAL or status == cp_model.FEASIBLE:\n",
    "        print('x = %i' % solver.Value(x))\n",
    "        print('y = %i' % solver.Value(y))\n",
    "        print('z = %i' % solver.Value(z))\n",
    "    else:\n",
    "        print('No solution found.')\n",
    "\n",
    "\n",
    "SimpleSatProgram()"
   ]
  },
  {
   "cell_type": "code",
   "execution_count": 158,
   "id": "c3b740d1",
   "metadata": {
    "ExecuteTime": {
     "end_time": "2022-09-08T06:11:20.558191Z",
     "start_time": "2022-09-08T06:11:20.538125Z"
    }
   },
   "outputs": [],
   "source": [
    "class VarArraySolutionPrinter(cp_model.CpSolverSolutionCallback):\n",
    "    \"\"\"Print intermediate solutions.\"\"\"\n",
    "\n",
    "    def __init__(self, variables):\n",
    "        cp_model.CpSolverSolutionCallback.__init__(self)\n",
    "        self.__variables = variables\n",
    "        self.__solution_count = 0\n",
    "\n",
    "    def on_solution_callback(self):\n",
    "        self.__solution_count += 1\n",
    "        for v in self.__variables:\n",
    "            print('%s=%i' % (v, self.Value(v)), end=' ')\n",
    "        print()\n",
    "\n",
    "    def solution_count(self):\n",
    "        return self.__solution_count"
   ]
  },
  {
   "cell_type": "code",
   "execution_count": 159,
   "id": "6e5f4c23",
   "metadata": {
    "ExecuteTime": {
     "end_time": "2022-09-08T06:12:42.227261Z",
     "start_time": "2022-09-08T06:12:42.069408Z"
    }
   },
   "outputs": [
    {
     "name": "stdout",
     "output_type": "stream",
     "text": [
      "x=1 y=0 z=0 \n",
      "x=1 y=0 z=0 \n",
      "x=1 y=0 z=0 \n",
      "x=1 y=0 z=0 \n",
      "x=1 y=0 z=0 \n",
      "x=1 y=0 z=0 \n",
      "x=1 y=0 z=0 \n",
      "x=1 y=0 z=0 \n",
      "x=2 y=0 z=0 \n",
      "x=2 y=0 z=0 \n",
      "x=2 y=0 z=0 \n",
      "x=2 y=0 z=0 \n",
      "x=2 y=0 z=0 \n",
      "x=2 y=0 z=0 \n",
      "x=2 y=0 z=0 \n",
      "x=2 y=0 z=0 \n",
      "x=2 y=0 z=1 \n",
      "x=2 y=0 z=1 \n",
      "x=2 y=0 z=1 \n",
      "x=2 y=0 z=1 \n",
      "x=2 y=0 z=1 \n",
      "x=2 y=0 z=1 \n",
      "x=2 y=0 z=1 \n",
      "x=2 y=0 z=1 \n",
      "x=1 y=0 z=1 \n",
      "x=1 y=0 z=1 \n",
      "x=1 y=0 z=1 \n",
      "x=1 y=0 z=1 \n",
      "x=1 y=0 z=1 \n",
      "x=1 y=0 z=1 \n",
      "x=1 y=0 z=1 \n",
      "x=1 y=0 z=1 \n",
      "x=1 y=0 z=1 \n",
      "x=1 y=0 z=1 \n",
      "x=1 y=0 z=1 \n",
      "x=1 y=0 z=1 \n",
      "x=2 y=0 z=1 \n",
      "x=2 y=0 z=1 \n",
      "x=2 y=0 z=1 \n",
      "x=2 y=0 z=1 \n",
      "x=2 y=0 z=0 \n",
      "x=2 y=0 z=0 \n",
      "x=2 y=0 z=0 \n",
      "x=2 y=0 z=0 \n",
      "x=1 y=0 z=0 \n",
      "x=1 y=0 z=0 \n",
      "x=1 y=0 z=0 \n",
      "x=1 y=0 z=0 \n",
      "x=1 y=0 z=0 \n",
      "x=1 y=0 z=0 \n",
      "x=2 y=0 z=0 \n",
      "x=2 y=0 z=0 \n",
      "x=2 y=0 z=1 \n",
      "x=2 y=0 z=1 \n",
      "x=1 y=0 z=1 \n",
      "x=1 y=0 z=1 \n",
      "x=1 y=0 z=1 \n",
      "x=1 y=0 z=1 \n",
      "x=1 y=0 z=1 \n",
      "x=1 y=0 z=1 \n",
      "x=2 y=0 z=1 \n",
      "x=2 y=0 z=1 \n",
      "x=2 y=0 z=1 \n",
      "x=2 y=0 z=1 \n",
      "x=2 y=0 z=0 \n",
      "x=2 y=0 z=0 \n",
      "x=2 y=0 z=0 \n",
      "x=2 y=0 z=0 \n",
      "x=1 y=0 z=0 \n",
      "x=1 y=0 z=0 \n",
      "x=1 y=0 z=0 \n",
      "x=1 y=0 z=0 \n",
      "x=1 y=0 z=0 \n",
      "x=1 y=0 z=0 \n",
      "x=2 y=0 z=0 \n",
      "x=2 y=0 z=0 \n",
      "x=2 y=0 z=1 \n",
      "x=2 y=0 z=1 \n",
      "x=1 y=0 z=1 \n",
      "x=1 y=0 z=1 \n",
      "x=1 y=0 z=1 \n",
      "x=2 y=0 z=1 \n",
      "x=2 y=0 z=0 \n",
      "x=1 y=0 z=0 \n",
      "x=1 y=0 z=0 \n",
      "x=1 y=0 z=0 \n",
      "x=2 y=0 z=0 \n",
      "x=2 y=0 z=0 \n",
      "x=2 y=0 z=1 \n",
      "x=2 y=0 z=1 \n",
      "x=1 y=0 z=1 \n",
      "x=1 y=0 z=1 \n",
      "x=1 y=0 z=1 \n",
      "x=1 y=0 z=1 \n",
      "x=1 y=0 z=1 \n",
      "x=1 y=0 z=1 \n",
      "x=2 y=0 z=1 \n",
      "x=2 y=0 z=1 \n",
      "x=2 y=0 z=1 \n",
      "x=2 y=0 z=1 \n",
      "x=2 y=0 z=0 \n",
      "x=2 y=0 z=0 \n",
      "x=2 y=0 z=0 \n",
      "x=2 y=0 z=0 \n",
      "x=1 y=0 z=0 \n",
      "x=1 y=0 z=0 \n",
      "x=1 y=0 z=0 \n",
      "x=1 y=0 z=0 \n",
      "x=2 y=1 z=0 \n",
      "x=2 y=1 z=0 \n",
      "x=2 y=1 z=0 \n",
      "x=2 y=1 z=0 \n",
      "x=2 y=1 z=1 \n",
      "x=2 y=1 z=1 \n",
      "x=2 y=1 z=1 \n",
      "x=2 y=1 z=1 \n",
      "x=2 y=1 z=1 \n",
      "x=2 y=1 z=1 \n",
      "x=2 y=1 z=0 \n",
      "x=2 y=1 z=0 \n",
      "x=2 y=1 z=0 \n",
      "x=2 y=1 z=1 \n",
      "x=2 y=1 z=1 \n",
      "x=2 y=1 z=1 \n",
      "x=2 y=1 z=0 \n",
      "x=2 y=1 z=0 \n",
      "x=2 y=1 z=0 \n",
      "x=2 y=1 z=0 \n",
      "x=2 y=1 z=0 \n",
      "x=2 y=1 z=0 \n",
      "x=2 y=1 z=1 \n",
      "x=2 y=1 z=1 \n",
      "x=2 y=1 z=1 \n",
      "x=2 y=1 z=1 \n",
      "x=2 y=1 z=1 \n",
      "x=2 y=1 z=1 \n",
      "x=2 y=1 z=0 \n",
      "x=2 y=1 z=0 \n",
      "x=2 y=1 z=0 \n",
      "x=2 y=1 z=0 \n",
      "x=2 y=1 z=0 \n",
      "x=2 y=1 z=0 \n",
      "x=2 y=1 z=1 \n",
      "x=2 y=1 z=1 \n",
      "x=2 y=1 z=1 \n",
      "x=2 y=1 z=1 \n",
      "x=2 y=1 z=1 \n",
      "x=2 y=1 z=1 \n",
      "x=2 y=1 z=1 \n",
      "x=2 y=1 z=1 \n",
      "x=2 y=1 z=1 \n",
      "x=2 y=1 z=1 \n",
      "x=2 y=1 z=1 \n",
      "x=2 y=1 z=1 \n",
      "x=2 y=1 z=0 \n",
      "x=2 y=1 z=0 \n",
      "x=2 y=1 z=0 \n",
      "x=2 y=1 z=0 \n",
      "x=2 y=1 z=0 \n",
      "x=2 y=1 z=0 \n",
      "x=2 y=1 z=0 \n",
      "x=2 y=1 z=0 \n",
      "x=2 y=1 z=2 \n",
      "x=2 y=1 z=2 \n",
      "x=2 y=1 z=2 \n",
      "x=2 y=1 z=2 \n",
      "x=2 y=1 z=2 \n",
      "x=2 y=1 z=2 \n",
      "x=2 y=1 z=2 \n",
      "x=2 y=1 z=2 \n",
      "x=2 y=1 z=2 \n",
      "x=2 y=1 z=2 \n",
      "x=2 y=1 z=2 \n",
      "x=2 y=1 z=2 \n",
      "x=2 y=1 z=2 \n",
      "x=2 y=1 z=2 \n",
      "x=2 y=1 z=2 \n",
      "x=2 y=1 z=2 \n",
      "x=2 y=1 z=2 \n",
      "x=2 y=1 z=2 \n",
      "x=2 y=1 z=2 \n",
      "x=2 y=1 z=2 \n",
      "x=2 y=1 z=2 \n",
      "x=2 y=1 z=2 \n",
      "x=2 y=1 z=2 \n",
      "x=2 y=1 z=2 \n",
      "x=2 y=1 z=2 \n",
      "x=2 y=1 z=2 \n",
      "x=2 y=1 z=2 \n",
      "x=2 y=0 z=2 \n",
      "x=2 y=0 z=2 \n",
      "x=2 y=0 z=2 \n",
      "x=2 y=0 z=2 \n",
      "x=1 y=0 z=2 \n",
      "x=1 y=0 z=2 \n",
      "x=1 y=0 z=2 \n",
      "x=1 y=0 z=2 \n",
      "x=1 y=0 z=2 \n",
      "x=1 y=0 z=2 \n",
      "x=2 y=0 z=2 \n",
      "x=2 y=0 z=2 \n",
      "x=2 y=0 z=2 \n",
      "x=1 y=0 z=2 \n",
      "x=1 y=0 z=2 \n",
      "x=1 y=0 z=2 \n",
      "x=2 y=0 z=2 \n",
      "x=2 y=0 z=2 \n",
      "x=2 y=0 z=2 \n",
      "x=2 y=0 z=2 \n",
      "x=2 y=0 z=2 \n",
      "x=2 y=0 z=2 \n",
      "x=1 y=0 z=2 \n",
      "x=1 y=0 z=2 \n",
      "x=1 y=0 z=2 \n",
      "x=1 y=0 z=2 \n",
      "x=1 y=0 z=2 \n",
      "x=1 y=0 z=2 \n",
      "x=2 y=0 z=2 \n",
      "x=2 y=0 z=2 \n",
      "x=2 y=0 z=2 \n",
      "x=2 y=0 z=2 \n",
      "x=2 y=0 z=2 \n",
      "x=2 y=0 z=2 \n",
      "x=1 y=0 z=2 \n",
      "x=1 y=0 z=2 \n",
      "x=1 y=0 z=2 \n",
      "x=1 y=0 z=2 \n",
      "x=1 y=0 z=2 \n",
      "x=1 y=0 z=2 \n",
      "x=1 y=0 z=2 \n",
      "x=1 y=0 z=2 \n",
      "x=1 y=0 z=2 \n",
      "x=1 y=0 z=2 \n",
      "x=1 y=0 z=2 \n",
      "x=1 y=0 z=2 \n",
      "x=2 y=0 z=2 \n",
      "x=2 y=0 z=2 \n",
      "x=2 y=0 z=2 \n",
      "x=2 y=0 z=2 \n",
      "x=2 y=0 z=2 \n",
      "x=2 y=0 z=2 \n",
      "x=2 y=0 z=2 \n",
      "x=2 y=0 z=2 \n",
      "x=0 y=1 z=2 \n",
      "x=0 y=1 z=2 \n",
      "x=0 y=1 z=2 \n",
      "x=0 y=1 z=2 \n",
      "x=0 y=1 z=2 \n",
      "x=0 y=1 z=2 \n",
      "x=0 y=1 z=2 \n",
      "x=0 y=1 z=2 \n",
      "x=0 y=1 z=2 \n",
      "x=0 y=1 z=2 \n",
      "x=0 y=1 z=2 \n",
      "x=0 y=1 z=2 \n",
      "x=0 y=1 z=2 \n",
      "x=0 y=1 z=2 \n",
      "x=0 y=1 z=2 \n",
      "x=0 y=1 z=2 \n",
      "x=0 y=1 z=2 \n",
      "x=0 y=1 z=2 \n",
      "x=0 y=1 z=1 \n",
      "x=0 y=1 z=1 \n",
      "x=0 y=1 z=0 \n",
      "x=0 y=1 z=0 \n",
      "x=0 y=1 z=0 \n",
      "x=0 y=1 z=0 \n",
      "x=0 y=1 z=1 \n",
      "x=0 y=1 z=1 \n",
      "x=0 y=1 z=1 \n",
      "x=0 y=1 z=0 \n",
      "x=0 y=1 z=0 \n",
      "x=0 y=1 z=1 \n",
      "x=0 y=1 z=1 \n",
      "x=0 y=1 z=1 \n",
      "x=0 y=1 z=0 \n",
      "x=0 y=1 z=0 \n",
      "x=0 y=1 z=0 \n",
      "x=0 y=1 z=0 \n",
      "x=0 y=1 z=1 \n",
      "x=0 y=1 z=1 \n",
      "x=0 y=1 z=1 \n",
      "x=0 y=1 z=1 \n",
      "x=0 y=1 z=1 \n",
      "x=0 y=1 z=1 \n",
      "x=0 y=1 z=0 \n",
      "x=0 y=1 z=0 \n",
      "x=0 y=1 z=0 \n",
      "x=0 y=1 z=0 \n",
      "x=0 y=1 z=0 \n",
      "x=0 y=1 z=0 \n",
      "x=0 y=1 z=0 \n",
      "x=0 y=1 z=0 \n",
      "x=0 y=1 z=1 \n",
      "x=0 y=1 z=1 \n",
      "x=0 y=1 z=1 \n",
      "x=0 y=1 z=1 \n",
      "x=0 y=2 z=1 \n",
      "x=0 y=2 z=1 \n",
      "x=0 y=2 z=1 \n",
      "x=0 y=2 z=1 \n",
      "x=0 y=2 z=0 \n",
      "x=0 y=2 z=0 \n",
      "x=0 y=2 z=0 \n",
      "x=0 y=2 z=0 \n",
      "x=0 y=2 z=0 \n",
      "x=0 y=2 z=0 \n",
      "x=0 y=2 z=0 \n",
      "x=0 y=2 z=0 \n",
      "x=0 y=2 z=1 \n",
      "x=0 y=2 z=1 \n",
      "x=0 y=2 z=1 \n",
      "x=0 y=2 z=1 \n",
      "x=0 y=2 z=1 \n",
      "x=0 y=2 z=1 \n",
      "x=0 y=2 z=0 \n",
      "x=0 y=2 z=0 \n",
      "x=0 y=2 z=0 \n",
      "x=0 y=2 z=0 \n",
      "x=0 y=2 z=1 \n",
      "x=0 y=2 z=1 \n",
      "x=0 y=2 z=1 \n",
      "x=0 y=2 z=0 \n",
      "x=0 y=2 z=0 \n",
      "x=0 y=2 z=1 \n",
      "x=0 y=2 z=1 \n",
      "x=0 y=2 z=1 \n",
      "x=0 y=2 z=0 \n",
      "x=0 y=2 z=0 \n",
      "x=0 y=2 z=0 \n",
      "x=0 y=2 z=0 \n",
      "x=0 y=2 z=1 \n",
      "x=0 y=2 z=1 \n",
      "x=0 y=2 z=2 \n",
      "x=0 y=2 z=2 \n",
      "x=0 y=2 z=2 \n",
      "x=0 y=2 z=2 \n",
      "x=0 y=2 z=2 \n",
      "x=0 y=2 z=2 \n",
      "x=0 y=2 z=2 \n",
      "x=0 y=2 z=2 \n",
      "x=0 y=2 z=2 \n",
      "x=0 y=2 z=2 \n",
      "x=0 y=2 z=2 \n",
      "x=0 y=2 z=2 \n",
      "x=0 y=2 z=2 \n",
      "x=0 y=2 z=2 \n",
      "x=0 y=2 z=2 \n",
      "x=0 y=2 z=2 \n",
      "x=0 y=2 z=2 \n",
      "x=0 y=2 z=2 \n",
      "x=1 y=2 z=2 \n",
      "x=1 y=2 z=2 \n",
      "x=1 y=2 z=2 \n",
      "x=1 y=2 z=2 \n",
      "x=1 y=2 z=2 \n",
      "x=1 y=2 z=2 \n",
      "x=1 y=2 z=2 \n",
      "x=1 y=2 z=2 \n",
      "x=1 y=2 z=2 \n",
      "x=1 y=2 z=2 \n",
      "x=1 y=2 z=2 \n",
      "x=1 y=2 z=2 \n",
      "x=1 y=2 z=2 \n",
      "x=1 y=2 z=2 \n",
      "x=1 y=2 z=2 \n",
      "x=1 y=2 z=2 \n",
      "x=1 y=2 z=2 \n",
      "x=1 y=2 z=2 \n",
      "x=1 y=2 z=1 \n",
      "x=1 y=2 z=1 \n",
      "x=1 y=2 z=0 \n",
      "x=1 y=2 z=0 \n",
      "x=1 y=2 z=0 \n",
      "x=1 y=2 z=0 \n",
      "x=1 y=2 z=1 \n",
      "x=1 y=2 z=1 \n",
      "x=1 y=2 z=1 \n",
      "x=1 y=2 z=0 \n",
      "x=1 y=2 z=0 \n",
      "x=1 y=2 z=1 \n",
      "x=1 y=2 z=1 \n",
      "x=1 y=2 z=1 \n",
      "x=1 y=2 z=0 \n",
      "x=1 y=2 z=0 \n",
      "x=1 y=2 z=0 \n",
      "x=1 y=2 z=0 \n",
      "x=1 y=2 z=1 \n",
      "x=1 y=2 z=1 \n",
      "x=1 y=2 z=1 \n",
      "x=1 y=2 z=1 \n",
      "x=1 y=2 z=1 \n",
      "x=1 y=2 z=1 \n",
      "x=1 y=2 z=0 \n",
      "x=1 y=2 z=0 \n",
      "x=1 y=2 z=0 \n",
      "x=1 y=2 z=0 \n",
      "x=1 y=2 z=0 \n",
      "x=1 y=2 z=0 \n",
      "x=1 y=2 z=0 \n",
      "x=1 y=2 z=0 \n",
      "x=1 y=2 z=1 \n",
      "x=1 y=2 z=1 \n",
      "x=1 y=2 z=1 \n",
      "x=1 y=2 z=1 \n",
      "x=1 y=2 z=1 \n",
      "x=1 y=2 z=1 \n",
      "x=1 y=2 z=0 \n",
      "x=1 y=2 z=0 \n",
      "x=1 y=2 z=0 \n",
      "x=1 y=2 z=0 \n",
      "x=1 y=2 z=1 \n",
      "x=1 y=2 z=1 \n",
      "x=1 y=2 z=1 \n",
      "x=1 y=2 z=0 \n",
      "x=1 y=2 z=0 \n",
      "x=1 y=2 z=1 \n",
      "x=1 y=2 z=2 \n",
      "x=1 y=2 z=2 \n",
      "x=1 y=2 z=2 \n",
      "x=1 y=2 z=2 \n",
      "x=1 y=2 z=2 \n",
      "x=1 y=2 z=2 \n",
      "x=0 y=2 z=2 \n",
      "x=0 y=2 z=2 \n",
      "x=0 y=2 z=2 \n",
      "x=0 y=2 z=2 \n",
      "x=0 y=2 z=2 \n",
      "x=0 y=2 z=2 \n",
      "x=0 y=2 z=1 \n",
      "x=0 y=2 z=0 \n",
      "x=0 y=2 z=0 \n",
      "x=0 y=2 z=1 \n",
      "x=0 y=2 z=1 \n",
      "x=0 y=2 z=1 \n",
      "x=0 y=2 z=0 \n",
      "x=0 y=2 z=0 \n",
      "x=0 y=2 z=0 \n",
      "x=0 y=2 z=0 \n",
      "x=0 y=2 z=1 \n",
      "x=0 y=2 z=1 \n",
      "x=0 y=1 z=1 \n",
      "x=0 y=1 z=1 \n",
      "x=0 y=1 z=0 \n",
      "x=0 y=1 z=0 \n",
      "x=0 y=1 z=0 \n",
      "x=0 y=1 z=0 \n",
      "x=0 y=1 z=1 \n",
      "x=0 y=1 z=1 \n",
      "x=0 y=1 z=1 \n",
      "x=0 y=1 z=0 \n",
      "x=0 y=1 z=0 \n",
      "x=0 y=1 z=1 \n",
      "x=0 y=1 z=2 \n",
      "x=0 y=1 z=2 \n",
      "x=0 y=1 z=2 \n",
      "x=0 y=1 z=2 \n",
      "x=0 y=1 z=2 \n",
      "x=0 y=1 z=2 \n",
      "x=0 y=1 z=2 \n",
      "x=0 y=1 z=2 \n",
      "x=0 y=1 z=1 \n",
      "x=0 y=1 z=0 \n",
      "x=0 y=1 z=0 \n",
      "x=0 y=1 z=1 \n",
      "x=0 y=2 z=1 \n",
      "x=0 y=2 z=0 \n",
      "x=0 y=2 z=0 \n",
      "x=0 y=2 z=1 \n",
      "x=0 y=2 z=2 \n",
      "x=0 y=2 z=2 \n",
      "x=1 y=2 z=2 \n",
      "x=1 y=2 z=2 \n",
      "x=1 y=2 z=1 \n",
      "x=1 y=2 z=0 \n",
      "x=1 y=2 z=0 \n",
      "x=1 y=2 z=1 \n",
      "x=1 y=2 z=1 \n",
      "x=1 y=2 z=2 \n",
      "x=0 y=2 z=2 \n",
      "x=0 y=2 z=1 \n",
      "x=0 y=1 z=1 \n",
      "x=0 y=1 z=2 \n",
      "x=0 y=1 z=0 \n",
      "x=0 y=2 z=0 \n",
      "x=1 y=2 z=0 \n"
     ]
    }
   ],
   "source": [
    "solver = cp_model.CpSolver()\n",
    "solution_printer = VarArraySolutionPrinter([x, y, z])\n",
    "# Enumerate all solutions.\n",
    "solver.parameters.enumerate_all_solutions = True\n",
    "# Solve.\n",
    "status = solver.Solve(model, solution_printer)"
   ]
  },
  {
   "cell_type": "code",
   "execution_count": 160,
   "id": "05e1d206",
   "metadata": {
    "ExecuteTime": {
     "end_time": "2022-09-08T06:13:23.241966Z",
     "start_time": "2022-09-08T06:13:23.224112Z"
    }
   },
   "outputs": [
    {
     "name": "stdout",
     "output_type": "stream",
     "text": [
      "x=1 y=0 z=0 \n",
      "x=2 y=0 z=0 \n",
      "x=2 y=0 z=1 \n",
      "x=1 y=0 z=1 \n",
      "x=2 y=1 z=1 \n",
      "x=2 y=1 z=0 \n",
      "x=2 y=1 z=2 \n",
      "x=2 y=0 z=2 \n",
      "x=1 y=0 z=2 \n",
      "x=0 y=1 z=2 \n",
      "x=0 y=1 z=1 \n",
      "x=0 y=2 z=1 \n",
      "x=0 y=2 z=2 \n",
      "x=1 y=2 z=2 \n",
      "x=1 y=2 z=1 \n",
      "x=1 y=2 z=0 \n",
      "x=0 y=2 z=0 \n",
      "x=0 y=1 z=0 \n",
      "Status = OPTIMAL\n",
      "Number of solutions found: 18\n"
     ]
    }
   ],
   "source": [
    "from ortools.sat.python import cp_model\n",
    "\n",
    "\n",
    "class VarArraySolutionPrinter(cp_model.CpSolverSolutionCallback):\n",
    "    \"\"\"Print intermediate solutions.\"\"\"\n",
    "\n",
    "    def __init__(self, variables):\n",
    "        cp_model.CpSolverSolutionCallback.__init__(self)\n",
    "        self.__variables = variables\n",
    "        self.__solution_count = 0\n",
    "\n",
    "    def on_solution_callback(self):\n",
    "        self.__solution_count += 1\n",
    "        for v in self.__variables:\n",
    "            print('%s=%i' % (v, self.Value(v)), end=' ')\n",
    "        print()\n",
    "\n",
    "    def solution_count(self):\n",
    "        return self.__solution_count\n",
    "\n",
    "\n",
    "def SearchForAllSolutionsSampleSat():\n",
    "    \"\"\"Showcases calling the solver to search for all solutions.\"\"\"\n",
    "    # Creates the model.\n",
    "    model = cp_model.CpModel()\n",
    "\n",
    "    # Creates the variables.\n",
    "    num_vals = 3\n",
    "    x = model.NewIntVar(0, num_vals - 1, 'x')\n",
    "    y = model.NewIntVar(0, num_vals - 1, 'y')\n",
    "    z = model.NewIntVar(0, num_vals - 1, 'z')\n",
    "\n",
    "    # Create the constraints.\n",
    "    model.Add(x != y)\n",
    "\n",
    "    # Create a solver and solve.\n",
    "    solver = cp_model.CpSolver()\n",
    "    solution_printer = VarArraySolutionPrinter([x, y, z])\n",
    "    # Enumerate all solutions.\n",
    "    solver.parameters.enumerate_all_solutions = True\n",
    "    # Solve.\n",
    "    status = solver.Solve(model, solution_printer)\n",
    "\n",
    "    print('Status = %s' % solver.StatusName(status))\n",
    "    print('Number of solutions found: %i' % solution_printer.solution_count())\n",
    "\n",
    "\n",
    "SearchForAllSolutionsSampleSat()"
   ]
  },
  {
   "cell_type": "code",
   "execution_count": 161,
   "id": "7477210c",
   "metadata": {
    "ExecuteTime": {
     "end_time": "2022-09-08T06:15:26.462794Z",
     "start_time": "2022-09-08T06:15:26.418257Z"
    }
   },
   "outputs": [
    {
     "name": "stdout",
     "output_type": "stream",
     "text": [
      "Maximum of objective function: 35.0\n",
      "\n",
      "x = 7\n",
      "y = 3\n",
      "z = 5\n",
      "\n",
      "Statistics\n",
      "  status   : OPTIMAL\n",
      "  conflicts: 2\n",
      "  branches : 1\n",
      "  wall time: 0.023142100000000002 s\n"
     ]
    }
   ],
   "source": [
    "\"\"\"Simple solve.\"\"\"\n",
    "from ortools.sat.python import cp_model\n",
    "\n",
    "\n",
    "def main():\n",
    "    \"\"\"Minimal CP-SAT example to showcase calling the solver.\"\"\"\n",
    "    # Creates the model.\n",
    "    model = cp_model.CpModel()\n",
    "\n",
    "    # Creates the variables.\n",
    "    var_upper_bound = max(50, 45, 37)\n",
    "    x = model.NewIntVar(0, var_upper_bound, 'x')\n",
    "    y = model.NewIntVar(0, var_upper_bound, 'y')\n",
    "    z = model.NewIntVar(0, var_upper_bound, 'z')\n",
    "\n",
    "    # Creates the constraints.\n",
    "    model.Add(2 * x + 7 * y + 3 * z <= 50)\n",
    "    model.Add(3 * x - 5 * y + 7 * z <= 45)\n",
    "    model.Add(5 * x + 2 * y - 6 * z <= 37)\n",
    "\n",
    "    model.Maximize(2 * x + 2 * y + 3 * z)\n",
    "\n",
    "    # Creates a solver and solves the model.\n",
    "    solver = cp_model.CpSolver()\n",
    "    status = solver.Solve(model)\n",
    "\n",
    "    if status == cp_model.OPTIMAL or status == cp_model.FEASIBLE:\n",
    "        print(f'Maximum of objective function: {solver.ObjectiveValue()}\\n')\n",
    "        print(f'x = {solver.Value(x)}')\n",
    "        print(f'y = {solver.Value(y)}')\n",
    "        print(f'z = {solver.Value(z)}')\n",
    "    else:\n",
    "        print('No solution found.')\n",
    "\n",
    "    # Statistics.\n",
    "    print('\\nStatistics')\n",
    "    print(f'  status   : {solver.StatusName(status)}')\n",
    "    print(f'  conflicts: {solver.NumConflicts()}')\n",
    "    print(f'  branches : {solver.NumBranches()}')\n",
    "    print(f'  wall time: {solver.WallTime()} s')\n",
    "\n",
    "\n",
    "if __name__ == '__main__':\n",
    "    main()"
   ]
  },
  {
   "cell_type": "code",
   "execution_count": null,
   "id": "d1c0d4f6",
   "metadata": {},
   "outputs": [],
   "source": []
  },
  {
   "cell_type": "code",
   "execution_count": 162,
   "id": "7172df7b",
   "metadata": {
    "ExecuteTime": {
     "end_time": "2022-09-08T06:31:25.909583Z",
     "start_time": "2022-09-08T06:31:25.901821Z"
    }
   },
   "outputs": [],
   "source": [
    "from ortools.sat.python import cp_model"
   ]
  },
  {
   "cell_type": "code",
   "execution_count": 163,
   "id": "5d7d8c1a",
   "metadata": {
    "ExecuteTime": {
     "end_time": "2022-09-08T06:31:31.226885Z",
     "start_time": "2022-09-08T06:31:31.213061Z"
    }
   },
   "outputs": [],
   "source": [
    "model = cp_model.CpModel()"
   ]
  },
  {
   "cell_type": "code",
   "execution_count": 164,
   "id": "7749a174",
   "metadata": {
    "ExecuteTime": {
     "end_time": "2022-09-08T06:31:45.641486Z",
     "start_time": "2022-09-08T06:31:45.625900Z"
    }
   },
   "outputs": [],
   "source": [
    "base = 10\n",
    "\n",
    "c = model.NewIntVar(1, base - 1, 'C')\n",
    "p = model.NewIntVar(0, base - 1, 'P')\n",
    "i = model.NewIntVar(1, base - 1, 'I')\n",
    "s = model.NewIntVar(0, base - 1, 'S')\n",
    "f = model.NewIntVar(1, base - 1, 'F')\n",
    "u = model.NewIntVar(0, base - 1, 'U')\n",
    "n = model.NewIntVar(0, base - 1, 'N')\n",
    "t = model.NewIntVar(1, base - 1, 'T')\n",
    "r = model.NewIntVar(0, base - 1, 'R')\n",
    "e = model.NewIntVar(0, base - 1, 'E')\n",
    "\n",
    "# We need to group variables in a list to use the constraint AllDifferent.\n",
    "letters = [c, p, i, s, f, u, n, t, r, e]\n",
    "\n",
    "# Verify that we have enough digits.\n",
    "assert base >= len(letters)"
   ]
  },
  {
   "cell_type": "code",
   "execution_count": null,
   "id": "8379689a",
   "metadata": {},
   "outputs": [],
   "source": []
  },
  {
   "cell_type": "code",
   "execution_count": 167,
   "id": "7e3c55bf",
   "metadata": {
    "ExecuteTime": {
     "end_time": "2022-09-08T06:40:00.948239Z",
     "start_time": "2022-09-08T06:40:00.940536Z"
    }
   },
   "outputs": [
    {
     "data": {
      "text/plain": [
       "<ortools.sat.python.cp_model.Constraint at 0x20baa525b80>"
      ]
     },
     "execution_count": 167,
     "metadata": {},
     "output_type": "execute_result"
    }
   ],
   "source": [
    "model.AddAllDifferent(letters)\n",
    "\n",
    "# CP + IS + FUN = TRUE\n",
    "model.Add(c * base + p + i * base + s + f * base * base + u * base +\n",
    "          n == t * base * base * base + r * base * base + u * base + e)"
   ]
  },
  {
   "cell_type": "code",
   "execution_count": 169,
   "id": "c1b7b91c",
   "metadata": {
    "ExecuteTime": {
     "end_time": "2022-09-08T06:42:02.857584Z",
     "start_time": "2022-09-08T06:42:02.846324Z"
    }
   },
   "outputs": [],
   "source": [
    "class VarArraySolutionPrinter(cp_model.CpSolverSolutionCallback):\n",
    "    \"\"\"Print intermediate solutions.\"\"\"\n",
    "\n",
    "    def __init__(self, variables):\n",
    "        cp_model.CpSolverSolutionCallback.__init__(self)\n",
    "        self.__variables = variables\n",
    "        self.__solution_count = 0\n",
    "\n",
    "    def on_solution_callback(self):\n",
    "        self.__solution_count += 1\n",
    "        for v in self.__variables:\n",
    "            print('%s=%i' % (v, self.Value(v)), end=' ')\n",
    "        print()\n",
    "\n",
    "    def solution_count(self):\n",
    "        return self.__solution_count "
   ]
  },
  {
   "cell_type": "code",
   "execution_count": 170,
   "id": "fa81d8b5",
   "metadata": {
    "ExecuteTime": {
     "end_time": "2022-09-08T06:42:42.792476Z",
     "start_time": "2022-09-08T06:42:42.721894Z"
    }
   },
   "outputs": [
    {
     "name": "stdout",
     "output_type": "stream",
     "text": [
      "C=6 P=4 I=3 S=5 F=9 U=2 N=8 T=1 R=0 E=7 \n",
      "C=3 P=4 I=6 S=5 F=9 U=2 N=8 T=1 R=0 E=7 \n",
      "C=3 P=4 I=6 S=8 F=9 U=2 N=5 T=1 R=0 E=7 \n",
      "C=3 P=2 I=6 S=7 F=9 U=8 N=5 T=1 R=0 E=4 \n",
      "C=3 P=2 I=6 S=5 F=9 U=8 N=7 T=1 R=0 E=4 \n",
      "C=2 P=3 I=7 S=6 F=9 U=8 N=5 T=1 R=0 E=4 \n",
      "C=2 P=3 I=7 S=4 F=9 U=6 N=8 T=1 R=0 E=5 \n",
      "C=2 P=3 I=7 S=5 F=9 U=4 N=8 T=1 R=0 E=6 \n",
      "C=2 P=3 I=7 S=8 F=9 U=4 N=5 T=1 R=0 E=6 \n",
      "C=2 P=3 I=7 S=8 F=9 U=6 N=4 T=1 R=0 E=5 \n",
      "C=2 P=3 I=7 S=5 F=9 U=8 N=6 T=1 R=0 E=4 \n",
      "C=7 P=3 I=2 S=5 F=9 U=8 N=6 T=1 R=0 E=4 \n",
      "C=7 P=3 I=2 S=6 F=9 U=8 N=5 T=1 R=0 E=4 \n",
      "C=6 P=2 I=3 S=7 F=9 U=8 N=5 T=1 R=0 E=4 \n",
      "C=6 P=2 I=3 S=5 F=9 U=8 N=7 T=1 R=0 E=4 \n",
      "C=7 P=3 I=2 S=4 F=9 U=6 N=8 T=1 R=0 E=5 \n",
      "C=7 P=3 I=2 S=8 F=9 U=6 N=4 T=1 R=0 E=5 \n",
      "C=7 P=4 I=2 S=8 F=9 U=6 N=3 T=1 R=0 E=5 \n",
      "C=7 P=8 I=2 S=4 F=9 U=6 N=3 T=1 R=0 E=5 \n",
      "C=7 P=8 I=2 S=3 F=9 U=6 N=4 T=1 R=0 E=5 \n",
      "C=7 P=4 I=2 S=3 F=9 U=6 N=8 T=1 R=0 E=5 \n",
      "C=7 P=6 I=2 S=3 F=9 U=8 N=5 T=1 R=0 E=4 \n",
      "C=7 P=5 I=2 S=3 F=9 U=8 N=6 T=1 R=0 E=4 \n",
      "C=7 P=8 I=2 S=3 F=9 U=4 N=5 T=1 R=0 E=6 \n",
      "C=7 P=8 I=2 S=5 F=9 U=4 N=3 T=1 R=0 E=6 \n",
      "C=7 P=3 I=2 S=5 F=9 U=4 N=8 T=1 R=0 E=6 \n",
      "C=7 P=5 I=2 S=3 F=9 U=4 N=8 T=1 R=0 E=6 \n",
      "C=7 P=3 I=2 S=8 F=9 U=4 N=5 T=1 R=0 E=6 \n",
      "C=7 P=5 I=2 S=8 F=9 U=4 N=3 T=1 R=0 E=6 \n",
      "C=2 P=5 I=7 S=8 F=9 U=4 N=3 T=1 R=0 E=6 \n",
      "C=4 P=6 I=5 S=8 F=9 U=2 N=3 T=1 R=0 E=7 \n",
      "C=5 P=6 I=4 S=8 F=9 U=2 N=3 T=1 R=0 E=7 \n",
      "C=6 P=5 I=3 S=8 F=9 U=2 N=4 T=1 R=0 E=7 \n",
      "C=6 P=5 I=3 S=4 F=9 U=2 N=8 T=1 R=0 E=7 \n",
      "C=6 P=4 I=3 S=8 F=9 U=2 N=5 T=1 R=0 E=7 \n",
      "C=5 P=6 I=4 S=3 F=9 U=2 N=8 T=1 R=0 E=7 \n",
      "C=4 P=6 I=5 S=3 F=9 U=2 N=8 T=1 R=0 E=7 \n",
      "C=4 P=3 I=5 S=6 F=9 U=2 N=8 T=1 R=0 E=7 \n",
      "C=4 P=3 I=5 S=8 F=9 U=2 N=6 T=1 R=0 E=7 \n",
      "C=5 P=3 I=4 S=8 F=9 U=2 N=6 T=1 R=0 E=7 \n",
      "C=5 P=3 I=4 S=6 F=9 U=2 N=8 T=1 R=0 E=7 \n",
      "C=3 P=5 I=6 S=4 F=9 U=2 N=8 T=1 R=0 E=7 \n",
      "C=3 P=5 I=6 S=8 F=9 U=2 N=4 T=1 R=0 E=7 \n",
      "C=3 P=8 I=6 S=5 F=9 U=2 N=4 T=1 R=0 E=7 \n",
      "C=3 P=8 I=6 S=4 F=9 U=2 N=5 T=1 R=0 E=7 \n",
      "C=4 P=8 I=5 S=3 F=9 U=2 N=6 T=1 R=0 E=7 \n",
      "C=5 P=8 I=4 S=3 F=9 U=2 N=6 T=1 R=0 E=7 \n",
      "C=6 P=8 I=3 S=4 F=9 U=2 N=5 T=1 R=0 E=7 \n",
      "C=6 P=8 I=3 S=5 F=9 U=2 N=4 T=1 R=0 E=7 \n",
      "C=5 P=8 I=4 S=6 F=9 U=2 N=3 T=1 R=0 E=7 \n",
      "C=4 P=8 I=5 S=6 F=9 U=2 N=3 T=1 R=0 E=7 \n",
      "C=3 P=7 I=6 S=2 F=9 U=8 N=5 T=1 R=0 E=4 \n",
      "C=3 P=5 I=6 S=2 F=9 U=8 N=7 T=1 R=0 E=4 \n",
      "C=3 P=7 I=6 S=5 F=9 U=8 N=2 T=1 R=0 E=4 \n",
      "C=3 P=5 I=6 S=7 F=9 U=8 N=2 T=1 R=0 E=4 \n",
      "C=2 P=5 I=7 S=6 F=9 U=8 N=3 T=1 R=0 E=4 \n",
      "C=2 P=6 I=7 S=5 F=9 U=8 N=3 T=1 R=0 E=4 \n",
      "C=2 P=6 I=7 S=3 F=9 U=8 N=5 T=1 R=0 E=4 \n",
      "C=2 P=5 I=7 S=3 F=9 U=8 N=6 T=1 R=0 E=4 \n",
      "C=2 P=8 I=7 S=3 F=9 U=4 N=5 T=1 R=0 E=6 \n",
      "C=2 P=5 I=7 S=3 F=9 U=4 N=8 T=1 R=0 E=6 \n",
      "C=2 P=8 I=7 S=3 F=9 U=6 N=4 T=1 R=0 E=5 \n",
      "C=2 P=4 I=7 S=3 F=9 U=6 N=8 T=1 R=0 E=5 \n",
      "C=2 P=4 I=7 S=8 F=9 U=6 N=3 T=1 R=0 E=5 \n",
      "C=2 P=8 I=7 S=4 F=9 U=6 N=3 T=1 R=0 E=5 \n",
      "C=2 P=8 I=7 S=5 F=9 U=4 N=3 T=1 R=0 E=6 \n",
      "C=7 P=6 I=2 S=5 F=9 U=8 N=3 T=1 R=0 E=4 \n",
      "C=7 P=5 I=2 S=6 F=9 U=8 N=3 T=1 R=0 E=4 \n",
      "C=6 P=5 I=3 S=7 F=9 U=8 N=2 T=1 R=0 E=4 \n",
      "C=6 P=7 I=3 S=5 F=9 U=8 N=2 T=1 R=0 E=4 \n",
      "C=6 P=7 I=3 S=2 F=9 U=8 N=5 T=1 R=0 E=4 \n",
      "C=6 P=5 I=3 S=2 F=9 U=8 N=7 T=1 R=0 E=4 \n"
     ]
    }
   ],
   "source": [
    "solver = cp_model.CpSolver()\n",
    "solution_printer = VarArraySolutionPrinter(letters)\n",
    "# Enumerate all solutions.\n",
    "solver.parameters.enumerate_all_solutions = True\n",
    "# Solve.\n",
    "status = solver.Solve(model, solution_printer)"
   ]
  },
  {
   "cell_type": "code",
   "execution_count": null,
   "id": "55ab6052",
   "metadata": {},
   "outputs": [],
   "source": []
  },
  {
   "cell_type": "code",
   "execution_count": 172,
   "id": "e722a15b",
   "metadata": {
    "ExecuteTime": {
     "end_time": "2022-09-08T07:51:17.627215Z",
     "start_time": "2022-09-08T07:51:17.185547Z"
    }
   },
   "outputs": [
    {
     "name": "stdout",
     "output_type": "stream",
     "text": [
      "Solution 0, time = 0.004020 s\n",
      "_ _ _ Q _ _ _ _ \n",
      "_ _ _ _ _ _ Q _ \n",
      "_ _ _ _ Q _ _ _ \n",
      "_ _ Q _ _ _ _ _ \n",
      "Q _ _ _ _ _ _ _ \n",
      "_ _ _ _ _ Q _ _ \n",
      "_ _ _ _ _ _ _ Q \n",
      "_ Q _ _ _ _ _ _ \n",
      "\n",
      "Solution 1, time = 0.007987 s\n",
      "_ _ _ _ _ _ _ Q \n",
      "_ Q _ _ _ _ _ _ \n",
      "_ _ _ _ Q _ _ _ \n",
      "_ _ Q _ _ _ _ _ \n",
      "Q _ _ _ _ _ _ _ \n",
      "_ _ _ _ _ _ Q _ \n",
      "_ _ _ Q _ _ _ _ \n",
      "_ _ _ _ _ Q _ _ \n",
      "\n",
      "Solution 2, time = 0.010986 s\n",
      "_ _ _ Q _ _ _ _ \n",
      "_ _ _ _ _ _ _ Q \n",
      "_ _ _ _ Q _ _ _ \n",
      "_ _ Q _ _ _ _ _ \n",
      "Q _ _ _ _ _ _ _ \n",
      "_ _ _ _ _ _ Q _ \n",
      "_ Q _ _ _ _ _ _ \n",
      "_ _ _ _ _ Q _ _ \n",
      "\n",
      "Solution 3, time = 0.017056 s\n",
      "_ _ _ _ _ _ Q _ \n",
      "_ Q _ _ _ _ _ _ \n",
      "_ _ _ _ _ Q _ _ \n",
      "_ _ Q _ _ _ _ _ \n",
      "Q _ _ _ _ _ _ _ \n",
      "_ _ _ Q _ _ _ _ \n",
      "_ _ _ _ _ _ _ Q \n",
      "_ _ _ _ Q _ _ _ \n",
      "\n",
      "Solution 4, time = 0.022266 s\n",
      "_ _ _ Q _ _ _ _ \n",
      "_ _ _ _ _ Q _ _ \n",
      "_ _ _ _ _ _ _ Q \n",
      "_ _ Q _ _ _ _ _ \n",
      "Q _ _ _ _ _ _ _ \n",
      "_ _ _ _ _ _ Q _ \n",
      "_ _ _ _ Q _ _ _ \n",
      "_ Q _ _ _ _ _ _ \n",
      "\n",
      "Solution 5, time = 0.024760 s\n",
      "Q _ _ _ _ _ _ _ \n",
      "_ _ _ _ _ Q _ _ \n",
      "_ _ _ _ _ _ _ Q \n",
      "_ _ Q _ _ _ _ _ \n",
      "_ _ _ _ _ _ Q _ \n",
      "_ _ _ Q _ _ _ _ \n",
      "_ Q _ _ _ _ _ _ \n",
      "_ _ _ _ Q _ _ _ \n",
      "\n",
      "Solution 6, time = 0.026312 s\n",
      "_ Q _ _ _ _ _ _ \n",
      "_ _ _ _ _ Q _ _ \n",
      "_ _ _ _ _ _ _ Q \n",
      "_ _ Q _ _ _ _ _ \n",
      "Q _ _ _ _ _ _ _ \n",
      "_ _ _ Q _ _ _ _ \n",
      "_ _ _ _ _ _ Q _ \n",
      "_ _ _ _ Q _ _ _ \n",
      "\n",
      "Solution 7, time = 0.029391 s\n",
      "_ _ Q _ _ _ _ _ \n",
      "_ _ _ _ _ Q _ _ \n",
      "_ _ _ _ _ _ _ Q \n",
      "Q _ _ _ _ _ _ _ \n",
      "_ _ _ Q _ _ _ _ \n",
      "_ _ _ _ _ _ Q _ \n",
      "_ _ _ _ Q _ _ _ \n",
      "_ Q _ _ _ _ _ _ \n",
      "\n",
      "Solution 8, time = 0.036223 s\n",
      "_ _ Q _ _ _ _ _ \n",
      "_ _ _ _ _ Q _ _ \n",
      "_ Q _ _ _ _ _ _ \n",
      "_ _ _ _ Q _ _ _ \n",
      "_ _ _ _ _ _ _ Q \n",
      "Q _ _ _ _ _ _ _ \n",
      "_ _ _ _ _ _ Q _ \n",
      "_ _ _ Q _ _ _ _ \n",
      "\n",
      "Solution 9, time = 0.042223 s\n",
      "_ _ Q _ _ _ _ _ \n",
      "_ _ _ _ _ Q _ _ \n",
      "_ _ _ Q _ _ _ _ \n",
      "Q _ _ _ _ _ _ _ \n",
      "_ _ _ _ _ _ _ Q \n",
      "_ _ _ _ Q _ _ _ \n",
      "_ _ _ _ _ _ Q _ \n",
      "_ Q _ _ _ _ _ _ \n",
      "\n",
      "Solution 10, time = 0.049845 s\n",
      "_ Q _ _ _ _ _ _ \n",
      "_ _ _ _ _ _ _ Q \n",
      "_ _ _ _ _ Q _ _ \n",
      "Q _ _ _ _ _ _ _ \n",
      "_ _ Q _ _ _ _ _ \n",
      "_ _ _ _ Q _ _ _ \n",
      "_ _ _ _ _ _ Q _ \n",
      "_ _ _ Q _ _ _ _ \n",
      "\n",
      "Solution 11, time = 0.050847 s\n",
      "_ _ _ _ _ Q _ _ \n",
      "_ _ _ Q _ _ _ _ \n",
      "Q _ _ _ _ _ _ _ \n",
      "_ _ _ _ Q _ _ _ \n",
      "_ _ _ _ _ _ _ Q \n",
      "_ Q _ _ _ _ _ _ \n",
      "_ _ _ _ _ _ Q _ \n",
      "_ _ Q _ _ _ _ _ \n",
      "\n",
      "Solution 12, time = 0.056862 s\n",
      "_ Q _ _ _ _ _ _ \n",
      "_ _ _ Q _ _ _ _ \n",
      "_ _ _ _ _ Q _ _ \n",
      "_ _ _ _ _ _ _ Q \n",
      "_ _ Q _ _ _ _ _ \n",
      "Q _ _ _ _ _ _ _ \n",
      "_ _ _ _ _ _ Q _ \n",
      "_ _ _ _ Q _ _ _ \n",
      "\n",
      "Solution 13, time = 0.062267 s\n",
      "_ _ _ _ _ Q _ _ \n",
      "_ _ Q _ _ _ _ _ \n",
      "Q _ _ _ _ _ _ _ \n",
      "_ _ _ _ _ _ _ Q \n",
      "_ _ _ Q _ _ _ _ \n",
      "_ Q _ _ _ _ _ _ \n",
      "_ _ _ _ _ _ Q _ \n",
      "_ _ _ _ Q _ _ _ \n",
      "\n",
      "Solution 14, time = 0.068265 s\n",
      "_ Q _ _ _ _ _ _ \n",
      "_ _ _ _ _ Q _ _ \n",
      "Q _ _ _ _ _ _ _ \n",
      "_ _ _ _ _ _ Q _ \n",
      "_ _ _ Q _ _ _ _ \n",
      "_ _ _ _ _ _ _ Q \n",
      "_ _ Q _ _ _ _ _ \n",
      "_ _ _ _ Q _ _ _ \n",
      "\n",
      "Solution 15, time = 0.074264 s\n",
      "_ _ _ Q _ _ _ _ \n",
      "_ _ _ _ _ Q _ _ \n",
      "Q _ _ _ _ _ _ _ \n",
      "_ _ _ _ Q _ _ _ \n",
      "_ Q _ _ _ _ _ _ \n",
      "_ _ _ _ _ _ _ Q \n",
      "_ _ Q _ _ _ _ _ \n",
      "_ _ _ _ _ _ Q _ \n",
      "\n",
      "Solution 16, time = 0.078250 s\n",
      "_ _ _ Q _ _ _ _ \n",
      "_ Q _ _ _ _ _ _ \n",
      "_ _ _ _ _ _ _ Q \n",
      "_ _ _ _ Q _ _ _ \n",
      "_ _ _ _ _ _ Q _ \n",
      "Q _ _ _ _ _ _ _ \n",
      "_ _ Q _ _ _ _ _ \n",
      "_ _ _ _ _ Q _ _ \n",
      "\n",
      "Solution 17, time = 0.082249 s\n",
      "_ _ Q _ _ _ _ _ \n",
      "Q _ _ _ _ _ _ _ \n",
      "_ _ _ _ _ _ Q _ \n",
      "_ _ _ _ Q _ _ _ \n",
      "_ _ _ _ _ _ _ Q \n",
      "_ Q _ _ _ _ _ _ \n",
      "_ _ _ Q _ _ _ _ \n",
      "_ _ _ _ _ Q _ _ \n",
      "\n",
      "Solution 18, time = 0.086249 s\n",
      "_ _ _ Q _ _ _ _ \n",
      "_ Q _ _ _ _ _ _ \n",
      "_ _ _ _ _ _ Q _ \n",
      "_ _ _ _ Q _ _ _ \n",
      "Q _ _ _ _ _ _ _ \n",
      "_ _ _ _ _ _ _ Q \n",
      "_ _ _ _ _ Q _ _ \n",
      "_ _ Q _ _ _ _ _ \n",
      "\n",
      "Solution 19, time = 0.089248 s\n",
      "_ Q _ _ _ _ _ _ \n",
      "_ _ _ _ Q _ _ _ \n",
      "_ _ _ _ _ _ Q _ \n",
      "_ _ _ Q _ _ _ _ \n",
      "Q _ _ _ _ _ _ _ \n",
      "_ _ _ _ _ _ _ Q \n",
      "_ _ _ _ _ Q _ _ \n",
      "_ _ Q _ _ _ _ _ \n",
      "\n",
      "Solution 20, time = 0.093251 s\n",
      "_ _ _ _ _ Q _ _ \n",
      "_ _ _ Q _ _ _ _ \n",
      "_ _ _ _ _ _ Q _ \n",
      "Q _ _ _ _ _ _ _ \n",
      "_ _ _ _ _ _ _ Q \n",
      "_ Q _ _ _ _ _ _ \n",
      "_ _ _ _ Q _ _ _ \n",
      "_ _ Q _ _ _ _ _ \n",
      "\n",
      "Solution 21, time = 0.097264 s\n",
      "_ _ _ _ _ Q _ _ \n",
      "_ _ _ Q _ _ _ _ \n",
      "_ _ _ _ _ _ Q _ \n",
      "Q _ _ _ _ _ _ _ \n",
      "_ _ Q _ _ _ _ _ \n",
      "_ _ _ _ Q _ _ _ \n",
      "_ Q _ _ _ _ _ _ \n",
      "_ _ _ _ _ _ _ Q \n",
      "\n",
      "Solution 22, time = 0.099265 s\n",
      "_ _ _ _ _ Q _ _ \n",
      "_ Q _ _ _ _ _ _ \n",
      "_ _ _ _ _ _ Q _ \n",
      "Q _ _ _ _ _ _ _ \n",
      "_ _ Q _ _ _ _ _ \n",
      "_ _ _ _ Q _ _ _ \n",
      "_ _ _ _ _ _ _ Q \n",
      "_ _ _ Q _ _ _ _ \n",
      "\n",
      "Solution 23, time = 0.100252 s\n",
      "_ _ Q _ _ _ _ _ \n",
      "_ _ _ _ Q _ _ _ \n",
      "_ _ _ _ _ _ Q _ \n",
      "Q _ _ _ _ _ _ _ \n",
      "_ _ _ Q _ _ _ _ \n",
      "_ Q _ _ _ _ _ _ \n",
      "_ _ _ _ _ _ _ Q \n",
      "_ _ _ _ _ Q _ _ \n",
      "\n",
      "Solution 24, time = 0.109082 s\n",
      "_ _ _ _ _ Q _ _ \n",
      "_ Q _ _ _ _ _ _ \n",
      "_ _ _ _ _ _ Q _ \n",
      "Q _ _ _ _ _ _ _ \n",
      "_ _ _ Q _ _ _ _ \n",
      "_ _ _ _ _ _ _ Q \n",
      "_ _ _ _ Q _ _ _ \n",
      "_ _ Q _ _ _ _ _ \n",
      "\n",
      "Solution 25, time = 0.111081 s\n",
      "_ _ _ _ _ Q _ _ \n",
      "_ _ Q _ _ _ _ _ \n",
      "_ _ _ _ _ _ Q _ \n",
      "_ _ _ Q _ _ _ _ \n",
      "Q _ _ _ _ _ _ _ \n",
      "_ _ _ _ _ _ _ Q \n",
      "_ Q _ _ _ _ _ _ \n",
      "_ _ _ _ Q _ _ _ \n",
      "\n",
      "Solution 26, time = 0.114084 s\n",
      "_ _ _ Q _ _ _ _ \n",
      "_ Q _ _ _ _ _ _ \n",
      "_ _ _ _ _ _ Q _ \n",
      "_ _ Q _ _ _ _ _ \n",
      "_ _ _ _ _ Q _ _ \n",
      "_ _ _ _ _ _ _ Q \n",
      "Q _ _ _ _ _ _ _ \n",
      "_ _ _ _ Q _ _ _ \n",
      "\n",
      "Solution 27, time = 0.122683 s\n",
      "_ _ _ Q _ _ _ _ \n",
      "_ Q _ _ _ _ _ _ \n",
      "_ _ _ _ _ _ Q _ \n",
      "_ _ Q _ _ _ _ _ \n",
      "_ _ _ _ _ Q _ _ \n",
      "_ _ _ _ _ _ _ Q \n",
      "_ _ _ _ Q _ _ _ \n",
      "Q _ _ _ _ _ _ _ \n",
      "\n",
      "Solution 28, time = 0.124879 s\n",
      "_ _ _ _ Q _ _ _ \n",
      "_ Q _ _ _ _ _ _ \n",
      "_ _ _ _ _ Q _ _ \n",
      "Q _ _ _ _ _ _ _ \n",
      "_ _ _ _ _ _ Q _ \n",
      "_ _ _ Q _ _ _ _ \n",
      "_ _ _ _ _ _ _ Q \n",
      "_ _ Q _ _ _ _ _ \n",
      "\n",
      "Solution 29, time = 0.127206 s\n",
      "_ _ _ Q _ _ _ _ \n",
      "_ _ _ _ _ _ _ Q \n",
      "Q _ _ _ _ _ _ _ \n",
      "_ _ _ _ Q _ _ _ \n",
      "_ _ _ _ _ _ Q _ \n",
      "_ Q _ _ _ _ _ _ \n",
      "_ _ _ _ _ Q _ _ \n",
      "_ _ Q _ _ _ _ _ \n",
      "\n",
      "Solution 30, time = 0.132894 s\n",
      "_ _ _ Q _ _ _ _ \n",
      "_ _ _ _ _ _ _ Q \n",
      "Q _ _ _ _ _ _ _ \n",
      "_ _ Q _ _ _ _ _ \n",
      "_ _ _ _ _ Q _ _ \n",
      "_ Q _ _ _ _ _ _ \n",
      "_ _ _ _ _ _ Q _ \n",
      "_ _ _ _ Q _ _ _ \n",
      "\n",
      "Solution 31, time = 0.144777 s\n",
      "_ _ _ _ _ _ Q _ \n",
      "_ _ _ _ Q _ _ _ \n",
      "_ _ Q _ _ _ _ _ \n",
      "Q _ _ _ _ _ _ _ \n",
      "_ _ _ _ _ Q _ _ \n",
      "_ _ _ _ _ _ _ Q \n",
      "_ Q _ _ _ _ _ _ \n",
      "_ _ _ Q _ _ _ _ \n",
      "\n",
      "Solution 32, time = 0.149432 s\n",
      "_ _ _ _ _ _ Q _ \n",
      "Q _ _ _ _ _ _ _ \n",
      "_ _ Q _ _ _ _ _ \n",
      "_ _ _ _ _ _ _ Q \n",
      "_ _ _ _ _ Q _ _ \n",
      "_ _ _ Q _ _ _ _ \n",
      "_ Q _ _ _ _ _ _ \n",
      "_ _ _ _ Q _ _ _ \n",
      "\n",
      "Solution 33, time = 0.151433 s\n",
      "_ _ Q _ _ _ _ _ \n",
      "_ _ _ _ _ _ _ Q \n",
      "_ _ _ Q _ _ _ _ \n",
      "_ _ _ _ _ _ Q _ \n",
      "Q _ _ _ _ _ _ _ \n",
      "_ _ _ _ _ Q _ _ \n",
      "_ Q _ _ _ _ _ _ \n",
      "_ _ _ _ Q _ _ _ \n",
      "\n",
      "Solution 34, time = 0.158715 s\n",
      "_ Q _ _ _ _ _ _ \n",
      "_ _ _ _ _ _ Q _ \n",
      "_ _ _ _ Q _ _ _ \n",
      "_ _ _ _ _ _ _ Q \n",
      "Q _ _ _ _ _ _ _ \n",
      "_ _ _ Q _ _ _ _ \n",
      "_ _ _ _ _ Q _ _ \n",
      "_ _ Q _ _ _ _ _ \n",
      "\n",
      "Solution 35, time = 0.160270 s\n",
      "_ _ _ _ _ Q _ _ \n",
      "_ _ Q _ _ _ _ _ \n",
      "_ _ _ _ Q _ _ _ \n",
      "_ _ _ _ _ _ Q _ \n",
      "Q _ _ _ _ _ _ _ \n",
      "_ _ _ Q _ _ _ _ \n",
      "_ Q _ _ _ _ _ _ \n",
      "_ _ _ _ _ _ _ Q \n",
      "\n",
      "Solution 36, time = 0.167286 s\n",
      "_ _ _ _ _ Q _ _ \n",
      "_ _ Q _ _ _ _ _ \n",
      "_ _ _ _ Q _ _ _ \n",
      "_ _ _ _ _ _ _ Q \n",
      "Q _ _ _ _ _ _ _ \n",
      "_ _ _ Q _ _ _ _ \n",
      "_ Q _ _ _ _ _ _ \n",
      "_ _ _ _ _ _ Q _ \n",
      "\n",
      "Solution 37, time = 0.173272 s\n",
      "_ _ _ Q _ _ _ _ \n",
      "Q _ _ _ _ _ _ _ \n",
      "_ _ _ _ Q _ _ _ \n",
      "_ _ _ _ _ _ _ Q \n",
      "_ _ _ _ _ Q _ _ \n",
      "_ _ Q _ _ _ _ _ \n",
      "_ _ _ _ _ _ Q _ \n",
      "_ Q _ _ _ _ _ _ \n",
      "\n",
      "Solution 38, time = 0.177272 s\n",
      "_ _ _ Q _ _ _ _ \n",
      "_ Q _ _ _ _ _ _ \n",
      "_ _ _ _ Q _ _ _ \n",
      "_ _ _ _ _ _ _ Q \n",
      "_ _ _ _ _ Q _ _ \n",
      "Q _ _ _ _ _ _ _ \n",
      "_ _ Q _ _ _ _ _ \n",
      "_ _ _ _ _ _ Q _ \n",
      "\n",
      "Solution 39, time = 0.179273 s\n",
      "_ _ _ Q _ _ _ _ \n",
      "_ _ _ _ _ _ Q _ \n",
      "_ _ _ _ Q _ _ _ \n",
      "_ Q _ _ _ _ _ _ \n",
      "_ _ _ _ _ Q _ _ \n",
      "Q _ _ _ _ _ _ _ \n",
      "_ _ Q _ _ _ _ _ \n",
      "_ _ _ _ _ _ _ Q \n",
      "\n",
      "Solution 40, time = 0.185271 s\n",
      "_ _ _ _ _ Q _ _ \n",
      "Q _ _ _ _ _ _ _ \n",
      "_ _ _ _ Q _ _ _ \n",
      "_ Q _ _ _ _ _ _ \n",
      "_ _ _ _ _ _ _ Q \n",
      "_ _ Q _ _ _ _ _ \n",
      "_ _ _ _ _ _ Q _ \n",
      "_ _ _ Q _ _ _ _ \n",
      "\n",
      "Solution 41, time = 0.186290 s\n",
      "_ _ _ _ Q _ _ _ \n",
      "_ _ _ _ _ _ Q _ \n",
      "Q _ _ _ _ _ _ _ \n",
      "_ _ Q _ _ _ _ _ \n",
      "_ _ _ _ _ _ _ Q \n",
      "_ _ _ _ _ Q _ _ \n",
      "_ _ _ Q _ _ _ _ \n",
      "_ Q _ _ _ _ _ _ \n",
      "\n",
      "Solution 42, time = 0.189272 s\n",
      "_ _ _ Q _ _ _ _ \n",
      "_ _ _ _ _ _ Q _ \n",
      "Q _ _ _ _ _ _ _ \n",
      "_ _ _ _ _ _ _ Q \n",
      "_ _ _ _ Q _ _ _ \n",
      "_ Q _ _ _ _ _ _ \n",
      "_ _ _ _ _ Q _ _ \n",
      "_ _ Q _ _ _ _ _ \n",
      "\n",
      "Solution 43, time = 0.193966 s\n",
      "_ _ Q _ _ _ _ _ \n",
      "_ _ _ _ _ _ Q _ \n",
      "_ Q _ _ _ _ _ _ \n",
      "_ _ _ _ _ _ _ Q \n",
      "_ _ _ _ Q _ _ _ \n",
      "Q _ _ _ _ _ _ _ \n",
      "_ _ _ Q _ _ _ _ \n",
      "_ _ _ _ _ Q _ _ \n",
      "\n",
      "Solution 44, time = 0.199967 s\n",
      "_ _ _ _ Q _ _ _ \n",
      "_ _ _ _ _ _ Q _ \n",
      "_ Q _ _ _ _ _ _ \n",
      "_ _ _ Q _ _ _ _ \n",
      "_ _ _ _ _ _ _ Q \n",
      "Q _ _ _ _ _ _ _ \n",
      "_ _ Q _ _ _ _ _ \n",
      "_ _ _ _ _ Q _ _ \n",
      "\n",
      "Solution 45, time = 0.206638 s\n",
      "_ _ Q _ _ _ _ _ \n",
      "_ _ _ _ Q _ _ _ \n",
      "_ Q _ _ _ _ _ _ \n",
      "_ _ _ _ _ _ _ Q \n",
      "Q _ _ _ _ _ _ _ \n",
      "_ _ _ _ _ _ Q _ \n",
      "_ _ _ Q _ _ _ _ \n",
      "_ _ _ _ _ Q _ _ \n",
      "\n",
      "Solution 46, time = 0.213024 s\n",
      "_ _ _ _ _ Q _ _ \n",
      "_ _ _ Q _ _ _ _ \n",
      "_ Q _ _ _ _ _ _ \n",
      "_ _ _ _ _ _ _ Q \n",
      "_ _ _ _ Q _ _ _ \n",
      "_ _ _ _ _ _ Q _ \n",
      "Q _ _ _ _ _ _ _ \n",
      "_ _ Q _ _ _ _ _ \n",
      "\n",
      "Solution 47, time = 0.222377 s\n",
      "_ _ _ _ Q _ _ _ \n",
      "_ _ _ _ _ _ _ Q \n",
      "_ _ _ Q _ _ _ _ \n",
      "Q _ _ _ _ _ _ _ \n",
      "_ _ Q _ _ _ _ _ \n",
      "_ _ _ _ _ Q _ _ \n",
      "_ Q _ _ _ _ _ _ \n",
      "_ _ _ _ _ _ Q _ \n",
      "\n",
      "Solution 48, time = 0.224598 s\n",
      "_ _ _ _ Q _ _ _ \n",
      "_ _ _ _ _ _ Q _ \n",
      "_ _ _ Q _ _ _ _ \n",
      "Q _ _ _ _ _ _ _ \n",
      "_ _ Q _ _ _ _ _ \n",
      "_ _ _ _ _ _ _ Q \n",
      "_ _ _ _ _ Q _ _ \n",
      "_ Q _ _ _ _ _ _ \n",
      "\n",
      "Solution 49, time = 0.231599 s\n",
      "_ _ _ _ Q _ _ _ \n",
      "_ Q _ _ _ _ _ _ \n",
      "_ _ _ Q _ _ _ _ \n",
      "_ _ _ _ _ _ Q _ \n",
      "_ _ Q _ _ _ _ _ \n",
      "_ _ _ _ _ _ _ Q \n",
      "_ _ _ _ _ Q _ _ \n",
      "Q _ _ _ _ _ _ _ \n",
      "\n",
      "Solution 50, time = 0.235260 s\n",
      "_ _ _ _ Q _ _ _ \n",
      "_ _ _ _ _ _ _ Q \n",
      "_ _ _ Q _ _ _ _ \n",
      "Q _ _ _ _ _ _ _ \n",
      "_ _ _ _ _ _ Q _ \n",
      "_ Q _ _ _ _ _ _ \n",
      "_ _ _ _ _ Q _ _ \n",
      "_ _ Q _ _ _ _ _ \n",
      "\n",
      "Solution 51, time = 0.236259 s\n",
      "Q _ _ _ _ _ _ _ \n",
      "_ _ _ _ _ _ Q _ \n",
      "_ _ _ Q _ _ _ _ \n",
      "_ _ _ _ _ Q _ _ \n",
      "_ _ _ _ _ _ _ Q \n",
      "_ Q _ _ _ _ _ _ \n",
      "_ _ _ _ Q _ _ _ \n",
      "_ _ Q _ _ _ _ _ \n",
      "\n",
      "Solution 52, time = 0.238261 s\n",
      "_ _ _ _ Q _ _ _ \n",
      "Q _ _ _ _ _ _ _ \n",
      "_ _ _ Q _ _ _ _ \n",
      "_ _ _ _ _ Q _ _ \n",
      "_ _ _ _ _ _ _ Q \n",
      "_ Q _ _ _ _ _ _ \n",
      "_ _ _ _ _ _ Q _ \n",
      "_ _ Q _ _ _ _ _ \n",
      "\n",
      "Solution 53, time = 0.247393 s\n",
      "_ _ _ _ Q _ _ _ \n",
      "_ Q _ _ _ _ _ _ \n",
      "_ _ _ Q _ _ _ _ \n",
      "_ _ _ _ _ Q _ _ \n",
      "_ _ _ _ _ _ _ Q \n",
      "_ _ Q _ _ _ _ _ \n",
      "Q _ _ _ _ _ _ _ \n",
      "_ _ _ _ _ _ Q _ \n",
      "\n",
      "Solution 54, time = 0.251763 s\n",
      "_ _ _ _ _ Q _ _ \n",
      "_ _ Q _ _ _ _ _ \n",
      "Q _ _ _ _ _ _ _ \n",
      "_ _ _ _ _ _ Q _ \n",
      "_ _ _ _ Q _ _ _ \n",
      "_ _ _ _ _ _ _ Q \n",
      "_ Q _ _ _ _ _ _ \n",
      "_ _ _ Q _ _ _ _ \n",
      "\n",
      "Solution 55, time = 0.256763 s\n",
      "_ _ Q _ _ _ _ _ \n",
      "_ _ _ _ _ Q _ _ \n",
      "_ Q _ _ _ _ _ _ \n",
      "_ _ _ _ _ _ Q _ \n",
      "_ _ _ _ Q _ _ _ \n",
      "Q _ _ _ _ _ _ _ \n",
      "_ _ _ _ _ _ _ Q \n",
      "_ _ _ Q _ _ _ _ \n",
      "\n",
      "Solution 56, time = 0.260763 s\n",
      "_ _ Q _ _ _ _ _ \n",
      "_ _ _ _ _ Q _ _ \n",
      "_ Q _ _ _ _ _ _ \n",
      "_ _ _ _ _ _ Q _ \n",
      "Q _ _ _ _ _ _ _ \n",
      "_ _ _ Q _ _ _ _ \n",
      "_ _ _ _ _ _ _ Q \n",
      "_ _ _ _ Q _ _ _ \n",
      "\n",
      "Solution 57, time = 0.263763 s\n",
      "_ _ _ _ Q _ _ _ \n",
      "_ _ Q _ _ _ _ _ \n",
      "Q _ _ _ _ _ _ _ \n",
      "_ _ _ _ _ _ Q _ \n",
      "_ Q _ _ _ _ _ _ \n",
      "_ _ _ _ _ _ _ Q \n",
      "_ _ _ _ _ Q _ _ \n",
      "_ _ _ Q _ _ _ _ \n",
      "\n",
      "Solution 58, time = 0.269763 s\n",
      "Q _ _ _ _ _ _ _ \n",
      "_ _ _ _ _ _ Q _ \n",
      "_ _ _ _ Q _ _ _ \n",
      "_ _ _ _ _ _ _ Q \n",
      "_ Q _ _ _ _ _ _ \n",
      "_ _ _ Q _ _ _ _ \n",
      "_ _ _ _ _ Q _ _ \n",
      "_ _ Q _ _ _ _ _ \n",
      "\n",
      "Solution 59, time = 0.274764 s\n",
      "_ _ Q _ _ _ _ _ \n",
      "_ _ _ _ _ _ Q _ \n",
      "_ Q _ _ _ _ _ _ \n",
      "_ _ _ _ _ _ _ Q \n",
      "_ _ _ _ _ Q _ _ \n",
      "_ _ _ Q _ _ _ _ \n",
      "Q _ _ _ _ _ _ _ \n",
      "_ _ _ _ Q _ _ _ \n",
      "\n",
      "Solution 60, time = 0.279763 s\n",
      "_ _ _ _ Q _ _ _ \n",
      "_ _ _ _ _ _ Q _ \n",
      "_ Q _ _ _ _ _ _ \n",
      "_ _ _ _ _ Q _ _ \n",
      "_ _ Q _ _ _ _ _ \n",
      "Q _ _ _ _ _ _ _ \n",
      "_ _ _ _ _ _ _ Q \n",
      "_ _ _ Q _ _ _ _ \n",
      "\n",
      "Solution 61, time = 0.282765 s\n",
      "Q _ _ _ _ _ _ _ \n",
      "_ _ _ _ Q _ _ _ \n",
      "_ _ _ _ _ _ _ Q \n",
      "_ _ _ _ _ Q _ _ \n",
      "_ _ Q _ _ _ _ _ \n",
      "_ _ _ _ _ _ Q _ \n",
      "_ Q _ _ _ _ _ _ \n",
      "_ _ _ Q _ _ _ _ \n",
      "\n",
      "Solution 62, time = 0.289765 s\n",
      "_ _ _ _ Q _ _ _ \n",
      "Q _ _ _ _ _ _ _ \n",
      "_ _ _ _ _ _ _ Q \n",
      "_ _ _ _ _ Q _ _ \n",
      "_ _ Q _ _ _ _ _ \n",
      "_ _ _ _ _ _ Q _ \n",
      "_ Q _ _ _ _ _ _ \n",
      "_ _ _ Q _ _ _ _ \n",
      "\n",
      "Solution 63, time = 0.290763 s\n",
      "_ _ _ _ Q _ _ _ \n",
      "_ _ _ _ _ _ Q _ \n",
      "_ Q _ _ _ _ _ _ \n",
      "_ _ _ _ _ Q _ _ \n",
      "_ _ Q _ _ _ _ _ \n",
      "Q _ _ _ _ _ _ _ \n",
      "_ _ _ Q _ _ _ _ \n",
      "_ _ _ _ _ _ _ Q \n",
      "\n",
      "Solution 64, time = 0.301993 s\n",
      "_ _ _ _ Q _ _ _ \n",
      "_ _ _ _ _ _ Q _ \n",
      "Q _ _ _ _ _ _ _ \n",
      "_ _ _ Q _ _ _ _ \n",
      "_ Q _ _ _ _ _ _ \n",
      "_ _ _ _ _ _ _ Q \n",
      "_ _ _ _ _ Q _ _ \n",
      "_ _ Q _ _ _ _ _ \n",
      "\n",
      "Solution 65, time = 0.303992 s\n",
      "_ _ _ Q _ _ _ _ \n",
      "Q _ _ _ _ _ _ _ \n",
      "_ _ _ _ Q _ _ _ \n",
      "_ _ _ _ _ _ _ Q \n",
      "_ Q _ _ _ _ _ _ \n",
      "_ _ _ _ _ _ Q _ \n",
      "_ _ Q _ _ _ _ _ \n",
      "_ _ _ _ _ Q _ _ \n",
      "\n",
      "Solution 66, time = 0.309991 s\n",
      "_ _ _ _ _ _ Q _ \n",
      "_ _ _ Q _ _ _ _ \n",
      "_ Q _ _ _ _ _ _ \n",
      "_ _ _ _ Q _ _ _ \n",
      "_ _ _ _ _ _ _ Q \n",
      "Q _ _ _ _ _ _ _ \n",
      "_ _ Q _ _ _ _ _ \n",
      "_ _ _ _ _ Q _ _ \n",
      "\n",
      "Solution 67, time = 0.312256 s\n",
      "_ _ _ _ _ _ Q _ \n",
      "_ _ _ Q _ _ _ _ \n",
      "_ Q _ _ _ _ _ _ \n",
      "_ _ _ _ _ _ _ Q \n",
      "_ _ _ _ _ Q _ _ \n",
      "Q _ _ _ _ _ _ _ \n",
      "_ _ Q _ _ _ _ _ \n",
      "_ _ _ _ Q _ _ _ \n",
      "\n",
      "Solution 68, time = 0.318403 s\n",
      "_ _ Q _ _ _ _ _ \n",
      "_ _ _ _ Q _ _ _ \n",
      "_ Q _ _ _ _ _ _ \n",
      "_ _ _ _ _ _ _ Q \n",
      "_ _ _ _ _ Q _ _ \n",
      "_ _ _ Q _ _ _ _ \n",
      "_ _ _ _ _ _ Q _ \n",
      "Q _ _ _ _ _ _ _ \n",
      "\n",
      "Solution 69, time = 0.323403 s\n",
      "_ _ _ _ _ Q _ _ \n",
      "_ _ _ _ _ _ _ Q \n",
      "_ Q _ _ _ _ _ _ \n",
      "_ _ _ Q _ _ _ _ \n",
      "Q _ _ _ _ _ _ _ \n",
      "_ _ _ _ _ _ Q _ \n",
      "_ _ _ _ Q _ _ _ \n",
      "_ _ Q _ _ _ _ _ \n",
      "\n",
      "Solution 70, time = 0.328022 s\n",
      "_ _ Q _ _ _ _ _ \n",
      "_ _ _ _ Q _ _ _ \n",
      "_ _ _ _ _ _ _ Q \n",
      "_ _ _ Q _ _ _ _ \n",
      "Q _ _ _ _ _ _ _ \n",
      "_ _ _ _ _ _ Q _ \n",
      "_ Q _ _ _ _ _ _ \n",
      "_ _ _ _ _ Q _ _ \n",
      "\n",
      "Solution 71, time = 0.333026 s\n",
      "_ _ _ _ Q _ _ _ \n",
      "_ _ Q _ _ _ _ _ \n",
      "_ _ _ _ _ _ _ Q \n",
      "_ _ _ Q _ _ _ _ \n",
      "_ _ _ _ _ _ Q _ \n",
      "Q _ _ _ _ _ _ _ \n",
      "_ _ _ _ _ Q _ _ \n",
      "_ Q _ _ _ _ _ _ \n",
      "\n",
      "Solution 72, time = 0.336027 s\n",
      "_ _ _ _ Q _ _ _ \n",
      "_ Q _ _ _ _ _ _ \n",
      "_ _ _ _ _ _ _ Q \n",
      "Q _ _ _ _ _ _ _ \n",
      "_ _ _ Q _ _ _ _ \n",
      "_ _ _ _ _ _ Q _ \n",
      "_ _ Q _ _ _ _ _ \n",
      "_ _ _ _ _ Q _ _ \n",
      "\n",
      "Solution 73, time = 0.341337 s\n",
      "_ _ _ Q _ _ _ _ \n",
      "_ Q _ _ _ _ _ _ \n",
      "_ _ _ _ _ _ _ Q \n",
      "_ _ _ _ _ Q _ _ \n",
      "Q _ _ _ _ _ _ _ \n",
      "_ _ Q _ _ _ _ _ \n",
      "_ _ _ _ Q _ _ _ \n",
      "_ _ _ _ _ _ Q _ \n",
      "\n",
      "Solution 74, time = 0.346938 s\n",
      "_ _ Q _ _ _ _ _ \n",
      "_ _ _ _ _ Q _ _ \n",
      "_ _ _ _ _ _ _ Q \n",
      "Q _ _ _ _ _ _ _ \n",
      "_ _ _ _ Q _ _ _ \n",
      "_ _ _ _ _ _ Q _ \n",
      "_ Q _ _ _ _ _ _ \n",
      "_ _ _ Q _ _ _ _ \n",
      "\n",
      "Solution 75, time = 0.350937 s\n",
      "_ _ _ _ Q _ _ _ \n",
      "Q _ _ _ _ _ _ _ \n",
      "_ _ _ _ _ _ _ Q \n",
      "_ _ _ Q _ _ _ _ \n",
      "_ Q _ _ _ _ _ _ \n",
      "_ _ _ _ _ _ Q _ \n",
      "_ _ Q _ _ _ _ _ \n",
      "_ _ _ _ _ Q _ _ \n",
      "\n",
      "Solution 76, time = 0.354938 s\n",
      "_ _ _ Q _ _ _ _ \n",
      "_ _ _ _ _ Q _ _ \n",
      "_ _ _ _ _ _ _ Q \n",
      "_ Q _ _ _ _ _ _ \n",
      "_ _ _ _ _ _ Q _ \n",
      "Q _ _ _ _ _ _ _ \n",
      "_ _ Q _ _ _ _ _ \n",
      "_ _ _ _ Q _ _ _ \n",
      "\n",
      "Solution 77, time = 0.358939 s\n",
      "_ _ Q _ _ _ _ _ \n",
      "_ _ _ _ _ Q _ _ \n",
      "_ _ _ _ _ _ _ Q \n",
      "_ Q _ _ _ _ _ _ \n",
      "_ _ _ Q _ _ _ _ \n",
      "Q _ _ _ _ _ _ _ \n",
      "_ _ _ _ _ _ Q _ \n",
      "_ _ _ _ Q _ _ _ \n",
      "\n",
      "Solution 78, time = 0.363937 s\n",
      "_ _ _ _ _ Q _ _ \n",
      "_ _ Q _ _ _ _ _ \n",
      "_ _ _ _ _ _ Q _ \n",
      "_ Q _ _ _ _ _ _ \n",
      "_ _ _ Q _ _ _ _ \n",
      "_ _ _ _ _ _ _ Q \n",
      "Q _ _ _ _ _ _ _ \n",
      "_ _ _ _ Q _ _ _ \n",
      "\n",
      "Solution 79, time = 0.367938 s\n",
      "_ _ _ _ Q _ _ _ \n",
      "_ _ Q _ _ _ _ _ \n",
      "Q _ _ _ _ _ _ _ \n",
      "_ _ _ _ _ Q _ _ \n",
      "_ _ _ _ _ _ _ Q \n",
      "_ Q _ _ _ _ _ _ \n",
      "_ _ _ Q _ _ _ _ \n",
      "_ _ _ _ _ _ Q _ \n",
      "\n",
      "Solution 80, time = 0.371980 s\n",
      "_ _ _ _ _ _ _ Q \n",
      "_ _ _ Q _ _ _ _ \n",
      "Q _ _ _ _ _ _ _ \n"
     ]
    },
    {
     "name": "stdout",
     "output_type": "stream",
     "text": [
      "_ _ Q _ _ _ _ _ \n",
      "_ _ _ _ _ Q _ _ \n",
      "_ Q _ _ _ _ _ _ \n",
      "_ _ _ _ _ _ Q _ \n",
      "_ _ _ _ Q _ _ _ \n",
      "\n",
      "Solution 81, time = 0.375299 s\n",
      "_ _ _ _ _ Q _ _ \n",
      "_ _ Q _ _ _ _ _ \n",
      "Q _ _ _ _ _ _ _ \n",
      "_ _ _ _ _ _ _ Q \n",
      "_ _ _ _ Q _ _ _ \n",
      "_ Q _ _ _ _ _ _ \n",
      "_ _ _ Q _ _ _ _ \n",
      "_ _ _ _ _ _ Q _ \n",
      "\n",
      "Solution 82, time = 0.376301 s\n",
      "_ _ _ _ _ _ Q _ \n",
      "_ _ Q _ _ _ _ _ \n",
      "Q _ _ _ _ _ _ _ \n",
      "_ _ _ _ _ Q _ _ \n",
      "_ _ _ _ _ _ _ Q \n",
      "_ _ _ _ Q _ _ _ \n",
      "_ Q _ _ _ _ _ _ \n",
      "_ _ _ Q _ _ _ _ \n",
      "\n",
      "Solution 83, time = 0.385299 s\n",
      "_ _ _ _ _ _ Q _ \n",
      "_ Q _ _ _ _ _ _ \n",
      "_ _ _ Q _ _ _ _ \n",
      "Q _ _ _ _ _ _ _ \n",
      "_ _ _ _ _ _ _ Q \n",
      "_ _ _ _ Q _ _ _ \n",
      "_ _ Q _ _ _ _ _ \n",
      "_ _ _ _ _ Q _ _ \n",
      "\n",
      "Solution 84, time = 0.386299 s\n",
      "_ _ _ _ _ _ _ Q \n",
      "_ Q _ _ _ _ _ _ \n",
      "_ _ _ Q _ _ _ _ \n",
      "Q _ _ _ _ _ _ _ \n",
      "_ _ _ _ _ _ Q _ \n",
      "_ _ _ _ Q _ _ _ \n",
      "_ _ Q _ _ _ _ _ \n",
      "_ _ _ _ _ Q _ _ \n",
      "\n",
      "Solution 85, time = 0.393393 s\n",
      "_ Q _ _ _ _ _ _ \n",
      "_ _ _ _ _ _ Q _ \n",
      "_ _ Q _ _ _ _ _ \n",
      "_ _ _ _ _ Q _ _ \n",
      "_ _ _ _ _ _ _ Q \n",
      "_ _ _ _ Q _ _ _ \n",
      "Q _ _ _ _ _ _ _ \n",
      "_ _ _ Q _ _ _ _ \n",
      "\n",
      "Solution 86, time = 0.396392 s\n",
      "_ _ _ Q _ _ _ _ \n",
      "_ _ _ _ _ _ Q _ \n",
      "_ _ Q _ _ _ _ _ \n",
      "_ _ _ _ _ _ _ Q \n",
      "_ Q _ _ _ _ _ _ \n",
      "_ _ _ _ Q _ _ _ \n",
      "Q _ _ _ _ _ _ _ \n",
      "_ _ _ _ _ Q _ _ \n",
      "\n",
      "Solution 87, time = 0.400392 s\n",
      "_ _ _ _ _ _ _ Q \n",
      "_ _ Q _ _ _ _ _ \n",
      "Q _ _ _ _ _ _ _ \n",
      "_ _ _ _ _ Q _ _ \n",
      "_ Q _ _ _ _ _ _ \n",
      "_ _ _ _ Q _ _ _ \n",
      "_ _ _ _ _ _ Q _ \n",
      "_ _ _ Q _ _ _ _ \n",
      "\n",
      "Solution 88, time = 0.404498 s\n",
      "_ _ Q _ _ _ _ _ \n",
      "_ _ _ _ _ Q _ _ \n",
      "_ _ _ Q _ _ _ _ \n",
      "_ Q _ _ _ _ _ _ \n",
      "_ _ _ _ _ _ _ Q \n",
      "_ _ _ _ Q _ _ _ \n",
      "_ _ _ _ _ _ Q _ \n",
      "Q _ _ _ _ _ _ _ \n",
      "\n",
      "Solution 89, time = 0.416496 s\n",
      "_ _ _ _ _ _ Q _ \n",
      "_ _ Q _ _ _ _ _ \n",
      "_ _ _ _ _ _ _ Q \n",
      "_ Q _ _ _ _ _ _ \n",
      "_ _ _ _ Q _ _ _ \n",
      "Q _ _ _ _ _ _ _ \n",
      "_ _ _ _ _ Q _ _ \n",
      "_ _ _ Q _ _ _ _ \n",
      "\n",
      "Solution 90, time = 0.420497 s\n",
      "_ _ _ _ _ Q _ _ \n",
      "_ _ Q _ _ _ _ _ \n",
      "_ _ _ _ _ _ Q _ \n",
      "_ Q _ _ _ _ _ _ \n",
      "_ _ _ _ _ _ _ Q \n",
      "_ _ _ _ Q _ _ _ \n",
      "Q _ _ _ _ _ _ _ \n",
      "_ _ _ Q _ _ _ _ \n",
      "\n",
      "Solution 91, time = 0.427495 s\n",
      "_ Q _ _ _ _ _ _ \n",
      "_ _ _ _ Q _ _ _ \n",
      "_ _ _ _ _ _ Q _ \n",
      "Q _ _ _ _ _ _ _ \n",
      "_ _ Q _ _ _ _ _ \n",
      "_ _ _ _ _ _ _ Q \n",
      "_ _ _ _ _ Q _ _ \n",
      "_ _ _ Q _ _ _ _ \n",
      "\n",
      "\n",
      "Statistics\n",
      "  conflicts      : 562\n",
      "  branches       : 2118\n",
      "  wall time      : 0.43130510000000005 s\n",
      "  solutions found: 92\n"
     ]
    }
   ],
   "source": [
    "\"\"\"OR-Tools solution to the N-queens problem.\"\"\"\n",
    "import sys\n",
    "import time\n",
    "from ortools.sat.python import cp_model\n",
    "\n",
    "\n",
    "class NQueenSolutionPrinter(cp_model.CpSolverSolutionCallback):\n",
    "    \"\"\"Print intermediate solutions.\"\"\"\n",
    "\n",
    "    def __init__(self, queens):\n",
    "        cp_model.CpSolverSolutionCallback.__init__(self)\n",
    "        self.__queens = queens\n",
    "        self.__solution_count = 0\n",
    "        self.__start_time = time.time()\n",
    "\n",
    "    def solution_count(self):\n",
    "        return self.__solution_count\n",
    "\n",
    "    def on_solution_callback(self):\n",
    "        current_time = time.time()\n",
    "        print('Solution %i, time = %f s' %\n",
    "              (self.__solution_count, current_time - self.__start_time))\n",
    "        self.__solution_count += 1\n",
    "\n",
    "        all_queens = range(len(self.__queens))\n",
    "        for i in all_queens:\n",
    "            for j in all_queens:\n",
    "                if self.Value(self.__queens[j]) == i:\n",
    "                    # There is a queen in column j, row i.\n",
    "                    print('Q', end=' ')\n",
    "                else:\n",
    "                    print('_', end=' ')\n",
    "            print()\n",
    "        print()\n",
    "\n",
    "\n",
    "\n",
    "def main(board_size):\n",
    "    # Creates the solver.\n",
    "    model = cp_model.CpModel()\n",
    "\n",
    "    # Creates the variables.\n",
    "    # The array index is the column, and the value is the row.\n",
    "    queens = [\n",
    "        model.NewIntVar(0, board_size - 1, 'x%i' % i) for i in range(board_size)\n",
    "    ]\n",
    "\n",
    "    # Creates the constraints.\n",
    "    # All rows must be different.\n",
    "    model.AddAllDifferent(queens)\n",
    "\n",
    "    # All columns must be different because the indices of queens are all\n",
    "    # different.\n",
    "\n",
    "    # No two queens can be on the same diagonal.\n",
    "    model.AddAllDifferent(queens[i] + i for i in range(board_size))\n",
    "    model.AddAllDifferent(queens[i] - i for i in range(board_size))\n",
    "\n",
    "    # Solve the model.\n",
    "    solver = cp_model.CpSolver()\n",
    "    solution_printer = NQueenSolutionPrinter(queens)\n",
    "    solver.parameters.enumerate_all_solutions = True\n",
    "    solver.Solve(model, solution_printer)\n",
    "\n",
    "    # Statistics.\n",
    "    print('\\nStatistics')\n",
    "    print(f'  conflicts      : {solver.NumConflicts()}')\n",
    "    print(f'  branches       : {solver.NumBranches()}')\n",
    "    print(f'  wall time      : {solver.WallTime()} s')\n",
    "    print(f'  solutions found: {solution_printer.solution_count()}')\n",
    "\n",
    "\n",
    "if __name__ == '__main__':\n",
    "    # By default, solve the 8x8 problem.\n",
    "    size = 8\n",
    "#     if len(sys.argv) > 1:\n",
    "#         size = int(sys.argv[1])\n",
    "    main(size)"
   ]
  },
  {
   "cell_type": "code",
   "execution_count": null,
   "id": "bf48f56d",
   "metadata": {},
   "outputs": [],
   "source": []
  },
  {
   "cell_type": "code",
   "execution_count": 173,
   "id": "ce9a0020",
   "metadata": {
    "ExecuteTime": {
     "end_time": "2022-09-08T07:59:43.619695Z",
     "start_time": "2022-09-08T07:59:43.591820Z"
    }
   },
   "outputs": [
    {
     "name": "stdout",
     "output_type": "stream",
     "text": [
      "x = 1\n",
      "y = 0\n",
      "z = 0\n"
     ]
    }
   ],
   "source": [
    "\"\"\"Solves a problem with a time limit.\"\"\"\n",
    "\n",
    "from ortools.sat.python import cp_model\n",
    "\n",
    "\n",
    "def SolveWithTimeLimitSampleSat():\n",
    "    \"\"\"Minimal CP-SAT example to showcase calling the solver.\"\"\"\n",
    "    # Creates the model.\n",
    "    model = cp_model.CpModel()\n",
    "    # Creates the variables.\n",
    "    num_vals = 3\n",
    "    x = model.NewIntVar(0, num_vals - 1, 'x')\n",
    "    y = model.NewIntVar(0, num_vals - 1, 'y')\n",
    "    z = model.NewIntVar(0, num_vals - 1, 'z')\n",
    "    # Adds an all-different constraint.\n",
    "    model.Add(x != y)\n",
    "\n",
    "    # Creates a solver and solves the model.\n",
    "    solver = cp_model.CpSolver()\n",
    "\n",
    "    # Sets a time limit of 10 seconds.\n",
    "    solver.parameters.max_time_in_seconds = 10.0\n",
    "\n",
    "    status = solver.Solve(model)\n",
    "\n",
    "    if status == cp_model.OPTIMAL:\n",
    "        print('x = %i' % solver.Value(x))\n",
    "        print('y = %i' % solver.Value(y))\n",
    "        print('z = %i' % solver.Value(z))\n",
    "\n",
    "\n",
    "SolveWithTimeLimitSampleSat()"
   ]
  },
  {
   "cell_type": "code",
   "execution_count": 174,
   "id": "4dd2512e",
   "metadata": {
    "ExecuteTime": {
     "end_time": "2022-09-08T08:00:13.755377Z",
     "start_time": "2022-09-08T08:00:13.738681Z"
    }
   },
   "outputs": [
    {
     "name": "stdout",
     "output_type": "stream",
     "text": [
      "x=0 y=0 z=0 \n",
      "x=0 y=1 z=0 \n",
      "x=0 y=1 z=1 \n",
      "x=0 y=0 z=1 \n",
      "x=0 y=2 z=1 \n",
      "Stop search after 5 solutions\n",
      "Status = FEASIBLE\n",
      "Number of solutions found: 5\n"
     ]
    }
   ],
   "source": [
    "\"\"\"Code sample that solves a model and displays a small number of solutions.\"\"\"\n",
    "\n",
    "from ortools.sat.python import cp_model\n",
    "\n",
    "\n",
    "class VarArraySolutionPrinterWithLimit(cp_model.CpSolverSolutionCallback):\n",
    "    \"\"\"Print intermediate solutions.\"\"\"\n",
    "\n",
    "    def __init__(self, variables, limit):\n",
    "        cp_model.CpSolverSolutionCallback.__init__(self)\n",
    "        self.__variables = variables\n",
    "        self.__solution_count = 0\n",
    "        self.__solution_limit = limit\n",
    "\n",
    "    def on_solution_callback(self):\n",
    "        self.__solution_count += 1\n",
    "        for v in self.__variables:\n",
    "            print('%s=%i' % (v, self.Value(v)), end=' ')\n",
    "        print()\n",
    "        if self.__solution_count >= self.__solution_limit:\n",
    "            print('Stop search after %i solutions' % self.__solution_limit)\n",
    "            self.StopSearch()\n",
    "\n",
    "    def solution_count(self):\n",
    "        return self.__solution_count\n",
    "\n",
    "\n",
    "def StopAfterNSolutionsSampleSat():\n",
    "    \"\"\"Showcases calling the solver to search for small number of solutions.\"\"\"\n",
    "    # Creates the model.\n",
    "    model = cp_model.CpModel()\n",
    "    # Creates the variables.\n",
    "    num_vals = 3\n",
    "    x = model.NewIntVar(0, num_vals - 1, 'x')\n",
    "    y = model.NewIntVar(0, num_vals - 1, 'y')\n",
    "    z = model.NewIntVar(0, num_vals - 1, 'z')\n",
    "\n",
    "    # Create a solver and solve.\n",
    "    solver = cp_model.CpSolver()\n",
    "    solution_printer = VarArraySolutionPrinterWithLimit([x, y, z], 5)\n",
    "    # Enumerate all solutions.\n",
    "    solver.parameters.enumerate_all_solutions = True\n",
    "    # Solve.\n",
    "    status = solver.Solve(model, solution_printer)\n",
    "    print('Status = %s' % solver.StatusName(status))\n",
    "    print('Number of solutions found: %i' % solution_printer.solution_count())\n",
    "    assert solution_printer.solution_count() == 5\n",
    "\n",
    "\n",
    "StopAfterNSolutionsSampleSat()"
   ]
  },
  {
   "cell_type": "code",
   "execution_count": null,
   "id": "e6a476b7",
   "metadata": {},
   "outputs": [],
   "source": []
  },
  {
   "cell_type": "code",
   "execution_count": 175,
   "id": "a40196fc",
   "metadata": {
    "ExecuteTime": {
     "end_time": "2022-09-13T03:18:24.387774Z",
     "start_time": "2022-09-13T03:18:24.380743Z"
    }
   },
   "outputs": [],
   "source": [
    "from ortools.sat.python import cp_model"
   ]
  },
  {
   "cell_type": "code",
   "execution_count": 176,
   "id": "513d1c07",
   "metadata": {
    "ExecuteTime": {
     "end_time": "2022-09-13T03:18:30.301491Z",
     "start_time": "2022-09-13T03:18:30.297459Z"
    }
   },
   "outputs": [],
   "source": [
    "costs = [\n",
    "    [90, 76, 75, 70],\n",
    "    [35, 85, 55, 65],\n",
    "    [125, 95, 90, 105],\n",
    "    [45, 110, 95, 115],\n",
    "    [60, 105, 80, 75],\n",
    "    [45, 65, 110, 95],\n",
    "]\n",
    "num_workers = len(costs)\n",
    "num_tasks = len(costs[0])\n",
    "\n",
    "team1 = [0, 2, 4]\n",
    "team2 = [1, 3, 5]\n",
    "# Maximum total of tasks for any team\n",
    "team_max = 2"
   ]
  },
  {
   "cell_type": "code",
   "execution_count": 178,
   "id": "24ddad45",
   "metadata": {
    "ExecuteTime": {
     "end_time": "2022-09-13T03:18:52.057638Z",
     "start_time": "2022-09-13T03:18:52.042597Z"
    }
   },
   "outputs": [
    {
     "data": {
      "text/plain": [
       "6"
      ]
     },
     "execution_count": 178,
     "metadata": {},
     "output_type": "execute_result"
    }
   ],
   "source": [
    "num_workers"
   ]
  },
  {
   "cell_type": "code",
   "execution_count": 179,
   "id": "278fdfe6",
   "metadata": {
    "ExecuteTime": {
     "end_time": "2022-09-13T03:18:57.768064Z",
     "start_time": "2022-09-13T03:18:57.751065Z"
    }
   },
   "outputs": [],
   "source": [
    "model = cp_model.CpModel()"
   ]
  },
  {
   "cell_type": "code",
   "execution_count": 180,
   "id": "b907f62b",
   "metadata": {
    "ExecuteTime": {
     "end_time": "2022-09-13T03:19:01.978069Z",
     "start_time": "2022-09-13T03:19:01.971442Z"
    }
   },
   "outputs": [],
   "source": [
    "x = {}\n",
    "for worker in range(num_workers):\n",
    "    for task in range(num_tasks):\n",
    "        x[worker, task] = model.NewBoolVar(f'x[{worker},{task}]')"
   ]
  },
  {
   "cell_type": "code",
   "execution_count": 195,
   "id": "85cabd0b",
   "metadata": {
    "ExecuteTime": {
     "end_time": "2022-09-13T03:22:19.569825Z",
     "start_time": "2022-09-13T03:22:19.549640Z"
    }
   },
   "outputs": [
    {
     "data": {
      "text/plain": [
       "<ortools.sat.python.cp_model.Constraint at 0x20baaa02a00>"
      ]
     },
     "execution_count": 195,
     "metadata": {},
     "output_type": "execute_result"
    }
   ],
   "source": [
    "# Each worker is assigned to at most one task.\n",
    "for worker in range(num_workers):\n",
    "    model.AddAtMostOne(x[worker, task] for task in range(num_tasks))\n",
    "\n",
    "# Each task is assigned to exactly one worker.\n",
    "for task in range(num_tasks):\n",
    "    model.AddExactlyOne(x[worker, task] for worker in range(num_workers))\n",
    "\n",
    "# Each team takes at most two tasks.\n",
    "team1_tasks = []\n",
    "for worker in team1:\n",
    "    for task in range(num_tasks):\n",
    "        team1_tasks.append(x[worker, task])\n",
    "model.Add(sum(team1_tasks) <= team_max)\n",
    "\n",
    "team2_tasks = []\n",
    "for worker in team2:\n",
    "    for task in range(num_tasks):\n",
    "        team2_tasks.append(x[worker, task])\n",
    "model.Add(sum(team2_tasks) <= team_max)"
   ]
  },
  {
   "cell_type": "code",
   "execution_count": 196,
   "id": "42b13230",
   "metadata": {
    "ExecuteTime": {
     "end_time": "2022-09-13T03:28:22.878573Z",
     "start_time": "2022-09-13T03:28:22.865287Z"
    }
   },
   "outputs": [
    {
     "data": {
      "text/plain": [
       "[0, 2, 4]"
      ]
     },
     "execution_count": 196,
     "metadata": {},
     "output_type": "execute_result"
    }
   ],
   "source": [
    "team1"
   ]
  },
  {
   "cell_type": "code",
   "execution_count": 208,
   "id": "8cd6625d",
   "metadata": {
    "ExecuteTime": {
     "end_time": "2022-09-13T03:53:30.706523Z",
     "start_time": "2022-09-13T03:53:30.666387Z"
    }
   },
   "outputs": [
    {
     "name": "stdout",
     "output_type": "stream",
     "text": [
      "Total cost = 250.0\n",
      "\n",
      "Worker 0 assigned to task 3. Cost = 70\n",
      "Worker 1 assigned to task 0. Cost = 35\n",
      "Worker 4 assigned to task 2. Cost = 80\n",
      "Worker 5 assigned to task 1. Cost = 65\n"
     ]
    }
   ],
   "source": [
    "\"\"\"Solve a simple assignment problem.\"\"\"\n",
    "from ortools.sat.python import cp_model\n",
    "\n",
    "\n",
    "def main():\n",
    "    # Data\n",
    "    costs = [\n",
    "        [90, 76, 75, 70],\n",
    "        [35, 85, 55, 65],\n",
    "        [125, 95, 90, 105],\n",
    "        [45, 110, 95, 115],\n",
    "        [60, 105, 80, 75],\n",
    "        [45, 65, 110, 95],\n",
    "    ]\n",
    "    num_workers = len(costs)\n",
    "    num_tasks = len(costs[0])\n",
    "\n",
    "    team1 = [0, 2, 4]\n",
    "    team2 = [1, 3, 5]\n",
    "    # Maximum total of tasks for any team\n",
    "    team_max = 2\n",
    "\n",
    "    # Model\n",
    "    model = cp_model.CpModel()\n",
    "\n",
    "    # Variables\n",
    "    x = {}\n",
    "    for worker in range(num_workers):\n",
    "        for task in range(num_tasks):\n",
    "            x[worker, task] = model.NewBoolVar(f'x[{worker},{task}]')\n",
    "\n",
    "    # Constraints\n",
    "    # Each worker is assigned to at most one task.\n",
    "    for worker in range(num_workers):\n",
    "        model.AddAtMostOne(x[worker, task] for task in range(num_tasks))\n",
    "\n",
    "    # Each task is assigned to exactly one worker.\n",
    "    for task in range(num_tasks):\n",
    "        model.AddExactlyOne(x[worker, task] for worker in range(num_workers))\n",
    "\n",
    "    # Each team takes at most two tasks.\n",
    "    team1_tasks = []\n",
    "    for worker in team1:\n",
    "        for task in range(num_tasks):\n",
    "            team1_tasks.append(x[worker, task])\n",
    "    model.Add(sum(team1_tasks) <= team_max)\n",
    "\n",
    "    team2_tasks = []\n",
    "    for worker in team2:\n",
    "        for task in range(num_tasks):\n",
    "            team2_tasks.append(x[worker, task])\n",
    "    model.Add(sum(team2_tasks) <= team_max)\n",
    "\n",
    "    # Objective\n",
    "    objective_terms = []\n",
    "    for worker in range(num_workers):\n",
    "        for task in range(num_tasks):\n",
    "            objective_terms.append(costs[worker][task] * x[worker, task])\n",
    "    model.Minimize(sum(objective_terms))\n",
    "\n",
    "    # Solve\n",
    "    solver = cp_model.CpSolver()\n",
    "    status = solver.Solve(model)\n",
    "\n",
    "    # Print solution.\n",
    "    if status == cp_model.OPTIMAL or status == cp_model.FEASIBLE:\n",
    "        print(f'Total cost = {solver.ObjectiveValue()}\\n')\n",
    "        for worker in range(num_workers):\n",
    "            for task in range(num_tasks):\n",
    "                if solver.BooleanValue(x[worker, task]):\n",
    "                    print(f'Worker {worker} assigned to task {task}.' +\n",
    "                          f' Cost = {costs[worker][task]}')\n",
    "    else:\n",
    "        print('No solution found.')\n",
    "\n",
    "\n",
    "if __name__ == '__main__':\n",
    "    main()"
   ]
  },
  {
   "cell_type": "code",
   "execution_count": 209,
   "id": "f349baf4",
   "metadata": {
    "ExecuteTime": {
     "end_time": "2022-09-13T06:11:00.914876Z",
     "start_time": "2022-09-13T06:11:00.891379Z"
    }
   },
   "outputs": [
    {
     "name": "stdout",
     "output_type": "stream",
     "text": [
      "Total cost = 249.99999999999997\n",
      "\n",
      "Worker 0 assigned to task 2. Cost = 75\n",
      "Worker 1 assigned to task 0. Cost = 35\n",
      "Worker 4 assigned to task 3. Cost = 75\n",
      "Worker 5 assigned to task 1. Cost = 65\n",
      "Time = 9 ms\n"
     ]
    }
   ],
   "source": [
    "\"\"\"MIP example that solves an assignment problem.\"\"\"\n",
    "from ortools.linear_solver import pywraplp\n",
    "\n",
    "\n",
    "def main():\n",
    "    # Data\n",
    "    costs = [\n",
    "        [90, 76, 75, 70],\n",
    "        [35, 85, 55, 65],\n",
    "        [125, 95, 90, 105],\n",
    "        [45, 110, 95, 115],\n",
    "        [60, 105, 80, 75],\n",
    "        [45, 65, 110, 95],\n",
    "    ]\n",
    "    num_workers = len(costs)\n",
    "    num_tasks = len(costs[0])\n",
    "\n",
    "    team1 = [0, 2, 4]\n",
    "    team2 = [1, 3, 5]\n",
    "    # Maximum total of tasks for any team\n",
    "    team_max = 2\n",
    "\n",
    "    # Solver\n",
    "    # Create the mip solver with the SCIP backend.\n",
    "    solver = pywraplp.Solver.CreateSolver('SCIP')\n",
    "    if not solver:\n",
    "        return\n",
    "\n",
    "    # Variables\n",
    "    # x[i, j] is an array of 0-1 variables, which will be 1\n",
    "    # if worker i is assigned to task j.\n",
    "    x = {}\n",
    "    for worker in range(num_workers):\n",
    "        for task in range(num_tasks):\n",
    "            x[worker, task] = solver.BoolVar(f'x[{worker},{task}]')\n",
    "\n",
    "    # Constraints\n",
    "    # Each worker is assigned at most 1 task.\n",
    "    for worker in range(num_workers):\n",
    "        solver.Add(\n",
    "            solver.Sum([x[worker, task] for task in range(num_tasks)]) <= 1)\n",
    "\n",
    "    # Each task is assigned to exactly one worker.\n",
    "    for task in range(num_tasks):\n",
    "        solver.Add(\n",
    "            solver.Sum([x[worker, task] for worker in range(num_workers)]) == 1)\n",
    "\n",
    "    # Each team takes at most two tasks.\n",
    "    team1_tasks = []\n",
    "    for worker in team1:\n",
    "        for task in range(num_tasks):\n",
    "            team1_tasks.append(x[worker, task])\n",
    "    solver.Add(solver.Sum(team1_tasks) <= team_max)\n",
    "\n",
    "    team2_tasks = []\n",
    "    for worker in team2:\n",
    "        for task in range(num_tasks):\n",
    "            team2_tasks.append(x[worker, task])\n",
    "    solver.Add(solver.Sum(team2_tasks) <= team_max)\n",
    "\n",
    "    # Objective\n",
    "    objective_terms = []\n",
    "    for worker in range(num_workers):\n",
    "        for task in range(num_tasks):\n",
    "            objective_terms.append(costs[worker][task] * x[worker, task])\n",
    "    solver.Minimize(solver.Sum(objective_terms))\n",
    "\n",
    "    # Solve\n",
    "    status = solver.Solve()\n",
    "\n",
    "    # Print solution.\n",
    "    if status == pywraplp.Solver.OPTIMAL or status == pywraplp.Solver.FEASIBLE:\n",
    "        print(f'Total cost = {solver.Objective().Value()}\\n')\n",
    "        for worker in range(num_workers):\n",
    "            for task in range(num_tasks):\n",
    "                if x[worker, task].solution_value() > 0.5:\n",
    "                    print(f'Worker {worker} assigned to task {task}.' +\n",
    "                          f' Cost = {costs[worker][task]}')\n",
    "    else:\n",
    "        print('No solution found.')\n",
    "    print(f'Time = {solver.WallTime()} ms')\n",
    "\n",
    "\n",
    "if __name__ == '__main__':\n",
    "    main()"
   ]
  },
  {
   "cell_type": "code",
   "execution_count": null,
   "id": "d7e1d46d",
   "metadata": {},
   "outputs": [],
   "source": []
  },
  {
   "cell_type": "code",
   "execution_count": 222,
   "id": "191a65f0",
   "metadata": {
    "ExecuteTime": {
     "end_time": "2022-09-13T06:28:31.049531Z",
     "start_time": "2022-09-13T06:28:31.040514Z"
    }
   },
   "outputs": [],
   "source": [
    "model = cp_model.CpModel()"
   ]
  },
  {
   "cell_type": "code",
   "execution_count": 223,
   "id": "eef76d3f",
   "metadata": {
    "ExecuteTime": {
     "end_time": "2022-09-13T06:28:38.283223Z",
     "start_time": "2022-09-13T06:28:38.262940Z"
    }
   },
   "outputs": [],
   "source": [
    "costs = [\n",
    "    [90, 76, 75, 70, 50, 74, 12, 68],\n",
    "    [35, 85, 55, 65, 48, 101, 70, 83],\n",
    "    [125, 95, 90, 105, 59, 120, 36, 73],\n",
    "    [45, 110, 95, 115, 104, 83, 37, 71],\n",
    "    [60, 105, 80, 75, 59, 62, 93, 88],\n",
    "    [45, 65, 110, 95, 47, 31, 81, 34],\n",
    "    [38, 51, 107, 41, 69, 99, 115, 48],\n",
    "    [47, 85, 57, 71, 92, 77, 109, 36],\n",
    "    [39, 63, 97, 49, 118, 56, 92, 61],\n",
    "    [47, 101, 71, 60, 88, 109, 52, 90],\n",
    "]\n",
    "num_workers = len(costs)\n",
    "num_tasks = len(costs[0])\n",
    "\n",
    "task_sizes = [10, 7, 3, 12, 15, 4, 11, 5]\n",
    "# Maximum total of task sizes for any worker\n",
    "total_size_max = 15"
   ]
  },
  {
   "cell_type": "code",
   "execution_count": 224,
   "id": "8b030af7",
   "metadata": {
    "ExecuteTime": {
     "end_time": "2022-09-13T06:28:46.369929Z",
     "start_time": "2022-09-13T06:28:46.358913Z"
    }
   },
   "outputs": [],
   "source": [
    "model = cp_model.CpModel()"
   ]
  },
  {
   "cell_type": "code",
   "execution_count": 225,
   "id": "36c5299a",
   "metadata": {
    "ExecuteTime": {
     "end_time": "2022-09-13T06:28:51.511113Z",
     "start_time": "2022-09-13T06:28:51.506357Z"
    }
   },
   "outputs": [],
   "source": [
    "x = {}\n",
    "for worker in range(num_workers):\n",
    "    for task in range(num_tasks):\n",
    "        x[worker, task] = model.NewBoolVar(f'x[{worker},{task}]')"
   ]
  },
  {
   "cell_type": "code",
   "execution_count": 226,
   "id": "5dac23e1",
   "metadata": {
    "ExecuteTime": {
     "end_time": "2022-09-13T06:28:59.209277Z",
     "start_time": "2022-09-13T06:28:59.203219Z"
    }
   },
   "outputs": [],
   "source": [
    "# Each worker is assigned to at most one task.\n",
    "for worker in range(num_workers):\n",
    "    model.Add(\n",
    "        sum(task_sizes[task] * x[worker, task]\n",
    "            for task in range(num_tasks)) <= total_size_max)\n",
    "\n",
    "# Each task is assigned to exactly one worker.\n",
    "for task in range(num_tasks):\n",
    "    model.AddExactlyOne(x[worker, task] for worker in range(num_workers))"
   ]
  },
  {
   "cell_type": "code",
   "execution_count": 227,
   "id": "a3efeb06",
   "metadata": {
    "ExecuteTime": {
     "end_time": "2022-09-13T06:29:04.816491Z",
     "start_time": "2022-09-13T06:29:04.799096Z"
    }
   },
   "outputs": [],
   "source": [
    "objective_terms = []\n",
    "for worker in range(num_workers):\n",
    "    for task in range(num_tasks):\n",
    "        objective_terms.append(costs[worker][task] * x[worker, task])\n",
    "model.Minimize(sum(objective_terms))"
   ]
  },
  {
   "cell_type": "code",
   "execution_count": 228,
   "id": "120e626c",
   "metadata": {
    "ExecuteTime": {
     "end_time": "2022-09-13T06:29:10.173305Z",
     "start_time": "2022-09-13T06:29:10.136345Z"
    }
   },
   "outputs": [],
   "source": [
    "solver = cp_model.CpSolver()\n",
    "status = solver.Solve(model)"
   ]
  },
  {
   "cell_type": "code",
   "execution_count": 229,
   "id": "bb6701c6",
   "metadata": {
    "ExecuteTime": {
     "end_time": "2022-09-13T06:29:14.538249Z",
     "start_time": "2022-09-13T06:29:14.527255Z"
    }
   },
   "outputs": [
    {
     "name": "stdout",
     "output_type": "stream",
     "text": [
      "Total cost = 326.0\n",
      "\n",
      "Worker 0 assigned to task 6. Cost = 12\n",
      "Worker 1 assigned to task 0. Cost = 35\n",
      "Worker 1 assigned to task 2. Cost = 55\n",
      "Worker 4 assigned to task 4. Cost = 59\n",
      "Worker 5 assigned to task 5. Cost = 31\n",
      "Worker 5 assigned to task 7. Cost = 34\n",
      "Worker 6 assigned to task 1. Cost = 51\n",
      "Worker 8 assigned to task 3. Cost = 49\n"
     ]
    }
   ],
   "source": []
  },
  {
   "cell_type": "code",
   "execution_count": null,
   "id": "ad2be84e",
   "metadata": {},
   "outputs": [],
   "source": []
  },
  {
   "cell_type": "code",
   "execution_count": null,
   "id": "32ab582c",
   "metadata": {},
   "outputs": [],
   "source": []
  },
  {
   "cell_type": "markdown",
   "id": "ef9ce7c0",
   "metadata": {},
   "source": [
    "###  真实case 发红包的场景  demo"
   ]
  },
  {
   "cell_type": "code",
   "execution_count": 60,
   "id": "7dec5b83",
   "metadata": {
    "ExecuteTime": {
     "end_time": "2022-11-24T08:45:58.734896Z",
     "start_time": "2022-11-24T08:45:58.725880Z"
    }
   },
   "outputs": [],
   "source": [
    "import numpy as np\n",
    "import pandas as pd"
   ]
  },
  {
   "cell_type": "code",
   "execution_count": 61,
   "id": "51828cd0",
   "metadata": {
    "ExecuteTime": {
     "end_time": "2022-11-24T08:46:02.465308Z",
     "start_time": "2022-11-24T08:46:02.449789Z"
    }
   },
   "outputs": [],
   "source": [
    "a=np.random.rand(50,3).astype('float16')\n",
    "data=pd.DataFrame(a,columns=[\"outcome0\",\"outcome1\",\"outcome2\"])"
   ]
  },
  {
   "cell_type": "code",
   "execution_count": 62,
   "id": "e0e8690b",
   "metadata": {
    "ExecuteTime": {
     "end_time": "2022-11-24T08:46:02.984818Z",
     "start_time": "2022-11-24T08:46:02.977820Z"
    }
   },
   "outputs": [
    {
     "data": {
      "text/plain": [
       "150"
      ]
     },
     "execution_count": 62,
     "metadata": {},
     "output_type": "execute_result"
    }
   ],
   "source": [
    "data.size"
   ]
  },
  {
   "cell_type": "code",
   "execution_count": 63,
   "id": "ccd102af",
   "metadata": {
    "ExecuteTime": {
     "end_time": "2022-11-24T08:46:03.664429Z",
     "start_time": "2022-11-24T08:46:03.649414Z"
    }
   },
   "outputs": [
    {
     "data": {
      "text/html": [
       "<div>\n",
       "<style scoped>\n",
       "    .dataframe tbody tr th:only-of-type {\n",
       "        vertical-align: middle;\n",
       "    }\n",
       "\n",
       "    .dataframe tbody tr th {\n",
       "        vertical-align: top;\n",
       "    }\n",
       "\n",
       "    .dataframe thead th {\n",
       "        text-align: right;\n",
       "    }\n",
       "</style>\n",
       "<table border=\"1\" class=\"dataframe\">\n",
       "  <thead>\n",
       "    <tr style=\"text-align: right;\">\n",
       "      <th></th>\n",
       "      <th>outcome0</th>\n",
       "      <th>outcome1</th>\n",
       "      <th>outcome2</th>\n",
       "    </tr>\n",
       "  </thead>\n",
       "  <tbody>\n",
       "    <tr>\n",
       "      <th>0</th>\n",
       "      <td>0.857910</td>\n",
       "      <td>0.407959</td>\n",
       "      <td>0.912109</td>\n",
       "    </tr>\n",
       "    <tr>\n",
       "      <th>1</th>\n",
       "      <td>0.332031</td>\n",
       "      <td>0.018997</td>\n",
       "      <td>0.725098</td>\n",
       "    </tr>\n",
       "    <tr>\n",
       "      <th>2</th>\n",
       "      <td>0.099854</td>\n",
       "      <td>0.420166</td>\n",
       "      <td>0.629395</td>\n",
       "    </tr>\n",
       "    <tr>\n",
       "      <th>3</th>\n",
       "      <td>0.051849</td>\n",
       "      <td>0.242432</td>\n",
       "      <td>0.855957</td>\n",
       "    </tr>\n",
       "    <tr>\n",
       "      <th>4</th>\n",
       "      <td>0.597656</td>\n",
       "      <td>0.069763</td>\n",
       "      <td>0.463623</td>\n",
       "    </tr>\n",
       "  </tbody>\n",
       "</table>\n",
       "</div>"
      ],
      "text/plain": [
       "   outcome0  outcome1  outcome2\n",
       "0  0.857910  0.407959  0.912109\n",
       "1  0.332031  0.018997  0.725098\n",
       "2  0.099854  0.420166  0.629395\n",
       "3  0.051849  0.242432  0.855957\n",
       "4  0.597656  0.069763  0.463623"
      ]
     },
     "execution_count": 63,
     "metadata": {},
     "output_type": "execute_result"
    }
   ],
   "source": [
    "data.head()"
   ]
  },
  {
   "cell_type": "code",
   "execution_count": 64,
   "id": "9e2fee75",
   "metadata": {
    "ExecuteTime": {
     "end_time": "2022-11-24T08:46:09.018419Z",
     "start_time": "2022-11-24T08:46:09.006360Z"
    }
   },
   "outputs": [],
   "source": [
    "red_packet=[0,2,5]"
   ]
  },
  {
   "cell_type": "code",
   "execution_count": 65,
   "id": "20777123",
   "metadata": {
    "ExecuteTime": {
     "end_time": "2022-11-24T08:46:09.900915Z",
     "start_time": "2022-11-24T08:46:09.889935Z"
    }
   },
   "outputs": [],
   "source": [
    "data[\"uplift0\"]=0\n",
    "data[\"uplift1\"]=(data[\"outcome1\"]-data[\"outcome0\"])/(red_packet[1]-red_packet[0])  #使用斜率代替uplift\n",
    "data[\"uplift2\"]=(data[\"outcome2\"]-data[\"outcome1\"])/(red_packet[2]-red_packet[1])  #使用斜率代替uplift"
   ]
  },
  {
   "cell_type": "code",
   "execution_count": 67,
   "id": "9a4069e7",
   "metadata": {
    "ExecuteTime": {
     "end_time": "2022-11-24T08:46:25.758536Z",
     "start_time": "2022-11-24T08:46:25.746533Z"
    }
   },
   "outputs": [
    {
     "data": {
      "text/html": [
       "<div>\n",
       "<style scoped>\n",
       "    .dataframe tbody tr th:only-of-type {\n",
       "        vertical-align: middle;\n",
       "    }\n",
       "\n",
       "    .dataframe tbody tr th {\n",
       "        vertical-align: top;\n",
       "    }\n",
       "\n",
       "    .dataframe thead th {\n",
       "        text-align: right;\n",
       "    }\n",
       "</style>\n",
       "<table border=\"1\" class=\"dataframe\">\n",
       "  <thead>\n",
       "    <tr style=\"text-align: right;\">\n",
       "      <th></th>\n",
       "      <th>outcome0</th>\n",
       "      <th>outcome1</th>\n",
       "      <th>outcome2</th>\n",
       "      <th>uplift0</th>\n",
       "      <th>uplift1</th>\n",
       "      <th>uplift2</th>\n",
       "    </tr>\n",
       "  </thead>\n",
       "  <tbody>\n",
       "    <tr>\n",
       "      <th>0</th>\n",
       "      <td>0.857910</td>\n",
       "      <td>0.407959</td>\n",
       "      <td>0.912109</td>\n",
       "      <td>0</td>\n",
       "      <td>-0.224976</td>\n",
       "      <td>0.167969</td>\n",
       "    </tr>\n",
       "    <tr>\n",
       "      <th>1</th>\n",
       "      <td>0.332031</td>\n",
       "      <td>0.018997</td>\n",
       "      <td>0.725098</td>\n",
       "      <td>0</td>\n",
       "      <td>-0.156494</td>\n",
       "      <td>0.235352</td>\n",
       "    </tr>\n",
       "    <tr>\n",
       "      <th>2</th>\n",
       "      <td>0.099854</td>\n",
       "      <td>0.420166</td>\n",
       "      <td>0.629395</td>\n",
       "      <td>0</td>\n",
       "      <td>0.160156</td>\n",
       "      <td>0.069763</td>\n",
       "    </tr>\n",
       "    <tr>\n",
       "      <th>3</th>\n",
       "      <td>0.051849</td>\n",
       "      <td>0.242432</td>\n",
       "      <td>0.855957</td>\n",
       "      <td>0</td>\n",
       "      <td>0.095276</td>\n",
       "      <td>0.204468</td>\n",
       "    </tr>\n",
       "    <tr>\n",
       "      <th>4</th>\n",
       "      <td>0.597656</td>\n",
       "      <td>0.069763</td>\n",
       "      <td>0.463623</td>\n",
       "      <td>0</td>\n",
       "      <td>-0.263916</td>\n",
       "      <td>0.131226</td>\n",
       "    </tr>\n",
       "  </tbody>\n",
       "</table>\n",
       "</div>"
      ],
      "text/plain": [
       "   outcome0  outcome1  outcome2  uplift0   uplift1   uplift2\n",
       "0  0.857910  0.407959  0.912109        0 -0.224976  0.167969\n",
       "1  0.332031  0.018997  0.725098        0 -0.156494  0.235352\n",
       "2  0.099854  0.420166  0.629395        0  0.160156  0.069763\n",
       "3  0.051849  0.242432  0.855957        0  0.095276  0.204468\n",
       "4  0.597656  0.069763  0.463623        0 -0.263916  0.131226"
      ]
     },
     "execution_count": 67,
     "metadata": {},
     "output_type": "execute_result"
    }
   ],
   "source": [
    "data.head()"
   ]
  },
  {
   "cell_type": "code",
   "execution_count": null,
   "id": "2f781f6e",
   "metadata": {
    "ExecuteTime": {
     "end_time": "2022-11-24T08:38:23.996164Z",
     "start_time": "2022-11-24T08:38:23.978123Z"
    }
   },
   "outputs": [],
   "source": []
  },
  {
   "cell_type": "code",
   "execution_count": 68,
   "id": "96bc758a",
   "metadata": {
    "ExecuteTime": {
     "end_time": "2022-11-24T08:50:50.666122Z",
     "start_time": "2022-11-24T08:50:50.656107Z"
    }
   },
   "outputs": [],
   "source": [
    "outcome=data[[\"outcome0\",\"outcome1\",\"outcome2\"]].values\n",
    "outcome=outcome.tolist()"
   ]
  },
  {
   "cell_type": "code",
   "execution_count": 69,
   "id": "899ad2d3",
   "metadata": {
    "ExecuteTime": {
     "end_time": "2022-11-24T08:50:51.422477Z",
     "start_time": "2022-11-24T08:50:51.413476Z"
    }
   },
   "outputs": [],
   "source": [
    "costs=data[[\"uplift0\",\"uplift1\",\"uplift2\"]].values\n",
    "costs=costs.tolist()"
   ]
  },
  {
   "cell_type": "code",
   "execution_count": 70,
   "id": "a2bf3b7c",
   "metadata": {
    "ExecuteTime": {
     "end_time": "2022-11-24T08:50:52.393524Z",
     "start_time": "2022-11-24T08:50:52.384508Z"
    }
   },
   "outputs": [],
   "source": [
    "# costs"
   ]
  },
  {
   "cell_type": "code",
   "execution_count": 71,
   "id": "4d379577",
   "metadata": {
    "ExecuteTime": {
     "end_time": "2022-11-24T08:50:53.696938Z",
     "start_time": "2022-11-24T08:50:53.689917Z"
    }
   },
   "outputs": [],
   "source": [
    "# outcome"
   ]
  },
  {
   "cell_type": "code",
   "execution_count": 72,
   "id": "4bbc04be",
   "metadata": {
    "ExecuteTime": {
     "end_time": "2022-11-24T08:50:54.761734Z",
     "start_time": "2022-11-24T08:50:54.747732Z"
    }
   },
   "outputs": [],
   "source": [
    "num_workers = len(costs)\n",
    "num_tasks = len(costs[0])"
   ]
  },
  {
   "cell_type": "code",
   "execution_count": 73,
   "id": "b32ae725",
   "metadata": {
    "ExecuteTime": {
     "end_time": "2022-11-24T08:50:55.751907Z",
     "start_time": "2022-11-24T08:50:55.733297Z"
    }
   },
   "outputs": [],
   "source": [
    "from ortools.sat.python import cp_model\n",
    "model = cp_model.CpModel()"
   ]
  },
  {
   "cell_type": "code",
   "execution_count": 74,
   "id": "d5021664",
   "metadata": {
    "ExecuteTime": {
     "end_time": "2022-11-24T08:50:57.478469Z",
     "start_time": "2022-11-24T08:50:57.467469Z"
    }
   },
   "outputs": [],
   "source": [
    "x = {}\n",
    "for worker in range(num_workers):\n",
    "    for task in range(num_tasks):\n",
    "        x[worker, task] = model.NewBoolVar(f'x[{worker},{task}]')"
   ]
  },
  {
   "cell_type": "code",
   "execution_count": 76,
   "id": "335b1813",
   "metadata": {
    "ExecuteTime": {
     "end_time": "2022-11-24T08:51:06.926874Z",
     "start_time": "2022-11-24T08:51:06.909830Z"
    }
   },
   "outputs": [
    {
     "data": {
      "text/plain": [
       "(50, 3)"
      ]
     },
     "execution_count": 76,
     "metadata": {},
     "output_type": "execute_result"
    }
   ],
   "source": [
    "num_workers,num_tasks"
   ]
  },
  {
   "cell_type": "code",
   "execution_count": 77,
   "id": "356a0c6a",
   "metadata": {
    "ExecuteTime": {
     "end_time": "2022-11-24T08:51:07.430801Z",
     "start_time": "2022-11-24T08:51:07.419874Z"
    }
   },
   "outputs": [],
   "source": [
    "# Each worker is assigned to at most one task.\n",
    "# 每个用户只能发一个红包\n",
    "for worker in range(num_workers):\n",
    "    model.AddAtMostOne(x[worker, task] for task in range(num_tasks))\n",
    "\n",
    "\n",
    "# # Each task is assigned to exactly one worker.\n",
    "# for task in range(num_tasks):\n",
    "#     model.AddExactlyOne(x[worker, task] for worker in range(num_workers))"
   ]
  },
  {
   "cell_type": "code",
   "execution_count": 78,
   "id": "8c5c7a86",
   "metadata": {
    "ExecuteTime": {
     "end_time": "2022-11-24T08:51:11.689679Z",
     "start_time": "2022-11-24T08:51:11.683023Z"
    }
   },
   "outputs": [],
   "source": [
    "# 添加红包金额的限制\n",
    "# outcome"
   ]
  },
  {
   "cell_type": "code",
   "execution_count": 79,
   "id": "43b2b57e",
   "metadata": {
    "ExecuteTime": {
     "end_time": "2022-11-24T08:51:12.662398Z",
     "start_time": "2022-11-24T08:51:12.648387Z"
    }
   },
   "outputs": [],
   "source": [
    "red_limit=10"
   ]
  },
  {
   "cell_type": "code",
   "execution_count": 80,
   "id": "6eb7feb8",
   "metadata": {
    "ExecuteTime": {
     "end_time": "2022-11-24T08:51:52.812476Z",
     "start_time": "2022-11-24T08:51:52.799476Z"
    }
   },
   "outputs": [
    {
     "data": {
      "text/plain": [
       "<ortools.sat.python.cp_model.Constraint at 0x22516029910>"
      ]
     },
     "execution_count": 80,
     "metadata": {},
     "output_type": "execute_result"
    }
   ],
   "source": [
    "all_red=[]\n",
    "for worker in range(num_workers):\n",
    "    for task in range(num_tasks):\n",
    "        all_red.append(int(outcome[worker][task]*100)*red_packet[task]*x[worker,task])  # *100是因为该求解器值支持整数\n",
    "model.Add(sum(all_red)<=(red_limit*100))    #限制条件也乘以100\n"
   ]
  },
  {
   "cell_type": "code",
   "execution_count": 81,
   "id": "7dc2c42e",
   "metadata": {
    "ExecuteTime": {
     "end_time": "2022-11-24T08:51:56.225160Z",
     "start_time": "2022-11-24T08:51:56.209145Z"
    }
   },
   "outputs": [],
   "source": [
    "objective_terms = []\n",
    "for worker in range(num_workers):\n",
    "    for task in range(num_tasks):\n",
    "        objective_terms.append(costs[worker][task] * x[worker, task])\n",
    "model.Maximize(sum(objective_terms))"
   ]
  },
  {
   "cell_type": "code",
   "execution_count": 83,
   "id": "32449565",
   "metadata": {
    "ExecuteTime": {
     "end_time": "2022-11-24T08:52:05.618832Z",
     "start_time": "2022-11-24T08:52:05.590809Z"
    }
   },
   "outputs": [],
   "source": [
    "solver = cp_model.CpSolver()\n",
    "status = solver.Solve(model)"
   ]
  },
  {
   "cell_type": "code",
   "execution_count": 85,
   "id": "320491d0",
   "metadata": {
    "ExecuteTime": {
     "end_time": "2022-11-24T08:52:15.579234Z",
     "start_time": "2022-11-24T08:52:15.566124Z"
    }
   },
   "outputs": [
    {
     "name": "stdout",
     "output_type": "stream",
     "text": [
      "Total cost = 1.8143310546875\n",
      "\n",
      "Worker 2 assigned to task 1. Cost = 0.16015625\n",
      "Worker 17 assigned to task 1. Cost = 0.27587890625\n",
      "Worker 18 assigned to task 1. Cost = 0.1717529296875\n",
      "Worker 29 assigned to task 1. Cost = 0.2476806640625\n",
      "Worker 32 assigned to task 1. Cost = 0.2076416015625\n",
      "Worker 35 assigned to task 1. Cost = 0.278076171875\n",
      "Worker 37 assigned to task 1. Cost = 0.1962890625\n",
      "Worker 40 assigned to task 1. Cost = 0.27685546875\n"
     ]
    }
   ],
   "source": [
    "if status == cp_model.OPTIMAL or status == cp_model.FEASIBLE:\n",
    "    print(f'Total cost = {solver.ObjectiveValue()}\\n')\n",
    "    for worker in range(num_workers):\n",
    "        for task in range(num_tasks):\n",
    "            if solver.BooleanValue(x[worker, task]):\n",
    "                print(f'Worker {worker} assigned to task {task}.' +\n",
    "                      f' Cost = {costs[worker][task]}')\n",
    "else:\n",
    "    print('No solution found.')"
   ]
  },
  {
   "cell_type": "code",
   "execution_count": 37,
   "id": "0f4fc126",
   "metadata": {
    "ExecuteTime": {
     "end_time": "2022-11-10T05:43:13.771036Z",
     "start_time": "2022-11-10T05:43:13.741895Z"
    }
   },
   "outputs": [
    {
     "data": {
      "text/plain": [
       "[[0.7099609375, 0.826171875, 0.489990234375],\n",
       " [0.99951171875, 0.7607421875, 0.1114501953125],\n",
       " [0.6708984375, 0.68603515625, 0.54248046875],\n",
       " [0.3427734375, 0.398681640625, 0.94970703125],\n",
       " [0.1278076171875, 0.7099609375, 0.1900634765625],\n",
       " [0.77490234375, 0.982421875, 0.442626953125],\n",
       " [0.99853515625, 0.87890625, 0.54052734375],\n",
       " [0.78125, 0.294677734375, 0.181884765625],\n",
       " [0.350341796875, 0.489501953125, 0.0257110595703125],\n",
       " [0.1885986328125, 0.494384765625, 0.6044921875],\n",
       " [0.9140625, 0.65185546875, 0.9638671875],\n",
       " [0.0005388259887695312, 0.1817626953125, 0.438720703125],\n",
       " [0.95263671875, 0.95654296875, 0.0236053466796875],\n",
       " [0.14013671875, 0.68359375, 0.9873046875],\n",
       " [0.9580078125, 0.52734375, 0.392578125],\n",
       " [0.623046875, 0.4794921875, 0.5107421875],\n",
       " [0.354248046875, 0.263916015625, 0.358642578125],\n",
       " [0.0989990234375, 0.462158203125, 0.439697265625],\n",
       " [0.4794921875, 0.359375, 0.1927490234375],\n",
       " [0.208984375, 0.10369873046875, 0.9404296875],\n",
       " [0.94091796875, 0.64599609375, 0.86279296875],\n",
       " [0.415771484375, 0.54052734375, 0.485107421875],\n",
       " [0.1695556640625, 0.751953125, 0.66845703125],\n",
       " [0.392822265625, 0.50830078125, 0.6943359375],\n",
       " [0.2071533203125, 0.9013671875, 0.80322265625],\n",
       " [0.398681640625, 0.93603515625, 0.61328125],\n",
       " [0.036712646484375, 0.513671875, 0.81201171875],\n",
       " [0.86962890625, 0.288330078125, 0.76708984375],\n",
       " [0.046356201171875, 0.74169921875, 0.013641357421875],\n",
       " [0.6552734375, 0.404541015625, 0.580078125],\n",
       " [0.2548828125, 0.455078125, 0.258056640625],\n",
       " [0.6943359375, 0.07745361328125, 0.68603515625],\n",
       " [0.73828125, 0.5732421875, 0.580078125],\n",
       " [0.470458984375, 0.428466796875, 0.67822265625],\n",
       " [0.490966796875, 0.34765625, 0.062103271484375],\n",
       " [0.92333984375, 0.50732421875, 0.9140625],\n",
       " [0.1669921875, 0.53515625, 0.167724609375],\n",
       " [0.443115234375, 0.026947021484375, 0.71875],\n",
       " [0.73681640625, 0.6923828125, 0.246337890625],\n",
       " [0.59228515625, 0.8916015625, 0.08868408203125],\n",
       " [0.453369140625, 0.28125, 0.56396484375],\n",
       " [0.310791015625, 0.37890625, 0.79541015625],\n",
       " [0.6611328125, 0.35205078125, 0.9189453125],\n",
       " [0.8955078125, 0.529296875, 0.393798828125],\n",
       " [0.285400390625, 0.015045166015625, 0.67626953125],\n",
       " [0.5068359375, 0.62890625, 0.46533203125],\n",
       " [0.974609375, 0.2188720703125, 0.751953125],\n",
       " [0.6943359375, 0.186279296875, 0.51513671875],\n",
       " [0.7265625, 0.2049560546875, 0.439208984375],\n",
       " [0.57421875, 0.50341796875, 0.98486328125],\n",
       " [0.51123046875, 0.65966796875, 0.351806640625],\n",
       " [0.453125, 0.12164306640625, 0.564453125],\n",
       " [0.37451171875, 0.92333984375, 0.1636962890625],\n",
       " [0.8876953125, 0.912109375, 0.7041015625],\n",
       " [0.70068359375, 0.482666015625, 0.21337890625],\n",
       " [0.28857421875, 0.7666015625, 0.99267578125],\n",
       " [0.8720703125, 0.302490234375, 0.12127685546875],\n",
       " [0.28125, 0.1585693359375, 0.9169921875],\n",
       " [0.673828125, 0.7890625, 0.595703125],\n",
       " [0.278564453125, 0.408447265625, 0.07757568359375],\n",
       " [0.7998046875, 0.0556640625, 0.6298828125],\n",
       " [0.4384765625, 0.97119140625, 0.30810546875],\n",
       " [0.10791015625, 0.51025390625, 0.6689453125],\n",
       " [0.489501953125, 0.443115234375, 0.16455078125],\n",
       " [0.81982421875, 0.33837890625, 0.80908203125],\n",
       " [0.07049560546875, 0.32568359375, 0.5849609375],\n",
       " [0.0160369873046875, 0.9248046875, 0.751953125],\n",
       " [0.02490234375, 0.80810546875, 0.066650390625],\n",
       " [0.9755859375, 0.83544921875, 0.63037109375],\n",
       " [0.90966796875, 0.8173828125, 0.35302734375],\n",
       " [0.7431640625, 0.020751953125, 0.548828125],\n",
       " [0.044525146484375, 0.71044921875, 0.9208984375],\n",
       " [0.475830078125, 0.355224609375, 0.397216796875],\n",
       " [0.42236328125, 0.8740234375, 0.841796875],\n",
       " [0.39990234375, 0.2203369140625, 0.417236328125],\n",
       " [0.697265625, 0.67822265625, 0.572265625],\n",
       " [0.1007080078125, 0.7412109375, 0.93212890625],\n",
       " [0.38232421875, 0.78125, 0.274658203125],\n",
       " [0.427978515625, 0.70361328125, 0.154296875],\n",
       " [0.76513671875, 0.0804443359375, 0.95654296875],\n",
       " [0.85888671875, 0.744140625, 0.72265625],\n",
       " [0.00848388671875, 0.363037109375, 0.275146484375],\n",
       " [0.51806640625, 0.58349609375, 0.80029296875],\n",
       " [0.88427734375, 0.95458984375, 0.0081329345703125],\n",
       " [0.29296875, 0.17724609375, 0.482177734375],\n",
       " [0.61962890625, 0.27001953125, 0.5693359375],\n",
       " [0.82470703125, 0.82177734375, 0.1983642578125],\n",
       " [0.59130859375, 0.423583984375, 0.2666015625],\n",
       " [0.27294921875, 0.94873046875, 0.44287109375],\n",
       " [0.372314453125, 0.07568359375, 0.2005615234375],\n",
       " [0.78076171875, 0.354736328125, 0.85400390625],\n",
       " [0.5712890625, 0.58642578125, 0.61865234375],\n",
       " [0.75830078125, 0.0859375, 0.0015201568603515625],\n",
       " [0.83154296875, 0.357666015625, 0.84033203125],\n",
       " [0.265869140625, 0.81005859375, 0.09283447265625],\n",
       " [0.1490478515625, 0.369873046875, 0.389404296875],\n",
       " [0.53369140625, 0.568359375, 0.603515625],\n",
       " [0.4169921875, 0.583984375, 0.412353515625],\n",
       " [0.78955078125, 0.2783203125, 0.71337890625],\n",
       " [0.837890625, 0.4599609375, 0.65283203125],\n",
       " [0.441162109375, 0.97705078125, 0.95068359375],\n",
       " [0.93212890625, 0.65576171875, 0.273681640625],\n",
       " [0.212646484375, 0.58203125, 0.96875],\n",
       " [0.369873046875, 0.40234375, 0.73681640625],\n",
       " [0.67138671875, 0.402099609375, 0.96630859375],\n",
       " [0.7900390625, 0.7158203125, 0.08258056640625],\n",
       " [0.794921875, 0.492919921875, 0.72119140625],\n",
       " [0.6396484375, 0.58154296875, 0.330322265625],\n",
       " [0.72021484375, 0.59326171875, 0.05535888671875],\n",
       " [0.94189453125, 0.81103515625, 0.281494140625],\n",
       " [0.22705078125, 0.1724853515625, 0.5615234375],\n",
       " [0.6396484375, 0.461669921875, 0.66796875],\n",
       " [0.89013671875, 0.25732421875, 0.5107421875],\n",
       " [0.94677734375, 0.8525390625, 0.317138671875],\n",
       " [0.60595703125, 0.2244873046875, 0.86474609375],\n",
       " [0.174560546875, 0.58935546875, 0.98681640625],\n",
       " [0.95068359375, 0.98095703125, 0.463134765625],\n",
       " [0.76025390625, 0.841796875, 0.62890625],\n",
       " [0.73046875, 0.888671875, 0.2998046875],\n",
       " [0.85400390625, 0.5947265625, 0.603515625],\n",
       " [0.66650390625, 0.84375, 0.65478515625],\n",
       " [0.32861328125, 0.338623046875, 0.28369140625],\n",
       " [0.8271484375, 0.60546875, 0.155517578125],\n",
       " [0.89306640625, 0.80712890625, 0.96142578125],\n",
       " [0.89697265625, 0.525390625, 0.1461181640625],\n",
       " [0.59912109375, 0.7392578125, 0.44140625],\n",
       " [0.525390625, 0.096923828125, 0.11480712890625],\n",
       " [0.448486328125, 0.2176513671875, 0.474853515625],\n",
       " [0.48095703125, 0.65380859375, 0.3212890625],\n",
       " [0.560546875, 0.07952880859375, 0.7734375],\n",
       " [0.327392578125, 0.43310546875, 0.2279052734375],\n",
       " [0.009735107421875, 0.57177734375, 0.5068359375],\n",
       " [0.0614013671875, 0.35205078125, 0.84423828125],\n",
       " [0.57666015625, 0.364501953125, 0.630859375],\n",
       " [0.319091796875, 0.1524658203125, 0.216796875],\n",
       " [0.82861328125, 0.318115234375, 0.99267578125],\n",
       " [0.576171875, 0.83740234375, 0.378662109375],\n",
       " [0.83984375, 0.6552734375, 0.77783203125],\n",
       " [0.41748046875, 0.1949462890625, 0.347412109375],\n",
       " [0.70068359375, 0.378662109375, 0.0250701904296875],\n",
       " [0.498291015625, 0.1121826171875, 0.49951171875],\n",
       " [0.87939453125, 0.01461029052734375, 0.6220703125],\n",
       " [0.18017578125, 0.60693359375, 0.703125],\n",
       " [0.61474609375, 0.79931640625, 0.096923828125],\n",
       " [0.95849609375, 0.2191162109375, 0.953125],\n",
       " [0.1995849609375, 0.01268768310546875, 0.43115234375],\n",
       " [0.54296875, 0.281982421875, 0.326904296875],\n",
       " [0.61767578125, 0.40185546875, 0.81689453125],\n",
       " [0.007480621337890625, 0.9677734375, 0.46826171875],\n",
       " [0.2122802734375, 0.024200439453125, 0.330078125],\n",
       " [0.464111328125, 0.70947265625, 0.22314453125],\n",
       " [0.9453125, 0.8173828125, 0.36279296875],\n",
       " [0.94189453125, 0.32568359375, 0.51025390625],\n",
       " [0.1402587890625, 0.669921875, 0.37841796875],\n",
       " [0.2154541015625, 0.75830078125, 0.47607421875],\n",
       " [0.8388671875, 0.869140625, 0.9580078125],\n",
       " [0.46142578125, 0.10400390625, 0.246337890625],\n",
       " [0.261962890625, 0.2255859375, 0.57666015625],\n",
       " [0.177978515625, 0.66552734375, 0.2425537109375],\n",
       " [0.0628662109375, 0.6904296875, 0.693359375],\n",
       " [0.356201171875, 0.29833984375, 0.00665283203125],\n",
       " [0.331298828125, 0.229248046875, 0.69921875],\n",
       " [0.3310546875, 0.294921875, 0.56103515625],\n",
       " [0.29150390625, 0.609375, 0.393798828125],\n",
       " [0.509765625, 0.2110595703125, 0.56884765625],\n",
       " [0.60693359375, 0.66796875, 0.634765625],\n",
       " [0.55712890625, 0.71435546875, 0.61572265625],\n",
       " [0.1844482421875, 0.947265625, 0.37060546875],\n",
       " [0.09405517578125, 0.78369140625, 0.414794921875],\n",
       " [0.630859375, 0.2103271484375, 0.337646484375],\n",
       " [0.44677734375, 0.71630859375, 0.259765625],\n",
       " [0.58837890625, 0.6943359375, 0.03515625],\n",
       " [0.0096282958984375, 0.106689453125, 0.50244140625],\n",
       " [0.875, 0.67138671875, 0.42138671875],\n",
       " [0.282470703125, 0.1197509765625, 0.464111328125],\n",
       " [0.06591796875, 0.1768798828125, 0.2724609375],\n",
       " [0.345458984375, 0.35595703125, 0.8525390625],\n",
       " [0.28759765625, 0.90576171875, 0.880859375],\n",
       " [0.287841796875, 0.3427734375, 0.5654296875],\n",
       " [0.312744140625, 0.219482421875, 0.08258056640625],\n",
       " [0.16357421875, 0.9521484375, 0.794921875],\n",
       " [0.437744140625, 0.12066650390625, 0.70458984375],\n",
       " [0.72265625, 0.984375, 0.0921630859375],\n",
       " [0.31201171875, 0.77001953125, 0.57666015625],\n",
       " [0.7705078125, 0.2130126953125, 0.1810302734375],\n",
       " [0.389404296875, 0.2271728515625, 0.17578125],\n",
       " [0.93212890625, 0.08428955078125, 0.86669921875],\n",
       " [0.7255859375, 0.81494140625, 0.5205078125],\n",
       " [0.93701171875, 0.794921875, 0.46044921875],\n",
       " [0.32666015625, 0.2242431640625, 0.36279296875],\n",
       " [0.9384765625, 0.26806640625, 0.46484375],\n",
       " [0.0340576171875, 0.59130859375, 0.623046875],\n",
       " [0.33544921875, 0.42138671875, 0.385498046875],\n",
       " [0.71435546875, 0.1480712890625, 0.26513671875],\n",
       " [0.489013671875, 0.70361328125, 0.8876953125],\n",
       " [0.80029296875, 0.91650390625, 0.1068115234375],\n",
       " [0.29248046875, 0.482177734375, 0.1773681640625],\n",
       " [0.943359375, 0.20458984375, 0.94775390625],\n",
       " [0.1446533203125, 0.2379150390625, 0.158203125],\n",
       " [0.58642578125, 0.95556640625, 0.136474609375],\n",
       " [0.388916015625, 0.91357421875, 0.18310546875],\n",
       " [0.24169921875, 0.0848388671875, 0.32177734375],\n",
       " [0.1785888671875, 0.357421875, 0.4404296875],\n",
       " [0.5244140625, 0.794921875, 0.496337890625],\n",
       " [0.3818359375, 0.146240234375, 0.460693359375],\n",
       " [0.305908203125, 0.29296875, 0.006244659423828125],\n",
       " [0.73876953125, 0.71142578125, 0.8095703125],\n",
       " [0.94970703125, 0.278076171875, 0.51318359375],\n",
       " [0.79638671875, 0.314697265625, 0.07098388671875],\n",
       " [0.2357177734375, 0.9990234375, 0.94384765625],\n",
       " [0.08734130859375, 0.301513671875, 0.3154296875],\n",
       " [0.740234375, 0.5244140625, 0.9453125],\n",
       " [0.93212890625, 0.428466796875, 0.8515625],\n",
       " [0.62841796875, 0.35595703125, 0.47314453125],\n",
       " [0.69873046875, 0.9345703125, 0.6337890625],\n",
       " [0.6806640625, 0.29541015625, 0.430419921875],\n",
       " [0.264404296875, 0.123291015625, 0.48388671875],\n",
       " [0.89404296875, 0.14892578125, 0.3759765625],\n",
       " [0.90283203125, 0.1214599609375, 0.11676025390625],\n",
       " [0.3740234375, 0.7880859375, 0.318115234375],\n",
       " [0.5947265625, 0.732421875, 0.9541015625],\n",
       " [0.7470703125, 0.55078125, 0.56005859375],\n",
       " [0.169189453125, 0.3056640625, 0.45751953125],\n",
       " [0.0853271484375, 0.994140625, 0.80615234375],\n",
       " [0.6943359375, 0.311767578125, 0.97119140625],\n",
       " [0.29052734375, 0.155517578125, 0.65771484375],\n",
       " [0.257568359375, 0.763671875, 0.236083984375],\n",
       " [0.047760009765625, 0.939453125, 0.01041412353515625],\n",
       " [0.9150390625, 0.552734375, 0.2137451171875],\n",
       " [0.98046875, 0.0897216796875, 0.79296875],\n",
       " [0.5810546875, 0.154296875, 0.45263671875],\n",
       " [0.2646484375, 0.10040283203125, 0.66943359375],\n",
       " [0.55322265625, 0.4755859375, 0.412353515625],\n",
       " [0.0892333984375, 0.7998046875, 0.382080078125],\n",
       " [0.7119140625, 0.99169921875, 0.65869140625],\n",
       " [0.249267578125, 0.900390625, 0.6982421875],\n",
       " [0.697265625, 0.82666015625, 0.84521484375],\n",
       " [0.040740966796875, 0.85400390625, 0.046051025390625],\n",
       " [0.3330078125, 0.16845703125, 0.55908203125],\n",
       " [0.2264404296875, 0.66748046875, 0.29443359375],\n",
       " [0.7265625, 0.14990234375, 0.87353515625],\n",
       " [0.372802734375, 0.955078125, 0.60009765625],\n",
       " [0.61279296875, 0.61083984375, 0.365234375],\n",
       " [0.312255859375, 0.089599609375, 0.9755859375],\n",
       " [0.927734375, 0.2978515625, 0.5126953125],\n",
       " [0.92431640625, 0.06884765625, 0.37841796875],\n",
       " [0.20947265625, 0.265869140625, 0.293701171875],\n",
       " [0.10791015625, 0.57177734375, 0.80322265625],\n",
       " [0.4775390625, 0.90673828125, 0.057464599609375],\n",
       " [0.9853515625, 0.7021484375, 0.74462890625],\n",
       " [0.393310546875, 0.365478515625, 0.0010385513305664062],\n",
       " [0.64599609375, 0.97119140625, 0.73046875],\n",
       " [0.72998046875, 0.3701171875, 0.08648681640625],\n",
       " [0.9326171875, 0.41650390625, 0.73876953125],\n",
       " [0.7939453125, 0.7900390625, 0.4228515625],\n",
       " [0.953125, 0.8916015625, 0.99365234375],\n",
       " [0.966796875, 0.35009765625, 0.360107421875],\n",
       " [0.04022216796875, 0.63720703125, 0.84912109375],\n",
       " [0.199462890625, 0.80078125, 0.357177734375],\n",
       " [0.59326171875, 0.2220458984375, 0.420654296875],\n",
       " [0.99658203125, 0.0943603515625, 0.335693359375],\n",
       " [0.41552734375, 0.55712890625, 0.0732421875],\n",
       " [0.8125, 0.00583648681640625, 0.6708984375],\n",
       " [0.277587890625, 0.87451171875, 0.0823974609375],\n",
       " [0.92529296875, 0.12005615234375, 0.398193359375],\n",
       " [0.69091796875, 0.09295654296875, 0.114501953125],\n",
       " [0.2359619140625, 0.07476806640625, 0.260498046875],\n",
       " [0.2734375, 0.6630859375, 0.73876953125],\n",
       " [0.72314453125, 0.03411865234375, 0.0350341796875],\n",
       " [0.828125, 0.37353515625, 0.88525390625],\n",
       " [0.6181640625, 0.07305908203125, 0.72265625],\n",
       " [0.06658935546875, 0.0833740234375, 0.485595703125],\n",
       " [0.85302734375, 0.304931640625, 0.8857421875],\n",
       " [0.26318359375, 0.9326171875, 0.03265380859375],\n",
       " [0.509765625, 0.38671875, 0.25146484375],\n",
       " [0.16650390625, 0.53759765625, 0.146240234375],\n",
       " [0.1021728515625, 0.49755859375, 0.67578125],\n",
       " [0.52197265625, 0.845703125, 0.187255859375],\n",
       " [0.95654296875, 0.66552734375, 0.73974609375],\n",
       " [0.02410888671875, 0.7900390625, 0.359619140625],\n",
       " [0.1917724609375, 0.72900390625, 0.59326171875],\n",
       " [0.77001953125, 0.830078125, 0.1702880859375],\n",
       " [0.6025390625, 0.466552734375, 0.2333984375],\n",
       " [0.075927734375, 0.45703125, 0.0043182373046875],\n",
       " [0.0108642578125, 0.62890625, 0.57861328125],\n",
       " [0.5302734375, 0.271484375, 0.97509765625],\n",
       " [0.96630859375, 0.261962890625, 0.401123046875],\n",
       " [0.2325439453125, 0.67724609375, 0.62158203125],\n",
       " [0.11260986328125, 0.412353515625, 0.485595703125],\n",
       " [0.1854248046875, 0.5751953125, 0.447998046875],\n",
       " [0.005863189697265625, 0.85302734375, 0.433837890625],\n",
       " [0.11614990234375, 0.066650390625, 0.325927734375],\n",
       " [0.280029296875, 0.0137786865234375, 0.69970703125],\n",
       " [0.51171875, 0.94384765625, 0.78271484375],\n",
       " [0.2216796875, 0.1787109375, 0.93115234375],\n",
       " [0.59130859375, 0.119384765625, 0.70703125],\n",
       " [0.450439453125, 0.46875, 0.2200927734375],\n",
       " [0.86962890625, 0.68994140625, 0.61767578125],\n",
       " [0.38818359375, 0.40625, 0.370361328125],\n",
       " [0.6005859375, 0.17041015625, 0.61083984375],\n",
       " [0.35107421875, 0.44677734375, 0.77783203125],\n",
       " [0.99072265625, 0.87841796875, 0.8984375],\n",
       " [0.60205078125, 0.82861328125, 0.626953125],\n",
       " [0.076904296875, 0.8291015625, 0.043853759765625],\n",
       " [0.0531005859375, 0.1351318359375, 0.6162109375],\n",
       " [0.2408447265625, 0.96484375, 0.53173828125],\n",
       " [0.6240234375, 0.98291015625, 0.353271484375],\n",
       " [0.806640625, 0.431396484375, 0.345703125],\n",
       " [0.9462890625, 0.68359375, 0.470458984375],\n",
       " [0.90625, 0.2408447265625, 0.955078125],\n",
       " [0.1630859375, 0.01471710205078125, 0.5390625],\n",
       " [0.438232421875, 0.66796875, 0.06707763671875],\n",
       " [0.143310546875, 0.92529296875, 0.30712890625],\n",
       " [0.7314453125, 0.69970703125, 0.84814453125],\n",
       " [0.0146942138671875, 0.375, 0.163818359375],\n",
       " [0.66943359375, 0.97802734375, 0.7939453125],\n",
       " [0.10833740234375, 0.415771484375, 0.1610107421875],\n",
       " [0.416259765625, 0.80029296875, 0.4931640625],\n",
       " [0.744140625, 0.69482421875, 0.5888671875],\n",
       " [0.95556640625, 0.27783203125, 0.87841796875],\n",
       " [0.99169921875, 0.6708984375, 0.92236328125],\n",
       " [0.006103515625, 0.2724609375, 0.55908203125],\n",
       " [0.119873046875, 0.60498046875, 0.98828125],\n",
       " [0.8330078125, 0.044677734375, 0.86962890625],\n",
       " [0.359130859375, 0.032440185546875, 0.81640625],\n",
       " [0.36572265625, 0.466796875, 0.387939453125],\n",
       " [0.72216796875, 0.6240234375, 0.5048828125],\n",
       " [0.740234375, 0.8642578125, 0.478759765625],\n",
       " [0.1573486328125, 0.8525390625, 0.8583984375],\n",
       " [0.277587890625, 0.916015625, 0.1822509765625],\n",
       " [0.1190185546875, 0.2171630859375, 0.86083984375],\n",
       " [0.46484375, 0.7861328125, 0.9404296875],\n",
       " [0.250244140625, 0.11669921875, 0.3935546875],\n",
       " [0.51708984375, 0.513671875, 0.328857421875],\n",
       " [0.4736328125, 0.9404296875, 0.53173828125],\n",
       " [0.100830078125, 0.06353759765625, 0.99755859375],\n",
       " [0.093505859375, 0.037139892578125, 0.56591796875],\n",
       " [0.01364898681640625, 0.0367431640625, 0.004955291748046875],\n",
       " [0.78857421875, 0.408203125, 0.26611328125],\n",
       " [0.76416015625, 0.124755859375, 0.031341552734375],\n",
       " [0.06365966796875, 0.4482421875, 0.31201171875],\n",
       " [0.7578125, 0.77294921875, 0.78955078125],\n",
       " [0.9931640625, 0.60400390625, 0.5068359375],\n",
       " [0.1376953125, 0.59716796875, 0.6904296875],\n",
       " [0.3603515625, 0.98193359375, 0.1512451171875],\n",
       " [0.2314453125, 0.5966796875, 0.95068359375],\n",
       " [0.42724609375, 0.77880859375, 0.72802734375],\n",
       " [0.74169921875, 0.1356201171875, 0.7578125],\n",
       " [0.9423828125, 0.450927734375, 0.890625],\n",
       " [0.771484375, 0.6650390625, 0.6982421875],\n",
       " [0.375, 0.272216796875, 0.1478271484375],\n",
       " [0.751953125, 0.6640625, 0.030975341796875],\n",
       " [0.09747314453125, 0.2109375, 0.73095703125],\n",
       " [0.256103515625, 0.61572265625, 0.296630859375],\n",
       " [0.95849609375, 0.76025390625, 0.8837890625],\n",
       " [0.5439453125, 0.1689453125, 0.8173828125],\n",
       " [0.830078125, 0.60693359375, 0.865234375],\n",
       " [0.241455078125, 0.170166015625, 0.035888671875],\n",
       " [0.0736083984375, 0.705078125, 0.218017578125],\n",
       " [0.258056640625, 0.24658203125, 0.837890625],\n",
       " [0.564453125, 0.9306640625, 0.01030731201171875],\n",
       " [0.626953125, 0.5234375, 0.5966796875],\n",
       " [0.2235107421875, 0.55810546875, 0.1279296875],\n",
       " [0.90576171875, 0.260498046875, 0.84228515625],\n",
       " [0.54248046875, 0.228515625, 0.42236328125],\n",
       " [0.83349609375, 0.283447265625, 0.71630859375],\n",
       " [0.9921875, 0.1229248046875, 0.274658203125],\n",
       " [0.89599609375, 0.268310546875, 0.650390625],\n",
       " [0.76708984375, 0.3525390625, 0.04180908203125],\n",
       " [0.0750732421875, 0.9365234375, 0.08843994140625],\n",
       " [0.81591796875, 0.85498046875, 0.54345703125],\n",
       " [0.55029296875, 0.464599609375, 0.38525390625],\n",
       " [0.37158203125, 0.481201171875, 0.45361328125],\n",
       " [0.416015625, 0.5615234375, 0.88037109375],\n",
       " [0.424560546875, 0.441650390625, 0.387939453125],\n",
       " [0.422119140625, 0.67333984375, 0.521484375],\n",
       " [0.544921875, 0.0248565673828125, 0.79638671875],\n",
       " [0.47021484375, 0.5751953125, 0.888671875],\n",
       " [0.461181640625, 0.81103515625, 0.8076171875],\n",
       " [0.0017042160034179688, 0.269287109375, 0.69140625],\n",
       " [0.81103515625, 0.82666015625, 0.257568359375],\n",
       " [0.287109375, 0.12939453125, 0.8251953125],\n",
       " [0.0142364501953125, 0.98486328125, 0.275634765625],\n",
       " [0.45703125, 0.80517578125, 0.10894775390625],\n",
       " [0.85205078125, 0.5751953125, 0.560546875],\n",
       " [0.95458984375, 0.07440185546875, 0.2529296875],\n",
       " [0.71044921875, 0.89111328125, 0.61474609375],\n",
       " [0.8515625, 0.179931640625, 0.74658203125],\n",
       " [0.375732421875, 0.82666015625, 0.00920867919921875],\n",
       " [0.73779296875, 0.689453125, 0.245361328125],\n",
       " [0.052490234375, 0.279296875, 0.59130859375],\n",
       " [0.445556640625, 0.572265625, 0.467529296875],\n",
       " [0.578125, 0.315673828125, 0.22265625],\n",
       " [0.9013671875, 0.492919921875, 0.426025390625],\n",
       " [0.38525390625, 0.8876953125, 0.364013671875],\n",
       " [0.01532745361328125, 0.485107421875, 0.1888427734375],\n",
       " [0.54443359375, 0.76416015625, 0.77490234375],\n",
       " [0.31396484375, 0.9443359375, 0.58056640625],\n",
       " [0.323486328125, 0.436279296875, 0.8515625],\n",
       " [0.11431884765625, 0.265380859375, 0.97216796875],\n",
       " [0.8955078125, 0.64697265625, 0.4423828125],\n",
       " [0.75146484375, 0.92529296875, 0.78173828125],\n",
       " [0.2919921875, 0.2230224609375, 0.368896484375],\n",
       " [0.830078125, 0.2410888671875, 0.947265625],\n",
       " [0.1334228515625, 0.50244140625, 0.68896484375],\n",
       " [0.34765625, 0.5068359375, 0.2476806640625],\n",
       " [0.14208984375, 0.343994140625, 0.93310546875],\n",
       " [0.65283203125, 0.59765625, 0.203857421875],\n",
       " [0.08319091796875, 0.61376953125, 0.1165771484375],\n",
       " [0.541015625, 0.08282470703125, 0.35546875],\n",
       " [0.2242431640625, 0.607421875, 0.6396484375],\n",
       " [0.1771240234375, 0.94189453125, 0.66796875],\n",
       " [0.58349609375, 0.39453125, 0.970703125],\n",
       " [0.3095703125, 0.865234375, 0.000896453857421875],\n",
       " [0.9150390625, 0.279296875, 0.376708984375],\n",
       " [0.828125, 0.37744140625, 0.69970703125],\n",
       " [0.59130859375, 0.2041015625, 0.95947265625],\n",
       " [0.83837890625, 0.9404296875, 0.517578125],\n",
       " [0.025787353515625, 0.6064453125, 0.79345703125],\n",
       " [0.79736328125, 0.2783203125, 0.01068115234375],\n",
       " [0.63525390625, 0.482421875, 0.91796875],\n",
       " [0.8779296875, 0.2335205078125, 0.27490234375],\n",
       " [0.71826171875, 0.11224365234375, 0.7705078125],\n",
       " [0.69287109375, 0.4775390625, 0.1990966796875],\n",
       " [0.179931640625, 0.391357421875, 0.0157318115234375],\n",
       " [0.43505859375, 0.050201416015625, 0.57177734375],\n",
       " [0.81103515625, 0.80322265625, 0.57861328125],\n",
       " [0.63720703125, 0.48388671875, 0.60400390625],\n",
       " [0.9501953125, 0.132568359375, 0.84375],\n",
       " [0.638671875, 0.517578125, 0.95556640625],\n",
       " [0.513671875, 0.9619140625, 0.84228515625],\n",
       " [0.875, 0.08135986328125, 0.8759765625],\n",
       " [0.261962890625, 0.82470703125, 0.269287109375],\n",
       " [0.3984375, 0.6533203125, 0.55078125],\n",
       " [0.273681640625, 0.1494140625, 0.7392578125],\n",
       " [0.72119140625, 0.91748046875, 0.35107421875],\n",
       " [0.33837890625, 0.31591796875, 0.7109375],\n",
       " [0.74609375, 0.228271484375, 0.833984375],\n",
       " [0.53076171875, 0.07421875, 0.190185546875],\n",
       " [0.75, 0.69921875, 0.61279296875],\n",
       " [0.012237548828125, 0.1927490234375, 0.8271484375],\n",
       " [0.61181640625, 0.6826171875, 0.73046875],\n",
       " [0.2403564453125, 0.11053466796875, 0.7587890625],\n",
       " [0.392333984375, 0.125732421875, 0.11883544921875],\n",
       " [0.64208984375, 0.2017822265625, 0.279296875],\n",
       " [0.96337890625, 0.4345703125, 0.1116943359375],\n",
       " [0.25830078125, 0.5625, 0.71337890625],\n",
       " [0.888671875, 0.0880126953125, 0.267822265625],\n",
       " [0.5517578125, 0.60302734375, 0.420654296875],\n",
       " [0.373291015625, 0.88916015625, 0.712890625],\n",
       " [0.99951171875, 0.666015625, 0.2364501953125],\n",
       " [0.081787109375, 0.485595703125, 0.525390625],\n",
       " [0.791015625, 0.93994140625, 0.7275390625],\n",
       " [0.46728515625, 0.048553466796875, 0.52001953125],\n",
       " [0.030242919921875, 0.0309295654296875, 0.493408203125],\n",
       " [0.03314208984375, 0.77783203125, 0.27294921875],\n",
       " [0.5087890625, 0.82958984375, 0.82275390625],\n",
       " [0.390380859375, 0.0755615234375, 0.349365234375],\n",
       " [0.50390625, 0.86962890625, 0.0980224609375],\n",
       " [0.1134033203125, 0.5029296875, 0.12286376953125],\n",
       " [0.4248046875, 0.373046875, 0.0634765625],\n",
       " [0.21044921875, 0.4013671875, 0.86572265625],\n",
       " [0.59375, 0.88720703125, 0.57080078125],\n",
       " [0.302490234375, 0.5908203125, 0.50927734375],\n",
       " [0.182861328125, 0.52734375, 0.60986328125],\n",
       " [0.64013671875, 0.09625244140625, 0.9150390625],\n",
       " [0.84912109375, 0.3583984375, 0.64892578125],\n",
       " [0.8515625, 0.5048828125, 0.5517578125],\n",
       " [0.8583984375, 0.251953125, 0.3974609375],\n",
       " [0.436279296875, 0.71875, 0.284423828125],\n",
       " [0.6328125, 0.167724609375, 0.90869140625],\n",
       " [0.425048828125, 0.036224365234375, 0.5],\n",
       " [0.2398681640625, 0.295654296875, 0.72314453125],\n",
       " [0.85009765625, 0.75, 0.6044921875],\n",
       " [0.236572265625, 0.060028076171875, 0.233154296875],\n",
       " [0.1949462890625, 0.4794921875, 0.0263214111328125],\n",
       " [0.26513671875, 0.8037109375, 0.646484375],\n",
       " [0.283203125, 0.437744140625, 0.8076171875],\n",
       " [0.59765625, 0.1751708984375, 0.94970703125],\n",
       " [0.032989501953125, 0.1849365234375, 0.2091064453125],\n",
       " [0.54052734375, 0.018524169921875, 0.45166015625],\n",
       " [0.9365234375, 0.5390625, 0.427734375],\n",
       " [0.4345703125, 0.2022705078125, 0.52978515625],\n",
       " [0.497802734375, 0.0479736328125, 0.06646728515625],\n",
       " [0.61767578125, 0.95654296875, 0.7421875],\n",
       " [0.61181640625, 0.1690673828125, 0.7177734375],\n",
       " [0.05303955078125, 0.005458831787109375, 0.2239990234375],\n",
       " [0.371826171875, 0.9013671875, 0.97314453125],\n",
       " [0.1630859375, 0.224853515625, 0.826171875],\n",
       " [0.472900390625, 0.325439453125, 0.443115234375],\n",
       " [0.294921875, 0.52490234375, 0.5400390625],\n",
       " [0.496337890625, 0.483642578125, 0.900390625],\n",
       " [0.030120849609375, 0.701171875, 0.56494140625],\n",
       " [0.09149169921875, 0.68505859375, 0.732421875],\n",
       " [0.455078125, 0.0367431640625, 0.2105712890625],\n",
       " [0.625, 0.7109375, 0.6220703125],\n",
       " [0.654296875, 0.99365234375, 0.984375],\n",
       " [0.495849609375, 0.7958984375, 0.1866455078125],\n",
       " [0.822265625, 0.2529296875, 0.1536865234375],\n",
       " [0.6201171875, 0.5283203125, 0.2205810546875],\n",
       " [0.27490234375, 0.20458984375, 0.451904296875],\n",
       " [0.79833984375, 0.1883544921875, 0.56494140625],\n",
       " [0.8798828125, 0.59521484375, 0.521484375],\n",
       " [0.6123046875, 0.7509765625, 0.6162109375],\n",
       " [0.5947265625, 0.2105712890625, 0.479248046875],\n",
       " [0.53173828125, 0.193603515625, 0.33837890625],\n",
       " [0.56103515625, 0.53125, 0.814453125],\n",
       " [0.30322265625, 0.77294921875, 0.07684326171875],\n",
       " [0.85986328125, 0.275390625, 0.59033203125],\n",
       " [0.60546875, 0.44482421875, 0.126953125],\n",
       " [0.25146484375, 0.98046875, 0.1510009765625],\n",
       " [0.93359375, 0.326904296875, 0.87939453125],\n",
       " [0.04534912109375, 0.59619140625, 0.69580078125],\n",
       " [0.71142578125, 0.2548828125, 0.533203125],\n",
       " [0.05279541015625, 0.1964111328125, 0.943359375],\n",
       " [0.91796875, 0.0726318359375, 0.71630859375],\n",
       " [0.732421875, 0.7470703125, 0.27294921875],\n",
       " [0.1312255859375, 0.845703125, 0.646484375],\n",
       " [0.063720703125, 0.32275390625, 0.83056640625],\n",
       " [0.93896484375, 0.24658203125, 0.80908203125],\n",
       " [0.0897216796875, 0.478271484375, 0.254638671875],\n",
       " [0.73193359375, 0.07232666015625, 0.818359375],\n",
       " [0.85693359375, 0.89111328125, 0.489013671875],\n",
       " [0.0023746490478515625, 0.69775390625, 0.1917724609375],\n",
       " [0.0648193359375, 0.58203125, 0.244873046875],\n",
       " [0.416748046875, 0.583984375, 0.05596923828125],\n",
       " [0.5869140625, 0.57568359375, 0.0139007568359375],\n",
       " [0.5009765625, 0.06683349609375, 0.70458984375],\n",
       " [0.1201171875, 0.62646484375, 0.2470703125],\n",
       " [0.74755859375, 0.29833984375, 0.346435546875],\n",
       " [0.41015625, 0.75830078125, 0.79248046875],\n",
       " [0.908203125, 0.407958984375, 0.41064453125],\n",
       " [0.80029296875, 0.9306640625, 0.9541015625],\n",
       " [0.1820068359375, 0.693359375, 0.3232421875],\n",
       " [0.26318359375, 0.337646484375, 0.1785888671875],\n",
       " [0.7138671875, 0.475341796875, 0.982421875],\n",
       " [0.72021484375, 0.9326171875, 0.83251953125],\n",
       " [0.7421875, 0.5634765625, 0.94580078125],\n",
       " [0.65576171875, 0.775390625, 0.039459228515625],\n",
       " [0.5380859375, 0.7919921875, 0.262451171875],\n",
       " [0.1767578125, 0.3193359375, 0.45166015625],\n",
       " [0.483154296875, 0.63525390625, 0.474365234375],\n",
       " [0.51904296875, 0.354736328125, 0.77294921875],\n",
       " [0.85205078125, 0.76025390625, 0.89990234375],\n",
       " [0.07940673828125, 0.092529296875, 0.437255859375],\n",
       " [0.15185546875, 0.04736328125, 0.6376953125],\n",
       " [0.356201171875, 0.58740234375, 0.327880859375],\n",
       " [0.0052490234375, 0.34130859375, 0.69775390625],\n",
       " [0.05010986328125, 0.70166015625, 0.89208984375],\n",
       " [0.1451416015625, 0.301025390625, 0.68994140625],\n",
       " [0.9306640625, 0.833984375, 0.041229248046875],\n",
       " [0.273193359375, 0.279052734375, 0.89599609375],\n",
       " [0.90966796875, 0.2958984375, 0.07855224609375],\n",
       " [0.59912109375, 0.73291015625, 0.6513671875],\n",
       " [0.5986328125, 0.392333984375, 0.1268310546875],\n",
       " [0.7998046875, 0.69775390625, 0.80712890625],\n",
       " [0.75146484375, 0.6376953125, 0.9697265625],\n",
       " [0.62158203125, 0.75732421875, 0.45166015625],\n",
       " [0.87646484375, 0.4013671875, 0.461181640625],\n",
       " [0.6962890625, 0.1004638671875, 0.8037109375],\n",
       " [0.81005859375, 0.0176849365234375, 0.36083984375],\n",
       " [0.07275390625, 0.97509765625, 0.048004150390625],\n",
       " [0.341064453125, 0.0247344970703125, 0.43896484375],\n",
       " [0.07086181640625, 0.1865234375, 0.70556640625],\n",
       " [0.96728515625, 0.9755859375, 0.00516510009765625],\n",
       " [0.04705810546875, 0.0511474609375, 0.625],\n",
       " [0.283447265625, 0.446044921875, 0.24365234375],\n",
       " [0.356689453125, 0.69970703125, 0.98291015625],\n",
       " [0.62255859375, 0.330810546875, 0.92431640625],\n",
       " [0.5546875, 0.1875, 0.9912109375],\n",
       " [0.73486328125, 0.351806640625, 0.529296875],\n",
       " [0.10943603515625, 0.41796875, 0.489990234375],\n",
       " [0.0231170654296875, 0.55517578125, 0.38427734375],\n",
       " [0.424560546875, 0.67724609375, 0.1578369140625],\n",
       " [0.857421875, 0.9453125, 0.2744140625],\n",
       " [0.634765625, 0.0019216537475585938, 0.595703125],\n",
       " [0.2958984375, 0.53515625, 0.33837890625],\n",
       " [0.87646484375, 0.314453125, 0.97607421875],\n",
       " [0.56005859375, 0.69580078125, 0.179931640625],\n",
       " [0.97314453125, 0.1904296875, 0.98388671875],\n",
       " [0.50341796875, 0.4814453125, 0.34228515625],\n",
       " [0.434814453125, 0.039794921875, 0.05572509765625],\n",
       " [0.16552734375, 0.796875, 0.11090087890625],\n",
       " [0.60693359375, 0.2255859375, 0.1859130859375],\n",
       " [0.85400390625, 0.375, 0.95654296875],\n",
       " [0.5966796875, 0.546875, 0.90966796875],\n",
       " [0.56494140625, 0.97705078125, 0.0830078125],\n",
       " [0.52685546875, 0.41845703125, 0.6220703125],\n",
       " [0.76806640625, 0.07623291015625, 0.1773681640625],\n",
       " [0.5498046875, 0.7568359375, 0.00778961181640625],\n",
       " [0.446044921875, 0.8623046875, 0.314697265625],\n",
       " [0.360107421875, 0.07025146484375, 0.35595703125],\n",
       " [0.60888671875, 0.44482421875, 0.2259521484375],\n",
       " [0.1732177734375, 0.55908203125, 0.1728515625],\n",
       " [0.1151123046875, 0.87451171875, 0.44580078125],\n",
       " [0.255615234375, 0.56982421875, 0.56689453125],\n",
       " [0.05621337890625, 0.421630859375, 0.5478515625],\n",
       " [0.09674072265625, 0.364013671875, 0.92919921875],\n",
       " [0.9560546875, 0.00495147705078125, 0.08740234375],\n",
       " [0.1904296875, 0.044921875, 0.33056640625],\n",
       " [0.57177734375, 0.33544921875, 0.65283203125],\n",
       " [0.814453125, 0.6591796875, 0.25244140625],\n",
       " [0.6435546875, 0.802734375, 0.22021484375],\n",
       " [0.79541015625, 0.272705078125, 0.12420654296875],\n",
       " [0.73828125, 0.9228515625, 0.84375],\n",
       " [0.0195159912109375, 0.379150390625, 0.5908203125],\n",
       " [0.2587890625, 0.4814453125, 0.444580078125],\n",
       " [0.116455078125, 0.7783203125, 0.5810546875],\n",
       " [0.58544921875, 0.7138671875, 0.6669921875],\n",
       " [0.451171875, 0.3564453125, 0.472412109375],\n",
       " [0.0726318359375, 0.38330078125, 0.7958984375],\n",
       " [0.7587890625, 0.74853515625, 0.1387939453125],\n",
       " [0.4267578125, 0.3095703125, 0.08941650390625],\n",
       " [0.93359375, 0.25, 0.1978759765625],\n",
       " [0.389404296875, 0.5673828125, 0.69921875],\n",
       " [0.89990234375, 0.8515625, 0.004215240478515625],\n",
       " [0.771484375, 0.21337890625, 0.83837890625],\n",
       " [0.97021484375, 0.135986328125, 0.642578125],\n",
       " [0.73486328125, 0.53125, 0.64404296875],\n",
       " [0.89794921875, 0.28173828125, 0.93701171875],\n",
       " [0.595703125, 0.89404296875, 0.29736328125],\n",
       " [0.81005859375, 0.48046875, 0.52880859375],\n",
       " [0.65087890625, 0.22412109375, 0.48681640625],\n",
       " [0.347900390625, 0.94482421875, 0.0221405029296875],\n",
       " [0.98095703125, 0.775390625, 0.9853515625],\n",
       " [0.343017578125, 0.76220703125, 0.04278564453125],\n",
       " [0.63671875, 0.423095703125, 0.39990234375],\n",
       " [0.1529541015625, 0.9765625, 0.4794921875],\n",
       " [0.427734375, 0.8681640625, 0.8876953125],\n",
       " [0.43408203125, 0.98046875, 0.032745361328125],\n",
       " [0.06689453125, 0.210693359375, 0.697265625],\n",
       " [0.327880859375, 0.33056640625, 0.041107177734375],\n",
       " [0.9658203125, 0.7265625, 0.60498046875],\n",
       " [0.27392578125, 0.80322265625, 0.03497314453125],\n",
       " [0.249267578125, 0.8193359375, 0.771484375],\n",
       " [0.189208984375, 0.2232666015625, 0.417724609375],\n",
       " [0.039154052734375, 0.328369140625, 0.79150390625],\n",
       " [0.9755859375, 0.79833984375, 0.78173828125],\n",
       " [0.90234375, 0.8369140625, 0.63720703125],\n",
       " [0.06732177734375, 0.137451171875, 0.9130859375],\n",
       " [0.56787109375, 0.650390625, 0.978515625],\n",
       " [0.034393310546875, 0.85986328125, 0.049652099609375],\n",
       " [0.051483154296875, 0.63916015625, 0.28173828125],\n",
       " [0.58056640625, 0.740234375, 0.99658203125],\n",
       " [0.313720703125, 0.95068359375, 0.475830078125],\n",
       " [0.7607421875, 0.07489013671875, 0.273681640625],\n",
       " [0.685546875, 0.60302734375, 0.0020084381103515625],\n",
       " [0.65869140625, 0.2734375, 0.5126953125],\n",
       " [0.325927734375, 0.0272979736328125, 0.7470703125],\n",
       " [0.72705078125, 0.5087890625, 0.060699462890625],\n",
       " [0.353515625, 0.6455078125, 0.68115234375],\n",
       " [0.5556640625, 0.118896484375, 0.51416015625],\n",
       " [0.067138671875, 0.71142578125, 0.21337890625],\n",
       " [0.062469482421875, 0.288818359375, 0.169921875],\n",
       " [0.360107421875, 0.96435546875, 0.142822265625],\n",
       " [0.98486328125, 0.837890625, 0.434814453125],\n",
       " [0.544921875, 0.1617431640625, 0.96533203125],\n",
       " [0.491455078125, 0.8681640625, 0.5400390625],\n",
       " [0.896484375, 0.498291015625, 0.28759765625],\n",
       " [0.57177734375, 0.2191162109375, 0.398193359375],\n",
       " [0.435302734375, 0.6162109375, 0.44775390625],\n",
       " [0.986328125, 0.6748046875, 0.89794921875],\n",
       " [0.86669921875, 0.385009765625, 0.40966796875],\n",
       " [0.990234375, 0.06463623046875, 0.72119140625],\n",
       " [0.55224609375, 0.55517578125, 0.25927734375],\n",
       " [0.56396484375, 0.68701171875, 0.064697265625],\n",
       " [0.087646484375, 0.77197265625, 0.82080078125],\n",
       " [0.56591796875, 0.74267578125, 0.47900390625],\n",
       " [0.38232421875, 0.541015625, 0.38330078125],\n",
       " [0.42919921875, 0.058349609375, 0.7109375],\n",
       " [0.394775390625, 0.67626953125, 0.135009765625],\n",
       " [0.9169921875, 0.483154296875, 0.07672119140625],\n",
       " [0.673828125, 0.374267578125, 0.54638671875],\n",
       " [0.2283935546875, 0.9326171875, 0.66259765625],\n",
       " [0.39306640625, 0.52490234375, 0.8623046875],\n",
       " [0.263671875, 0.61376953125, 0.70458984375],\n",
       " [0.06219482421875, 0.578125, 0.312744140625],\n",
       " [0.85302734375, 0.1917724609375, 0.1937255859375],\n",
       " [0.68603515625, 0.3486328125, 0.83935546875],\n",
       " [0.478271484375, 0.046356201171875, 0.4296875],\n",
       " [0.00818634033203125, 0.8232421875, 0.80322265625],\n",
       " [0.73095703125, 0.775390625, 0.228759765625],\n",
       " [0.55859375, 0.81884765625, 0.82861328125],\n",
       " [0.6669921875, 0.287841796875, 0.044525146484375],\n",
       " [0.1402587890625, 0.42529296875, 0.46533203125],\n",
       " [0.278076171875, 0.96826171875, 0.029754638671875],\n",
       " [0.324462890625, 0.6640625, 0.71533203125],\n",
       " [0.640625, 0.662109375, 0.30908203125],\n",
       " [0.11993408203125, 0.92919921875, 0.76220703125],\n",
       " [0.0156402587890625, 0.95849609375, 0.3251953125],\n",
       " [0.53466796875, 0.83642578125, 0.43798828125],\n",
       " [0.93505859375, 0.243896484375, 0.1285400390625],\n",
       " [0.70703125, 0.10736083984375, 0.2254638671875],\n",
       " [0.421875, 0.54345703125, 0.450927734375],\n",
       " [0.9228515625, 0.6455078125, 0.323974609375],\n",
       " [0.1671142578125, 0.8515625, 0.1109619140625],\n",
       " [0.5625, 0.11932373046875, 0.1029052734375],\n",
       " [0.4921875, 0.048675537109375, 0.50927734375],\n",
       " [0.06988525390625, 0.237548828125, 0.1275634765625],\n",
       " [0.308349609375, 0.219482421875, 0.97900390625],\n",
       " [0.64599609375, 0.6552734375, 0.97802734375],\n",
       " [0.282958984375, 0.734375, 0.9853515625],\n",
       " [0.268798828125, 0.9853515625, 0.5927734375],\n",
       " [0.994140625, 0.607421875, 0.798828125],\n",
       " [0.70166015625, 0.4482421875, 0.98974609375],\n",
       " [0.95361328125, 0.64111328125, 0.783203125],\n",
       " [0.8876953125, 0.215576171875, 0.57275390625],\n",
       " [0.038665771484375, 0.833984375, 0.77734375],\n",
       " [0.9853515625, 0.6494140625, 0.83154296875],\n",
       " [0.208984375, 0.3642578125, 0.63818359375],\n",
       " [0.56201171875, 0.458251953125, 0.2109375],\n",
       " [0.7880859375, 0.161865234375, 0.10650634765625],\n",
       " [0.7099609375, 0.07318115234375, 0.19873046875],\n",
       " [0.80615234375, 0.491455078125, 0.6328125],\n",
       " [0.67822265625, 0.93798828125, 0.79541015625],\n",
       " [0.34033203125, 0.91845703125, 0.259521484375],\n",
       " [0.76220703125, 0.56201171875, 0.83935546875],\n",
       " [0.4169921875, 0.82470703125, 0.87744140625],\n",
       " [0.83984375, 0.76220703125, 0.29931640625],\n",
       " [0.6494140625, 0.33349609375, 0.357666015625],\n",
       " [0.93505859375, 0.1038818359375, 0.07427978515625],\n",
       " [0.99951171875, 0.262939453125, 0.049407958984375],\n",
       " [0.10552978515625, 0.1263427734375, 0.5419921875],\n",
       " [0.0836181640625, 0.398193359375, 0.201171875],\n",
       " [0.59814453125, 0.65185546875, 0.611328125],\n",
       " [0.72705078125, 0.76513671875, 0.341064453125],\n",
       " [0.548828125, 0.8447265625, 0.17431640625],\n",
       " [0.459228515625, 0.11260986328125, 0.151611328125],\n",
       " [0.282958984375, 0.486572265625, 0.505859375],\n",
       " [0.55615234375, 0.80126953125, 1.0],\n",
       " [0.05694580078125, 0.328857421875, 0.947265625],\n",
       " [0.68408203125, 0.2998046875, 0.79150390625],\n",
       " [0.60009765625, 0.40576171875, 0.689453125],\n",
       " [0.421142578125, 0.79736328125, 0.73681640625],\n",
       " [0.072509765625, 0.919921875, 0.139404296875],\n",
       " [0.81494140625, 0.441162109375, 0.120361328125],\n",
       " [0.81787109375, 0.1304931640625, 0.34375],\n",
       " [0.18017578125, 0.186279296875, 0.88134765625],\n",
       " [0.97216796875, 0.9814453125, 0.70361328125],\n",
       " [0.47900390625, 0.8720703125, 0.63525390625],\n",
       " [0.8466796875, 0.99072265625, 0.08160400390625],\n",
       " [0.94384765625, 0.51611328125, 0.94970703125],\n",
       " [0.91455078125, 0.146240234375, 0.11016845703125],\n",
       " [0.04644775390625, 0.41943359375, 0.4130859375],\n",
       " [0.03961181640625, 0.61083984375, 0.97119140625],\n",
       " [0.98193359375, 0.158203125, 0.6630859375],\n",
       " [0.233154296875, 0.07379150390625, 0.94970703125],\n",
       " [0.10430908203125, 0.525390625, 0.01007080078125],\n",
       " [0.95654296875, 0.5791015625, 0.64453125],\n",
       " [0.35205078125, 0.95947265625, 0.58642578125],\n",
       " [0.68310546875, 0.18017578125, 0.0655517578125],\n",
       " [0.18017578125, 0.59033203125, 0.4111328125],\n",
       " [0.67724609375, 0.92431640625, 0.85888671875],\n",
       " [0.15576171875, 0.9130859375, 0.10455322265625],\n",
       " [0.430419921875, 0.29638671875, 0.48291015625],\n",
       " [0.1314697265625, 0.33447265625, 0.82421875],\n",
       " [0.330078125, 0.6728515625, 0.09466552734375],\n",
       " [0.341796875, 0.939453125, 0.23974609375],\n",
       " [0.91259765625, 0.7939453125, 0.1395263671875],\n",
       " [0.1798095703125, 0.1890869140625, 0.6103515625],\n",
       " [0.1971435546875, 0.73779296875, 0.72705078125],\n",
       " [0.1875, 0.1595458984375, 0.47900390625],\n",
       " [0.36376953125, 0.72900390625, 0.5732421875],\n",
       " [0.720703125, 0.8984375, 0.40234375],\n",
       " [0.3408203125, 0.36181640625, 0.275634765625],\n",
       " [0.97314453125, 0.65576171875, 0.01464080810546875],\n",
       " [0.459716796875, 0.335205078125, 0.5009765625],\n",
       " [0.0085601806640625, 0.87060546875, 0.64599609375],\n",
       " [0.47705078125, 0.73583984375, 0.71923828125],\n",
       " [0.72802734375, 0.01299285888671875, 0.8916015625],\n",
       " [0.6669921875, 0.63720703125, 0.6298828125],\n",
       " [0.693359375, 0.49560546875, 0.69921875],\n",
       " [0.5302734375, 0.119384765625, 0.68505859375],\n",
       " [0.77587890625, 0.38330078125, 0.54248046875],\n",
       " [0.6572265625, 0.0312042236328125, 0.3779296875],\n",
       " [0.9580078125, 0.2783203125, 0.13671875],\n",
       " [0.2275390625, 0.83935546875, 0.99169921875],\n",
       " [0.42431640625, 0.888671875, 0.578125],\n",
       " [0.2998046875, 0.8330078125, 0.9296875],\n",
       " [0.03521728515625, 0.31005859375, 0.52587890625],\n",
       " [0.490234375, 0.41064453125, 0.480224609375],\n",
       " [0.0908203125, 0.84033203125, 0.51416015625],\n",
       " [0.9189453125, 0.368408203125, 0.2352294921875],\n",
       " [0.044769287109375, 0.96826171875, 0.81201171875],\n",
       " [0.7734375, 0.6083984375, 0.414306640625],\n",
       " [0.87451171875, 0.367431640625, 0.50390625],\n",
       " [0.463134765625, 0.1348876953125, 0.30029296875],\n",
       " [0.78857421875, 0.99072265625, 0.23779296875],\n",
       " [0.51806640625, 0.0302886962890625, 0.7939453125],\n",
       " [0.047821044921875, 0.6728515625, 0.24853515625],\n",
       " [0.89697265625, 0.469482421875, 0.77978515625],\n",
       " [0.41015625, 0.54052734375, 0.1005859375],\n",
       " [0.06829833984375, 0.7939453125, 0.8798828125],\n",
       " [0.60107421875, 0.74267578125, 0.0928955078125],\n",
       " [0.81787109375, 0.333251953125, 0.900390625],\n",
       " [0.4853515625, 0.78955078125, 0.84130859375],\n",
       " [0.70947265625, 0.98291015625, 0.81201171875],\n",
       " [0.4423828125, 0.673828125, 0.52490234375],\n",
       " [0.876953125, 0.7626953125, 0.5625],\n",
       " [0.736328125, 0.044281005859375, 0.70703125],\n",
       " [0.6904296875, 0.91455078125, 0.52587890625],\n",
       " [0.7705078125, 0.6220703125, 0.19189453125],\n",
       " [0.490966796875, 0.927734375, 0.2481689453125],\n",
       " [0.06988525390625, 0.6572265625, 0.76220703125],\n",
       " [0.8154296875, 0.2198486328125, 0.168701171875],\n",
       " [0.423583984375, 0.46044921875, 0.197509765625],\n",
       " [0.33935546875, 0.61962890625, 0.40380859375],\n",
       " [0.99853515625, 0.2421875, 0.65625],\n",
       " [0.85107421875, 0.96435546875, 0.119384765625],\n",
       " [0.52294921875, 0.019775390625, 0.467041015625],\n",
       " [0.61279296875, 0.724609375, 0.580078125],\n",
       " [0.266845703125, 0.418212890625, 0.0231475830078125],\n",
       " [0.075927734375, 0.2900390625, 0.441650390625],\n",
       " [0.08251953125, 0.412353515625, 0.845703125],\n",
       " [0.0116119384765625, 0.33447265625, 0.0653076171875],\n",
       " [0.59375, 0.3330078125, 0.17236328125],\n",
       " [0.81591796875, 0.98876953125, 0.1793212890625],\n",
       " [0.62060546875, 0.5078125, 0.69580078125],\n",
       " [0.53369140625, 0.1649169921875, 0.185791015625],\n",
       " [0.17919921875, 0.8701171875, 0.4833984375],\n",
       " [0.56884765625, 0.96728515625, 0.5947265625],\n",
       " [0.2117919921875, 0.8935546875, 0.65283203125],\n",
       " [0.2183837890625, 0.9521484375, 0.61767578125],\n",
       " [0.712890625, 0.3359375, 0.90185546875],\n",
       " [0.450927734375, 0.47998046875, 0.350830078125],\n",
       " [0.384521484375, 0.1484375, 0.1845703125],\n",
       " [0.361572265625, 0.3544921875, 0.95068359375],\n",
       " [0.1395263671875, 0.34130859375, 0.943359375],\n",
       " [0.80419921875, 0.436767578125, 0.1700439453125],\n",
       " [0.0033893585205078125, 0.200439453125, 0.438232421875],\n",
       " [0.5166015625, 0.80859375, 0.58984375],\n",
       " [0.56689453125, 0.80078125, 0.50341796875],\n",
       " [0.01430511474609375, 0.58203125, 0.340087890625],\n",
       " [0.95458984375, 0.57568359375, 0.37548828125],\n",
       " [0.06463623046875, 0.408935546875, 0.384033203125],\n",
       " [0.958984375, 0.11126708984375, 0.60546875],\n",
       " [0.8134765625, 0.865234375, 0.0277557373046875],\n",
       " [0.93701171875, 0.28466796875, 0.64599609375],\n",
       " [0.61328125, 0.365966796875, 0.73486328125],\n",
       " [0.08868408203125, 0.529296875, 0.30517578125],\n",
       " [0.27734375, 0.43408203125, 0.8134765625],\n",
       " [0.10968017578125, 0.0165252685546875, 0.60888671875],\n",
       " [0.701171875, 0.81396484375, 0.038330078125],\n",
       " [0.461669921875, 0.4951171875, 0.86865234375],\n",
       " [0.152587890625, 0.744140625, 0.08612060546875],\n",
       " [0.62744140625, 0.86279296875, 0.7890625],\n",
       " [0.26708984375, 0.6162109375, 0.6416015625],\n",
       " [0.148193359375, 0.62060546875, 0.625],\n",
       " [0.59033203125, 0.90966796875, 0.61474609375],\n",
       " [0.279052734375, 0.44970703125, 0.9140625],\n",
       " [0.85986328125, 0.7509765625, 0.52392578125],\n",
       " [0.68310546875, 0.7744140625, 0.6640625],\n",
       " [0.173828125, 0.513671875, 0.059844970703125],\n",
       " [0.06573486328125, 0.283447265625, 0.466552734375],\n",
       " [0.9716796875, 0.65625, 0.60595703125],\n",
       " [0.8076171875, 0.7666015625, 0.279541015625],\n",
       " [0.73779296875, 0.251953125, 0.81982421875],\n",
       " [0.7978515625, 0.315185546875, 0.8623046875],\n",
       " [0.346435546875, 0.492919921875, 0.59521484375],\n",
       " [0.07403564453125, 0.931640625, 0.43603515625],\n",
       " [0.2244873046875, 0.2529296875, 0.2421875],\n",
       " [0.55517578125, 0.93701171875, 0.252685546875],\n",
       " [0.73583984375, 0.179443359375, 0.55615234375],\n",
       " [0.5712890625, 0.4912109375, 0.876953125],\n",
       " [0.9609375, 0.63671875, 0.411376953125],\n",
       " [0.630859375, 0.9326171875, 0.23583984375],\n",
       " [0.82421875, 0.2186279296875, 0.56884765625],\n",
       " [0.447998046875, 0.327392578125, 0.403076171875],\n",
       " [0.44287109375, 0.87109375, 0.69140625],\n",
       " [0.759765625, 0.94140625, 0.407958984375],\n",
       " [0.347412109375, 0.79345703125, 0.61083984375],\n",
       " [0.65625, 0.60546875, 0.361083984375],\n",
       " [0.419921875, 0.82275390625, 0.36376953125],\n",
       " [0.1873779296875, 0.64501953125, 0.73583984375],\n",
       " [0.91845703125, 0.341796875, 0.09075927734375],\n",
       " [0.587890625, 0.25048828125, 0.347900390625],\n",
       " [0.91015625, 0.349609375, 0.66748046875],\n",
       " [0.27685546875, 0.8916015625, 0.09869384765625],\n",
       " [0.66357421875, 0.52001953125, 0.179931640625],\n",
       " [0.6708984375, 0.9853515625, 0.57958984375],\n",
       " [0.7490234375, 0.5283203125, 0.44482421875],\n",
       " [0.062286376953125, 0.04339599609375, 0.1981201171875],\n",
       " [0.9345703125, 0.2264404296875, 0.88525390625],\n",
       " [0.60107421875, 0.1552734375, 0.160888671875],\n",
       " [0.74169921875, 0.78759765625, 0.0950927734375],\n",
       " [0.87744140625, 0.88671875, 0.71337890625],\n",
       " [0.0665283203125, 0.9306640625, 0.46337890625],\n",
       " [0.82275390625, 0.15966796875, 0.71337890625],\n",
       " [0.810546875, 0.42041015625, 0.63134765625],\n",
       " [0.65625, 0.0582275390625, 0.0662841796875],\n",
       " [0.43408203125, 0.1669921875, 0.051605224609375],\n",
       " [0.36669921875, 0.67919921875, 0.00766754150390625],\n",
       " [0.79638671875, 0.68701171875, 0.2646484375],\n",
       " [0.08709716796875, 0.96826171875, 0.358154296875],\n",
       " [0.96044921875, 0.9423828125, 0.90576171875],\n",
       " [0.2413330078125, 0.701171875, 0.1109619140625],\n",
       " [0.474853515625, 0.91455078125, 0.47412109375],\n",
       " [0.1944580078125, 0.1815185546875, 0.50048828125],\n",
       " [0.73046875, 0.331787109375, 0.2457275390625],\n",
       " [0.57763671875, 0.1602783203125, 0.140869140625],\n",
       " [0.10107421875, 0.43017578125, 0.787109375],\n",
       " [0.41064453125, 0.138916015625, 0.89306640625],\n",
       " [0.2435302734375, 0.82568359375, 0.57275390625],\n",
       " [0.888671875, 0.10992431640625, 0.102294921875],\n",
       " [0.55224609375, 0.501953125, 0.37646484375],\n",
       " [0.78466796875, 0.77880859375, 0.009368896484375],\n",
       " [0.330810546875, 0.54150390625, 0.7822265625],\n",
       " [0.452880859375, 0.09814453125, 0.333740234375],\n",
       " [0.8974609375, 0.054290771484375, 0.326904296875],\n",
       " [0.10687255859375, 0.9833984375, 0.040313720703125],\n",
       " [0.90576171875, 0.397705078125, 0.0753173828125],\n",
       " [0.65771484375, 0.9609375, 0.364013671875],\n",
       " [0.421630859375, 0.281494140625, 0.79736328125],\n",
       " [0.8447265625, 0.93017578125, 0.66357421875],\n",
       " [0.458251953125, 0.55859375, 0.212646484375],\n",
       " [0.80908203125, 0.98388671875, 0.5322265625],\n",
       " [0.8232421875, 0.58740234375, 0.249267578125],\n",
       " [0.07855224609375, 0.10235595703125, 0.09423828125],\n",
       " [0.412109375, 0.1522216796875, 0.26318359375],\n",
       " [0.4736328125, 0.067626953125, 0.55322265625],\n",
       " [0.7236328125, 0.044158935546875, 0.943359375],\n",
       " [0.8818359375, 0.1556396484375, 0.06610107421875],\n",
       " [0.0301971435546875, 0.033294677734375, 0.83984375],\n",
       " [0.028717041015625, 0.8310546875, 0.84375],\n",
       " [0.364013671875, 0.035919189453125, 0.62548828125],\n",
       " [0.06695556640625, 0.88525390625, 0.19873046875],\n",
       " [0.7490234375, 0.81982421875, 0.99365234375],\n",
       " [0.84521484375, 0.80224609375, 0.10028076171875],\n",
       " [0.391845703125, 0.77734375, 0.923828125],\n",
       " [0.94873046875, 0.156494140625, 0.487060546875],\n",
       " [0.255615234375, 0.8349609375, 0.176025390625],\n",
       " [0.0443115234375, 0.467041015625, 0.294677734375],\n",
       " [0.007450103759765625, 0.7744140625, 0.250732421875],\n",
       " [0.81982421875, 0.1864013671875, 0.038482666015625],\n",
       " [0.91064453125, 0.50341796875, 0.058349609375],\n",
       " [0.900390625, 0.1279296875, 0.259765625],\n",
       " [0.1798095703125, 0.63134765625, 0.435791015625],\n",
       " [0.86083984375, 0.336181640625, 0.58447265625],\n",
       " [0.36328125, 0.98583984375, 0.292236328125],\n",
       " [0.908203125, 0.46484375, 0.417724609375],\n",
       " [0.81298828125, 0.96337890625, 0.397705078125],\n",
       " [0.317626953125, 0.6640625, 0.671875],\n",
       " [0.09344482421875, 0.8798828125, 0.2193603515625],\n",
       " [0.239013671875, 0.8701171875, 0.47802734375],\n",
       " [0.25146484375, 0.826171875, 0.54443359375],\n",
       " [0.4990234375, 0.89892578125, 0.1800537109375],\n",
       " [0.26416015625, 0.54248046875, 0.67919921875],\n",
       " [0.63232421875, 0.11590576171875, 0.051513671875],\n",
       " [0.5546875, 0.9814453125, 0.49169921875],\n",
       " [0.95947265625, 0.301025390625, 0.99462890625],\n",
       " [0.79052734375, 0.8515625, 0.53125],\n",
       " [0.5146484375, 0.75439453125, 0.96826171875],\n",
       " [0.64013671875, 0.2197265625, 0.73291015625],\n",
       " [0.335693359375, 0.1151123046875, 0.8720703125],\n",
       " [0.63623046875, 0.8876953125, 0.70849609375],\n",
       " [0.97509765625, 0.921875, 0.60888671875],\n",
       " [0.71826171875, 0.065185546875, 0.35009765625],\n",
       " [0.92822265625, 0.046600341796875, 0.484375],\n",
       " [0.587890625, 0.55029296875, 0.76513671875],\n",
       " [0.25537109375, 0.20654296875, 0.26953125],\n",
       " [0.89306640625, 0.46044921875, 0.72314453125],\n",
       " [0.64794921875, 0.91552734375, 0.2403564453125],\n",
       " [0.472900390625, 0.2978515625, 0.2042236328125],\n",
       " [0.72119140625, 0.195556640625, 0.94580078125],\n",
       " [0.09771728515625, 0.603515625, 0.1322021484375],\n",
       " [0.83447265625, 0.100830078125, 0.71044921875],\n",
       " [0.97509765625, 0.67822265625, 0.77001953125],\n",
       " [0.98388671875, 0.724609375, 0.463134765625],\n",
       " [0.69140625, 0.43408203125, 0.9697265625],\n",
       " [0.953125, 0.75341796875, 0.35107421875],\n",
       " [0.86767578125, 0.478515625, 0.7392578125],\n",
       " [0.387939453125, 0.41162109375, 0.1370849609375],\n",
       " [0.77734375, 0.8896484375, 0.955078125],\n",
       " [0.9404296875, 0.1373291015625, 0.9326171875],\n",
       " [0.91943359375, 0.31787109375, 0.9765625],\n",
       " [0.84033203125, 0.52197265625, 0.76171875],\n",
       " [0.0494384765625, 0.1715087890625, 0.87841796875],\n",
       " [0.69970703125, 0.494384765625, 0.0169525146484375],\n",
       " [0.0548095703125, 0.64794921875, 0.974609375],\n",
       " [0.083740234375, 0.66845703125, 0.422119140625],\n",
       " [0.5576171875, 0.8759765625, 0.52197265625],\n",
       " [0.8515625, 0.1629638671875, 0.1983642578125],\n",
       " [0.62451171875, 0.453125, 0.97021484375],\n",
       " [0.1279296875, 0.81640625, 0.460693359375],\n",
       " [0.218017578125, 0.05328369140625, 0.249267578125],\n",
       " [0.8369140625, 0.5673828125, 0.088134765625],\n",
       " [0.85546875, 0.90283203125, 0.99658203125],\n",
       " [0.356201171875, 0.64404296875, 0.50927734375],\n",
       " [0.70703125, 0.3193359375, 0.49609375],\n",
       " [0.2410888671875, 0.7880859375, 0.249755859375],\n",
       " [0.685546875, 0.272705078125, 0.517578125],\n",
       " [0.9892578125, 0.49658203125, 0.787109375],\n",
       " [0.9580078125, 0.061004638671875, 0.35205078125],\n",
       " [0.53369140625, 0.52978515625, 0.2958984375],\n",
       " [0.04583740234375, 0.136474609375, 0.0406494140625],\n",
       " [0.9619140625, 0.451416015625, 0.90673828125],\n",
       " [0.9794921875, 0.5810546875, 0.73046875],\n",
       " [0.35791015625, 0.443603515625, 0.77001953125],\n",
       " [0.5517578125, 0.74365234375, 0.1485595703125],\n",
       " [0.043426513671875, 0.8818359375, 0.2041015625],\n",
       " ...]"
      ]
     },
     "execution_count": 37,
     "metadata": {},
     "output_type": "execute_result"
    }
   ],
   "source": [
    "outcome"
   ]
  },
  {
   "cell_type": "code",
   "execution_count": null,
   "id": "8edf254b",
   "metadata": {},
   "outputs": [],
   "source": []
  },
  {
   "cell_type": "code",
   "execution_count": null,
   "id": "9140a402",
   "metadata": {},
   "outputs": [],
   "source": []
  },
  {
   "cell_type": "code",
   "execution_count": null,
   "id": "be2cd0ff",
   "metadata": {},
   "outputs": [],
   "source": []
  },
  {
   "cell_type": "code",
   "execution_count": null,
   "id": "2b0761c5",
   "metadata": {},
   "outputs": [],
   "source": []
  },
  {
   "cell_type": "code",
   "execution_count": null,
   "id": "ab72ac9f",
   "metadata": {},
   "outputs": [],
   "source": []
  },
  {
   "cell_type": "code",
   "execution_count": null,
   "id": "47ca9209",
   "metadata": {},
   "outputs": [],
   "source": []
  },
  {
   "cell_type": "code",
   "execution_count": null,
   "id": "579e4fab",
   "metadata": {},
   "outputs": [],
   "source": []
  },
  {
   "cell_type": "code",
   "execution_count": null,
   "id": "f61c86a7",
   "metadata": {},
   "outputs": [],
   "source": []
  },
  {
   "cell_type": "code",
   "execution_count": null,
   "id": "3b0cd1ce",
   "metadata": {},
   "outputs": [],
   "source": []
  },
  {
   "cell_type": "code",
   "execution_count": null,
   "id": "226eb1df",
   "metadata": {},
   "outputs": [],
   "source": []
  },
  {
   "cell_type": "code",
   "execution_count": null,
   "id": "9f1d2d3b",
   "metadata": {},
   "outputs": [],
   "source": []
  },
  {
   "cell_type": "code",
   "execution_count": null,
   "id": "c8ecad48",
   "metadata": {},
   "outputs": [],
   "source": []
  },
  {
   "cell_type": "code",
   "execution_count": null,
   "id": "9b382ef3",
   "metadata": {},
   "outputs": [],
   "source": []
  },
  {
   "cell_type": "code",
   "execution_count": null,
   "id": "6aef6004",
   "metadata": {},
   "outputs": [],
   "source": []
  }
 ],
 "metadata": {
  "kernelspec": {
   "display_name": "Python 3 (ipykernel)",
   "language": "python",
   "name": "python3"
  },
  "language_info": {
   "codemirror_mode": {
    "name": "ipython",
    "version": 3
   },
   "file_extension": ".py",
   "mimetype": "text/x-python",
   "name": "python",
   "nbconvert_exporter": "python",
   "pygments_lexer": "ipython3",
   "version": "3.9.12"
  },
  "toc": {
   "base_numbering": 1,
   "nav_menu": {},
   "number_sections": true,
   "sideBar": true,
   "skip_h1_title": false,
   "title_cell": "Table of Contents",
   "title_sidebar": "Contents",
   "toc_cell": false,
   "toc_position": {},
   "toc_section_display": true,
   "toc_window_display": true
  },
  "varInspector": {
   "cols": {
    "lenName": 16,
    "lenType": 16,
    "lenVar": 40
   },
   "kernels_config": {
    "python": {
     "delete_cmd_postfix": "",
     "delete_cmd_prefix": "del ",
     "library": "var_list.py",
     "varRefreshCmd": "print(var_dic_list())"
    },
    "r": {
     "delete_cmd_postfix": ") ",
     "delete_cmd_prefix": "rm(",
     "library": "var_list.r",
     "varRefreshCmd": "cat(var_dic_list()) "
    }
   },
   "types_to_exclude": [
    "module",
    "function",
    "builtin_function_or_method",
    "instance",
    "_Feature"
   ],
   "window_display": false
  }
 },
 "nbformat": 4,
 "nbformat_minor": 5
}
