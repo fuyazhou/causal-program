{
 "cells": [
  {
   "cell_type": "code",
   "execution_count": 1,
   "id": "b53ae49a",
   "metadata": {
    "ExecuteTime": {
     "end_time": "2023-01-09T09:37:08.472679Z",
     "start_time": "2023-01-09T09:37:08.408129Z"
    }
   },
   "outputs": [],
   "source": [
    "from ortools.linear_solver import pywraplp\n",
    "from ortools.init import pywrapinit"
   ]
  },
  {
   "cell_type": "code",
   "execution_count": 2,
   "id": "ec6e7e94",
   "metadata": {
    "ExecuteTime": {
     "end_time": "2023-01-09T09:37:09.111681Z",
     "start_time": "2023-01-09T09:37:09.102682Z"
    }
   },
   "outputs": [],
   "source": [
    "def main():\n",
    "    # Create the linear solver with the GLOP backend.\n",
    "    solver = pywraplp.Solver.CreateSolver('GLOP')\n",
    "    if not solver:\n",
    "        return\n",
    "\n",
    "    # Create the variables x and y.\n",
    "    x = solver.NumVar(0, 1, 'x')\n",
    "    y = solver.NumVar(0, 2, 'y')\n",
    "\n",
    "    print('Number of variables =', solver.NumVariables())\n",
    "\n",
    "    # Create a linear constraint, 0 <= x + y <= 2.\n",
    "    ct = solver.Constraint(0, 2, 'ct')\n",
    "    ct.SetCoefficient(x, 1)\n",
    "    ct.SetCoefficient(y, 1)\n",
    "\n",
    "    print('Number of constraints =', solver.NumConstraints())\n",
    "\n",
    "    # Create the objective function, 3 * x + y.\n",
    "    objective = solver.Objective()\n",
    "    objective.SetCoefficient(x, 3)\n",
    "    objective.SetCoefficient(y, 1)\n",
    "    objective.SetMaximization()\n",
    "\n",
    "    solver.Solve()\n",
    "\n",
    "    print('Solution:')\n",
    "    print('Objective value =', objective.Value())\n",
    "    print('x =', x.solution_value())\n",
    "    print('y =', y.solution_value())"
   ]
  },
  {
   "cell_type": "code",
   "execution_count": 3,
   "id": "036e8223",
   "metadata": {
    "ExecuteTime": {
     "end_time": "2023-01-09T09:37:11.822574Z",
     "start_time": "2023-01-09T09:37:11.815573Z"
    }
   },
   "outputs": [],
   "source": [
    "pywrapinit.CppBridge.InitLogging('basic_example.py')\n",
    "cpp_flags = pywrapinit.CppFlags()\n",
    "cpp_flags.logtostderr = True\n",
    "cpp_flags.log_prefix = False\n",
    "pywrapinit.CppBridge.SetFlags(cpp_flags)"
   ]
  },
  {
   "cell_type": "code",
   "execution_count": 4,
   "id": "da2ba030",
   "metadata": {
    "ExecuteTime": {
     "end_time": "2023-01-09T09:37:12.618171Z",
     "start_time": "2023-01-09T09:37:12.591173Z"
    }
   },
   "outputs": [
    {
     "name": "stdout",
     "output_type": "stream",
     "text": [
      "Number of variables = 2\n",
      "Number of constraints = 1\n",
      "Solution:\n",
      "Objective value = 4.0\n",
      "x = 1.0\n",
      "y = 1.0\n"
     ]
    }
   ],
   "source": [
    "main()"
   ]
  },
  {
   "cell_type": "code",
   "execution_count": 5,
   "id": "34a6adc2",
   "metadata": {
    "ExecuteTime": {
     "end_time": "2023-01-09T09:37:15.126087Z",
     "start_time": "2023-01-09T09:37:15.117089Z"
    }
   },
   "outputs": [],
   "source": [
    "from ortools.linear_solver import pywraplp"
   ]
  },
  {
   "cell_type": "code",
   "execution_count": 6,
   "id": "0537b77e",
   "metadata": {
    "ExecuteTime": {
     "end_time": "2022-11-24T08:22:47.131239Z",
     "start_time": "2022-11-24T08:22:47.102216Z"
    }
   },
   "outputs": [],
   "source": [
    "# Nutrient minimums.\n",
    "nutrients = [\n",
    "    ['Calories (kcal)', 3],\n",
    "    ['Protein (g)', 70],\n",
    "    ['Calcium (g)', 0.8],\n",
    "    ['Iron (mg)', 12],\n",
    "    ['Vitamin A (KIU)', 5],\n",
    "    ['Vitamin B1 (mg)', 1.8],\n",
    "    ['Vitamin B2 (mg)', 2.7],\n",
    "    ['Niacin (mg)', 18],\n",
    "    ['Vitamin C (mg)', 75],\n",
    "]\n",
    "\n",
    "# Commodity, Unit, 1939 price (cents), Calories (kcal), Protein (g),\n",
    "# Calcium (g), Iron (mg), Vitamin A (KIU), Vitamin B1 (mg), Vitamin B2 (mg),\n",
    "# Niacin (mg), Vitamin C (mg)\n",
    "data = [\n",
    "    [\n",
    "        'Wheat Flour (Enriched)', '10 lb.', 36, 44.7, 1411, 2, 365, 0, 55.4,\n",
    "        33.3, 441, 0\n",
    "    ],\n",
    "    ['Macaroni', '1 lb.', 14.1, 11.6, 418, 0.7, 54, 0, 3.2, 1.9, 68, 0],\n",
    "    [\n",
    "        'Wheat Cereal (Enriched)', '28 oz.', 24.2, 11.8, 377, 14.4, 175, 0,\n",
    "        14.4, 8.8, 114, 0\n",
    "    ],\n",
    "    ['Corn Flakes', '8 oz.', 7.1, 11.4, 252, 0.1, 56, 0, 13.5, 2.3, 68, 0],\n",
    "    [\n",
    "        'Corn Meal', '1 lb.', 4.6, 36.0, 897, 1.7, 99, 30.9, 17.4, 7.9, 106,\n",
    "        0\n",
    "    ],\n",
    "    [\n",
    "        'Hominy Grits', '24 oz.', 8.5, 28.6, 680, 0.8, 80, 0, 10.6, 1.6,\n",
    "        110, 0\n",
    "    ],\n",
    "    ['Rice', '1 lb.', 7.5, 21.2, 460, 0.6, 41, 0, 2, 4.8, 60, 0],\n",
    "    ['Rolled Oats', '1 lb.', 7.1, 25.3, 907, 5.1, 341, 0, 37.1, 8.9, 64, 0],\n",
    "    [\n",
    "        'White Bread (Enriched)', '1 lb.', 7.9, 15.0, 488, 2.5, 115, 0,\n",
    "        13.8, 8.5, 126, 0\n",
    "    ],\n",
    "    [\n",
    "        'Whole Wheat Bread', '1 lb.', 9.1, 12.2, 484, 2.7, 125, 0, 13.9,\n",
    "        6.4, 160, 0\n",
    "    ],\n",
    "    ['Rye Bread', '1 lb.', 9.1, 12.4, 439, 1.1, 82, 0, 9.9, 3, 66, 0],\n",
    "    ['Pound Cake', '1 lb.', 24.8, 8.0, 130, 0.4, 31, 18.9, 2.8, 3, 17, 0],\n",
    "    ['Soda Crackers', '1 lb.', 15.1, 12.5, 288, 0.5, 50, 0, 0, 0, 0, 0],\n",
    "    ['Milk', '1 qt.', 11, 6.1, 310, 10.5, 18, 16.8, 4, 16, 7, 177],\n",
    "    [\n",
    "        'Evaporated Milk (can)', '14.5 oz.', 6.7, 8.4, 422, 15.1, 9, 26, 3,\n",
    "        23.5, 11, 60\n",
    "    ],\n",
    "    ['Butter', '1 lb.', 30.8, 10.8, 9, 0.2, 3, 44.2, 0, 0.2, 2, 0],\n",
    "    ['Oleomargarine', '1 lb.', 16.1, 20.6, 17, 0.6, 6, 55.8, 0.2, 0, 0, 0],\n",
    "    ['Eggs', '1 doz.', 32.6, 2.9, 238, 1.0, 52, 18.6, 2.8, 6.5, 1, 0],\n",
    "    [\n",
    "        'Cheese (Cheddar)', '1 lb.', 24.2, 7.4, 448, 16.4, 19, 28.1, 0.8,\n",
    "        10.3, 4, 0\n",
    "    ],\n",
    "    ['Cream', '1/2 pt.', 14.1, 3.5, 49, 1.7, 3, 16.9, 0.6, 2.5, 0, 17],\n",
    "    [\n",
    "        'Peanut Butter', '1 lb.', 17.9, 15.7, 661, 1.0, 48, 0, 9.6, 8.1,\n",
    "        471, 0\n",
    "    ],\n",
    "    ['Mayonnaise', '1/2 pt.', 16.7, 8.6, 18, 0.2, 8, 2.7, 0.4, 0.5, 0, 0],\n",
    "    ['Crisco', '1 lb.', 20.3, 20.1, 0, 0, 0, 0, 0, 0, 0, 0],\n",
    "    ['Lard', '1 lb.', 9.8, 41.7, 0, 0, 0, 0.2, 0, 0.5, 5, 0],\n",
    "    [\n",
    "        'Sirloin Steak', '1 lb.', 39.6, 2.9, 166, 0.1, 34, 0.2, 2.1, 2.9,\n",
    "        69, 0\n",
    "    ],\n",
    "    ['Round Steak', '1 lb.', 36.4, 2.2, 214, 0.1, 32, 0.4, 2.5, 2.4, 87, 0],\n",
    "    ['Rib Roast', '1 lb.', 29.2, 3.4, 213, 0.1, 33, 0, 0, 2, 0, 0],\n",
    "    ['Chuck Roast', '1 lb.', 22.6, 3.6, 309, 0.2, 46, 0.4, 1, 4, 120, 0],\n",
    "    ['Plate', '1 lb.', 14.6, 8.5, 404, 0.2, 62, 0, 0.9, 0, 0, 0],\n",
    "    [\n",
    "        'Liver (Beef)', '1 lb.', 26.8, 2.2, 333, 0.2, 139, 169.2, 6.4, 50.8,\n",
    "        316, 525\n",
    "    ],\n",
    "    ['Leg of Lamb', '1 lb.', 27.6, 3.1, 245, 0.1, 20, 0, 2.8, 3.9, 86, 0],\n",
    "    [\n",
    "        'Lamb Chops (Rib)', '1 lb.', 36.6, 3.3, 140, 0.1, 15, 0, 1.7, 2.7,\n",
    "        54, 0\n",
    "    ],\n",
    "    ['Pork Chops', '1 lb.', 30.7, 3.5, 196, 0.2, 30, 0, 17.4, 2.7, 60, 0],\n",
    "    [\n",
    "        'Pork Loin Roast', '1 lb.', 24.2, 4.4, 249, 0.3, 37, 0, 18.2, 3.6,\n",
    "        79, 0\n",
    "    ],\n",
    "    ['Bacon', '1 lb.', 25.6, 10.4, 152, 0.2, 23, 0, 1.8, 1.8, 71, 0],\n",
    "    ['Ham, smoked', '1 lb.', 27.4, 6.7, 212, 0.2, 31, 0, 9.9, 3.3, 50, 0],\n",
    "    ['Salt Pork', '1 lb.', 16, 18.8, 164, 0.1, 26, 0, 1.4, 1.8, 0, 0],\n",
    "    [\n",
    "        'Roasting Chicken', '1 lb.', 30.3, 1.8, 184, 0.1, 30, 0.1, 0.9, 1.8,\n",
    "        68, 46\n",
    "    ],\n",
    "    ['Veal Cutlets', '1 lb.', 42.3, 1.7, 156, 0.1, 24, 0, 1.4, 2.4, 57, 0],\n",
    "    [\n",
    "        'Salmon, Pink (can)', '16 oz.', 13, 5.8, 705, 6.8, 45, 3.5, 1, 4.9,\n",
    "        209, 0\n",
    "    ],\n",
    "    ['Apples', '1 lb.', 4.4, 5.8, 27, 0.5, 36, 7.3, 3.6, 2.7, 5, 544],\n",
    "    ['Bananas', '1 lb.', 6.1, 4.9, 60, 0.4, 30, 17.4, 2.5, 3.5, 28, 498],\n",
    "    ['Lemons', '1 doz.', 26, 1.0, 21, 0.5, 14, 0, 0.5, 0, 4, 952],\n",
    "    ['Oranges', '1 doz.', 30.9, 2.2, 40, 1.1, 18, 11.1, 3.6, 1.3, 10, 1998],\n",
    "    ['Green Beans', '1 lb.', 7.1, 2.4, 138, 3.7, 80, 69, 4.3, 5.8, 37, 862],\n",
    "    ['Cabbage', '1 lb.', 3.7, 2.6, 125, 4.0, 36, 7.2, 9, 4.5, 26, 5369],\n",
    "    ['Carrots', '1 bunch', 4.7, 2.7, 73, 2.8, 43, 188.5, 6.1, 4.3, 89, 608],\n",
    "    ['Celery', '1 stalk', 7.3, 0.9, 51, 3.0, 23, 0.9, 1.4, 1.4, 9, 313],\n",
    "    ['Lettuce', '1 head', 8.2, 0.4, 27, 1.1, 22, 112.4, 1.8, 3.4, 11, 449],\n",
    "    ['Onions', '1 lb.', 3.6, 5.8, 166, 3.8, 59, 16.6, 4.7, 5.9, 21, 1184],\n",
    "    [\n",
    "        'Potatoes', '15 lb.', 34, 14.3, 336, 1.8, 118, 6.7, 29.4, 7.1, 198,\n",
    "        2522\n",
    "    ],\n",
    "    ['Spinach', '1 lb.', 8.1, 1.1, 106, 0, 138, 918.4, 5.7, 13.8, 33, 2755],\n",
    "    [\n",
    "        'Sweet Potatoes', '1 lb.', 5.1, 9.6, 138, 2.7, 54, 290.7, 8.4, 5.4,\n",
    "        83, 1912\n",
    "    ],\n",
    "    [\n",
    "        'Peaches (can)', 'No. 2 1/2', 16.8, 3.7, 20, 0.4, 10, 21.5, 0.5, 1,\n",
    "        31, 196\n",
    "    ],\n",
    "    [\n",
    "        'Pears (can)', 'No. 2 1/2', 20.4, 3.0, 8, 0.3, 8, 0.8, 0.8, 0.8, 5,\n",
    "        81\n",
    "    ],\n",
    "    [\n",
    "        'Pineapple (can)', 'No. 2 1/2', 21.3, 2.4, 16, 0.4, 8, 2, 2.8, 0.8,\n",
    "        7, 399\n",
    "    ],\n",
    "    [\n",
    "        'Asparagus (can)', 'No. 2', 27.7, 0.4, 33, 0.3, 12, 16.3, 1.4, 2.1,\n",
    "        17, 272\n",
    "    ],\n",
    "    [\n",
    "        'Green Beans (can)', 'No. 2', 10, 1.0, 54, 2, 65, 53.9, 1.6, 4.3,\n",
    "        32, 431\n",
    "    ],\n",
    "    [\n",
    "        'Pork and Beans (can)', '16 oz.', 7.1, 7.5, 364, 4, 134, 3.5, 8.3,\n",
    "        7.7, 56, 0\n",
    "    ],\n",
    "    ['Corn (can)', 'No. 2', 10.4, 5.2, 136, 0.2, 16, 12, 1.6, 2.7, 42, 218],\n",
    "    [\n",
    "        'Peas (can)', 'No. 2', 13.8, 2.3, 136, 0.6, 45, 34.9, 4.9, 2.5, 37,\n",
    "        370\n",
    "    ],\n",
    "    [\n",
    "        'Tomatoes (can)', 'No. 2', 8.6, 1.3, 63, 0.7, 38, 53.2, 3.4, 2.5,\n",
    "        36, 1253\n",
    "    ],\n",
    "    [\n",
    "        'Tomato Soup (can)', '10 1/2 oz.', 7.6, 1.6, 71, 0.6, 43, 57.9, 3.5,\n",
    "        2.4, 67, 862\n",
    "    ],\n",
    "    [\n",
    "        'Peaches, Dried', '1 lb.', 15.7, 8.5, 87, 1.7, 173, 86.8, 1.2, 4.3,\n",
    "        55, 57\n",
    "    ],\n",
    "    [\n",
    "        'Prunes, Dried', '1 lb.', 9, 12.8, 99, 2.5, 154, 85.7, 3.9, 4.3, 65,\n",
    "        257\n",
    "    ],\n",
    "    [\n",
    "        'Raisins, Dried', '15 oz.', 9.4, 13.5, 104, 2.5, 136, 4.5, 6.3, 1.4,\n",
    "        24, 136\n",
    "    ],\n",
    "    [\n",
    "        'Peas, Dried', '1 lb.', 7.9, 20.0, 1367, 4.2, 345, 2.9, 28.7, 18.4,\n",
    "        162, 0\n",
    "    ],\n",
    "    [\n",
    "        'Lima Beans, Dried', '1 lb.', 8.9, 17.4, 1055, 3.7, 459, 5.1, 26.9,\n",
    "        38.2, 93, 0\n",
    "    ],\n",
    "    [\n",
    "        'Navy Beans, Dried', '1 lb.', 5.9, 26.9, 1691, 11.4, 792, 0, 38.4,\n",
    "        24.6, 217, 0\n",
    "    ],\n",
    "    ['Coffee', '1 lb.', 22.4, 0, 0, 0, 0, 0, 4, 5.1, 50, 0],\n",
    "    ['Tea', '1/4 lb.', 17.4, 0, 0, 0, 0, 0, 0, 2.3, 42, 0],\n",
    "    ['Cocoa', '8 oz.', 8.6, 8.7, 237, 3, 72, 0, 2, 11.9, 40, 0],\n",
    "    ['Chocolate', '8 oz.', 16.2, 8.0, 77, 1.3, 39, 0, 0.9, 3.4, 14, 0],\n",
    "    ['Sugar', '10 lb.', 51.7, 34.9, 0, 0, 0, 0, 0, 0, 0, 0],\n",
    "    ['Corn Syrup', '24 oz.', 13.7, 14.7, 0, 0.5, 74, 0, 0, 0, 5, 0],\n",
    "    ['Molasses', '18 oz.', 13.6, 9.0, 0, 10.3, 244, 0, 1.9, 7.5, 146, 0],\n",
    "    [\n",
    "        'Strawberry Preserves', '1 lb.', 20.5, 6.4, 11, 0.4, 7, 0.2, 0.2,\n",
    "        0.4, 3, 0\n",
    "    ],\n",
    "]"
   ]
  },
  {
   "cell_type": "code",
   "execution_count": 6,
   "id": "4eef1173",
   "metadata": {
    "ExecuteTime": {
     "end_time": "2023-01-09T09:37:21.029327Z",
     "start_time": "2023-01-09T09:37:21.020329Z"
    }
   },
   "outputs": [],
   "source": [
    "# Instantiate a Glop solver and naming it.\n",
    "solver = pywraplp.Solver.CreateSolver('GLOP')"
   ]
  },
  {
   "cell_type": "code",
   "execution_count": 7,
   "id": "54ce1690",
   "metadata": {
    "ExecuteTime": {
     "end_time": "2023-01-09T09:37:21.601904Z",
     "start_time": "2023-01-09T09:37:21.587928Z"
    }
   },
   "outputs": [
    {
     "data": {
      "text/plain": [
       "<ortools.linear_solver.pywraplp.Solver; proxy of <Swig Object of type 'operations_research::MPSolver *' at 0x0000020E5B220DE0> >"
      ]
     },
     "execution_count": 7,
     "metadata": {},
     "output_type": "execute_result"
    }
   ],
   "source": [
    "solver"
   ]
  },
  {
   "cell_type": "code",
   "execution_count": 9,
   "id": "0015338d",
   "metadata": {
    "ExecuteTime": {
     "end_time": "2022-11-24T08:22:47.677158Z",
     "start_time": "2022-11-24T08:22:47.669144Z"
    }
   },
   "outputs": [
    {
     "name": "stdout",
     "output_type": "stream",
     "text": [
      "Number of variables = 77\n"
     ]
    }
   ],
   "source": [
    "# Declare an array to hold our variables.\n",
    "foods = [solver.NumVar(0.0, solver.infinity(), item[0]) for item in data]\n",
    "\n",
    "print('Number of variables =', solver.NumVariables())"
   ]
  },
  {
   "cell_type": "code",
   "execution_count": null,
   "id": "6f6615a0",
   "metadata": {
    "ExecuteTime": {
     "end_time": "2022-09-07T08:12:03.149215Z",
     "start_time": "2022-09-07T08:12:03.128118Z"
    }
   },
   "outputs": [],
   "source": []
  },
  {
   "cell_type": "code",
   "execution_count": 10,
   "id": "779bd10e",
   "metadata": {
    "ExecuteTime": {
     "end_time": "2022-11-24T08:22:48.300860Z",
     "start_time": "2022-11-24T08:22:48.290843Z"
    }
   },
   "outputs": [
    {
     "name": "stdout",
     "output_type": "stream",
     "text": [
      "Number of constraints = 9\n"
     ]
    }
   ],
   "source": [
    "# Create the constraints, one per nutrient.\n",
    "constraints = []\n",
    "for i, nutrient in enumerate(nutrients):\n",
    "    constraints.append(solver.Constraint(nutrient[1], solver.infinity()))\n",
    "    for j, item in enumerate(data):\n",
    "        constraints[i].SetCoefficient(foods[j], item[i + 3])\n",
    "\n",
    "print('Number of constraints =', solver.NumConstraints())"
   ]
  },
  {
   "cell_type": "code",
   "execution_count": 11,
   "id": "89a2a5e5",
   "metadata": {
    "ExecuteTime": {
     "end_time": "2022-11-24T08:22:48.501382Z",
     "start_time": "2022-11-24T08:22:48.492401Z"
    }
   },
   "outputs": [
    {
     "data": {
      "text/plain": [
       "[['Calories (kcal)', 3],\n",
       " ['Protein (g)', 70],\n",
       " ['Calcium (g)', 0.8],\n",
       " ['Iron (mg)', 12],\n",
       " ['Vitamin A (KIU)', 5],\n",
       " ['Vitamin B1 (mg)', 1.8],\n",
       " ['Vitamin B2 (mg)', 2.7],\n",
       " ['Niacin (mg)', 18],\n",
       " ['Vitamin C (mg)', 75]]"
      ]
     },
     "execution_count": 11,
     "metadata": {},
     "output_type": "execute_result"
    }
   ],
   "source": [
    "nutrients"
   ]
  },
  {
   "cell_type": "code",
   "execution_count": 8,
   "id": "3be733ee",
   "metadata": {
    "ExecuteTime": {
     "end_time": "2023-01-09T09:37:28.878101Z",
     "start_time": "2023-01-09T09:37:28.034150Z"
    }
   },
   "outputs": [
    {
     "ename": "NameError",
     "evalue": "name 'constraints' is not defined",
     "output_type": "error",
     "traceback": [
      "\u001b[1;31m---------------------------------------------------------------------------\u001b[0m",
      "\u001b[1;31mNameError\u001b[0m                                 Traceback (most recent call last)",
      "Input \u001b[1;32mIn [8]\u001b[0m, in \u001b[0;36m<cell line: 1>\u001b[1;34m()\u001b[0m\n\u001b[1;32m----> 1\u001b[0m \u001b[43mconstraints\u001b[49m\n",
      "\u001b[1;31mNameError\u001b[0m: name 'constraints' is not defined"
     ]
    }
   ],
   "source": [
    "constraints"
   ]
  },
  {
   "cell_type": "code",
   "execution_count": null,
   "id": "feb3654e",
   "metadata": {
    "ExecuteTime": {
     "end_time": "2022-09-07T06:47:36.719018Z",
     "start_time": "2022-09-07T06:47:36.707516Z"
    }
   },
   "outputs": [],
   "source": []
  },
  {
   "cell_type": "code",
   "execution_count": 13,
   "id": "97352c03",
   "metadata": {
    "ExecuteTime": {
     "end_time": "2022-11-24T08:22:49.848058Z",
     "start_time": "2022-11-24T08:22:49.841066Z"
    }
   },
   "outputs": [],
   "source": [
    "# Objective function: Minimize the sum of (price-normalized) foods.\n",
    "objective = solver.Objective()\n",
    "for food in foods:\n",
    "    objective.SetCoefficient(food, 1)\n",
    "objective.SetMinimization()"
   ]
  },
  {
   "cell_type": "code",
   "execution_count": 14,
   "id": "2cd241ac",
   "metadata": {
    "ExecuteTime": {
     "end_time": "2022-11-24T08:22:50.419863Z",
     "start_time": "2022-11-24T08:22:50.409894Z"
    }
   },
   "outputs": [],
   "source": [
    "status = solver.Solve()"
   ]
  },
  {
   "cell_type": "code",
   "execution_count": 15,
   "id": "33683315",
   "metadata": {
    "ExecuteTime": {
     "end_time": "2022-11-24T08:22:50.606309Z",
     "start_time": "2022-11-24T08:22:50.593309Z"
    }
   },
   "outputs": [
    {
     "data": {
      "text/plain": [
       "0"
      ]
     },
     "execution_count": 15,
     "metadata": {},
     "output_type": "execute_result"
    }
   ],
   "source": [
    "solver.OPTIMAL"
   ]
  },
  {
   "cell_type": "code",
   "execution_count": 16,
   "id": "2d40b777",
   "metadata": {
    "ExecuteTime": {
     "end_time": "2022-11-24T08:22:50.777306Z",
     "start_time": "2022-11-24T08:22:50.767308Z"
    }
   },
   "outputs": [],
   "source": [
    "if status != solver.OPTIMAL:\n",
    "    print('The problem does not have an optimal solution!')\n",
    "    if status == solver.FEASIBLE:\n",
    "        print('A potentially suboptimal solution was found.')\n",
    "    else:\n",
    "        print('The solver could not solve the problem.')\n",
    "        exit(1)"
   ]
  },
  {
   "cell_type": "code",
   "execution_count": 17,
   "id": "33e87333",
   "metadata": {
    "ExecuteTime": {
     "end_time": "2022-11-24T08:22:50.963674Z",
     "start_time": "2022-11-24T08:22:50.959671Z"
    }
   },
   "outputs": [
    {
     "data": {
      "text/plain": [
       "0.029519061676488285"
      ]
     },
     "execution_count": 17,
     "metadata": {},
     "output_type": "execute_result"
    }
   ],
   "source": [
    "foods[0].solution_value()"
   ]
  },
  {
   "cell_type": "code",
   "execution_count": 18,
   "id": "5eb7947a",
   "metadata": {
    "ExecuteTime": {
     "end_time": "2022-11-24T08:22:51.836506Z",
     "start_time": "2022-11-24T08:22:51.793067Z"
    }
   },
   "outputs": [],
   "source": [
    "objective.SetMinimization??"
   ]
  },
  {
   "cell_type": "code",
   "execution_count": 19,
   "id": "415fb061",
   "metadata": {
    "ExecuteTime": {
     "end_time": "2022-11-24T08:22:52.088398Z",
     "start_time": "2022-11-24T08:22:52.069394Z"
    }
   },
   "outputs": [],
   "source": [
    "solver = pywraplp.Solver.CreateSolver('SCIP')\n"
   ]
  },
  {
   "cell_type": "code",
   "execution_count": null,
   "id": "5754bdad",
   "metadata": {
    "ExecuteTime": {
     "end_time": "2022-09-07T09:41:20.157425Z",
     "start_time": "2022-09-07T09:41:20.154125Z"
    }
   },
   "outputs": [],
   "source": []
  },
  {
   "cell_type": "code",
   "execution_count": null,
   "id": "e2f169bc",
   "metadata": {},
   "outputs": [],
   "source": []
  },
  {
   "cell_type": "code",
   "execution_count": null,
   "id": "c7de94a1",
   "metadata": {},
   "outputs": [],
   "source": []
  },
  {
   "cell_type": "code",
   "execution_count": 20,
   "id": "ebdec927",
   "metadata": {
    "ExecuteTime": {
     "end_time": "2022-11-24T08:22:53.379925Z",
     "start_time": "2022-11-24T08:22:53.366911Z"
    }
   },
   "outputs": [
    {
     "name": "stdout",
     "output_type": "stream",
     "text": [
      "\n",
      "Annual Foods:\n",
      "Wheat Flour (Enriched): $10.774457511918223\n",
      "Liver (Beef): $0.6907834111074193\n",
      "Cabbage: $4.093268864842877\n",
      "Spinach: $1.8277960703546996\n",
      "Navy Beans, Dried: $22.275425687243036\n",
      "\n",
      "Optimal annual price: $39.6617\n",
      "\n",
      "Nutrients per day:\n",
      "Calories (kcal): 3.00 (min 3)\n",
      "Protein (g): 147.41 (min 70)\n",
      "Calcium (g): 0.80 (min 0.8)\n",
      "Iron (mg): 60.47 (min 12)\n",
      "Vitamin A (KIU): 5.00 (min 5)\n",
      "Vitamin B1 (mg): 4.12 (min 1.8)\n",
      "Vitamin B2 (mg): 2.70 (min 2.7)\n",
      "Niacin (mg): 27.32 (min 18)\n",
      "Vitamin C (mg): 75.00 (min 75)\n"
     ]
    }
   ],
   "source": [
    "# Display the amounts (in dollars) to purchase of each food.\n",
    "nutrients_result = [0] * len(nutrients)\n",
    "print('\\nAnnual Foods:')\n",
    "for i, food in enumerate(foods):\n",
    "    if food.solution_value() > 0.0:\n",
    "        print('{}: ${}'.format(data[i][0], 365. * food.solution_value()))\n",
    "        for j, _ in enumerate(nutrients):\n",
    "            nutrients_result[j] += data[i][j + 3] * food.solution_value()\n",
    "print('\\nOptimal annual price: ${:.4f}'.format(365. * objective.Value()))\n",
    "\n",
    "print('\\nNutrients per day:')\n",
    "for i, nutrient in enumerate(nutrients):\n",
    "    print('{}: {:.2f} (min {})'.format(nutrient[0], nutrients_result[i],\n",
    "                                       nutrient[1]))"
   ]
  },
  {
   "cell_type": "code",
   "execution_count": null,
   "id": "5fc080d8",
   "metadata": {},
   "outputs": [],
   "source": []
  },
  {
   "cell_type": "code",
   "execution_count": 21,
   "id": "4d5da8c0",
   "metadata": {
    "ExecuteTime": {
     "end_time": "2022-11-24T08:22:53.755549Z",
     "start_time": "2022-11-24T08:22:53.743534Z"
    }
   },
   "outputs": [],
   "source": [
    "solver.infinity??"
   ]
  },
  {
   "cell_type": "code",
   "execution_count": 22,
   "id": "3bf448e4",
   "metadata": {
    "ExecuteTime": {
     "end_time": "2022-11-24T08:22:53.988843Z",
     "start_time": "2022-11-24T08:22:53.980844Z"
    }
   },
   "outputs": [
    {
     "ename": "SyntaxError",
     "evalue": "unexpected EOF while parsing (1694260023.py, line 1)",
     "output_type": "error",
     "traceback": [
      "\u001b[1;36m  Input \u001b[1;32mIn [22]\u001b[1;36m\u001b[0m\n\u001b[1;33m    solver.NumVar(\u001b[0m\n\u001b[1;37m                  ^\u001b[0m\n\u001b[1;31mSyntaxError\u001b[0m\u001b[1;31m:\u001b[0m unexpected EOF while parsing\n"
     ]
    }
   ],
   "source": [
    "solver.NumVar"
   ]
  },
  {
   "cell_type": "code",
   "execution_count": 23,
   "id": "d29c51be",
   "metadata": {
    "ExecuteTime": {
     "end_time": "2022-11-24T08:22:54.192146Z",
     "start_time": "2022-11-24T08:22:54.182144Z"
    }
   },
   "outputs": [],
   "source": [
    "objective.SetCoefficient??"
   ]
  },
  {
   "cell_type": "code",
   "execution_count": 24,
   "id": "1419978b",
   "metadata": {
    "ExecuteTime": {
     "end_time": "2022-11-24T08:22:54.395066Z",
     "start_time": "2022-11-24T08:22:54.382052Z"
    }
   },
   "outputs": [],
   "source": [
    "solver.Constraint??"
   ]
  },
  {
   "cell_type": "code",
   "execution_count": 25,
   "id": "f53ce517",
   "metadata": {
    "ExecuteTime": {
     "end_time": "2022-11-24T08:22:54.910523Z",
     "start_time": "2022-11-24T08:22:54.899508Z"
    }
   },
   "outputs": [
    {
     "ename": "IndentationError",
     "evalue": "unexpected indent (2284710089.py, line 16)",
     "output_type": "error",
     "traceback": [
      "\u001b[1;36m  Input \u001b[1;32mIn [25]\u001b[1;36m\u001b[0m\n\u001b[1;33m    data = [\u001b[0m\n\u001b[1;37m    ^\u001b[0m\n\u001b[1;31mIndentationError\u001b[0m\u001b[1;31m:\u001b[0m unexpected indent\n"
     ]
    }
   ],
   "source": [
    "nutrients = [\n",
    "        ['Calories (kcal)', 3],\n",
    "        ['Protein (g)', 70],\n",
    "        ['Calcium (g)', 0.8],\n",
    "        ['Iron (mg)', 12],\n",
    "        ['Vitamin A (KIU)', 5],\n",
    "        ['Vitamin B1 (mg)', 1.8],\n",
    "        ['Vitamin B2 (mg)', 2.7],\n",
    "        ['Niacin (mg)', 18],\n",
    "        ['Vitamin C (mg)', 75],\n",
    "    ]\n",
    "\n",
    "    # Commodity, Unit, 1939 price (cents), Calories (kcal), Protein (g),\n",
    "    # Calcium (g), Iron (mg), Vitamin A (KIU), Vitamin B1 (mg), Vitamin B2 (mg),\n",
    "    # Niacin (mg), Vitamin C (mg)\n",
    "    data = [\n",
    "        [\n",
    "            'Wheat Flour (Enriched)', '10 lb.', 36, 44.7, 1411, 2, 365, 0, 55.4,\n",
    "            33.3, 441, 0"
   ]
  },
  {
   "cell_type": "code",
   "execution_count": null,
   "id": "750e31a0",
   "metadata": {},
   "outputs": [],
   "source": []
  },
  {
   "cell_type": "code",
   "execution_count": null,
   "id": "96209ae6",
   "metadata": {},
   "outputs": [],
   "source": []
  },
  {
   "cell_type": "code",
   "execution_count": null,
   "id": "8ae09ca6",
   "metadata": {},
   "outputs": [],
   "source": []
  },
  {
   "cell_type": "code",
   "execution_count": null,
   "id": "478fd08f",
   "metadata": {},
   "outputs": [],
   "source": []
  },
  {
   "cell_type": "code",
   "execution_count": null,
   "id": "f5290c3c",
   "metadata": {},
   "outputs": [],
   "source": []
  },
  {
   "cell_type": "code",
   "execution_count": null,
   "id": "8310bd04",
   "metadata": {},
   "outputs": [],
   "source": []
  },
  {
   "cell_type": "code",
   "execution_count": 26,
   "id": "783a9f76",
   "metadata": {
    "ExecuteTime": {
     "end_time": "2022-11-24T08:22:56.607523Z",
     "start_time": "2022-11-24T08:22:56.586526Z"
    }
   },
   "outputs": [],
   "source": [
    "# Create the mip solver with the SCIP backend.\n",
    "solver = pywraplp.Solver.CreateSolver('SCIP')\n"
   ]
  },
  {
   "cell_type": "code",
   "execution_count": 27,
   "id": "03e2fc72",
   "metadata": {
    "ExecuteTime": {
     "end_time": "2022-11-24T08:22:56.919542Z",
     "start_time": "2022-11-24T08:22:56.909527Z"
    }
   },
   "outputs": [
    {
     "name": "stdout",
     "output_type": "stream",
     "text": [
      "Number of variables = 2\n"
     ]
    }
   ],
   "source": [
    "infinity = solver.infinity()\n",
    "# x and y are integer non-negative variables.\n",
    "x = solver.IntVar(0.0, infinity, 'x')\n",
    "y = solver.IntVar(0.0, infinity, 'y')\n",
    "\n",
    "print('Number of variables =', solver.NumVariables())"
   ]
  },
  {
   "cell_type": "code",
   "execution_count": 28,
   "id": "105c1c54",
   "metadata": {
    "ExecuteTime": {
     "end_time": "2022-11-24T08:22:57.108025Z",
     "start_time": "2022-11-24T08:22:57.102023Z"
    }
   },
   "outputs": [
    {
     "name": "stdout",
     "output_type": "stream",
     "text": [
      "Number of constraints = 2\n"
     ]
    }
   ],
   "source": [
    "# x + 7 * y <= 17.5.\n",
    "solver.Add(x + 7 * y <= 17.5)\n",
    "\n",
    "# x <= 3.5.\n",
    "solver.Add(x <= 3.5)\n",
    "\n",
    "print('Number of constraints =', solver.NumConstraints())"
   ]
  },
  {
   "cell_type": "code",
   "execution_count": 29,
   "id": "158702d6",
   "metadata": {
    "ExecuteTime": {
     "end_time": "2022-11-24T08:22:57.310240Z",
     "start_time": "2022-11-24T08:22:57.303223Z"
    }
   },
   "outputs": [],
   "source": [
    "# Maximize x + 10 * y.\n",
    "solver.Maximize(x + 10 * y)"
   ]
  },
  {
   "cell_type": "code",
   "execution_count": 30,
   "id": "c8888b4f",
   "metadata": {
    "ExecuteTime": {
     "end_time": "2022-11-24T08:22:57.497110Z",
     "start_time": "2022-11-24T08:22:57.479112Z"
    }
   },
   "outputs": [],
   "source": [
    "status = solver.Solve()"
   ]
  },
  {
   "cell_type": "code",
   "execution_count": 31,
   "id": "3ccc2802",
   "metadata": {
    "ExecuteTime": {
     "end_time": "2022-11-24T08:22:57.669237Z",
     "start_time": "2022-11-24T08:22:57.653239Z"
    }
   },
   "outputs": [
    {
     "data": {
      "text/plain": [
       "0"
      ]
     },
     "execution_count": 31,
     "metadata": {},
     "output_type": "execute_result"
    }
   ],
   "source": [
    "status"
   ]
  },
  {
   "cell_type": "code",
   "execution_count": 32,
   "id": "3c073dde",
   "metadata": {
    "ExecuteTime": {
     "end_time": "2022-11-24T08:22:57.826029Z",
     "start_time": "2022-11-24T08:22:57.812009Z"
    }
   },
   "outputs": [
    {
     "data": {
      "text/plain": [
       "0"
      ]
     },
     "execution_count": 32,
     "metadata": {},
     "output_type": "execute_result"
    }
   ],
   "source": [
    " pywraplp.Solver.OPTIMAL"
   ]
  },
  {
   "cell_type": "code",
   "execution_count": 33,
   "id": "2d4f020f",
   "metadata": {
    "ExecuteTime": {
     "end_time": "2022-11-24T08:22:58.013485Z",
     "start_time": "2022-11-24T08:22:57.995472Z"
    }
   },
   "outputs": [
    {
     "name": "stdout",
     "output_type": "stream",
     "text": [
      "Solution:\n",
      "Objective value = 23.0\n",
      "x = 3.0\n",
      "y = 2.0\n"
     ]
    }
   ],
   "source": [
    "if status == pywraplp.Solver.OPTIMAL:\n",
    "    print('Solution:')\n",
    "    print('Objective value =', solver.Objective().Value())\n",
    "    print('x =', x.solution_value())\n",
    "    print('y =', y.solution_value())\n",
    "else:\n",
    "    print('The problem does not have an optimal solution.')"
   ]
  },
  {
   "cell_type": "code",
   "execution_count": null,
   "id": "a213d776",
   "metadata": {},
   "outputs": [],
   "source": []
  },
  {
   "cell_type": "code",
   "execution_count": null,
   "id": "7b7bb23d",
   "metadata": {},
   "outputs": [],
   "source": []
  },
  {
   "cell_type": "code",
   "execution_count": 34,
   "id": "e1a96721",
   "metadata": {
    "ExecuteTime": {
     "end_time": "2022-11-24T08:22:58.589803Z",
     "start_time": "2022-11-24T08:22:58.574782Z"
    }
   },
   "outputs": [],
   "source": [
    "def create_data_model():\n",
    "    \"\"\"Stores the data for the problem.\"\"\"\n",
    "    data = {}\n",
    "    data['constraint_coeffs'] = [\n",
    "        [5, 7, 9, 2, 1],\n",
    "        [18, 4, -9, 10, 12],\n",
    "        [4, 7, 3, 8, 5],\n",
    "        [5, 13, 16, 3, -7],\n",
    "    ]\n",
    "    data['bounds'] = [250, 285, 211, 315]\n",
    "    data['obj_coeffs'] = [7, 8, 2, 9, 6]\n",
    "    data['num_vars'] = 5\n",
    "    data['num_constraints'] = 4\n",
    "    return data\n"
   ]
  },
  {
   "cell_type": "code",
   "execution_count": 35,
   "id": "c44ca18a",
   "metadata": {
    "ExecuteTime": {
     "end_time": "2022-11-24T08:22:58.760448Z",
     "start_time": "2022-11-24T08:22:58.748432Z"
    }
   },
   "outputs": [],
   "source": [
    "data = create_data_model()"
   ]
  },
  {
   "cell_type": "code",
   "execution_count": 36,
   "id": "6ba39293",
   "metadata": {
    "ExecuteTime": {
     "end_time": "2022-11-24T08:22:58.963722Z",
     "start_time": "2022-11-24T08:22:58.948709Z"
    }
   },
   "outputs": [
    {
     "data": {
      "text/plain": [
       "{'constraint_coeffs': [[5, 7, 9, 2, 1],\n",
       "  [18, 4, -9, 10, 12],\n",
       "  [4, 7, 3, 8, 5],\n",
       "  [5, 13, 16, 3, -7]],\n",
       " 'bounds': [250, 285, 211, 315],\n",
       " 'obj_coeffs': [7, 8, 2, 9, 6],\n",
       " 'num_vars': 5,\n",
       " 'num_constraints': 4}"
      ]
     },
     "execution_count": 36,
     "metadata": {},
     "output_type": "execute_result"
    }
   ],
   "source": [
    "data"
   ]
  },
  {
   "cell_type": "code",
   "execution_count": 37,
   "id": "99441107",
   "metadata": {
    "ExecuteTime": {
     "end_time": "2022-11-24T08:22:59.138816Z",
     "start_time": "2022-11-24T08:22:59.131814Z"
    }
   },
   "outputs": [],
   "source": [
    "# Create the mip solver with the SCIP backend.\n",
    "solver = pywraplp.Solver.CreateSolver('SCIP')"
   ]
  },
  {
   "cell_type": "code",
   "execution_count": null,
   "id": "ebf753bb",
   "metadata": {
    "ExecuteTime": {
     "start_time": "2022-11-24T08:22:59.315Z"
    }
   },
   "outputs": [],
   "source": [
    "infinity = solver.infinity()\n",
    "x = {}\n",
    "for j in range(data['num_vars']):\n",
    "    x[j] = solver.IntVar(0, infinity, 'x[%i]' % j)\n",
    "print('Number of variables =', solver.NumVariables())"
   ]
  },
  {
   "cell_type": "code",
   "execution_count": null,
   "id": "c3ae959b",
   "metadata": {
    "ExecuteTime": {
     "start_time": "2022-11-24T08:22:59.527Z"
    }
   },
   "outputs": [],
   "source": [
    " 'x[%i]' % 4"
   ]
  },
  {
   "cell_type": "code",
   "execution_count": null,
   "id": "5c3fcc83",
   "metadata": {
    "ExecuteTime": {
     "start_time": "2022-11-24T08:22:59.717Z"
    }
   },
   "outputs": [],
   "source": [
    "for j in range(data['num_vars']):\n",
    "    print(j)"
   ]
  },
  {
   "cell_type": "code",
   "execution_count": 72,
   "id": "75f95408",
   "metadata": {
    "ExecuteTime": {
     "end_time": "2022-09-07T10:43:10.626970Z",
     "start_time": "2022-09-07T10:43:10.615486Z"
    }
   },
   "outputs": [
    {
     "name": "stdout",
     "output_type": "stream",
     "text": [
      "Number of constraints = 4\n"
     ]
    }
   ],
   "source": [
    "for i in range(data['num_constraints']):\n",
    "    constraint = solver.RowConstraint(0, data['bounds'][i], '')\n",
    "    for j in range(data['num_vars']):\n",
    "        constraint.SetCoefficient(x[j], data['constraint_coeffs'][i][j])\n",
    "print('Number of constraints =', solver.NumConstraints())\n",
    "# In Python, you can also set the constraints as follows.\n",
    "# for i in range(data['num_constraints']):\n",
    "#  constraint_expr = \\\n",
    "# [data['constraint_coeffs'][i][j] * x[j] for j in range(data['num_vars'])]\n",
    "#  solver.Add(sum(constraint_expr) <= data['bounds'][i])"
   ]
  },
  {
   "cell_type": "code",
   "execution_count": 73,
   "id": "b3f2480e",
   "metadata": {
    "ExecuteTime": {
     "end_time": "2022-09-07T10:44:12.264468Z",
     "start_time": "2022-09-07T10:44:12.257919Z"
    }
   },
   "outputs": [],
   "source": [
    "objective = solver.Objective()\n",
    "for j in range(data['num_vars']):\n",
    "    objective.SetCoefficient(x[j], data['obj_coeffs'][j])\n",
    "objective.SetMaximization()\n",
    "# In Python, you can also set the objective as follows.\n",
    "# obj_expr = [data['obj_coeffs'][j] * x[j] for j in range(data['num_vars'])]\n",
    "# solver.Maximize(solver.Sum(obj_expr))"
   ]
  },
  {
   "cell_type": "code",
   "execution_count": 74,
   "id": "b6a76fe7",
   "metadata": {
    "ExecuteTime": {
     "end_time": "2022-09-07T10:44:16.653746Z",
     "start_time": "2022-09-07T10:44:16.633033Z"
    }
   },
   "outputs": [],
   "source": [
    "status = solver.Solve()"
   ]
  },
  {
   "cell_type": "code",
   "execution_count": 133,
   "id": "5236df43",
   "metadata": {
    "ExecuteTime": {
     "end_time": "2022-09-07T10:44:56.801877Z",
     "start_time": "2022-09-07T10:44:56.785747Z"
    }
   },
   "outputs": [
    {
     "name": "stdout",
     "output_type": "stream",
     "text": [
      "Objective value = 259.99999999999966\n",
      "x[0]  =  8.0\n",
      "x[1]  =  21.0\n",
      "x[2]  =  0.0\n",
      "x[3]  =  2.0\n",
      "x[4]  =  3.0\n",
      "\n",
      "Problem solved in 3416092.000000 milliseconds\n",
      "Problem solved in 71 iterations\n",
      "Problem solved in 7 branch-and-bound nodes\n"
     ]
    }
   ],
   "source": [
    "if status == pywraplp.Solver.OPTIMAL:\n",
    "    print('Objective value =', solver.Objective().Value())\n",
    "    for j in range(data['num_vars']):\n",
    "        print(x[j].name(), ' = ', x[j].solution_value())\n",
    "    print()\n",
    "    print('Problem solved in %f milliseconds' % solver.wall_time())\n",
    "    print('Problem solved in %d iterations' % solver.iterations())\n",
    "    print('Problem solved in %d branch-and-bound nodes' % solver.nodes())\n",
    "else:\n",
    "    print('The problem does not have an optimal solution.')"
   ]
  },
  {
   "cell_type": "code",
   "execution_count": null,
   "id": "0dc1d6ed",
   "metadata": {},
   "outputs": [],
   "source": []
  },
  {
   "cell_type": "code",
   "execution_count": null,
   "id": "da976d71",
   "metadata": {},
   "outputs": [],
   "source": []
  },
  {
   "cell_type": "code",
   "execution_count": null,
   "id": "d859dae8",
   "metadata": {},
   "outputs": [],
   "source": []
  },
  {
   "cell_type": "code",
   "execution_count": 134,
   "id": "7664663f",
   "metadata": {
    "ExecuteTime": {
     "end_time": "2022-09-08T06:07:21.801122Z",
     "start_time": "2022-09-08T06:07:21.746170Z"
    }
   },
   "outputs": [],
   "source": [
    "from ortools.sat.python import cp_model"
   ]
  },
  {
   "cell_type": "code",
   "execution_count": 136,
   "id": "56dcf29b",
   "metadata": {
    "ExecuteTime": {
     "end_time": "2022-09-08T06:07:27.428285Z",
     "start_time": "2022-09-08T06:07:27.413164Z"
    }
   },
   "outputs": [],
   "source": [
    "model = cp_model.CpModel()"
   ]
  },
  {
   "cell_type": "code",
   "execution_count": 137,
   "id": "30151da6",
   "metadata": {
    "ExecuteTime": {
     "end_time": "2022-09-08T06:07:29.602556Z",
     "start_time": "2022-09-08T06:07:29.584847Z"
    }
   },
   "outputs": [
    {
     "data": {
      "text/plain": [
       "<ortools.sat.python.cp_model.CpModel at 0x20baa255490>"
      ]
     },
     "execution_count": 137,
     "metadata": {},
     "output_type": "execute_result"
    }
   ],
   "source": [
    "model"
   ]
  },
  {
   "cell_type": "code",
   "execution_count": 139,
   "id": "1ddbc5e6",
   "metadata": {
    "ExecuteTime": {
     "end_time": "2022-09-08T06:07:56.210098Z",
     "start_time": "2022-09-08T06:07:56.200320Z"
    }
   },
   "outputs": [],
   "source": [
    "num_vals = 3\n",
    "x = model.NewIntVar(0, num_vals - 1, 'x')\n",
    "y = model.NewIntVar(0, num_vals - 1, 'y')\n",
    "z = model.NewIntVar(0, num_vals - 1, 'z')"
   ]
  },
  {
   "cell_type": "code",
   "execution_count": 141,
   "id": "fed2da35",
   "metadata": {
    "ExecuteTime": {
     "end_time": "2022-09-08T06:08:05.113056Z",
     "start_time": "2022-09-08T06:08:05.102863Z"
    }
   },
   "outputs": [
    {
     "data": {
      "text/plain": [
       "y(0..2)"
      ]
     },
     "execution_count": 141,
     "metadata": {},
     "output_type": "execute_result"
    }
   ],
   "source": [
    "y"
   ]
  },
  {
   "cell_type": "code",
   "execution_count": 142,
   "id": "8b903b32",
   "metadata": {
    "ExecuteTime": {
     "end_time": "2022-09-08T06:08:20.273820Z",
     "start_time": "2022-09-08T06:08:20.266642Z"
    }
   },
   "outputs": [
    {
     "data": {
      "text/plain": [
       "<ortools.sat.python.cp_model.Constraint at 0x20baa274850>"
      ]
     },
     "execution_count": 142,
     "metadata": {},
     "output_type": "execute_result"
    }
   ],
   "source": [
    "model.Add(x != y)"
   ]
  },
  {
   "cell_type": "code",
   "execution_count": 143,
   "id": "7b507b85",
   "metadata": {
    "ExecuteTime": {
     "end_time": "2022-09-08T06:08:27.535834Z",
     "start_time": "2022-09-08T06:08:27.530296Z"
    }
   },
   "outputs": [
    {
     "data": {
      "text/plain": [
       "<ortools.sat.python.cp_model.Constraint at 0x20baa274b20>"
      ]
     },
     "execution_count": 143,
     "metadata": {},
     "output_type": "execute_result"
    }
   ],
   "source": [
    "model.Add(x != y)"
   ]
  },
  {
   "cell_type": "code",
   "execution_count": 145,
   "id": "04bf4be9",
   "metadata": {
    "ExecuteTime": {
     "end_time": "2022-09-08T06:09:31.141048Z",
     "start_time": "2022-09-08T06:09:31.093003Z"
    }
   },
   "outputs": [],
   "source": [
    "solver = cp_model.CpSolver()\n",
    "status = solver.Solve(model)"
   ]
  },
  {
   "cell_type": "code",
   "execution_count": 155,
   "id": "3bfe5f42",
   "metadata": {
    "ExecuteTime": {
     "end_time": "2022-09-08T06:09:36.314302Z",
     "start_time": "2022-09-08T06:09:36.310197Z"
    }
   },
   "outputs": [
    {
     "name": "stdout",
     "output_type": "stream",
     "text": [
      "x = 1\n",
      "y = 0\n",
      "z = 0\n"
     ]
    }
   ],
   "source": [
    "if status == cp_model.OPTIMAL or status == cp_model.FEASIBLE:\n",
    "    print('x = %i' % solver.Value(x))\n",
    "    print('y = %i' % solver.Value(y))\n",
    "    print('z = %i' % solver.Value(z))\n",
    "else:\n",
    "    print('No solution found.')"
   ]
  },
  {
   "cell_type": "code",
   "execution_count": 156,
   "id": "2de7c975",
   "metadata": {
    "ExecuteTime": {
     "end_time": "2022-09-08T06:09:41.708951Z",
     "start_time": "2022-09-08T06:09:41.703023Z"
    }
   },
   "outputs": [
    {
     "data": {
      "text/plain": [
       "4"
      ]
     },
     "execution_count": 156,
     "metadata": {},
     "output_type": "execute_result"
    }
   ],
   "source": [
    "status"
   ]
  },
  {
   "cell_type": "code",
   "execution_count": null,
   "id": "c4566498",
   "metadata": {},
   "outputs": [],
   "source": []
  },
  {
   "cell_type": "code",
   "execution_count": 157,
   "id": "ae9519ce",
   "metadata": {
    "ExecuteTime": {
     "end_time": "2022-09-08T06:10:05.550577Z",
     "start_time": "2022-09-08T06:10:05.513722Z"
    }
   },
   "outputs": [
    {
     "name": "stdout",
     "output_type": "stream",
     "text": [
      "x = 1\n",
      "y = 0\n",
      "z = 0\n"
     ]
    }
   ],
   "source": [
    "\"\"\"Simple solve.\"\"\"\n",
    "from ortools.sat.python import cp_model\n",
    "\n",
    "\n",
    "def SimpleSatProgram():\n",
    "    \"\"\"Minimal CP-SAT example to showcase calling the solver.\"\"\"\n",
    "    # Creates the model.\n",
    "    model = cp_model.CpModel()\n",
    "\n",
    "    # Creates the variables.\n",
    "    num_vals = 3\n",
    "    x = model.NewIntVar(0, num_vals - 1, 'x')\n",
    "    y = model.NewIntVar(0, num_vals - 1, 'y')\n",
    "    z = model.NewIntVar(0, num_vals - 1, 'z')\n",
    "\n",
    "    # Creates the constraints.\n",
    "    model.Add(x != y)\n",
    "\n",
    "    # Creates a solver and solves the model.\n",
    "    solver = cp_model.CpSolver()\n",
    "    status = solver.Solve(model)\n",
    "\n",
    "    if status == cp_model.OPTIMAL or status == cp_model.FEASIBLE:\n",
    "        print('x = %i' % solver.Value(x))\n",
    "        print('y = %i' % solver.Value(y))\n",
    "        print('z = %i' % solver.Value(z))\n",
    "    else:\n",
    "        print('No solution found.')\n",
    "\n",
    "\n",
    "SimpleSatProgram()"
   ]
  },
  {
   "cell_type": "code",
   "execution_count": 158,
   "id": "c3b740d1",
   "metadata": {
    "ExecuteTime": {
     "end_time": "2022-09-08T06:11:20.558191Z",
     "start_time": "2022-09-08T06:11:20.538125Z"
    }
   },
   "outputs": [],
   "source": [
    "class VarArraySolutionPrinter(cp_model.CpSolverSolutionCallback):\n",
    "    \"\"\"Print intermediate solutions.\"\"\"\n",
    "\n",
    "    def __init__(self, variables):\n",
    "        cp_model.CpSolverSolutionCallback.__init__(self)\n",
    "        self.__variables = variables\n",
    "        self.__solution_count = 0\n",
    "\n",
    "    def on_solution_callback(self):\n",
    "        self.__solution_count += 1\n",
    "        for v in self.__variables:\n",
    "            print('%s=%i' % (v, self.Value(v)), end=' ')\n",
    "        print()\n",
    "\n",
    "    def solution_count(self):\n",
    "        return self.__solution_count"
   ]
  },
  {
   "cell_type": "code",
   "execution_count": 159,
   "id": "6e5f4c23",
   "metadata": {
    "ExecuteTime": {
     "end_time": "2022-09-08T06:12:42.227261Z",
     "start_time": "2022-09-08T06:12:42.069408Z"
    }
   },
   "outputs": [
    {
     "name": "stdout",
     "output_type": "stream",
     "text": [
      "x=1 y=0 z=0 \n",
      "x=1 y=0 z=0 \n",
      "x=1 y=0 z=0 \n",
      "x=1 y=0 z=0 \n",
      "x=1 y=0 z=0 \n",
      "x=1 y=0 z=0 \n",
      "x=1 y=0 z=0 \n",
      "x=1 y=0 z=0 \n",
      "x=2 y=0 z=0 \n",
      "x=2 y=0 z=0 \n",
      "x=2 y=0 z=0 \n",
      "x=2 y=0 z=0 \n",
      "x=2 y=0 z=0 \n",
      "x=2 y=0 z=0 \n",
      "x=2 y=0 z=0 \n",
      "x=2 y=0 z=0 \n",
      "x=2 y=0 z=1 \n",
      "x=2 y=0 z=1 \n",
      "x=2 y=0 z=1 \n",
      "x=2 y=0 z=1 \n",
      "x=2 y=0 z=1 \n",
      "x=2 y=0 z=1 \n",
      "x=2 y=0 z=1 \n",
      "x=2 y=0 z=1 \n",
      "x=1 y=0 z=1 \n",
      "x=1 y=0 z=1 \n",
      "x=1 y=0 z=1 \n",
      "x=1 y=0 z=1 \n",
      "x=1 y=0 z=1 \n",
      "x=1 y=0 z=1 \n",
      "x=1 y=0 z=1 \n",
      "x=1 y=0 z=1 \n",
      "x=1 y=0 z=1 \n",
      "x=1 y=0 z=1 \n",
      "x=1 y=0 z=1 \n",
      "x=1 y=0 z=1 \n",
      "x=2 y=0 z=1 \n",
      "x=2 y=0 z=1 \n",
      "x=2 y=0 z=1 \n",
      "x=2 y=0 z=1 \n",
      "x=2 y=0 z=0 \n",
      "x=2 y=0 z=0 \n",
      "x=2 y=0 z=0 \n",
      "x=2 y=0 z=0 \n",
      "x=1 y=0 z=0 \n",
      "x=1 y=0 z=0 \n",
      "x=1 y=0 z=0 \n",
      "x=1 y=0 z=0 \n",
      "x=1 y=0 z=0 \n",
      "x=1 y=0 z=0 \n",
      "x=2 y=0 z=0 \n",
      "x=2 y=0 z=0 \n",
      "x=2 y=0 z=1 \n",
      "x=2 y=0 z=1 \n",
      "x=1 y=0 z=1 \n",
      "x=1 y=0 z=1 \n",
      "x=1 y=0 z=1 \n",
      "x=1 y=0 z=1 \n",
      "x=1 y=0 z=1 \n",
      "x=1 y=0 z=1 \n",
      "x=2 y=0 z=1 \n",
      "x=2 y=0 z=1 \n",
      "x=2 y=0 z=1 \n",
      "x=2 y=0 z=1 \n",
      "x=2 y=0 z=0 \n",
      "x=2 y=0 z=0 \n",
      "x=2 y=0 z=0 \n",
      "x=2 y=0 z=0 \n",
      "x=1 y=0 z=0 \n",
      "x=1 y=0 z=0 \n",
      "x=1 y=0 z=0 \n",
      "x=1 y=0 z=0 \n",
      "x=1 y=0 z=0 \n",
      "x=1 y=0 z=0 \n",
      "x=2 y=0 z=0 \n",
      "x=2 y=0 z=0 \n",
      "x=2 y=0 z=1 \n",
      "x=2 y=0 z=1 \n",
      "x=1 y=0 z=1 \n",
      "x=1 y=0 z=1 \n",
      "x=1 y=0 z=1 \n",
      "x=2 y=0 z=1 \n",
      "x=2 y=0 z=0 \n",
      "x=1 y=0 z=0 \n",
      "x=1 y=0 z=0 \n",
      "x=1 y=0 z=0 \n",
      "x=2 y=0 z=0 \n",
      "x=2 y=0 z=0 \n",
      "x=2 y=0 z=1 \n",
      "x=2 y=0 z=1 \n",
      "x=1 y=0 z=1 \n",
      "x=1 y=0 z=1 \n",
      "x=1 y=0 z=1 \n",
      "x=1 y=0 z=1 \n",
      "x=1 y=0 z=1 \n",
      "x=1 y=0 z=1 \n",
      "x=2 y=0 z=1 \n",
      "x=2 y=0 z=1 \n",
      "x=2 y=0 z=1 \n",
      "x=2 y=0 z=1 \n",
      "x=2 y=0 z=0 \n",
      "x=2 y=0 z=0 \n",
      "x=2 y=0 z=0 \n",
      "x=2 y=0 z=0 \n",
      "x=1 y=0 z=0 \n",
      "x=1 y=0 z=0 \n",
      "x=1 y=0 z=0 \n",
      "x=1 y=0 z=0 \n",
      "x=2 y=1 z=0 \n",
      "x=2 y=1 z=0 \n",
      "x=2 y=1 z=0 \n",
      "x=2 y=1 z=0 \n",
      "x=2 y=1 z=1 \n",
      "x=2 y=1 z=1 \n",
      "x=2 y=1 z=1 \n",
      "x=2 y=1 z=1 \n",
      "x=2 y=1 z=1 \n",
      "x=2 y=1 z=1 \n",
      "x=2 y=1 z=0 \n",
      "x=2 y=1 z=0 \n",
      "x=2 y=1 z=0 \n",
      "x=2 y=1 z=1 \n",
      "x=2 y=1 z=1 \n",
      "x=2 y=1 z=1 \n",
      "x=2 y=1 z=0 \n",
      "x=2 y=1 z=0 \n",
      "x=2 y=1 z=0 \n",
      "x=2 y=1 z=0 \n",
      "x=2 y=1 z=0 \n",
      "x=2 y=1 z=0 \n",
      "x=2 y=1 z=1 \n",
      "x=2 y=1 z=1 \n",
      "x=2 y=1 z=1 \n",
      "x=2 y=1 z=1 \n",
      "x=2 y=1 z=1 \n",
      "x=2 y=1 z=1 \n",
      "x=2 y=1 z=0 \n",
      "x=2 y=1 z=0 \n",
      "x=2 y=1 z=0 \n",
      "x=2 y=1 z=0 \n",
      "x=2 y=1 z=0 \n",
      "x=2 y=1 z=0 \n",
      "x=2 y=1 z=1 \n",
      "x=2 y=1 z=1 \n",
      "x=2 y=1 z=1 \n",
      "x=2 y=1 z=1 \n",
      "x=2 y=1 z=1 \n",
      "x=2 y=1 z=1 \n",
      "x=2 y=1 z=1 \n",
      "x=2 y=1 z=1 \n",
      "x=2 y=1 z=1 \n",
      "x=2 y=1 z=1 \n",
      "x=2 y=1 z=1 \n",
      "x=2 y=1 z=1 \n",
      "x=2 y=1 z=0 \n",
      "x=2 y=1 z=0 \n",
      "x=2 y=1 z=0 \n",
      "x=2 y=1 z=0 \n",
      "x=2 y=1 z=0 \n",
      "x=2 y=1 z=0 \n",
      "x=2 y=1 z=0 \n",
      "x=2 y=1 z=0 \n",
      "x=2 y=1 z=2 \n",
      "x=2 y=1 z=2 \n",
      "x=2 y=1 z=2 \n",
      "x=2 y=1 z=2 \n",
      "x=2 y=1 z=2 \n",
      "x=2 y=1 z=2 \n",
      "x=2 y=1 z=2 \n",
      "x=2 y=1 z=2 \n",
      "x=2 y=1 z=2 \n",
      "x=2 y=1 z=2 \n",
      "x=2 y=1 z=2 \n",
      "x=2 y=1 z=2 \n",
      "x=2 y=1 z=2 \n",
      "x=2 y=1 z=2 \n",
      "x=2 y=1 z=2 \n",
      "x=2 y=1 z=2 \n",
      "x=2 y=1 z=2 \n",
      "x=2 y=1 z=2 \n",
      "x=2 y=1 z=2 \n",
      "x=2 y=1 z=2 \n",
      "x=2 y=1 z=2 \n",
      "x=2 y=1 z=2 \n",
      "x=2 y=1 z=2 \n",
      "x=2 y=1 z=2 \n",
      "x=2 y=1 z=2 \n",
      "x=2 y=1 z=2 \n",
      "x=2 y=1 z=2 \n",
      "x=2 y=0 z=2 \n",
      "x=2 y=0 z=2 \n",
      "x=2 y=0 z=2 \n",
      "x=2 y=0 z=2 \n",
      "x=1 y=0 z=2 \n",
      "x=1 y=0 z=2 \n",
      "x=1 y=0 z=2 \n",
      "x=1 y=0 z=2 \n",
      "x=1 y=0 z=2 \n",
      "x=1 y=0 z=2 \n",
      "x=2 y=0 z=2 \n",
      "x=2 y=0 z=2 \n",
      "x=2 y=0 z=2 \n",
      "x=1 y=0 z=2 \n",
      "x=1 y=0 z=2 \n",
      "x=1 y=0 z=2 \n",
      "x=2 y=0 z=2 \n",
      "x=2 y=0 z=2 \n",
      "x=2 y=0 z=2 \n",
      "x=2 y=0 z=2 \n",
      "x=2 y=0 z=2 \n",
      "x=2 y=0 z=2 \n",
      "x=1 y=0 z=2 \n",
      "x=1 y=0 z=2 \n",
      "x=1 y=0 z=2 \n",
      "x=1 y=0 z=2 \n",
      "x=1 y=0 z=2 \n",
      "x=1 y=0 z=2 \n",
      "x=2 y=0 z=2 \n",
      "x=2 y=0 z=2 \n",
      "x=2 y=0 z=2 \n",
      "x=2 y=0 z=2 \n",
      "x=2 y=0 z=2 \n",
      "x=2 y=0 z=2 \n",
      "x=1 y=0 z=2 \n",
      "x=1 y=0 z=2 \n",
      "x=1 y=0 z=2 \n",
      "x=1 y=0 z=2 \n",
      "x=1 y=0 z=2 \n",
      "x=1 y=0 z=2 \n",
      "x=1 y=0 z=2 \n",
      "x=1 y=0 z=2 \n",
      "x=1 y=0 z=2 \n",
      "x=1 y=0 z=2 \n",
      "x=1 y=0 z=2 \n",
      "x=1 y=0 z=2 \n",
      "x=2 y=0 z=2 \n",
      "x=2 y=0 z=2 \n",
      "x=2 y=0 z=2 \n",
      "x=2 y=0 z=2 \n",
      "x=2 y=0 z=2 \n",
      "x=2 y=0 z=2 \n",
      "x=2 y=0 z=2 \n",
      "x=2 y=0 z=2 \n",
      "x=0 y=1 z=2 \n",
      "x=0 y=1 z=2 \n",
      "x=0 y=1 z=2 \n",
      "x=0 y=1 z=2 \n",
      "x=0 y=1 z=2 \n",
      "x=0 y=1 z=2 \n",
      "x=0 y=1 z=2 \n",
      "x=0 y=1 z=2 \n",
      "x=0 y=1 z=2 \n",
      "x=0 y=1 z=2 \n",
      "x=0 y=1 z=2 \n",
      "x=0 y=1 z=2 \n",
      "x=0 y=1 z=2 \n",
      "x=0 y=1 z=2 \n",
      "x=0 y=1 z=2 \n",
      "x=0 y=1 z=2 \n",
      "x=0 y=1 z=2 \n",
      "x=0 y=1 z=2 \n",
      "x=0 y=1 z=1 \n",
      "x=0 y=1 z=1 \n",
      "x=0 y=1 z=0 \n",
      "x=0 y=1 z=0 \n",
      "x=0 y=1 z=0 \n",
      "x=0 y=1 z=0 \n",
      "x=0 y=1 z=1 \n",
      "x=0 y=1 z=1 \n",
      "x=0 y=1 z=1 \n",
      "x=0 y=1 z=0 \n",
      "x=0 y=1 z=0 \n",
      "x=0 y=1 z=1 \n",
      "x=0 y=1 z=1 \n",
      "x=0 y=1 z=1 \n",
      "x=0 y=1 z=0 \n",
      "x=0 y=1 z=0 \n",
      "x=0 y=1 z=0 \n",
      "x=0 y=1 z=0 \n",
      "x=0 y=1 z=1 \n",
      "x=0 y=1 z=1 \n",
      "x=0 y=1 z=1 \n",
      "x=0 y=1 z=1 \n",
      "x=0 y=1 z=1 \n",
      "x=0 y=1 z=1 \n",
      "x=0 y=1 z=0 \n",
      "x=0 y=1 z=0 \n",
      "x=0 y=1 z=0 \n",
      "x=0 y=1 z=0 \n",
      "x=0 y=1 z=0 \n",
      "x=0 y=1 z=0 \n",
      "x=0 y=1 z=0 \n",
      "x=0 y=1 z=0 \n",
      "x=0 y=1 z=1 \n",
      "x=0 y=1 z=1 \n",
      "x=0 y=1 z=1 \n",
      "x=0 y=1 z=1 \n",
      "x=0 y=2 z=1 \n",
      "x=0 y=2 z=1 \n",
      "x=0 y=2 z=1 \n",
      "x=0 y=2 z=1 \n",
      "x=0 y=2 z=0 \n",
      "x=0 y=2 z=0 \n",
      "x=0 y=2 z=0 \n",
      "x=0 y=2 z=0 \n",
      "x=0 y=2 z=0 \n",
      "x=0 y=2 z=0 \n",
      "x=0 y=2 z=0 \n",
      "x=0 y=2 z=0 \n",
      "x=0 y=2 z=1 \n",
      "x=0 y=2 z=1 \n",
      "x=0 y=2 z=1 \n",
      "x=0 y=2 z=1 \n",
      "x=0 y=2 z=1 \n",
      "x=0 y=2 z=1 \n",
      "x=0 y=2 z=0 \n",
      "x=0 y=2 z=0 \n",
      "x=0 y=2 z=0 \n",
      "x=0 y=2 z=0 \n",
      "x=0 y=2 z=1 \n",
      "x=0 y=2 z=1 \n",
      "x=0 y=2 z=1 \n",
      "x=0 y=2 z=0 \n",
      "x=0 y=2 z=0 \n",
      "x=0 y=2 z=1 \n",
      "x=0 y=2 z=1 \n",
      "x=0 y=2 z=1 \n",
      "x=0 y=2 z=0 \n",
      "x=0 y=2 z=0 \n",
      "x=0 y=2 z=0 \n",
      "x=0 y=2 z=0 \n",
      "x=0 y=2 z=1 \n",
      "x=0 y=2 z=1 \n",
      "x=0 y=2 z=2 \n",
      "x=0 y=2 z=2 \n",
      "x=0 y=2 z=2 \n",
      "x=0 y=2 z=2 \n",
      "x=0 y=2 z=2 \n",
      "x=0 y=2 z=2 \n",
      "x=0 y=2 z=2 \n",
      "x=0 y=2 z=2 \n",
      "x=0 y=2 z=2 \n",
      "x=0 y=2 z=2 \n",
      "x=0 y=2 z=2 \n",
      "x=0 y=2 z=2 \n",
      "x=0 y=2 z=2 \n",
      "x=0 y=2 z=2 \n",
      "x=0 y=2 z=2 \n",
      "x=0 y=2 z=2 \n",
      "x=0 y=2 z=2 \n",
      "x=0 y=2 z=2 \n",
      "x=1 y=2 z=2 \n",
      "x=1 y=2 z=2 \n",
      "x=1 y=2 z=2 \n",
      "x=1 y=2 z=2 \n",
      "x=1 y=2 z=2 \n",
      "x=1 y=2 z=2 \n",
      "x=1 y=2 z=2 \n",
      "x=1 y=2 z=2 \n",
      "x=1 y=2 z=2 \n",
      "x=1 y=2 z=2 \n",
      "x=1 y=2 z=2 \n",
      "x=1 y=2 z=2 \n",
      "x=1 y=2 z=2 \n",
      "x=1 y=2 z=2 \n",
      "x=1 y=2 z=2 \n",
      "x=1 y=2 z=2 \n",
      "x=1 y=2 z=2 \n",
      "x=1 y=2 z=2 \n",
      "x=1 y=2 z=1 \n",
      "x=1 y=2 z=1 \n",
      "x=1 y=2 z=0 \n",
      "x=1 y=2 z=0 \n",
      "x=1 y=2 z=0 \n",
      "x=1 y=2 z=0 \n",
      "x=1 y=2 z=1 \n",
      "x=1 y=2 z=1 \n",
      "x=1 y=2 z=1 \n",
      "x=1 y=2 z=0 \n",
      "x=1 y=2 z=0 \n",
      "x=1 y=2 z=1 \n",
      "x=1 y=2 z=1 \n",
      "x=1 y=2 z=1 \n",
      "x=1 y=2 z=0 \n",
      "x=1 y=2 z=0 \n",
      "x=1 y=2 z=0 \n",
      "x=1 y=2 z=0 \n",
      "x=1 y=2 z=1 \n",
      "x=1 y=2 z=1 \n",
      "x=1 y=2 z=1 \n",
      "x=1 y=2 z=1 \n",
      "x=1 y=2 z=1 \n",
      "x=1 y=2 z=1 \n",
      "x=1 y=2 z=0 \n",
      "x=1 y=2 z=0 \n",
      "x=1 y=2 z=0 \n",
      "x=1 y=2 z=0 \n",
      "x=1 y=2 z=0 \n",
      "x=1 y=2 z=0 \n",
      "x=1 y=2 z=0 \n",
      "x=1 y=2 z=0 \n",
      "x=1 y=2 z=1 \n",
      "x=1 y=2 z=1 \n",
      "x=1 y=2 z=1 \n",
      "x=1 y=2 z=1 \n",
      "x=1 y=2 z=1 \n",
      "x=1 y=2 z=1 \n",
      "x=1 y=2 z=0 \n",
      "x=1 y=2 z=0 \n",
      "x=1 y=2 z=0 \n",
      "x=1 y=2 z=0 \n",
      "x=1 y=2 z=1 \n",
      "x=1 y=2 z=1 \n",
      "x=1 y=2 z=1 \n",
      "x=1 y=2 z=0 \n",
      "x=1 y=2 z=0 \n",
      "x=1 y=2 z=1 \n",
      "x=1 y=2 z=2 \n",
      "x=1 y=2 z=2 \n",
      "x=1 y=2 z=2 \n",
      "x=1 y=2 z=2 \n",
      "x=1 y=2 z=2 \n",
      "x=1 y=2 z=2 \n",
      "x=0 y=2 z=2 \n",
      "x=0 y=2 z=2 \n",
      "x=0 y=2 z=2 \n",
      "x=0 y=2 z=2 \n",
      "x=0 y=2 z=2 \n",
      "x=0 y=2 z=2 \n",
      "x=0 y=2 z=1 \n",
      "x=0 y=2 z=0 \n",
      "x=0 y=2 z=0 \n",
      "x=0 y=2 z=1 \n",
      "x=0 y=2 z=1 \n",
      "x=0 y=2 z=1 \n",
      "x=0 y=2 z=0 \n",
      "x=0 y=2 z=0 \n",
      "x=0 y=2 z=0 \n",
      "x=0 y=2 z=0 \n",
      "x=0 y=2 z=1 \n",
      "x=0 y=2 z=1 \n",
      "x=0 y=1 z=1 \n",
      "x=0 y=1 z=1 \n",
      "x=0 y=1 z=0 \n",
      "x=0 y=1 z=0 \n",
      "x=0 y=1 z=0 \n",
      "x=0 y=1 z=0 \n",
      "x=0 y=1 z=1 \n",
      "x=0 y=1 z=1 \n",
      "x=0 y=1 z=1 \n",
      "x=0 y=1 z=0 \n",
      "x=0 y=1 z=0 \n",
      "x=0 y=1 z=1 \n",
      "x=0 y=1 z=2 \n",
      "x=0 y=1 z=2 \n",
      "x=0 y=1 z=2 \n",
      "x=0 y=1 z=2 \n",
      "x=0 y=1 z=2 \n",
      "x=0 y=1 z=2 \n",
      "x=0 y=1 z=2 \n",
      "x=0 y=1 z=2 \n",
      "x=0 y=1 z=1 \n",
      "x=0 y=1 z=0 \n",
      "x=0 y=1 z=0 \n",
      "x=0 y=1 z=1 \n",
      "x=0 y=2 z=1 \n",
      "x=0 y=2 z=0 \n",
      "x=0 y=2 z=0 \n",
      "x=0 y=2 z=1 \n",
      "x=0 y=2 z=2 \n",
      "x=0 y=2 z=2 \n",
      "x=1 y=2 z=2 \n",
      "x=1 y=2 z=2 \n",
      "x=1 y=2 z=1 \n",
      "x=1 y=2 z=0 \n",
      "x=1 y=2 z=0 \n",
      "x=1 y=2 z=1 \n",
      "x=1 y=2 z=1 \n",
      "x=1 y=2 z=2 \n",
      "x=0 y=2 z=2 \n",
      "x=0 y=2 z=1 \n",
      "x=0 y=1 z=1 \n",
      "x=0 y=1 z=2 \n",
      "x=0 y=1 z=0 \n",
      "x=0 y=2 z=0 \n",
      "x=1 y=2 z=0 \n"
     ]
    }
   ],
   "source": [
    "solver = cp_model.CpSolver()\n",
    "solution_printer = VarArraySolutionPrinter([x, y, z])\n",
    "# Enumerate all solutions.\n",
    "solver.parameters.enumerate_all_solutions = True\n",
    "# Solve.\n",
    "status = solver.Solve(model, solution_printer)"
   ]
  },
  {
   "cell_type": "code",
   "execution_count": 160,
   "id": "05e1d206",
   "metadata": {
    "ExecuteTime": {
     "end_time": "2022-09-08T06:13:23.241966Z",
     "start_time": "2022-09-08T06:13:23.224112Z"
    }
   },
   "outputs": [
    {
     "name": "stdout",
     "output_type": "stream",
     "text": [
      "x=1 y=0 z=0 \n",
      "x=2 y=0 z=0 \n",
      "x=2 y=0 z=1 \n",
      "x=1 y=0 z=1 \n",
      "x=2 y=1 z=1 \n",
      "x=2 y=1 z=0 \n",
      "x=2 y=1 z=2 \n",
      "x=2 y=0 z=2 \n",
      "x=1 y=0 z=2 \n",
      "x=0 y=1 z=2 \n",
      "x=0 y=1 z=1 \n",
      "x=0 y=2 z=1 \n",
      "x=0 y=2 z=2 \n",
      "x=1 y=2 z=2 \n",
      "x=1 y=2 z=1 \n",
      "x=1 y=2 z=0 \n",
      "x=0 y=2 z=0 \n",
      "x=0 y=1 z=0 \n",
      "Status = OPTIMAL\n",
      "Number of solutions found: 18\n"
     ]
    }
   ],
   "source": [
    "from ortools.sat.python import cp_model\n",
    "\n",
    "\n",
    "class VarArraySolutionPrinter(cp_model.CpSolverSolutionCallback):\n",
    "    \"\"\"Print intermediate solutions.\"\"\"\n",
    "\n",
    "    def __init__(self, variables):\n",
    "        cp_model.CpSolverSolutionCallback.__init__(self)\n",
    "        self.__variables = variables\n",
    "        self.__solution_count = 0\n",
    "\n",
    "    def on_solution_callback(self):\n",
    "        self.__solution_count += 1\n",
    "        for v in self.__variables:\n",
    "            print('%s=%i' % (v, self.Value(v)), end=' ')\n",
    "        print()\n",
    "\n",
    "    def solution_count(self):\n",
    "        return self.__solution_count\n",
    "\n",
    "\n",
    "def SearchForAllSolutionsSampleSat():\n",
    "    \"\"\"Showcases calling the solver to search for all solutions.\"\"\"\n",
    "    # Creates the model.\n",
    "    model = cp_model.CpModel()\n",
    "\n",
    "    # Creates the variables.\n",
    "    num_vals = 3\n",
    "    x = model.NewIntVar(0, num_vals - 1, 'x')\n",
    "    y = model.NewIntVar(0, num_vals - 1, 'y')\n",
    "    z = model.NewIntVar(0, num_vals - 1, 'z')\n",
    "\n",
    "    # Create the constraints.\n",
    "    model.Add(x != y)\n",
    "\n",
    "    # Create a solver and solve.\n",
    "    solver = cp_model.CpSolver()\n",
    "    solution_printer = VarArraySolutionPrinter([x, y, z])\n",
    "    # Enumerate all solutions.\n",
    "    solver.parameters.enumerate_all_solutions = True\n",
    "    # Solve.\n",
    "    status = solver.Solve(model, solution_printer)\n",
    "\n",
    "    print('Status = %s' % solver.StatusName(status))\n",
    "    print('Number of solutions found: %i' % solution_printer.solution_count())\n",
    "\n",
    "\n",
    "SearchForAllSolutionsSampleSat()"
   ]
  },
  {
   "cell_type": "code",
   "execution_count": 161,
   "id": "7477210c",
   "metadata": {
    "ExecuteTime": {
     "end_time": "2022-09-08T06:15:26.462794Z",
     "start_time": "2022-09-08T06:15:26.418257Z"
    }
   },
   "outputs": [
    {
     "name": "stdout",
     "output_type": "stream",
     "text": [
      "Maximum of objective function: 35.0\n",
      "\n",
      "x = 7\n",
      "y = 3\n",
      "z = 5\n",
      "\n",
      "Statistics\n",
      "  status   : OPTIMAL\n",
      "  conflicts: 2\n",
      "  branches : 1\n",
      "  wall time: 0.023142100000000002 s\n"
     ]
    }
   ],
   "source": [
    "\"\"\"Simple solve.\"\"\"\n",
    "from ortools.sat.python import cp_model\n",
    "\n",
    "\n",
    "def main():\n",
    "    \"\"\"Minimal CP-SAT example to showcase calling the solver.\"\"\"\n",
    "    # Creates the model.\n",
    "    model = cp_model.CpModel()\n",
    "\n",
    "    # Creates the variables.\n",
    "    var_upper_bound = max(50, 45, 37)\n",
    "    x = model.NewIntVar(0, var_upper_bound, 'x')\n",
    "    y = model.NewIntVar(0, var_upper_bound, 'y')\n",
    "    z = model.NewIntVar(0, var_upper_bound, 'z')\n",
    "\n",
    "    # Creates the constraints.\n",
    "    model.Add(2 * x + 7 * y + 3 * z <= 50)\n",
    "    model.Add(3 * x - 5 * y + 7 * z <= 45)\n",
    "    model.Add(5 * x + 2 * y - 6 * z <= 37)\n",
    "\n",
    "    model.Maximize(2 * x + 2 * y + 3 * z)\n",
    "\n",
    "    # Creates a solver and solves the model.\n",
    "    solver = cp_model.CpSolver()\n",
    "    status = solver.Solve(model)\n",
    "\n",
    "    if status == cp_model.OPTIMAL or status == cp_model.FEASIBLE:\n",
    "        print(f'Maximum of objective function: {solver.ObjectiveValue()}\\n')\n",
    "        print(f'x = {solver.Value(x)}')\n",
    "        print(f'y = {solver.Value(y)}')\n",
    "        print(f'z = {solver.Value(z)}')\n",
    "    else:\n",
    "        print('No solution found.')\n",
    "\n",
    "    # Statistics.\n",
    "    print('\\nStatistics')\n",
    "    print(f'  status   : {solver.StatusName(status)}')\n",
    "    print(f'  conflicts: {solver.NumConflicts()}')\n",
    "    print(f'  branches : {solver.NumBranches()}')\n",
    "    print(f'  wall time: {solver.WallTime()} s')\n",
    "\n",
    "\n",
    "if __name__ == '__main__':\n",
    "    main()"
   ]
  },
  {
   "cell_type": "code",
   "execution_count": null,
   "id": "d1c0d4f6",
   "metadata": {},
   "outputs": [],
   "source": []
  },
  {
   "cell_type": "code",
   "execution_count": 162,
   "id": "7172df7b",
   "metadata": {
    "ExecuteTime": {
     "end_time": "2022-09-08T06:31:25.909583Z",
     "start_time": "2022-09-08T06:31:25.901821Z"
    }
   },
   "outputs": [],
   "source": [
    "from ortools.sat.python import cp_model"
   ]
  },
  {
   "cell_type": "code",
   "execution_count": 163,
   "id": "5d7d8c1a",
   "metadata": {
    "ExecuteTime": {
     "end_time": "2022-09-08T06:31:31.226885Z",
     "start_time": "2022-09-08T06:31:31.213061Z"
    }
   },
   "outputs": [],
   "source": [
    "model = cp_model.CpModel()"
   ]
  },
  {
   "cell_type": "code",
   "execution_count": 164,
   "id": "7749a174",
   "metadata": {
    "ExecuteTime": {
     "end_time": "2022-09-08T06:31:45.641486Z",
     "start_time": "2022-09-08T06:31:45.625900Z"
    }
   },
   "outputs": [],
   "source": [
    "base = 10\n",
    "\n",
    "c = model.NewIntVar(1, base - 1, 'C')\n",
    "p = model.NewIntVar(0, base - 1, 'P')\n",
    "i = model.NewIntVar(1, base - 1, 'I')\n",
    "s = model.NewIntVar(0, base - 1, 'S')\n",
    "f = model.NewIntVar(1, base - 1, 'F')\n",
    "u = model.NewIntVar(0, base - 1, 'U')\n",
    "n = model.NewIntVar(0, base - 1, 'N')\n",
    "t = model.NewIntVar(1, base - 1, 'T')\n",
    "r = model.NewIntVar(0, base - 1, 'R')\n",
    "e = model.NewIntVar(0, base - 1, 'E')\n",
    "\n",
    "# We need to group variables in a list to use the constraint AllDifferent.\n",
    "letters = [c, p, i, s, f, u, n, t, r, e]\n",
    "\n",
    "# Verify that we have enough digits.\n",
    "assert base >= len(letters)"
   ]
  },
  {
   "cell_type": "code",
   "execution_count": null,
   "id": "8379689a",
   "metadata": {},
   "outputs": [],
   "source": []
  },
  {
   "cell_type": "code",
   "execution_count": 167,
   "id": "7e3c55bf",
   "metadata": {
    "ExecuteTime": {
     "end_time": "2022-09-08T06:40:00.948239Z",
     "start_time": "2022-09-08T06:40:00.940536Z"
    }
   },
   "outputs": [
    {
     "data": {
      "text/plain": [
       "<ortools.sat.python.cp_model.Constraint at 0x20baa525b80>"
      ]
     },
     "execution_count": 167,
     "metadata": {},
     "output_type": "execute_result"
    }
   ],
   "source": [
    "model.AddAllDifferent(letters)\n",
    "\n",
    "# CP + IS + FUN = TRUE\n",
    "model.Add(c * base + p + i * base + s + f * base * base + u * base +\n",
    "          n == t * base * base * base + r * base * base + u * base + e)"
   ]
  },
  {
   "cell_type": "code",
   "execution_count": 169,
   "id": "c1b7b91c",
   "metadata": {
    "ExecuteTime": {
     "end_time": "2022-09-08T06:42:02.857584Z",
     "start_time": "2022-09-08T06:42:02.846324Z"
    }
   },
   "outputs": [],
   "source": [
    "class VarArraySolutionPrinter(cp_model.CpSolverSolutionCallback):\n",
    "    \"\"\"Print intermediate solutions.\"\"\"\n",
    "\n",
    "    def __init__(self, variables):\n",
    "        cp_model.CpSolverSolutionCallback.__init__(self)\n",
    "        self.__variables = variables\n",
    "        self.__solution_count = 0\n",
    "\n",
    "    def on_solution_callback(self):\n",
    "        self.__solution_count += 1\n",
    "        for v in self.__variables:\n",
    "            print('%s=%i' % (v, self.Value(v)), end=' ')\n",
    "        print()\n",
    "\n",
    "    def solution_count(self):\n",
    "        return self.__solution_count "
   ]
  },
  {
   "cell_type": "code",
   "execution_count": 170,
   "id": "fa81d8b5",
   "metadata": {
    "ExecuteTime": {
     "end_time": "2022-09-08T06:42:42.792476Z",
     "start_time": "2022-09-08T06:42:42.721894Z"
    }
   },
   "outputs": [
    {
     "name": "stdout",
     "output_type": "stream",
     "text": [
      "C=6 P=4 I=3 S=5 F=9 U=2 N=8 T=1 R=0 E=7 \n",
      "C=3 P=4 I=6 S=5 F=9 U=2 N=8 T=1 R=0 E=7 \n",
      "C=3 P=4 I=6 S=8 F=9 U=2 N=5 T=1 R=0 E=7 \n",
      "C=3 P=2 I=6 S=7 F=9 U=8 N=5 T=1 R=0 E=4 \n",
      "C=3 P=2 I=6 S=5 F=9 U=8 N=7 T=1 R=0 E=4 \n",
      "C=2 P=3 I=7 S=6 F=9 U=8 N=5 T=1 R=0 E=4 \n",
      "C=2 P=3 I=7 S=4 F=9 U=6 N=8 T=1 R=0 E=5 \n",
      "C=2 P=3 I=7 S=5 F=9 U=4 N=8 T=1 R=0 E=6 \n",
      "C=2 P=3 I=7 S=8 F=9 U=4 N=5 T=1 R=0 E=6 \n",
      "C=2 P=3 I=7 S=8 F=9 U=6 N=4 T=1 R=0 E=5 \n",
      "C=2 P=3 I=7 S=5 F=9 U=8 N=6 T=1 R=0 E=4 \n",
      "C=7 P=3 I=2 S=5 F=9 U=8 N=6 T=1 R=0 E=4 \n",
      "C=7 P=3 I=2 S=6 F=9 U=8 N=5 T=1 R=0 E=4 \n",
      "C=6 P=2 I=3 S=7 F=9 U=8 N=5 T=1 R=0 E=4 \n",
      "C=6 P=2 I=3 S=5 F=9 U=8 N=7 T=1 R=0 E=4 \n",
      "C=7 P=3 I=2 S=4 F=9 U=6 N=8 T=1 R=0 E=5 \n",
      "C=7 P=3 I=2 S=8 F=9 U=6 N=4 T=1 R=0 E=5 \n",
      "C=7 P=4 I=2 S=8 F=9 U=6 N=3 T=1 R=0 E=5 \n",
      "C=7 P=8 I=2 S=4 F=9 U=6 N=3 T=1 R=0 E=5 \n",
      "C=7 P=8 I=2 S=3 F=9 U=6 N=4 T=1 R=0 E=5 \n",
      "C=7 P=4 I=2 S=3 F=9 U=6 N=8 T=1 R=0 E=5 \n",
      "C=7 P=6 I=2 S=3 F=9 U=8 N=5 T=1 R=0 E=4 \n",
      "C=7 P=5 I=2 S=3 F=9 U=8 N=6 T=1 R=0 E=4 \n",
      "C=7 P=8 I=2 S=3 F=9 U=4 N=5 T=1 R=0 E=6 \n",
      "C=7 P=8 I=2 S=5 F=9 U=4 N=3 T=1 R=0 E=6 \n",
      "C=7 P=3 I=2 S=5 F=9 U=4 N=8 T=1 R=0 E=6 \n",
      "C=7 P=5 I=2 S=3 F=9 U=4 N=8 T=1 R=0 E=6 \n",
      "C=7 P=3 I=2 S=8 F=9 U=4 N=5 T=1 R=0 E=6 \n",
      "C=7 P=5 I=2 S=8 F=9 U=4 N=3 T=1 R=0 E=6 \n",
      "C=2 P=5 I=7 S=8 F=9 U=4 N=3 T=1 R=0 E=6 \n",
      "C=4 P=6 I=5 S=8 F=9 U=2 N=3 T=1 R=0 E=7 \n",
      "C=5 P=6 I=4 S=8 F=9 U=2 N=3 T=1 R=0 E=7 \n",
      "C=6 P=5 I=3 S=8 F=9 U=2 N=4 T=1 R=0 E=7 \n",
      "C=6 P=5 I=3 S=4 F=9 U=2 N=8 T=1 R=0 E=7 \n",
      "C=6 P=4 I=3 S=8 F=9 U=2 N=5 T=1 R=0 E=7 \n",
      "C=5 P=6 I=4 S=3 F=9 U=2 N=8 T=1 R=0 E=7 \n",
      "C=4 P=6 I=5 S=3 F=9 U=2 N=8 T=1 R=0 E=7 \n",
      "C=4 P=3 I=5 S=6 F=9 U=2 N=8 T=1 R=0 E=7 \n",
      "C=4 P=3 I=5 S=8 F=9 U=2 N=6 T=1 R=0 E=7 \n",
      "C=5 P=3 I=4 S=8 F=9 U=2 N=6 T=1 R=0 E=7 \n",
      "C=5 P=3 I=4 S=6 F=9 U=2 N=8 T=1 R=0 E=7 \n",
      "C=3 P=5 I=6 S=4 F=9 U=2 N=8 T=1 R=0 E=7 \n",
      "C=3 P=5 I=6 S=8 F=9 U=2 N=4 T=1 R=0 E=7 \n",
      "C=3 P=8 I=6 S=5 F=9 U=2 N=4 T=1 R=0 E=7 \n",
      "C=3 P=8 I=6 S=4 F=9 U=2 N=5 T=1 R=0 E=7 \n",
      "C=4 P=8 I=5 S=3 F=9 U=2 N=6 T=1 R=0 E=7 \n",
      "C=5 P=8 I=4 S=3 F=9 U=2 N=6 T=1 R=0 E=7 \n",
      "C=6 P=8 I=3 S=4 F=9 U=2 N=5 T=1 R=0 E=7 \n",
      "C=6 P=8 I=3 S=5 F=9 U=2 N=4 T=1 R=0 E=7 \n",
      "C=5 P=8 I=4 S=6 F=9 U=2 N=3 T=1 R=0 E=7 \n",
      "C=4 P=8 I=5 S=6 F=9 U=2 N=3 T=1 R=0 E=7 \n",
      "C=3 P=7 I=6 S=2 F=9 U=8 N=5 T=1 R=0 E=4 \n",
      "C=3 P=5 I=6 S=2 F=9 U=8 N=7 T=1 R=0 E=4 \n",
      "C=3 P=7 I=6 S=5 F=9 U=8 N=2 T=1 R=0 E=4 \n",
      "C=3 P=5 I=6 S=7 F=9 U=8 N=2 T=1 R=0 E=4 \n",
      "C=2 P=5 I=7 S=6 F=9 U=8 N=3 T=1 R=0 E=4 \n",
      "C=2 P=6 I=7 S=5 F=9 U=8 N=3 T=1 R=0 E=4 \n",
      "C=2 P=6 I=7 S=3 F=9 U=8 N=5 T=1 R=0 E=4 \n",
      "C=2 P=5 I=7 S=3 F=9 U=8 N=6 T=1 R=0 E=4 \n",
      "C=2 P=8 I=7 S=3 F=9 U=4 N=5 T=1 R=0 E=6 \n",
      "C=2 P=5 I=7 S=3 F=9 U=4 N=8 T=1 R=0 E=6 \n",
      "C=2 P=8 I=7 S=3 F=9 U=6 N=4 T=1 R=0 E=5 \n",
      "C=2 P=4 I=7 S=3 F=9 U=6 N=8 T=1 R=0 E=5 \n",
      "C=2 P=4 I=7 S=8 F=9 U=6 N=3 T=1 R=0 E=5 \n",
      "C=2 P=8 I=7 S=4 F=9 U=6 N=3 T=1 R=0 E=5 \n",
      "C=2 P=8 I=7 S=5 F=9 U=4 N=3 T=1 R=0 E=6 \n",
      "C=7 P=6 I=2 S=5 F=9 U=8 N=3 T=1 R=0 E=4 \n",
      "C=7 P=5 I=2 S=6 F=9 U=8 N=3 T=1 R=0 E=4 \n",
      "C=6 P=5 I=3 S=7 F=9 U=8 N=2 T=1 R=0 E=4 \n",
      "C=6 P=7 I=3 S=5 F=9 U=8 N=2 T=1 R=0 E=4 \n",
      "C=6 P=7 I=3 S=2 F=9 U=8 N=5 T=1 R=0 E=4 \n",
      "C=6 P=5 I=3 S=2 F=9 U=8 N=7 T=1 R=0 E=4 \n"
     ]
    }
   ],
   "source": [
    "solver = cp_model.CpSolver()\n",
    "solution_printer = VarArraySolutionPrinter(letters)\n",
    "# Enumerate all solutions.\n",
    "solver.parameters.enumerate_all_solutions = True\n",
    "# Solve.\n",
    "status = solver.Solve(model, solution_printer)"
   ]
  },
  {
   "cell_type": "code",
   "execution_count": null,
   "id": "55ab6052",
   "metadata": {},
   "outputs": [],
   "source": []
  },
  {
   "cell_type": "code",
   "execution_count": 172,
   "id": "e722a15b",
   "metadata": {
    "ExecuteTime": {
     "end_time": "2022-09-08T07:51:17.627215Z",
     "start_time": "2022-09-08T07:51:17.185547Z"
    }
   },
   "outputs": [
    {
     "name": "stdout",
     "output_type": "stream",
     "text": [
      "Solution 0, time = 0.004020 s\n",
      "_ _ _ Q _ _ _ _ \n",
      "_ _ _ _ _ _ Q _ \n",
      "_ _ _ _ Q _ _ _ \n",
      "_ _ Q _ _ _ _ _ \n",
      "Q _ _ _ _ _ _ _ \n",
      "_ _ _ _ _ Q _ _ \n",
      "_ _ _ _ _ _ _ Q \n",
      "_ Q _ _ _ _ _ _ \n",
      "\n",
      "Solution 1, time = 0.007987 s\n",
      "_ _ _ _ _ _ _ Q \n",
      "_ Q _ _ _ _ _ _ \n",
      "_ _ _ _ Q _ _ _ \n",
      "_ _ Q _ _ _ _ _ \n",
      "Q _ _ _ _ _ _ _ \n",
      "_ _ _ _ _ _ Q _ \n",
      "_ _ _ Q _ _ _ _ \n",
      "_ _ _ _ _ Q _ _ \n",
      "\n",
      "Solution 2, time = 0.010986 s\n",
      "_ _ _ Q _ _ _ _ \n",
      "_ _ _ _ _ _ _ Q \n",
      "_ _ _ _ Q _ _ _ \n",
      "_ _ Q _ _ _ _ _ \n",
      "Q _ _ _ _ _ _ _ \n",
      "_ _ _ _ _ _ Q _ \n",
      "_ Q _ _ _ _ _ _ \n",
      "_ _ _ _ _ Q _ _ \n",
      "\n",
      "Solution 3, time = 0.017056 s\n",
      "_ _ _ _ _ _ Q _ \n",
      "_ Q _ _ _ _ _ _ \n",
      "_ _ _ _ _ Q _ _ \n",
      "_ _ Q _ _ _ _ _ \n",
      "Q _ _ _ _ _ _ _ \n",
      "_ _ _ Q _ _ _ _ \n",
      "_ _ _ _ _ _ _ Q \n",
      "_ _ _ _ Q _ _ _ \n",
      "\n",
      "Solution 4, time = 0.022266 s\n",
      "_ _ _ Q _ _ _ _ \n",
      "_ _ _ _ _ Q _ _ \n",
      "_ _ _ _ _ _ _ Q \n",
      "_ _ Q _ _ _ _ _ \n",
      "Q _ _ _ _ _ _ _ \n",
      "_ _ _ _ _ _ Q _ \n",
      "_ _ _ _ Q _ _ _ \n",
      "_ Q _ _ _ _ _ _ \n",
      "\n",
      "Solution 5, time = 0.024760 s\n",
      "Q _ _ _ _ _ _ _ \n",
      "_ _ _ _ _ Q _ _ \n",
      "_ _ _ _ _ _ _ Q \n",
      "_ _ Q _ _ _ _ _ \n",
      "_ _ _ _ _ _ Q _ \n",
      "_ _ _ Q _ _ _ _ \n",
      "_ Q _ _ _ _ _ _ \n",
      "_ _ _ _ Q _ _ _ \n",
      "\n",
      "Solution 6, time = 0.026312 s\n",
      "_ Q _ _ _ _ _ _ \n",
      "_ _ _ _ _ Q _ _ \n",
      "_ _ _ _ _ _ _ Q \n",
      "_ _ Q _ _ _ _ _ \n",
      "Q _ _ _ _ _ _ _ \n",
      "_ _ _ Q _ _ _ _ \n",
      "_ _ _ _ _ _ Q _ \n",
      "_ _ _ _ Q _ _ _ \n",
      "\n",
      "Solution 7, time = 0.029391 s\n",
      "_ _ Q _ _ _ _ _ \n",
      "_ _ _ _ _ Q _ _ \n",
      "_ _ _ _ _ _ _ Q \n",
      "Q _ _ _ _ _ _ _ \n",
      "_ _ _ Q _ _ _ _ \n",
      "_ _ _ _ _ _ Q _ \n",
      "_ _ _ _ Q _ _ _ \n",
      "_ Q _ _ _ _ _ _ \n",
      "\n",
      "Solution 8, time = 0.036223 s\n",
      "_ _ Q _ _ _ _ _ \n",
      "_ _ _ _ _ Q _ _ \n",
      "_ Q _ _ _ _ _ _ \n",
      "_ _ _ _ Q _ _ _ \n",
      "_ _ _ _ _ _ _ Q \n",
      "Q _ _ _ _ _ _ _ \n",
      "_ _ _ _ _ _ Q _ \n",
      "_ _ _ Q _ _ _ _ \n",
      "\n",
      "Solution 9, time = 0.042223 s\n",
      "_ _ Q _ _ _ _ _ \n",
      "_ _ _ _ _ Q _ _ \n",
      "_ _ _ Q _ _ _ _ \n",
      "Q _ _ _ _ _ _ _ \n",
      "_ _ _ _ _ _ _ Q \n",
      "_ _ _ _ Q _ _ _ \n",
      "_ _ _ _ _ _ Q _ \n",
      "_ Q _ _ _ _ _ _ \n",
      "\n",
      "Solution 10, time = 0.049845 s\n",
      "_ Q _ _ _ _ _ _ \n",
      "_ _ _ _ _ _ _ Q \n",
      "_ _ _ _ _ Q _ _ \n",
      "Q _ _ _ _ _ _ _ \n",
      "_ _ Q _ _ _ _ _ \n",
      "_ _ _ _ Q _ _ _ \n",
      "_ _ _ _ _ _ Q _ \n",
      "_ _ _ Q _ _ _ _ \n",
      "\n",
      "Solution 11, time = 0.050847 s\n",
      "_ _ _ _ _ Q _ _ \n",
      "_ _ _ Q _ _ _ _ \n",
      "Q _ _ _ _ _ _ _ \n",
      "_ _ _ _ Q _ _ _ \n",
      "_ _ _ _ _ _ _ Q \n",
      "_ Q _ _ _ _ _ _ \n",
      "_ _ _ _ _ _ Q _ \n",
      "_ _ Q _ _ _ _ _ \n",
      "\n",
      "Solution 12, time = 0.056862 s\n",
      "_ Q _ _ _ _ _ _ \n",
      "_ _ _ Q _ _ _ _ \n",
      "_ _ _ _ _ Q _ _ \n",
      "_ _ _ _ _ _ _ Q \n",
      "_ _ Q _ _ _ _ _ \n",
      "Q _ _ _ _ _ _ _ \n",
      "_ _ _ _ _ _ Q _ \n",
      "_ _ _ _ Q _ _ _ \n",
      "\n",
      "Solution 13, time = 0.062267 s\n",
      "_ _ _ _ _ Q _ _ \n",
      "_ _ Q _ _ _ _ _ \n",
      "Q _ _ _ _ _ _ _ \n",
      "_ _ _ _ _ _ _ Q \n",
      "_ _ _ Q _ _ _ _ \n",
      "_ Q _ _ _ _ _ _ \n",
      "_ _ _ _ _ _ Q _ \n",
      "_ _ _ _ Q _ _ _ \n",
      "\n",
      "Solution 14, time = 0.068265 s\n",
      "_ Q _ _ _ _ _ _ \n",
      "_ _ _ _ _ Q _ _ \n",
      "Q _ _ _ _ _ _ _ \n",
      "_ _ _ _ _ _ Q _ \n",
      "_ _ _ Q _ _ _ _ \n",
      "_ _ _ _ _ _ _ Q \n",
      "_ _ Q _ _ _ _ _ \n",
      "_ _ _ _ Q _ _ _ \n",
      "\n",
      "Solution 15, time = 0.074264 s\n",
      "_ _ _ Q _ _ _ _ \n",
      "_ _ _ _ _ Q _ _ \n",
      "Q _ _ _ _ _ _ _ \n",
      "_ _ _ _ Q _ _ _ \n",
      "_ Q _ _ _ _ _ _ \n",
      "_ _ _ _ _ _ _ Q \n",
      "_ _ Q _ _ _ _ _ \n",
      "_ _ _ _ _ _ Q _ \n",
      "\n",
      "Solution 16, time = 0.078250 s\n",
      "_ _ _ Q _ _ _ _ \n",
      "_ Q _ _ _ _ _ _ \n",
      "_ _ _ _ _ _ _ Q \n",
      "_ _ _ _ Q _ _ _ \n",
      "_ _ _ _ _ _ Q _ \n",
      "Q _ _ _ _ _ _ _ \n",
      "_ _ Q _ _ _ _ _ \n",
      "_ _ _ _ _ Q _ _ \n",
      "\n",
      "Solution 17, time = 0.082249 s\n",
      "_ _ Q _ _ _ _ _ \n",
      "Q _ _ _ _ _ _ _ \n",
      "_ _ _ _ _ _ Q _ \n",
      "_ _ _ _ Q _ _ _ \n",
      "_ _ _ _ _ _ _ Q \n",
      "_ Q _ _ _ _ _ _ \n",
      "_ _ _ Q _ _ _ _ \n",
      "_ _ _ _ _ Q _ _ \n",
      "\n",
      "Solution 18, time = 0.086249 s\n",
      "_ _ _ Q _ _ _ _ \n",
      "_ Q _ _ _ _ _ _ \n",
      "_ _ _ _ _ _ Q _ \n",
      "_ _ _ _ Q _ _ _ \n",
      "Q _ _ _ _ _ _ _ \n",
      "_ _ _ _ _ _ _ Q \n",
      "_ _ _ _ _ Q _ _ \n",
      "_ _ Q _ _ _ _ _ \n",
      "\n",
      "Solution 19, time = 0.089248 s\n",
      "_ Q _ _ _ _ _ _ \n",
      "_ _ _ _ Q _ _ _ \n",
      "_ _ _ _ _ _ Q _ \n",
      "_ _ _ Q _ _ _ _ \n",
      "Q _ _ _ _ _ _ _ \n",
      "_ _ _ _ _ _ _ Q \n",
      "_ _ _ _ _ Q _ _ \n",
      "_ _ Q _ _ _ _ _ \n",
      "\n",
      "Solution 20, time = 0.093251 s\n",
      "_ _ _ _ _ Q _ _ \n",
      "_ _ _ Q _ _ _ _ \n",
      "_ _ _ _ _ _ Q _ \n",
      "Q _ _ _ _ _ _ _ \n",
      "_ _ _ _ _ _ _ Q \n",
      "_ Q _ _ _ _ _ _ \n",
      "_ _ _ _ Q _ _ _ \n",
      "_ _ Q _ _ _ _ _ \n",
      "\n",
      "Solution 21, time = 0.097264 s\n",
      "_ _ _ _ _ Q _ _ \n",
      "_ _ _ Q _ _ _ _ \n",
      "_ _ _ _ _ _ Q _ \n",
      "Q _ _ _ _ _ _ _ \n",
      "_ _ Q _ _ _ _ _ \n",
      "_ _ _ _ Q _ _ _ \n",
      "_ Q _ _ _ _ _ _ \n",
      "_ _ _ _ _ _ _ Q \n",
      "\n",
      "Solution 22, time = 0.099265 s\n",
      "_ _ _ _ _ Q _ _ \n",
      "_ Q _ _ _ _ _ _ \n",
      "_ _ _ _ _ _ Q _ \n",
      "Q _ _ _ _ _ _ _ \n",
      "_ _ Q _ _ _ _ _ \n",
      "_ _ _ _ Q _ _ _ \n",
      "_ _ _ _ _ _ _ Q \n",
      "_ _ _ Q _ _ _ _ \n",
      "\n",
      "Solution 23, time = 0.100252 s\n",
      "_ _ Q _ _ _ _ _ \n",
      "_ _ _ _ Q _ _ _ \n",
      "_ _ _ _ _ _ Q _ \n",
      "Q _ _ _ _ _ _ _ \n",
      "_ _ _ Q _ _ _ _ \n",
      "_ Q _ _ _ _ _ _ \n",
      "_ _ _ _ _ _ _ Q \n",
      "_ _ _ _ _ Q _ _ \n",
      "\n",
      "Solution 24, time = 0.109082 s\n",
      "_ _ _ _ _ Q _ _ \n",
      "_ Q _ _ _ _ _ _ \n",
      "_ _ _ _ _ _ Q _ \n",
      "Q _ _ _ _ _ _ _ \n",
      "_ _ _ Q _ _ _ _ \n",
      "_ _ _ _ _ _ _ Q \n",
      "_ _ _ _ Q _ _ _ \n",
      "_ _ Q _ _ _ _ _ \n",
      "\n",
      "Solution 25, time = 0.111081 s\n",
      "_ _ _ _ _ Q _ _ \n",
      "_ _ Q _ _ _ _ _ \n",
      "_ _ _ _ _ _ Q _ \n",
      "_ _ _ Q _ _ _ _ \n",
      "Q _ _ _ _ _ _ _ \n",
      "_ _ _ _ _ _ _ Q \n",
      "_ Q _ _ _ _ _ _ \n",
      "_ _ _ _ Q _ _ _ \n",
      "\n",
      "Solution 26, time = 0.114084 s\n",
      "_ _ _ Q _ _ _ _ \n",
      "_ Q _ _ _ _ _ _ \n",
      "_ _ _ _ _ _ Q _ \n",
      "_ _ Q _ _ _ _ _ \n",
      "_ _ _ _ _ Q _ _ \n",
      "_ _ _ _ _ _ _ Q \n",
      "Q _ _ _ _ _ _ _ \n",
      "_ _ _ _ Q _ _ _ \n",
      "\n",
      "Solution 27, time = 0.122683 s\n",
      "_ _ _ Q _ _ _ _ \n",
      "_ Q _ _ _ _ _ _ \n",
      "_ _ _ _ _ _ Q _ \n",
      "_ _ Q _ _ _ _ _ \n",
      "_ _ _ _ _ Q _ _ \n",
      "_ _ _ _ _ _ _ Q \n",
      "_ _ _ _ Q _ _ _ \n",
      "Q _ _ _ _ _ _ _ \n",
      "\n",
      "Solution 28, time = 0.124879 s\n",
      "_ _ _ _ Q _ _ _ \n",
      "_ Q _ _ _ _ _ _ \n",
      "_ _ _ _ _ Q _ _ \n",
      "Q _ _ _ _ _ _ _ \n",
      "_ _ _ _ _ _ Q _ \n",
      "_ _ _ Q _ _ _ _ \n",
      "_ _ _ _ _ _ _ Q \n",
      "_ _ Q _ _ _ _ _ \n",
      "\n",
      "Solution 29, time = 0.127206 s\n",
      "_ _ _ Q _ _ _ _ \n",
      "_ _ _ _ _ _ _ Q \n",
      "Q _ _ _ _ _ _ _ \n",
      "_ _ _ _ Q _ _ _ \n",
      "_ _ _ _ _ _ Q _ \n",
      "_ Q _ _ _ _ _ _ \n",
      "_ _ _ _ _ Q _ _ \n",
      "_ _ Q _ _ _ _ _ \n",
      "\n",
      "Solution 30, time = 0.132894 s\n",
      "_ _ _ Q _ _ _ _ \n",
      "_ _ _ _ _ _ _ Q \n",
      "Q _ _ _ _ _ _ _ \n",
      "_ _ Q _ _ _ _ _ \n",
      "_ _ _ _ _ Q _ _ \n",
      "_ Q _ _ _ _ _ _ \n",
      "_ _ _ _ _ _ Q _ \n",
      "_ _ _ _ Q _ _ _ \n",
      "\n",
      "Solution 31, time = 0.144777 s\n",
      "_ _ _ _ _ _ Q _ \n",
      "_ _ _ _ Q _ _ _ \n",
      "_ _ Q _ _ _ _ _ \n",
      "Q _ _ _ _ _ _ _ \n",
      "_ _ _ _ _ Q _ _ \n",
      "_ _ _ _ _ _ _ Q \n",
      "_ Q _ _ _ _ _ _ \n",
      "_ _ _ Q _ _ _ _ \n",
      "\n",
      "Solution 32, time = 0.149432 s\n",
      "_ _ _ _ _ _ Q _ \n",
      "Q _ _ _ _ _ _ _ \n",
      "_ _ Q _ _ _ _ _ \n",
      "_ _ _ _ _ _ _ Q \n",
      "_ _ _ _ _ Q _ _ \n",
      "_ _ _ Q _ _ _ _ \n",
      "_ Q _ _ _ _ _ _ \n",
      "_ _ _ _ Q _ _ _ \n",
      "\n",
      "Solution 33, time = 0.151433 s\n",
      "_ _ Q _ _ _ _ _ \n",
      "_ _ _ _ _ _ _ Q \n",
      "_ _ _ Q _ _ _ _ \n",
      "_ _ _ _ _ _ Q _ \n",
      "Q _ _ _ _ _ _ _ \n",
      "_ _ _ _ _ Q _ _ \n",
      "_ Q _ _ _ _ _ _ \n",
      "_ _ _ _ Q _ _ _ \n",
      "\n",
      "Solution 34, time = 0.158715 s\n",
      "_ Q _ _ _ _ _ _ \n",
      "_ _ _ _ _ _ Q _ \n",
      "_ _ _ _ Q _ _ _ \n",
      "_ _ _ _ _ _ _ Q \n",
      "Q _ _ _ _ _ _ _ \n",
      "_ _ _ Q _ _ _ _ \n",
      "_ _ _ _ _ Q _ _ \n",
      "_ _ Q _ _ _ _ _ \n",
      "\n",
      "Solution 35, time = 0.160270 s\n",
      "_ _ _ _ _ Q _ _ \n",
      "_ _ Q _ _ _ _ _ \n",
      "_ _ _ _ Q _ _ _ \n",
      "_ _ _ _ _ _ Q _ \n",
      "Q _ _ _ _ _ _ _ \n",
      "_ _ _ Q _ _ _ _ \n",
      "_ Q _ _ _ _ _ _ \n",
      "_ _ _ _ _ _ _ Q \n",
      "\n",
      "Solution 36, time = 0.167286 s\n",
      "_ _ _ _ _ Q _ _ \n",
      "_ _ Q _ _ _ _ _ \n",
      "_ _ _ _ Q _ _ _ \n",
      "_ _ _ _ _ _ _ Q \n",
      "Q _ _ _ _ _ _ _ \n",
      "_ _ _ Q _ _ _ _ \n",
      "_ Q _ _ _ _ _ _ \n",
      "_ _ _ _ _ _ Q _ \n",
      "\n",
      "Solution 37, time = 0.173272 s\n",
      "_ _ _ Q _ _ _ _ \n",
      "Q _ _ _ _ _ _ _ \n",
      "_ _ _ _ Q _ _ _ \n",
      "_ _ _ _ _ _ _ Q \n",
      "_ _ _ _ _ Q _ _ \n",
      "_ _ Q _ _ _ _ _ \n",
      "_ _ _ _ _ _ Q _ \n",
      "_ Q _ _ _ _ _ _ \n",
      "\n",
      "Solution 38, time = 0.177272 s\n",
      "_ _ _ Q _ _ _ _ \n",
      "_ Q _ _ _ _ _ _ \n",
      "_ _ _ _ Q _ _ _ \n",
      "_ _ _ _ _ _ _ Q \n",
      "_ _ _ _ _ Q _ _ \n",
      "Q _ _ _ _ _ _ _ \n",
      "_ _ Q _ _ _ _ _ \n",
      "_ _ _ _ _ _ Q _ \n",
      "\n",
      "Solution 39, time = 0.179273 s\n",
      "_ _ _ Q _ _ _ _ \n",
      "_ _ _ _ _ _ Q _ \n",
      "_ _ _ _ Q _ _ _ \n",
      "_ Q _ _ _ _ _ _ \n",
      "_ _ _ _ _ Q _ _ \n",
      "Q _ _ _ _ _ _ _ \n",
      "_ _ Q _ _ _ _ _ \n",
      "_ _ _ _ _ _ _ Q \n",
      "\n",
      "Solution 40, time = 0.185271 s\n",
      "_ _ _ _ _ Q _ _ \n",
      "Q _ _ _ _ _ _ _ \n",
      "_ _ _ _ Q _ _ _ \n",
      "_ Q _ _ _ _ _ _ \n",
      "_ _ _ _ _ _ _ Q \n",
      "_ _ Q _ _ _ _ _ \n",
      "_ _ _ _ _ _ Q _ \n",
      "_ _ _ Q _ _ _ _ \n",
      "\n",
      "Solution 41, time = 0.186290 s\n",
      "_ _ _ _ Q _ _ _ \n",
      "_ _ _ _ _ _ Q _ \n",
      "Q _ _ _ _ _ _ _ \n",
      "_ _ Q _ _ _ _ _ \n",
      "_ _ _ _ _ _ _ Q \n",
      "_ _ _ _ _ Q _ _ \n",
      "_ _ _ Q _ _ _ _ \n",
      "_ Q _ _ _ _ _ _ \n",
      "\n",
      "Solution 42, time = 0.189272 s\n",
      "_ _ _ Q _ _ _ _ \n",
      "_ _ _ _ _ _ Q _ \n",
      "Q _ _ _ _ _ _ _ \n",
      "_ _ _ _ _ _ _ Q \n",
      "_ _ _ _ Q _ _ _ \n",
      "_ Q _ _ _ _ _ _ \n",
      "_ _ _ _ _ Q _ _ \n",
      "_ _ Q _ _ _ _ _ \n",
      "\n",
      "Solution 43, time = 0.193966 s\n",
      "_ _ Q _ _ _ _ _ \n",
      "_ _ _ _ _ _ Q _ \n",
      "_ Q _ _ _ _ _ _ \n",
      "_ _ _ _ _ _ _ Q \n",
      "_ _ _ _ Q _ _ _ \n",
      "Q _ _ _ _ _ _ _ \n",
      "_ _ _ Q _ _ _ _ \n",
      "_ _ _ _ _ Q _ _ \n",
      "\n",
      "Solution 44, time = 0.199967 s\n",
      "_ _ _ _ Q _ _ _ \n",
      "_ _ _ _ _ _ Q _ \n",
      "_ Q _ _ _ _ _ _ \n",
      "_ _ _ Q _ _ _ _ \n",
      "_ _ _ _ _ _ _ Q \n",
      "Q _ _ _ _ _ _ _ \n",
      "_ _ Q _ _ _ _ _ \n",
      "_ _ _ _ _ Q _ _ \n",
      "\n",
      "Solution 45, time = 0.206638 s\n",
      "_ _ Q _ _ _ _ _ \n",
      "_ _ _ _ Q _ _ _ \n",
      "_ Q _ _ _ _ _ _ \n",
      "_ _ _ _ _ _ _ Q \n",
      "Q _ _ _ _ _ _ _ \n",
      "_ _ _ _ _ _ Q _ \n",
      "_ _ _ Q _ _ _ _ \n",
      "_ _ _ _ _ Q _ _ \n",
      "\n",
      "Solution 46, time = 0.213024 s\n",
      "_ _ _ _ _ Q _ _ \n",
      "_ _ _ Q _ _ _ _ \n",
      "_ Q _ _ _ _ _ _ \n",
      "_ _ _ _ _ _ _ Q \n",
      "_ _ _ _ Q _ _ _ \n",
      "_ _ _ _ _ _ Q _ \n",
      "Q _ _ _ _ _ _ _ \n",
      "_ _ Q _ _ _ _ _ \n",
      "\n",
      "Solution 47, time = 0.222377 s\n",
      "_ _ _ _ Q _ _ _ \n",
      "_ _ _ _ _ _ _ Q \n",
      "_ _ _ Q _ _ _ _ \n",
      "Q _ _ _ _ _ _ _ \n",
      "_ _ Q _ _ _ _ _ \n",
      "_ _ _ _ _ Q _ _ \n",
      "_ Q _ _ _ _ _ _ \n",
      "_ _ _ _ _ _ Q _ \n",
      "\n",
      "Solution 48, time = 0.224598 s\n",
      "_ _ _ _ Q _ _ _ \n",
      "_ _ _ _ _ _ Q _ \n",
      "_ _ _ Q _ _ _ _ \n",
      "Q _ _ _ _ _ _ _ \n",
      "_ _ Q _ _ _ _ _ \n",
      "_ _ _ _ _ _ _ Q \n",
      "_ _ _ _ _ Q _ _ \n",
      "_ Q _ _ _ _ _ _ \n",
      "\n",
      "Solution 49, time = 0.231599 s\n",
      "_ _ _ _ Q _ _ _ \n",
      "_ Q _ _ _ _ _ _ \n",
      "_ _ _ Q _ _ _ _ \n",
      "_ _ _ _ _ _ Q _ \n",
      "_ _ Q _ _ _ _ _ \n",
      "_ _ _ _ _ _ _ Q \n",
      "_ _ _ _ _ Q _ _ \n",
      "Q _ _ _ _ _ _ _ \n",
      "\n",
      "Solution 50, time = 0.235260 s\n",
      "_ _ _ _ Q _ _ _ \n",
      "_ _ _ _ _ _ _ Q \n",
      "_ _ _ Q _ _ _ _ \n",
      "Q _ _ _ _ _ _ _ \n",
      "_ _ _ _ _ _ Q _ \n",
      "_ Q _ _ _ _ _ _ \n",
      "_ _ _ _ _ Q _ _ \n",
      "_ _ Q _ _ _ _ _ \n",
      "\n",
      "Solution 51, time = 0.236259 s\n",
      "Q _ _ _ _ _ _ _ \n",
      "_ _ _ _ _ _ Q _ \n",
      "_ _ _ Q _ _ _ _ \n",
      "_ _ _ _ _ Q _ _ \n",
      "_ _ _ _ _ _ _ Q \n",
      "_ Q _ _ _ _ _ _ \n",
      "_ _ _ _ Q _ _ _ \n",
      "_ _ Q _ _ _ _ _ \n",
      "\n",
      "Solution 52, time = 0.238261 s\n",
      "_ _ _ _ Q _ _ _ \n",
      "Q _ _ _ _ _ _ _ \n",
      "_ _ _ Q _ _ _ _ \n",
      "_ _ _ _ _ Q _ _ \n",
      "_ _ _ _ _ _ _ Q \n",
      "_ Q _ _ _ _ _ _ \n",
      "_ _ _ _ _ _ Q _ \n",
      "_ _ Q _ _ _ _ _ \n",
      "\n",
      "Solution 53, time = 0.247393 s\n",
      "_ _ _ _ Q _ _ _ \n",
      "_ Q _ _ _ _ _ _ \n",
      "_ _ _ Q _ _ _ _ \n",
      "_ _ _ _ _ Q _ _ \n",
      "_ _ _ _ _ _ _ Q \n",
      "_ _ Q _ _ _ _ _ \n",
      "Q _ _ _ _ _ _ _ \n",
      "_ _ _ _ _ _ Q _ \n",
      "\n",
      "Solution 54, time = 0.251763 s\n",
      "_ _ _ _ _ Q _ _ \n",
      "_ _ Q _ _ _ _ _ \n",
      "Q _ _ _ _ _ _ _ \n",
      "_ _ _ _ _ _ Q _ \n",
      "_ _ _ _ Q _ _ _ \n",
      "_ _ _ _ _ _ _ Q \n",
      "_ Q _ _ _ _ _ _ \n",
      "_ _ _ Q _ _ _ _ \n",
      "\n",
      "Solution 55, time = 0.256763 s\n",
      "_ _ Q _ _ _ _ _ \n",
      "_ _ _ _ _ Q _ _ \n",
      "_ Q _ _ _ _ _ _ \n",
      "_ _ _ _ _ _ Q _ \n",
      "_ _ _ _ Q _ _ _ \n",
      "Q _ _ _ _ _ _ _ \n",
      "_ _ _ _ _ _ _ Q \n",
      "_ _ _ Q _ _ _ _ \n",
      "\n",
      "Solution 56, time = 0.260763 s\n",
      "_ _ Q _ _ _ _ _ \n",
      "_ _ _ _ _ Q _ _ \n",
      "_ Q _ _ _ _ _ _ \n",
      "_ _ _ _ _ _ Q _ \n",
      "Q _ _ _ _ _ _ _ \n",
      "_ _ _ Q _ _ _ _ \n",
      "_ _ _ _ _ _ _ Q \n",
      "_ _ _ _ Q _ _ _ \n",
      "\n",
      "Solution 57, time = 0.263763 s\n",
      "_ _ _ _ Q _ _ _ \n",
      "_ _ Q _ _ _ _ _ \n",
      "Q _ _ _ _ _ _ _ \n",
      "_ _ _ _ _ _ Q _ \n",
      "_ Q _ _ _ _ _ _ \n",
      "_ _ _ _ _ _ _ Q \n",
      "_ _ _ _ _ Q _ _ \n",
      "_ _ _ Q _ _ _ _ \n",
      "\n",
      "Solution 58, time = 0.269763 s\n",
      "Q _ _ _ _ _ _ _ \n",
      "_ _ _ _ _ _ Q _ \n",
      "_ _ _ _ Q _ _ _ \n",
      "_ _ _ _ _ _ _ Q \n",
      "_ Q _ _ _ _ _ _ \n",
      "_ _ _ Q _ _ _ _ \n",
      "_ _ _ _ _ Q _ _ \n",
      "_ _ Q _ _ _ _ _ \n",
      "\n",
      "Solution 59, time = 0.274764 s\n",
      "_ _ Q _ _ _ _ _ \n",
      "_ _ _ _ _ _ Q _ \n",
      "_ Q _ _ _ _ _ _ \n",
      "_ _ _ _ _ _ _ Q \n",
      "_ _ _ _ _ Q _ _ \n",
      "_ _ _ Q _ _ _ _ \n",
      "Q _ _ _ _ _ _ _ \n",
      "_ _ _ _ Q _ _ _ \n",
      "\n",
      "Solution 60, time = 0.279763 s\n",
      "_ _ _ _ Q _ _ _ \n",
      "_ _ _ _ _ _ Q _ \n",
      "_ Q _ _ _ _ _ _ \n",
      "_ _ _ _ _ Q _ _ \n",
      "_ _ Q _ _ _ _ _ \n",
      "Q _ _ _ _ _ _ _ \n",
      "_ _ _ _ _ _ _ Q \n",
      "_ _ _ Q _ _ _ _ \n",
      "\n",
      "Solution 61, time = 0.282765 s\n",
      "Q _ _ _ _ _ _ _ \n",
      "_ _ _ _ Q _ _ _ \n",
      "_ _ _ _ _ _ _ Q \n",
      "_ _ _ _ _ Q _ _ \n",
      "_ _ Q _ _ _ _ _ \n",
      "_ _ _ _ _ _ Q _ \n",
      "_ Q _ _ _ _ _ _ \n",
      "_ _ _ Q _ _ _ _ \n",
      "\n",
      "Solution 62, time = 0.289765 s\n",
      "_ _ _ _ Q _ _ _ \n",
      "Q _ _ _ _ _ _ _ \n",
      "_ _ _ _ _ _ _ Q \n",
      "_ _ _ _ _ Q _ _ \n",
      "_ _ Q _ _ _ _ _ \n",
      "_ _ _ _ _ _ Q _ \n",
      "_ Q _ _ _ _ _ _ \n",
      "_ _ _ Q _ _ _ _ \n",
      "\n",
      "Solution 63, time = 0.290763 s\n",
      "_ _ _ _ Q _ _ _ \n",
      "_ _ _ _ _ _ Q _ \n",
      "_ Q _ _ _ _ _ _ \n",
      "_ _ _ _ _ Q _ _ \n",
      "_ _ Q _ _ _ _ _ \n",
      "Q _ _ _ _ _ _ _ \n",
      "_ _ _ Q _ _ _ _ \n",
      "_ _ _ _ _ _ _ Q \n",
      "\n",
      "Solution 64, time = 0.301993 s\n",
      "_ _ _ _ Q _ _ _ \n",
      "_ _ _ _ _ _ Q _ \n",
      "Q _ _ _ _ _ _ _ \n",
      "_ _ _ Q _ _ _ _ \n",
      "_ Q _ _ _ _ _ _ \n",
      "_ _ _ _ _ _ _ Q \n",
      "_ _ _ _ _ Q _ _ \n",
      "_ _ Q _ _ _ _ _ \n",
      "\n",
      "Solution 65, time = 0.303992 s\n",
      "_ _ _ Q _ _ _ _ \n",
      "Q _ _ _ _ _ _ _ \n",
      "_ _ _ _ Q _ _ _ \n",
      "_ _ _ _ _ _ _ Q \n",
      "_ Q _ _ _ _ _ _ \n",
      "_ _ _ _ _ _ Q _ \n",
      "_ _ Q _ _ _ _ _ \n",
      "_ _ _ _ _ Q _ _ \n",
      "\n",
      "Solution 66, time = 0.309991 s\n",
      "_ _ _ _ _ _ Q _ \n",
      "_ _ _ Q _ _ _ _ \n",
      "_ Q _ _ _ _ _ _ \n",
      "_ _ _ _ Q _ _ _ \n",
      "_ _ _ _ _ _ _ Q \n",
      "Q _ _ _ _ _ _ _ \n",
      "_ _ Q _ _ _ _ _ \n",
      "_ _ _ _ _ Q _ _ \n",
      "\n",
      "Solution 67, time = 0.312256 s\n",
      "_ _ _ _ _ _ Q _ \n",
      "_ _ _ Q _ _ _ _ \n",
      "_ Q _ _ _ _ _ _ \n",
      "_ _ _ _ _ _ _ Q \n",
      "_ _ _ _ _ Q _ _ \n",
      "Q _ _ _ _ _ _ _ \n",
      "_ _ Q _ _ _ _ _ \n",
      "_ _ _ _ Q _ _ _ \n",
      "\n",
      "Solution 68, time = 0.318403 s\n",
      "_ _ Q _ _ _ _ _ \n",
      "_ _ _ _ Q _ _ _ \n",
      "_ Q _ _ _ _ _ _ \n",
      "_ _ _ _ _ _ _ Q \n",
      "_ _ _ _ _ Q _ _ \n",
      "_ _ _ Q _ _ _ _ \n",
      "_ _ _ _ _ _ Q _ \n",
      "Q _ _ _ _ _ _ _ \n",
      "\n",
      "Solution 69, time = 0.323403 s\n",
      "_ _ _ _ _ Q _ _ \n",
      "_ _ _ _ _ _ _ Q \n",
      "_ Q _ _ _ _ _ _ \n",
      "_ _ _ Q _ _ _ _ \n",
      "Q _ _ _ _ _ _ _ \n",
      "_ _ _ _ _ _ Q _ \n",
      "_ _ _ _ Q _ _ _ \n",
      "_ _ Q _ _ _ _ _ \n",
      "\n",
      "Solution 70, time = 0.328022 s\n",
      "_ _ Q _ _ _ _ _ \n",
      "_ _ _ _ Q _ _ _ \n",
      "_ _ _ _ _ _ _ Q \n",
      "_ _ _ Q _ _ _ _ \n",
      "Q _ _ _ _ _ _ _ \n",
      "_ _ _ _ _ _ Q _ \n",
      "_ Q _ _ _ _ _ _ \n",
      "_ _ _ _ _ Q _ _ \n",
      "\n",
      "Solution 71, time = 0.333026 s\n",
      "_ _ _ _ Q _ _ _ \n",
      "_ _ Q _ _ _ _ _ \n",
      "_ _ _ _ _ _ _ Q \n",
      "_ _ _ Q _ _ _ _ \n",
      "_ _ _ _ _ _ Q _ \n",
      "Q _ _ _ _ _ _ _ \n",
      "_ _ _ _ _ Q _ _ \n",
      "_ Q _ _ _ _ _ _ \n",
      "\n",
      "Solution 72, time = 0.336027 s\n",
      "_ _ _ _ Q _ _ _ \n",
      "_ Q _ _ _ _ _ _ \n",
      "_ _ _ _ _ _ _ Q \n",
      "Q _ _ _ _ _ _ _ \n",
      "_ _ _ Q _ _ _ _ \n",
      "_ _ _ _ _ _ Q _ \n",
      "_ _ Q _ _ _ _ _ \n",
      "_ _ _ _ _ Q _ _ \n",
      "\n",
      "Solution 73, time = 0.341337 s\n",
      "_ _ _ Q _ _ _ _ \n",
      "_ Q _ _ _ _ _ _ \n",
      "_ _ _ _ _ _ _ Q \n",
      "_ _ _ _ _ Q _ _ \n",
      "Q _ _ _ _ _ _ _ \n",
      "_ _ Q _ _ _ _ _ \n",
      "_ _ _ _ Q _ _ _ \n",
      "_ _ _ _ _ _ Q _ \n",
      "\n",
      "Solution 74, time = 0.346938 s\n",
      "_ _ Q _ _ _ _ _ \n",
      "_ _ _ _ _ Q _ _ \n",
      "_ _ _ _ _ _ _ Q \n",
      "Q _ _ _ _ _ _ _ \n",
      "_ _ _ _ Q _ _ _ \n",
      "_ _ _ _ _ _ Q _ \n",
      "_ Q _ _ _ _ _ _ \n",
      "_ _ _ Q _ _ _ _ \n",
      "\n",
      "Solution 75, time = 0.350937 s\n",
      "_ _ _ _ Q _ _ _ \n",
      "Q _ _ _ _ _ _ _ \n",
      "_ _ _ _ _ _ _ Q \n",
      "_ _ _ Q _ _ _ _ \n",
      "_ Q _ _ _ _ _ _ \n",
      "_ _ _ _ _ _ Q _ \n",
      "_ _ Q _ _ _ _ _ \n",
      "_ _ _ _ _ Q _ _ \n",
      "\n",
      "Solution 76, time = 0.354938 s\n",
      "_ _ _ Q _ _ _ _ \n",
      "_ _ _ _ _ Q _ _ \n",
      "_ _ _ _ _ _ _ Q \n",
      "_ Q _ _ _ _ _ _ \n",
      "_ _ _ _ _ _ Q _ \n",
      "Q _ _ _ _ _ _ _ \n",
      "_ _ Q _ _ _ _ _ \n",
      "_ _ _ _ Q _ _ _ \n",
      "\n",
      "Solution 77, time = 0.358939 s\n",
      "_ _ Q _ _ _ _ _ \n",
      "_ _ _ _ _ Q _ _ \n",
      "_ _ _ _ _ _ _ Q \n",
      "_ Q _ _ _ _ _ _ \n",
      "_ _ _ Q _ _ _ _ \n",
      "Q _ _ _ _ _ _ _ \n",
      "_ _ _ _ _ _ Q _ \n",
      "_ _ _ _ Q _ _ _ \n",
      "\n",
      "Solution 78, time = 0.363937 s\n",
      "_ _ _ _ _ Q _ _ \n",
      "_ _ Q _ _ _ _ _ \n",
      "_ _ _ _ _ _ Q _ \n",
      "_ Q _ _ _ _ _ _ \n",
      "_ _ _ Q _ _ _ _ \n",
      "_ _ _ _ _ _ _ Q \n",
      "Q _ _ _ _ _ _ _ \n",
      "_ _ _ _ Q _ _ _ \n",
      "\n",
      "Solution 79, time = 0.367938 s\n",
      "_ _ _ _ Q _ _ _ \n",
      "_ _ Q _ _ _ _ _ \n",
      "Q _ _ _ _ _ _ _ \n",
      "_ _ _ _ _ Q _ _ \n",
      "_ _ _ _ _ _ _ Q \n",
      "_ Q _ _ _ _ _ _ \n",
      "_ _ _ Q _ _ _ _ \n",
      "_ _ _ _ _ _ Q _ \n",
      "\n",
      "Solution 80, time = 0.371980 s\n",
      "_ _ _ _ _ _ _ Q \n",
      "_ _ _ Q _ _ _ _ \n",
      "Q _ _ _ _ _ _ _ \n"
     ]
    },
    {
     "name": "stdout",
     "output_type": "stream",
     "text": [
      "_ _ Q _ _ _ _ _ \n",
      "_ _ _ _ _ Q _ _ \n",
      "_ Q _ _ _ _ _ _ \n",
      "_ _ _ _ _ _ Q _ \n",
      "_ _ _ _ Q _ _ _ \n",
      "\n",
      "Solution 81, time = 0.375299 s\n",
      "_ _ _ _ _ Q _ _ \n",
      "_ _ Q _ _ _ _ _ \n",
      "Q _ _ _ _ _ _ _ \n",
      "_ _ _ _ _ _ _ Q \n",
      "_ _ _ _ Q _ _ _ \n",
      "_ Q _ _ _ _ _ _ \n",
      "_ _ _ Q _ _ _ _ \n",
      "_ _ _ _ _ _ Q _ \n",
      "\n",
      "Solution 82, time = 0.376301 s\n",
      "_ _ _ _ _ _ Q _ \n",
      "_ _ Q _ _ _ _ _ \n",
      "Q _ _ _ _ _ _ _ \n",
      "_ _ _ _ _ Q _ _ \n",
      "_ _ _ _ _ _ _ Q \n",
      "_ _ _ _ Q _ _ _ \n",
      "_ Q _ _ _ _ _ _ \n",
      "_ _ _ Q _ _ _ _ \n",
      "\n",
      "Solution 83, time = 0.385299 s\n",
      "_ _ _ _ _ _ Q _ \n",
      "_ Q _ _ _ _ _ _ \n",
      "_ _ _ Q _ _ _ _ \n",
      "Q _ _ _ _ _ _ _ \n",
      "_ _ _ _ _ _ _ Q \n",
      "_ _ _ _ Q _ _ _ \n",
      "_ _ Q _ _ _ _ _ \n",
      "_ _ _ _ _ Q _ _ \n",
      "\n",
      "Solution 84, time = 0.386299 s\n",
      "_ _ _ _ _ _ _ Q \n",
      "_ Q _ _ _ _ _ _ \n",
      "_ _ _ Q _ _ _ _ \n",
      "Q _ _ _ _ _ _ _ \n",
      "_ _ _ _ _ _ Q _ \n",
      "_ _ _ _ Q _ _ _ \n",
      "_ _ Q _ _ _ _ _ \n",
      "_ _ _ _ _ Q _ _ \n",
      "\n",
      "Solution 85, time = 0.393393 s\n",
      "_ Q _ _ _ _ _ _ \n",
      "_ _ _ _ _ _ Q _ \n",
      "_ _ Q _ _ _ _ _ \n",
      "_ _ _ _ _ Q _ _ \n",
      "_ _ _ _ _ _ _ Q \n",
      "_ _ _ _ Q _ _ _ \n",
      "Q _ _ _ _ _ _ _ \n",
      "_ _ _ Q _ _ _ _ \n",
      "\n",
      "Solution 86, time = 0.396392 s\n",
      "_ _ _ Q _ _ _ _ \n",
      "_ _ _ _ _ _ Q _ \n",
      "_ _ Q _ _ _ _ _ \n",
      "_ _ _ _ _ _ _ Q \n",
      "_ Q _ _ _ _ _ _ \n",
      "_ _ _ _ Q _ _ _ \n",
      "Q _ _ _ _ _ _ _ \n",
      "_ _ _ _ _ Q _ _ \n",
      "\n",
      "Solution 87, time = 0.400392 s\n",
      "_ _ _ _ _ _ _ Q \n",
      "_ _ Q _ _ _ _ _ \n",
      "Q _ _ _ _ _ _ _ \n",
      "_ _ _ _ _ Q _ _ \n",
      "_ Q _ _ _ _ _ _ \n",
      "_ _ _ _ Q _ _ _ \n",
      "_ _ _ _ _ _ Q _ \n",
      "_ _ _ Q _ _ _ _ \n",
      "\n",
      "Solution 88, time = 0.404498 s\n",
      "_ _ Q _ _ _ _ _ \n",
      "_ _ _ _ _ Q _ _ \n",
      "_ _ _ Q _ _ _ _ \n",
      "_ Q _ _ _ _ _ _ \n",
      "_ _ _ _ _ _ _ Q \n",
      "_ _ _ _ Q _ _ _ \n",
      "_ _ _ _ _ _ Q _ \n",
      "Q _ _ _ _ _ _ _ \n",
      "\n",
      "Solution 89, time = 0.416496 s\n",
      "_ _ _ _ _ _ Q _ \n",
      "_ _ Q _ _ _ _ _ \n",
      "_ _ _ _ _ _ _ Q \n",
      "_ Q _ _ _ _ _ _ \n",
      "_ _ _ _ Q _ _ _ \n",
      "Q _ _ _ _ _ _ _ \n",
      "_ _ _ _ _ Q _ _ \n",
      "_ _ _ Q _ _ _ _ \n",
      "\n",
      "Solution 90, time = 0.420497 s\n",
      "_ _ _ _ _ Q _ _ \n",
      "_ _ Q _ _ _ _ _ \n",
      "_ _ _ _ _ _ Q _ \n",
      "_ Q _ _ _ _ _ _ \n",
      "_ _ _ _ _ _ _ Q \n",
      "_ _ _ _ Q _ _ _ \n",
      "Q _ _ _ _ _ _ _ \n",
      "_ _ _ Q _ _ _ _ \n",
      "\n",
      "Solution 91, time = 0.427495 s\n",
      "_ Q _ _ _ _ _ _ \n",
      "_ _ _ _ Q _ _ _ \n",
      "_ _ _ _ _ _ Q _ \n",
      "Q _ _ _ _ _ _ _ \n",
      "_ _ Q _ _ _ _ _ \n",
      "_ _ _ _ _ _ _ Q \n",
      "_ _ _ _ _ Q _ _ \n",
      "_ _ _ Q _ _ _ _ \n",
      "\n",
      "\n",
      "Statistics\n",
      "  conflicts      : 562\n",
      "  branches       : 2118\n",
      "  wall time      : 0.43130510000000005 s\n",
      "  solutions found: 92\n"
     ]
    }
   ],
   "source": [
    "\"\"\"OR-Tools solution to the N-queens problem.\"\"\"\n",
    "import sys\n",
    "import time\n",
    "from ortools.sat.python import cp_model\n",
    "\n",
    "\n",
    "class NQueenSolutionPrinter(cp_model.CpSolverSolutionCallback):\n",
    "    \"\"\"Print intermediate solutions.\"\"\"\n",
    "\n",
    "    def __init__(self, queens):\n",
    "        cp_model.CpSolverSolutionCallback.__init__(self)\n",
    "        self.__queens = queens\n",
    "        self.__solution_count = 0\n",
    "        self.__start_time = time.time()\n",
    "\n",
    "    def solution_count(self):\n",
    "        return self.__solution_count\n",
    "\n",
    "    def on_solution_callback(self):\n",
    "        current_time = time.time()\n",
    "        print('Solution %i, time = %f s' %\n",
    "              (self.__solution_count, current_time - self.__start_time))\n",
    "        self.__solution_count += 1\n",
    "\n",
    "        all_queens = range(len(self.__queens))\n",
    "        for i in all_queens:\n",
    "            for j in all_queens:\n",
    "                if self.Value(self.__queens[j]) == i:\n",
    "                    # There is a queen in column j, row i.\n",
    "                    print('Q', end=' ')\n",
    "                else:\n",
    "                    print('_', end=' ')\n",
    "            print()\n",
    "        print()\n",
    "\n",
    "\n",
    "\n",
    "def main(board_size):\n",
    "    # Creates the solver.\n",
    "    model = cp_model.CpModel()\n",
    "\n",
    "    # Creates the variables.\n",
    "    # The array index is the column, and the value is the row.\n",
    "    queens = [\n",
    "        model.NewIntVar(0, board_size - 1, 'x%i' % i) for i in range(board_size)\n",
    "    ]\n",
    "\n",
    "    # Creates the constraints.\n",
    "    # All rows must be different.\n",
    "    model.AddAllDifferent(queens)\n",
    "\n",
    "    # All columns must be different because the indices of queens are all\n",
    "    # different.\n",
    "\n",
    "    # No two queens can be on the same diagonal.\n",
    "    model.AddAllDifferent(queens[i] + i for i in range(board_size))\n",
    "    model.AddAllDifferent(queens[i] - i for i in range(board_size))\n",
    "\n",
    "    # Solve the model.\n",
    "    solver = cp_model.CpSolver()\n",
    "    solution_printer = NQueenSolutionPrinter(queens)\n",
    "    solver.parameters.enumerate_all_solutions = True\n",
    "    solver.Solve(model, solution_printer)\n",
    "\n",
    "    # Statistics.\n",
    "    print('\\nStatistics')\n",
    "    print(f'  conflicts      : {solver.NumConflicts()}')\n",
    "    print(f'  branches       : {solver.NumBranches()}')\n",
    "    print(f'  wall time      : {solver.WallTime()} s')\n",
    "    print(f'  solutions found: {solution_printer.solution_count()}')\n",
    "\n",
    "\n",
    "if __name__ == '__main__':\n",
    "    # By default, solve the 8x8 problem.\n",
    "    size = 8\n",
    "#     if len(sys.argv) > 1:\n",
    "#         size = int(sys.argv[1])\n",
    "    main(size)"
   ]
  },
  {
   "cell_type": "code",
   "execution_count": null,
   "id": "bf48f56d",
   "metadata": {},
   "outputs": [],
   "source": []
  },
  {
   "cell_type": "code",
   "execution_count": 173,
   "id": "ce9a0020",
   "metadata": {
    "ExecuteTime": {
     "end_time": "2022-09-08T07:59:43.619695Z",
     "start_time": "2022-09-08T07:59:43.591820Z"
    }
   },
   "outputs": [
    {
     "name": "stdout",
     "output_type": "stream",
     "text": [
      "x = 1\n",
      "y = 0\n",
      "z = 0\n"
     ]
    }
   ],
   "source": [
    "\"\"\"Solves a problem with a time limit.\"\"\"\n",
    "\n",
    "from ortools.sat.python import cp_model\n",
    "\n",
    "\n",
    "def SolveWithTimeLimitSampleSat():\n",
    "    \"\"\"Minimal CP-SAT example to showcase calling the solver.\"\"\"\n",
    "    # Creates the model.\n",
    "    model = cp_model.CpModel()\n",
    "    # Creates the variables.\n",
    "    num_vals = 3\n",
    "    x = model.NewIntVar(0, num_vals - 1, 'x')\n",
    "    y = model.NewIntVar(0, num_vals - 1, 'y')\n",
    "    z = model.NewIntVar(0, num_vals - 1, 'z')\n",
    "    # Adds an all-different constraint.\n",
    "    model.Add(x != y)\n",
    "\n",
    "    # Creates a solver and solves the model.\n",
    "    solver = cp_model.CpSolver()\n",
    "\n",
    "    # Sets a time limit of 10 seconds.\n",
    "    solver.parameters.max_time_in_seconds = 10.0\n",
    "\n",
    "    status = solver.Solve(model)\n",
    "\n",
    "    if status == cp_model.OPTIMAL:\n",
    "        print('x = %i' % solver.Value(x))\n",
    "        print('y = %i' % solver.Value(y))\n",
    "        print('z = %i' % solver.Value(z))\n",
    "\n",
    "\n",
    "SolveWithTimeLimitSampleSat()"
   ]
  },
  {
   "cell_type": "code",
   "execution_count": 174,
   "id": "4dd2512e",
   "metadata": {
    "ExecuteTime": {
     "end_time": "2022-09-08T08:00:13.755377Z",
     "start_time": "2022-09-08T08:00:13.738681Z"
    }
   },
   "outputs": [
    {
     "name": "stdout",
     "output_type": "stream",
     "text": [
      "x=0 y=0 z=0 \n",
      "x=0 y=1 z=0 \n",
      "x=0 y=1 z=1 \n",
      "x=0 y=0 z=1 \n",
      "x=0 y=2 z=1 \n",
      "Stop search after 5 solutions\n",
      "Status = FEASIBLE\n",
      "Number of solutions found: 5\n"
     ]
    }
   ],
   "source": [
    "\"\"\"Code sample that solves a model and displays a small number of solutions.\"\"\"\n",
    "\n",
    "from ortools.sat.python import cp_model\n",
    "\n",
    "\n",
    "class VarArraySolutionPrinterWithLimit(cp_model.CpSolverSolutionCallback):\n",
    "    \"\"\"Print intermediate solutions.\"\"\"\n",
    "\n",
    "    def __init__(self, variables, limit):\n",
    "        cp_model.CpSolverSolutionCallback.__init__(self)\n",
    "        self.__variables = variables\n",
    "        self.__solution_count = 0\n",
    "        self.__solution_limit = limit\n",
    "\n",
    "    def on_solution_callback(self):\n",
    "        self.__solution_count += 1\n",
    "        for v in self.__variables:\n",
    "            print('%s=%i' % (v, self.Value(v)), end=' ')\n",
    "        print()\n",
    "        if self.__solution_count >= self.__solution_limit:\n",
    "            print('Stop search after %i solutions' % self.__solution_limit)\n",
    "            self.StopSearch()\n",
    "\n",
    "    def solution_count(self):\n",
    "        return self.__solution_count\n",
    "\n",
    "\n",
    "def StopAfterNSolutionsSampleSat():\n",
    "    \"\"\"Showcases calling the solver to search for small number of solutions.\"\"\"\n",
    "    # Creates the model.\n",
    "    model = cp_model.CpModel()\n",
    "    # Creates the variables.\n",
    "    num_vals = 3\n",
    "    x = model.NewIntVar(0, num_vals - 1, 'x')\n",
    "    y = model.NewIntVar(0, num_vals - 1, 'y')\n",
    "    z = model.NewIntVar(0, num_vals - 1, 'z')\n",
    "\n",
    "    # Create a solver and solve.\n",
    "    solver = cp_model.CpSolver()\n",
    "    solution_printer = VarArraySolutionPrinterWithLimit([x, y, z], 5)\n",
    "    # Enumerate all solutions.\n",
    "    solver.parameters.enumerate_all_solutions = True\n",
    "    # Solve.\n",
    "    status = solver.Solve(model, solution_printer)\n",
    "    print('Status = %s' % solver.StatusName(status))\n",
    "    print('Number of solutions found: %i' % solution_printer.solution_count())\n",
    "    assert solution_printer.solution_count() == 5\n",
    "\n",
    "\n",
    "StopAfterNSolutionsSampleSat()"
   ]
  },
  {
   "cell_type": "code",
   "execution_count": null,
   "id": "e6a476b7",
   "metadata": {},
   "outputs": [],
   "source": []
  },
  {
   "cell_type": "code",
   "execution_count": 175,
   "id": "a40196fc",
   "metadata": {
    "ExecuteTime": {
     "end_time": "2022-09-13T03:18:24.387774Z",
     "start_time": "2022-09-13T03:18:24.380743Z"
    }
   },
   "outputs": [],
   "source": [
    "from ortools.sat.python import cp_model"
   ]
  },
  {
   "cell_type": "code",
   "execution_count": 176,
   "id": "513d1c07",
   "metadata": {
    "ExecuteTime": {
     "end_time": "2022-09-13T03:18:30.301491Z",
     "start_time": "2022-09-13T03:18:30.297459Z"
    }
   },
   "outputs": [],
   "source": [
    "costs = [\n",
    "    [90, 76, 75, 70],\n",
    "    [35, 85, 55, 65],\n",
    "    [125, 95, 90, 105],\n",
    "    [45, 110, 95, 115],\n",
    "    [60, 105, 80, 75],\n",
    "    [45, 65, 110, 95],\n",
    "]\n",
    "num_workers = len(costs)\n",
    "num_tasks = len(costs[0])\n",
    "\n",
    "team1 = [0, 2, 4]\n",
    "team2 = [1, 3, 5]\n",
    "# Maximum total of tasks for any team\n",
    "team_max = 2"
   ]
  },
  {
   "cell_type": "code",
   "execution_count": 178,
   "id": "24ddad45",
   "metadata": {
    "ExecuteTime": {
     "end_time": "2022-09-13T03:18:52.057638Z",
     "start_time": "2022-09-13T03:18:52.042597Z"
    }
   },
   "outputs": [
    {
     "data": {
      "text/plain": [
       "6"
      ]
     },
     "execution_count": 178,
     "metadata": {},
     "output_type": "execute_result"
    }
   ],
   "source": [
    "num_workers"
   ]
  },
  {
   "cell_type": "code",
   "execution_count": 179,
   "id": "278fdfe6",
   "metadata": {
    "ExecuteTime": {
     "end_time": "2022-09-13T03:18:57.768064Z",
     "start_time": "2022-09-13T03:18:57.751065Z"
    }
   },
   "outputs": [],
   "source": [
    "model = cp_model.CpModel()"
   ]
  },
  {
   "cell_type": "code",
   "execution_count": 180,
   "id": "b907f62b",
   "metadata": {
    "ExecuteTime": {
     "end_time": "2022-09-13T03:19:01.978069Z",
     "start_time": "2022-09-13T03:19:01.971442Z"
    }
   },
   "outputs": [],
   "source": [
    "x = {}\n",
    "for worker in range(num_workers):\n",
    "    for task in range(num_tasks):\n",
    "        x[worker, task] = model.NewBoolVar(f'x[{worker},{task}]')"
   ]
  },
  {
   "cell_type": "code",
   "execution_count": 195,
   "id": "85cabd0b",
   "metadata": {
    "ExecuteTime": {
     "end_time": "2022-09-13T03:22:19.569825Z",
     "start_time": "2022-09-13T03:22:19.549640Z"
    }
   },
   "outputs": [
    {
     "data": {
      "text/plain": [
       "<ortools.sat.python.cp_model.Constraint at 0x20baaa02a00>"
      ]
     },
     "execution_count": 195,
     "metadata": {},
     "output_type": "execute_result"
    }
   ],
   "source": [
    "# Each worker is assigned to at most one task.\n",
    "for worker in range(num_workers):\n",
    "    model.AddAtMostOne(x[worker, task] for task in range(num_tasks))\n",
    "\n",
    "# Each task is assigned to exactly one worker.\n",
    "for task in range(num_tasks):\n",
    "    model.AddExactlyOne(x[worker, task] for worker in range(num_workers))\n",
    "\n",
    "# Each team takes at most two tasks.\n",
    "team1_tasks = []\n",
    "for worker in team1:\n",
    "    for task in range(num_tasks):\n",
    "        team1_tasks.append(x[worker, task])\n",
    "model.Add(sum(team1_tasks) <= team_max)\n",
    "\n",
    "team2_tasks = []\n",
    "for worker in team2:\n",
    "    for task in range(num_tasks):\n",
    "        team2_tasks.append(x[worker, task])\n",
    "model.Add(sum(team2_tasks) <= team_max)"
   ]
  },
  {
   "cell_type": "code",
   "execution_count": 196,
   "id": "42b13230",
   "metadata": {
    "ExecuteTime": {
     "end_time": "2022-09-13T03:28:22.878573Z",
     "start_time": "2022-09-13T03:28:22.865287Z"
    }
   },
   "outputs": [
    {
     "data": {
      "text/plain": [
       "[0, 2, 4]"
      ]
     },
     "execution_count": 196,
     "metadata": {},
     "output_type": "execute_result"
    }
   ],
   "source": [
    "team1"
   ]
  },
  {
   "cell_type": "code",
   "execution_count": 208,
   "id": "8cd6625d",
   "metadata": {
    "ExecuteTime": {
     "end_time": "2022-09-13T03:53:30.706523Z",
     "start_time": "2022-09-13T03:53:30.666387Z"
    }
   },
   "outputs": [
    {
     "name": "stdout",
     "output_type": "stream",
     "text": [
      "Total cost = 250.0\n",
      "\n",
      "Worker 0 assigned to task 3. Cost = 70\n",
      "Worker 1 assigned to task 0. Cost = 35\n",
      "Worker 4 assigned to task 2. Cost = 80\n",
      "Worker 5 assigned to task 1. Cost = 65\n"
     ]
    }
   ],
   "source": [
    "\"\"\"Solve a simple assignment problem.\"\"\"\n",
    "from ortools.sat.python import cp_model\n",
    "\n",
    "\n",
    "def main():\n",
    "    # Data\n",
    "    costs = [\n",
    "        [90, 76, 75, 70],\n",
    "        [35, 85, 55, 65],\n",
    "        [125, 95, 90, 105],\n",
    "        [45, 110, 95, 115],\n",
    "        [60, 105, 80, 75],\n",
    "        [45, 65, 110, 95],\n",
    "    ]\n",
    "    num_workers = len(costs)\n",
    "    num_tasks = len(costs[0])\n",
    "\n",
    "    team1 = [0, 2, 4]\n",
    "    team2 = [1, 3, 5]\n",
    "    # Maximum total of tasks for any team\n",
    "    team_max = 2\n",
    "\n",
    "    # Model\n",
    "    model = cp_model.CpModel()\n",
    "\n",
    "    # Variables\n",
    "    x = {}\n",
    "    for worker in range(num_workers):\n",
    "        for task in range(num_tasks):\n",
    "            x[worker, task] = model.NewBoolVar(f'x[{worker},{task}]')\n",
    "\n",
    "    # Constraints\n",
    "    # Each worker is assigned to at most one task.\n",
    "    for worker in range(num_workers):\n",
    "        model.AddAtMostOne(x[worker, task] for task in range(num_tasks))\n",
    "\n",
    "    # Each task is assigned to exactly one worker.\n",
    "    for task in range(num_tasks):\n",
    "        model.AddExactlyOne(x[worker, task] for worker in range(num_workers))\n",
    "\n",
    "    # Each team takes at most two tasks.\n",
    "    team1_tasks = []\n",
    "    for worker in team1:\n",
    "        for task in range(num_tasks):\n",
    "            team1_tasks.append(x[worker, task])\n",
    "    model.Add(sum(team1_tasks) <= team_max)\n",
    "\n",
    "    team2_tasks = []\n",
    "    for worker in team2:\n",
    "        for task in range(num_tasks):\n",
    "            team2_tasks.append(x[worker, task])\n",
    "    model.Add(sum(team2_tasks) <= team_max)\n",
    "\n",
    "    # Objective\n",
    "    objective_terms = []\n",
    "    for worker in range(num_workers):\n",
    "        for task in range(num_tasks):\n",
    "            objective_terms.append(costs[worker][task] * x[worker, task])\n",
    "    model.Minimize(sum(objective_terms))\n",
    "\n",
    "    # Solve\n",
    "    solver = cp_model.CpSolver()\n",
    "    status = solver.Solve(model)\n",
    "\n",
    "    # Print solution.\n",
    "    if status == cp_model.OPTIMAL or status == cp_model.FEASIBLE:\n",
    "        print(f'Total cost = {solver.ObjectiveValue()}\\n')\n",
    "        for worker in range(num_workers):\n",
    "            for task in range(num_tasks):\n",
    "                if solver.BooleanValue(x[worker, task]):\n",
    "                    print(f'Worker {worker} assigned to task {task}.' +\n",
    "                          f' Cost = {costs[worker][task]}')\n",
    "    else:\n",
    "        print('No solution found.')\n",
    "\n",
    "\n",
    "if __name__ == '__main__':\n",
    "    main()"
   ]
  },
  {
   "cell_type": "code",
   "execution_count": 209,
   "id": "f349baf4",
   "metadata": {
    "ExecuteTime": {
     "end_time": "2022-09-13T06:11:00.914876Z",
     "start_time": "2022-09-13T06:11:00.891379Z"
    }
   },
   "outputs": [
    {
     "name": "stdout",
     "output_type": "stream",
     "text": [
      "Total cost = 249.99999999999997\n",
      "\n",
      "Worker 0 assigned to task 2. Cost = 75\n",
      "Worker 1 assigned to task 0. Cost = 35\n",
      "Worker 4 assigned to task 3. Cost = 75\n",
      "Worker 5 assigned to task 1. Cost = 65\n",
      "Time = 9 ms\n"
     ]
    }
   ],
   "source": [
    "\"\"\"MIP example that solves an assignment problem.\"\"\"\n",
    "from ortools.linear_solver import pywraplp\n",
    "\n",
    "\n",
    "def main():\n",
    "    # Data\n",
    "    costs = [\n",
    "        [90, 76, 75, 70],\n",
    "        [35, 85, 55, 65],\n",
    "        [125, 95, 90, 105],\n",
    "        [45, 110, 95, 115],\n",
    "        [60, 105, 80, 75],\n",
    "        [45, 65, 110, 95],\n",
    "    ]\n",
    "    num_workers = len(costs)\n",
    "    num_tasks = len(costs[0])\n",
    "\n",
    "    team1 = [0, 2, 4]\n",
    "    team2 = [1, 3, 5]\n",
    "    # Maximum total of tasks for any team\n",
    "    team_max = 2\n",
    "\n",
    "    # Solver\n",
    "    # Create the mip solver with the SCIP backend.\n",
    "    solver = pywraplp.Solver.CreateSolver('SCIP')\n",
    "    if not solver:\n",
    "        return\n",
    "\n",
    "    # Variables\n",
    "    # x[i, j] is an array of 0-1 variables, which will be 1\n",
    "    # if worker i is assigned to task j.\n",
    "    x = {}\n",
    "    for worker in range(num_workers):\n",
    "        for task in range(num_tasks):\n",
    "            x[worker, task] = solver.BoolVar(f'x[{worker},{task}]')\n",
    "\n",
    "    # Constraints\n",
    "    # Each worker is assigned at most 1 task.\n",
    "    for worker in range(num_workers):\n",
    "        solver.Add(\n",
    "            solver.Sum([x[worker, task] for task in range(num_tasks)]) <= 1)\n",
    "\n",
    "    # Each task is assigned to exactly one worker.\n",
    "    for task in range(num_tasks):\n",
    "        solver.Add(\n",
    "            solver.Sum([x[worker, task] for worker in range(num_workers)]) == 1)\n",
    "\n",
    "    # Each team takes at most two tasks.\n",
    "    team1_tasks = []\n",
    "    for worker in team1:\n",
    "        for task in range(num_tasks):\n",
    "            team1_tasks.append(x[worker, task])\n",
    "    solver.Add(solver.Sum(team1_tasks) <= team_max)\n",
    "\n",
    "    team2_tasks = []\n",
    "    for worker in team2:\n",
    "        for task in range(num_tasks):\n",
    "            team2_tasks.append(x[worker, task])\n",
    "    solver.Add(solver.Sum(team2_tasks) <= team_max)\n",
    "\n",
    "    # Objective\n",
    "    objective_terms = []\n",
    "    for worker in range(num_workers):\n",
    "        for task in range(num_tasks):\n",
    "            objective_terms.append(costs[worker][task] * x[worker, task])\n",
    "    solver.Minimize(solver.Sum(objective_terms))\n",
    "\n",
    "    # Solve\n",
    "    status = solver.Solve()\n",
    "\n",
    "    # Print solution.\n",
    "    if status == pywraplp.Solver.OPTIMAL or status == pywraplp.Solver.FEASIBLE:\n",
    "        print(f'Total cost = {solver.Objective().Value()}\\n')\n",
    "        for worker in range(num_workers):\n",
    "            for task in range(num_tasks):\n",
    "                if x[worker, task].solution_value() > 0.5:\n",
    "                    print(f'Worker {worker} assigned to task {task}.' +\n",
    "                          f' Cost = {costs[worker][task]}')\n",
    "    else:\n",
    "        print('No solution found.')\n",
    "    print(f'Time = {solver.WallTime()} ms')\n",
    "\n",
    "\n",
    "if __name__ == '__main__':\n",
    "    main()"
   ]
  },
  {
   "cell_type": "code",
   "execution_count": null,
   "id": "d7e1d46d",
   "metadata": {},
   "outputs": [],
   "source": []
  },
  {
   "cell_type": "code",
   "execution_count": 222,
   "id": "191a65f0",
   "metadata": {
    "ExecuteTime": {
     "end_time": "2022-09-13T06:28:31.049531Z",
     "start_time": "2022-09-13T06:28:31.040514Z"
    }
   },
   "outputs": [],
   "source": [
    "model = cp_model.CpModel()"
   ]
  },
  {
   "cell_type": "code",
   "execution_count": 223,
   "id": "eef76d3f",
   "metadata": {
    "ExecuteTime": {
     "end_time": "2022-09-13T06:28:38.283223Z",
     "start_time": "2022-09-13T06:28:38.262940Z"
    }
   },
   "outputs": [],
   "source": [
    "costs = [\n",
    "    [90, 76, 75, 70, 50, 74, 12, 68],\n",
    "    [35, 85, 55, 65, 48, 101, 70, 83],\n",
    "    [125, 95, 90, 105, 59, 120, 36, 73],\n",
    "    [45, 110, 95, 115, 104, 83, 37, 71],\n",
    "    [60, 105, 80, 75, 59, 62, 93, 88],\n",
    "    [45, 65, 110, 95, 47, 31, 81, 34],\n",
    "    [38, 51, 107, 41, 69, 99, 115, 48],\n",
    "    [47, 85, 57, 71, 92, 77, 109, 36],\n",
    "    [39, 63, 97, 49, 118, 56, 92, 61],\n",
    "    [47, 101, 71, 60, 88, 109, 52, 90],\n",
    "]\n",
    "num_workers = len(costs)\n",
    "num_tasks = len(costs[0])\n",
    "\n",
    "task_sizes = [10, 7, 3, 12, 15, 4, 11, 5]\n",
    "# Maximum total of task sizes for any worker\n",
    "total_size_max = 15"
   ]
  },
  {
   "cell_type": "code",
   "execution_count": 224,
   "id": "8b030af7",
   "metadata": {
    "ExecuteTime": {
     "end_time": "2022-09-13T06:28:46.369929Z",
     "start_time": "2022-09-13T06:28:46.358913Z"
    }
   },
   "outputs": [],
   "source": [
    "model = cp_model.CpModel()"
   ]
  },
  {
   "cell_type": "code",
   "execution_count": 225,
   "id": "36c5299a",
   "metadata": {
    "ExecuteTime": {
     "end_time": "2022-09-13T06:28:51.511113Z",
     "start_time": "2022-09-13T06:28:51.506357Z"
    }
   },
   "outputs": [],
   "source": [
    "x = {}\n",
    "for worker in range(num_workers):\n",
    "    for task in range(num_tasks):\n",
    "        x[worker, task] = model.NewBoolVar(f'x[{worker},{task}]')"
   ]
  },
  {
   "cell_type": "code",
   "execution_count": 226,
   "id": "5dac23e1",
   "metadata": {
    "ExecuteTime": {
     "end_time": "2022-09-13T06:28:59.209277Z",
     "start_time": "2022-09-13T06:28:59.203219Z"
    }
   },
   "outputs": [],
   "source": [
    "# Each worker is assigned to at most one task.\n",
    "for worker in range(num_workers):\n",
    "    model.Add(\n",
    "        sum(task_sizes[task] * x[worker, task]\n",
    "            for task in range(num_tasks)) <= total_size_max)\n",
    "\n",
    "# Each task is assigned to exactly one worker.\n",
    "for task in range(num_tasks):\n",
    "    model.AddExactlyOne(x[worker, task] for worker in range(num_workers))"
   ]
  },
  {
   "cell_type": "code",
   "execution_count": 227,
   "id": "a3efeb06",
   "metadata": {
    "ExecuteTime": {
     "end_time": "2022-09-13T06:29:04.816491Z",
     "start_time": "2022-09-13T06:29:04.799096Z"
    }
   },
   "outputs": [],
   "source": [
    "objective_terms = []\n",
    "for worker in range(num_workers):\n",
    "    for task in range(num_tasks):\n",
    "        objective_terms.append(costs[worker][task] * x[worker, task])\n",
    "model.Minimize(sum(objective_terms))"
   ]
  },
  {
   "cell_type": "code",
   "execution_count": 228,
   "id": "120e626c",
   "metadata": {
    "ExecuteTime": {
     "end_time": "2022-09-13T06:29:10.173305Z",
     "start_time": "2022-09-13T06:29:10.136345Z"
    }
   },
   "outputs": [],
   "source": [
    "solver = cp_model.CpSolver()\n",
    "status = solver.Solve(model)"
   ]
  },
  {
   "cell_type": "code",
   "execution_count": 229,
   "id": "bb6701c6",
   "metadata": {
    "ExecuteTime": {
     "end_time": "2022-09-13T06:29:14.538249Z",
     "start_time": "2022-09-13T06:29:14.527255Z"
    }
   },
   "outputs": [
    {
     "name": "stdout",
     "output_type": "stream",
     "text": [
      "Total cost = 326.0\n",
      "\n",
      "Worker 0 assigned to task 6. Cost = 12\n",
      "Worker 1 assigned to task 0. Cost = 35\n",
      "Worker 1 assigned to task 2. Cost = 55\n",
      "Worker 4 assigned to task 4. Cost = 59\n",
      "Worker 5 assigned to task 5. Cost = 31\n",
      "Worker 5 assigned to task 7. Cost = 34\n",
      "Worker 6 assigned to task 1. Cost = 51\n",
      "Worker 8 assigned to task 3. Cost = 49\n"
     ]
    }
   ],
   "source": []
  },
  {
   "cell_type": "code",
   "execution_count": null,
   "id": "ad2be84e",
   "metadata": {},
   "outputs": [],
   "source": []
  },
  {
   "cell_type": "code",
   "execution_count": null,
   "id": "32ab582c",
   "metadata": {},
   "outputs": [],
   "source": []
  },
  {
   "cell_type": "markdown",
   "id": "ef9ce7c0",
   "metadata": {},
   "source": [
    "###  真实case 发红包的场景  demo"
   ]
  },
  {
   "cell_type": "code",
   "execution_count": 87,
   "id": "7dec5b83",
   "metadata": {
    "ExecuteTime": {
     "end_time": "2023-01-09T09:46:03.890032Z",
     "start_time": "2023-01-09T09:46:03.886031Z"
    }
   },
   "outputs": [],
   "source": [
    "import numpy as np\n",
    "import pandas as pd"
   ]
  },
  {
   "cell_type": "code",
   "execution_count": 88,
   "id": "51828cd0",
   "metadata": {
    "ExecuteTime": {
     "end_time": "2023-01-09T09:46:04.077928Z",
     "start_time": "2023-01-09T09:46:04.062385Z"
    }
   },
   "outputs": [],
   "source": [
    "a=np.random.rand(50,3).astype('float16')\n",
    "data=pd.DataFrame(a,columns=[\"outcome0\",\"outcome1\",\"outcome2\"])"
   ]
  },
  {
   "cell_type": "code",
   "execution_count": 89,
   "id": "e0e8690b",
   "metadata": {
    "ExecuteTime": {
     "end_time": "2023-01-09T09:46:04.233782Z",
     "start_time": "2023-01-09T09:46:04.227779Z"
    }
   },
   "outputs": [
    {
     "data": {
      "text/plain": [
       "150"
      ]
     },
     "execution_count": 89,
     "metadata": {},
     "output_type": "execute_result"
    }
   ],
   "source": [
    "data.size"
   ]
  },
  {
   "cell_type": "code",
   "execution_count": 90,
   "id": "ccd102af",
   "metadata": {
    "ExecuteTime": {
     "end_time": "2023-01-09T09:46:04.422160Z",
     "start_time": "2023-01-09T09:46:04.400162Z"
    }
   },
   "outputs": [
    {
     "data": {
      "text/html": [
       "<div>\n",
       "<style scoped>\n",
       "    .dataframe tbody tr th:only-of-type {\n",
       "        vertical-align: middle;\n",
       "    }\n",
       "\n",
       "    .dataframe tbody tr th {\n",
       "        vertical-align: top;\n",
       "    }\n",
       "\n",
       "    .dataframe thead th {\n",
       "        text-align: right;\n",
       "    }\n",
       "</style>\n",
       "<table border=\"1\" class=\"dataframe\">\n",
       "  <thead>\n",
       "    <tr style=\"text-align: right;\">\n",
       "      <th></th>\n",
       "      <th>outcome0</th>\n",
       "      <th>outcome1</th>\n",
       "      <th>outcome2</th>\n",
       "    </tr>\n",
       "  </thead>\n",
       "  <tbody>\n",
       "    <tr>\n",
       "      <th>0</th>\n",
       "      <td>0.395020</td>\n",
       "      <td>0.889160</td>\n",
       "      <td>0.421875</td>\n",
       "    </tr>\n",
       "    <tr>\n",
       "      <th>1</th>\n",
       "      <td>0.641602</td>\n",
       "      <td>0.338135</td>\n",
       "      <td>0.904297</td>\n",
       "    </tr>\n",
       "    <tr>\n",
       "      <th>2</th>\n",
       "      <td>0.386475</td>\n",
       "      <td>0.234253</td>\n",
       "      <td>0.533691</td>\n",
       "    </tr>\n",
       "    <tr>\n",
       "      <th>3</th>\n",
       "      <td>0.611816</td>\n",
       "      <td>0.517090</td>\n",
       "      <td>0.517090</td>\n",
       "    </tr>\n",
       "    <tr>\n",
       "      <th>4</th>\n",
       "      <td>0.870117</td>\n",
       "      <td>0.737305</td>\n",
       "      <td>0.193970</td>\n",
       "    </tr>\n",
       "  </tbody>\n",
       "</table>\n",
       "</div>"
      ],
      "text/plain": [
       "   outcome0  outcome1  outcome2\n",
       "0  0.395020  0.889160  0.421875\n",
       "1  0.641602  0.338135  0.904297\n",
       "2  0.386475  0.234253  0.533691\n",
       "3  0.611816  0.517090  0.517090\n",
       "4  0.870117  0.737305  0.193970"
      ]
     },
     "execution_count": 90,
     "metadata": {},
     "output_type": "execute_result"
    }
   ],
   "source": [
    "data.head()"
   ]
  },
  {
   "cell_type": "code",
   "execution_count": 91,
   "id": "9e2fee75",
   "metadata": {
    "ExecuteTime": {
     "end_time": "2023-01-09T09:46:04.579655Z",
     "start_time": "2023-01-09T09:46:04.567642Z"
    }
   },
   "outputs": [],
   "source": [
    "red_packet=[1,2,3]"
   ]
  },
  {
   "cell_type": "code",
   "execution_count": 92,
   "id": "20777123",
   "metadata": {
    "ExecuteTime": {
     "end_time": "2023-01-09T09:46:04.768705Z",
     "start_time": "2023-01-09T09:46:04.751191Z"
    }
   },
   "outputs": [],
   "source": [
    "data[\"uplift0\"]=0\n",
    "data[\"uplift1\"]=(data[\"outcome1\"]-data[\"outcome0\"])/(red_packet[1]-red_packet[0])  #使用斜率代替uplift\n",
    "data[\"uplift2\"]=(data[\"outcome2\"]-data[\"outcome1\"])/(red_packet[2]-red_packet[1])  #使用斜率代替uplift"
   ]
  },
  {
   "cell_type": "code",
   "execution_count": 93,
   "id": "9a4069e7",
   "metadata": {
    "ExecuteTime": {
     "end_time": "2023-01-09T09:46:04.928756Z",
     "start_time": "2023-01-09T09:46:04.909756Z"
    }
   },
   "outputs": [
    {
     "data": {
      "text/html": [
       "<div>\n",
       "<style scoped>\n",
       "    .dataframe tbody tr th:only-of-type {\n",
       "        vertical-align: middle;\n",
       "    }\n",
       "\n",
       "    .dataframe tbody tr th {\n",
       "        vertical-align: top;\n",
       "    }\n",
       "\n",
       "    .dataframe thead th {\n",
       "        text-align: right;\n",
       "    }\n",
       "</style>\n",
       "<table border=\"1\" class=\"dataframe\">\n",
       "  <thead>\n",
       "    <tr style=\"text-align: right;\">\n",
       "      <th></th>\n",
       "      <th>outcome0</th>\n",
       "      <th>outcome1</th>\n",
       "      <th>outcome2</th>\n",
       "      <th>uplift0</th>\n",
       "      <th>uplift1</th>\n",
       "      <th>uplift2</th>\n",
       "    </tr>\n",
       "  </thead>\n",
       "  <tbody>\n",
       "    <tr>\n",
       "      <th>0</th>\n",
       "      <td>0.395020</td>\n",
       "      <td>0.889160</td>\n",
       "      <td>0.421875</td>\n",
       "      <td>0</td>\n",
       "      <td>0.494141</td>\n",
       "      <td>-0.467285</td>\n",
       "    </tr>\n",
       "    <tr>\n",
       "      <th>1</th>\n",
       "      <td>0.641602</td>\n",
       "      <td>0.338135</td>\n",
       "      <td>0.904297</td>\n",
       "      <td>0</td>\n",
       "      <td>-0.303467</td>\n",
       "      <td>0.566406</td>\n",
       "    </tr>\n",
       "    <tr>\n",
       "      <th>2</th>\n",
       "      <td>0.386475</td>\n",
       "      <td>0.234253</td>\n",
       "      <td>0.533691</td>\n",
       "      <td>0</td>\n",
       "      <td>-0.152222</td>\n",
       "      <td>0.299316</td>\n",
       "    </tr>\n",
       "    <tr>\n",
       "      <th>3</th>\n",
       "      <td>0.611816</td>\n",
       "      <td>0.517090</td>\n",
       "      <td>0.517090</td>\n",
       "      <td>0</td>\n",
       "      <td>-0.094727</td>\n",
       "      <td>0.000000</td>\n",
       "    </tr>\n",
       "    <tr>\n",
       "      <th>4</th>\n",
       "      <td>0.870117</td>\n",
       "      <td>0.737305</td>\n",
       "      <td>0.193970</td>\n",
       "      <td>0</td>\n",
       "      <td>-0.132812</td>\n",
       "      <td>-0.543457</td>\n",
       "    </tr>\n",
       "  </tbody>\n",
       "</table>\n",
       "</div>"
      ],
      "text/plain": [
       "   outcome0  outcome1  outcome2  uplift0   uplift1   uplift2\n",
       "0  0.395020  0.889160  0.421875        0  0.494141 -0.467285\n",
       "1  0.641602  0.338135  0.904297        0 -0.303467  0.566406\n",
       "2  0.386475  0.234253  0.533691        0 -0.152222  0.299316\n",
       "3  0.611816  0.517090  0.517090        0 -0.094727  0.000000\n",
       "4  0.870117  0.737305  0.193970        0 -0.132812 -0.543457"
      ]
     },
     "execution_count": 93,
     "metadata": {},
     "output_type": "execute_result"
    }
   ],
   "source": [
    "data.head()"
   ]
  },
  {
   "cell_type": "code",
   "execution_count": null,
   "id": "2f781f6e",
   "metadata": {
    "ExecuteTime": {
     "end_time": "2022-11-24T08:38:23.996164Z",
     "start_time": "2022-11-24T08:38:23.978123Z"
    }
   },
   "outputs": [],
   "source": []
  },
  {
   "cell_type": "code",
   "execution_count": 94,
   "id": "96bc758a",
   "metadata": {
    "ExecuteTime": {
     "end_time": "2023-01-09T09:46:05.272951Z",
     "start_time": "2023-01-09T09:46:05.256934Z"
    }
   },
   "outputs": [],
   "source": [
    "outcome=data[[\"outcome0\",\"outcome1\",\"outcome2\"]].values\n",
    "outcome=outcome.tolist()"
   ]
  },
  {
   "cell_type": "code",
   "execution_count": 95,
   "id": "899ad2d3",
   "metadata": {
    "ExecuteTime": {
     "end_time": "2023-01-09T09:46:05.463094Z",
     "start_time": "2023-01-09T09:46:05.444015Z"
    }
   },
   "outputs": [],
   "source": [
    "costs=data[[\"uplift0\",\"uplift1\",\"uplift2\"]].values\n",
    "costs=costs.tolist()"
   ]
  },
  {
   "cell_type": "code",
   "execution_count": 96,
   "id": "a2bf3b7c",
   "metadata": {
    "ExecuteTime": {
     "end_time": "2023-01-09T09:46:05.636133Z",
     "start_time": "2023-01-09T09:46:05.633132Z"
    }
   },
   "outputs": [],
   "source": [
    "# costs"
   ]
  },
  {
   "cell_type": "code",
   "execution_count": 97,
   "id": "4d379577",
   "metadata": {
    "ExecuteTime": {
     "end_time": "2023-01-09T09:46:05.825845Z",
     "start_time": "2023-01-09T09:46:05.816847Z"
    }
   },
   "outputs": [],
   "source": [
    "# outcome"
   ]
  },
  {
   "cell_type": "code",
   "execution_count": 98,
   "id": "4bbc04be",
   "metadata": {
    "ExecuteTime": {
     "end_time": "2023-01-09T09:46:06.723860Z",
     "start_time": "2023-01-09T09:46:06.705860Z"
    }
   },
   "outputs": [],
   "source": [
    "num_workers = len(costs)\n",
    "num_tasks = len(costs[0])"
   ]
  },
  {
   "cell_type": "code",
   "execution_count": 99,
   "id": "b32ae725",
   "metadata": {
    "ExecuteTime": {
     "end_time": "2023-01-09T09:46:07.464209Z",
     "start_time": "2023-01-09T09:46:07.460210Z"
    }
   },
   "outputs": [],
   "source": [
    "from ortools.sat.python import cp_model\n",
    "model = cp_model.CpModel()"
   ]
  },
  {
   "cell_type": "code",
   "execution_count": 100,
   "id": "d5021664",
   "metadata": {
    "ExecuteTime": {
     "end_time": "2023-01-09T09:46:07.699210Z",
     "start_time": "2023-01-09T09:46:07.681202Z"
    }
   },
   "outputs": [],
   "source": [
    "x = {}\n",
    "for worker in range(num_workers):\n",
    "    for task in range(num_tasks):\n",
    "        x[worker, task] = model.NewBoolVar(f'x[{worker},{task}]')"
   ]
  },
  {
   "cell_type": "code",
   "execution_count": 101,
   "id": "335b1813",
   "metadata": {
    "ExecuteTime": {
     "end_time": "2023-01-09T09:46:07.901889Z",
     "start_time": "2023-01-09T09:46:07.883408Z"
    }
   },
   "outputs": [
    {
     "data": {
      "text/plain": [
       "(50, 3)"
      ]
     },
     "execution_count": 101,
     "metadata": {},
     "output_type": "execute_result"
    }
   ],
   "source": [
    "num_workers,num_tasks"
   ]
  },
  {
   "cell_type": "code",
   "execution_count": 102,
   "id": "356a0c6a",
   "metadata": {
    "ExecuteTime": {
     "end_time": "2023-01-09T09:46:08.106746Z",
     "start_time": "2023-01-09T09:46:08.098924Z"
    }
   },
   "outputs": [],
   "source": [
    "# Each worker is assigned to at most one task.\n",
    "# 每个用户只能发一个红包\n",
    "for worker in range(num_workers):\n",
    "    model.AddAtMostOne(x[worker, task] for task in range(num_tasks))\n",
    "\n",
    "\n",
    "# # Each task is assigned to exactly one worker.\n",
    "# for task in range(num_tasks):\n",
    "#     model.AddExactlyOne(x[worker, task] for worker in range(num_workers))"
   ]
  },
  {
   "cell_type": "code",
   "execution_count": 103,
   "id": "8c5c7a86",
   "metadata": {
    "ExecuteTime": {
     "end_time": "2023-01-09T09:46:08.810998Z",
     "start_time": "2023-01-09T09:46:08.803997Z"
    }
   },
   "outputs": [],
   "source": [
    "# 添加红包金额的限制\n",
    "# outcome"
   ]
  },
  {
   "cell_type": "code",
   "execution_count": 104,
   "id": "43b2b57e",
   "metadata": {
    "ExecuteTime": {
     "end_time": "2023-01-09T09:46:09.138227Z",
     "start_time": "2023-01-09T09:46:09.125595Z"
    }
   },
   "outputs": [],
   "source": [
    "red_limit=100"
   ]
  },
  {
   "cell_type": "code",
   "execution_count": 105,
   "id": "6eb7feb8",
   "metadata": {
    "ExecuteTime": {
     "end_time": "2023-01-09T09:46:09.390415Z",
     "start_time": "2023-01-09T09:46:09.370415Z"
    }
   },
   "outputs": [
    {
     "data": {
      "text/plain": [
       "<ortools.sat.python.cp_model.Constraint at 0x20e5e9388e0>"
      ]
     },
     "execution_count": 105,
     "metadata": {},
     "output_type": "execute_result"
    }
   ],
   "source": [
    "all_red=[]\n",
    "for worker in range(num_workers):\n",
    "    for task in range(num_tasks):\n",
    "        all_red.append(int(outcome[worker][task]*100)*red_packet[task]*x[worker,task])  # *100是因为该求解器值支持整数\n",
    "model.Add(sum(all_red)<=(red_limit*100))    #限制条件也乘以100\n"
   ]
  },
  {
   "cell_type": "code",
   "execution_count": 106,
   "id": "7dc2c42e",
   "metadata": {
    "ExecuteTime": {
     "end_time": "2023-01-09T09:46:09.577223Z",
     "start_time": "2023-01-09T09:46:09.563221Z"
    }
   },
   "outputs": [],
   "source": [
    "objective_terms = []\n",
    "for worker in range(num_workers):\n",
    "    for task in range(num_tasks):\n",
    "        objective_terms.append(costs[worker][task] * x[worker, task])\n",
    "model.Maximize(sum(objective_terms))"
   ]
  },
  {
   "cell_type": "code",
   "execution_count": 107,
   "id": "32449565",
   "metadata": {
    "ExecuteTime": {
     "end_time": "2023-01-09T09:46:09.796222Z",
     "start_time": "2023-01-09T09:46:09.773226Z"
    }
   },
   "outputs": [],
   "source": [
    "solver = cp_model.CpSolver()\n",
    "status = solver.Solve(model)"
   ]
  },
  {
   "cell_type": "code",
   "execution_count": 113,
   "id": "e405a434",
   "metadata": {
    "ExecuteTime": {
     "end_time": "2023-01-09T09:50:29.476730Z",
     "start_time": "2023-01-09T09:50:29.473729Z"
    }
   },
   "outputs": [],
   "source": [
    "result=dict()"
   ]
  },
  {
   "cell_type": "code",
   "execution_count": 116,
   "id": "320491d0",
   "metadata": {
    "ExecuteTime": {
     "end_time": "2023-01-10T02:30:25.696541Z",
     "start_time": "2023-01-10T02:30:25.675489Z"
    }
   },
   "outputs": [
    {
     "name": "stdout",
     "output_type": "stream",
     "text": [
      "Total cost = 14.263763427734375\n",
      "\n",
      "Worker 0 assigned to task 1. Cost = 0.494140625\n",
      "Worker 1 assigned to task 2. Cost = 0.56640625\n",
      "Worker 2 assigned to task 2. Cost = 0.29931640625\n",
      "Worker 5 assigned to task 2. Cost = 0.024749755859375\n",
      "Worker 6 assigned to task 1. Cost = 0.130859375\n",
      "Worker 7 assigned to task 2. Cost = 0.3193359375\n",
      "Worker 8 assigned to task 2. Cost = 0.654296875\n",
      "Worker 11 assigned to task 1. Cost = 0.0048828125\n",
      "Worker 12 assigned to task 1. Cost = 0.319580078125\n",
      "Worker 13 assigned to task 1. Cost = 0.24560546875\n",
      "Worker 15 assigned to task 2. Cost = 0.013671875\n",
      "Worker 16 assigned to task 2. Cost = 0.034912109375\n",
      "Worker 17 assigned to task 2. Cost = 0.822265625\n",
      "Worker 18 assigned to task 1. Cost = 0.41064453125\n",
      "Worker 19 assigned to task 2. Cost = 0.62060546875\n",
      "Worker 21 assigned to task 2. Cost = 0.245361328125\n",
      "Worker 23 assigned to task 1. Cost = 0.367919921875\n",
      "Worker 24 assigned to task 2. Cost = 0.208984375\n",
      "Worker 25 assigned to task 1. Cost = 0.38330078125\n",
      "Worker 26 assigned to task 1. Cost = 0.304443359375\n",
      "Worker 27 assigned to task 1. Cost = 0.74658203125\n",
      "Worker 28 assigned to task 1. Cost = 0.2958984375\n",
      "Worker 29 assigned to task 1. Cost = 0.97265625\n",
      "Worker 30 assigned to task 1. Cost = 0.00732421875\n",
      "Worker 31 assigned to task 2. Cost = 0.3095703125\n",
      "Worker 32 assigned to task 2. Cost = 0.1875\n",
      "Worker 33 assigned to task 1. Cost = 0.31591796875\n",
      "Worker 34 assigned to task 2. Cost = 0.3076171875\n",
      "Worker 35 assigned to task 2. Cost = 0.060546875\n",
      "Worker 36 assigned to task 2. Cost = 0.41015625\n",
      "Worker 37 assigned to task 2. Cost = 0.54443359375\n",
      "Worker 38 assigned to task 2. Cost = 0.2451171875\n",
      "Worker 40 assigned to task 1. Cost = 0.5908203125\n",
      "Worker 41 assigned to task 1. Cost = 0.41845703125\n",
      "Worker 43 assigned to task 1. Cost = 0.470947265625\n",
      "Worker 44 assigned to task 1. Cost = 0.21435546875\n",
      "Worker 45 assigned to task 2. Cost = 0.00732421875\n",
      "Worker 46 assigned to task 2. Cost = 0.489990234375\n",
      "Worker 47 assigned to task 2. Cost = 0.134765625\n",
      "Worker 48 assigned to task 2. Cost = 0.2646484375\n",
      "Worker 49 assigned to task 2. Cost = 0.7978515625\n"
     ]
    }
   ],
   "source": [
    "if status == cp_model.OPTIMAL or status == cp_model.FEASIBLE:\n",
    "    print(f'Total cost = {solver.ObjectiveValue()}\\n')\n",
    "    for worker in range(num_workers):\n",
    "        for task in range(num_tasks):\n",
    "            if solver.BooleanValue(x[worker, task]):\n",
    "                result[worker]=red_packet[task]\n",
    "                print(f'Worker {worker} assigned to task {task}.' +\n",
    "                      f' Cost = {costs[worker][task]}')\n",
    "else:\n",
    "    print('No solution found.')"
   ]
  },
  {
   "cell_type": "code",
   "execution_count": 109,
   "id": "6e83a95b",
   "metadata": {
    "ExecuteTime": {
     "end_time": "2023-01-09T09:46:10.965852Z",
     "start_time": "2023-01-09T09:46:10.947361Z"
    }
   },
   "outputs": [
    {
     "data": {
      "text/plain": [
       "[[0.0, 0.494140625, -0.46728515625],\n",
       " [0.0, -0.303466796875, 0.56640625],\n",
       " [0.0, -0.1522216796875, 0.29931640625],\n",
       " [0.0, -0.0947265625, 0.0],\n",
       " [0.0, -0.1328125, -0.54345703125],\n",
       " [0.0, -0.880859375, 0.024749755859375],\n",
       " [0.0, 0.130859375, -0.5712890625],\n",
       " [0.0, -0.4521484375, 0.3193359375],\n",
       " [0.0, -0.197021484375, 0.654296875],\n",
       " [0.0, -0.07763671875, -0.470703125],\n",
       " [0.0, -0.1337890625, -0.267578125],\n",
       " [0.0, 0.0048828125, -0.37939453125],\n",
       " [0.0, 0.319580078125, -0.0166015625],\n",
       " [0.0, 0.24560546875, -0.346923828125],\n",
       " [0.0, -0.6494140625, -0.09210205078125],\n",
       " [0.0, -0.1357421875, 0.013671875],\n",
       " [0.0, -0.3564453125, 0.034912109375],\n",
       " [0.0, -0.67529296875, 0.822265625],\n",
       " [0.0, 0.41064453125, -0.02099609375],\n",
       " [0.0, -0.25, 0.62060546875],\n",
       " [0.0, -0.103759765625, -0.34521484375],\n",
       " [0.0, 0.14404296875, 0.245361328125],\n",
       " [0.0, -0.068603515625, -0.0858154296875],\n",
       " [0.0, 0.367919921875, -0.06591796875],\n",
       " [0.0, -0.3896484375, 0.208984375],\n",
       " [0.0, 0.38330078125, -0.07568359375],\n",
       " [0.0, 0.304443359375, -0.166015625],\n",
       " [0.0, 0.74658203125, -0.11865234375],\n",
       " [0.0, 0.2958984375, -0.693359375],\n",
       " [0.0, 0.97265625, -0.58642578125],\n",
       " [0.0, 0.00732421875, -0.2021484375],\n",
       " [0.0, -0.62890625, 0.3095703125],\n",
       " [0.0, -0.7060546875, 0.1875],\n",
       " [0.0, 0.31591796875, 0.08740234375],\n",
       " [0.0, -0.16162109375, 0.3076171875],\n",
       " [0.0, -0.001953125, 0.060546875],\n",
       " [0.0, -0.11279296875, 0.41015625],\n",
       " [0.0, -0.2332763671875, 0.54443359375],\n",
       " [0.0, 0.2197265625, 0.2451171875],\n",
       " [0.0, -0.434326171875, -0.0435791015625],\n",
       " [0.0, 0.5908203125, -0.10498046875],\n",
       " [0.0, 0.41845703125, 0.17919921875],\n",
       " [0.0, -0.63232421875, -0.2435302734375],\n",
       " [0.0, 0.470947265625, -0.88134765625],\n",
       " [0.0, 0.21435546875, -0.0322265625],\n",
       " [0.0, -0.47314453125, 0.00732421875],\n",
       " [0.0, 0.255126953125, 0.489990234375],\n",
       " [0.0, 0.02392578125, 0.134765625],\n",
       " [0.0, 0.20166015625, 0.2646484375],\n",
       " [0.0, -0.0020751953125, 0.7978515625]]"
      ]
     },
     "execution_count": 109,
     "metadata": {},
     "output_type": "execute_result"
    }
   ],
   "source": [
    "costs"
   ]
  },
  {
   "cell_type": "code",
   "execution_count": null,
   "id": "8edf254b",
   "metadata": {},
   "outputs": [],
   "source": []
  },
  {
   "cell_type": "code",
   "execution_count": null,
   "id": "9140a402",
   "metadata": {},
   "outputs": [],
   "source": []
  },
  {
   "cell_type": "code",
   "execution_count": null,
   "id": "be2cd0ff",
   "metadata": {},
   "outputs": [],
   "source": []
  },
  {
   "cell_type": "code",
   "execution_count": 202,
   "id": "2b0761c5",
   "metadata": {
    "ExecuteTime": {
     "end_time": "2023-01-10T07:39:28.814149Z",
     "start_time": "2023-01-10T07:39:28.798151Z"
    }
   },
   "outputs": [
    {
     "data": {
      "text/plain": [
       "'D://workspace/causal-program/499fb518959ite1671529474571.csv'"
      ]
     },
     "execution_count": 202,
     "metadata": {},
     "output_type": "execute_result"
    }
   ],
   "source": [
    "\"D://workspace/causal-program/499fb518959ite1671529474571.csv\""
   ]
  },
  {
   "cell_type": "code",
   "execution_count": 206,
   "id": "ab72ac9f",
   "metadata": {
    "ExecuteTime": {
     "end_time": "2023-01-10T07:40:22.051394Z",
     "start_time": "2023-01-10T07:40:22.033395Z"
    }
   },
   "outputs": [
    {
     "data": {
      "text/html": [
       "<div>\n",
       "<style scoped>\n",
       "    .dataframe tbody tr th:only-of-type {\n",
       "        vertical-align: middle;\n",
       "    }\n",
       "\n",
       "    .dataframe tbody tr th {\n",
       "        vertical-align: top;\n",
       "    }\n",
       "\n",
       "    .dataframe thead th {\n",
       "        text-align: right;\n",
       "    }\n",
       "</style>\n",
       "<table border=\"1\" class=\"dataframe\">\n",
       "  <thead>\n",
       "    <tr style=\"text-align: right;\">\n",
       "      <th></th>\n",
       "      <th>UID</th>\n",
       "      <th>支付金额_总量</th>\n",
       "      <th>流量_总量</th>\n",
       "      <th>站外投放花费_种草_小红书</th>\n",
       "      <th>相关互动量_小红书</th>\n",
       "      <th>站外投放 _明星发布</th>\n",
       "      <th>相关互动量_微博</th>\n",
       "      <th>站外投放_KOL博主/媒体</th>\n",
       "      <th>站外投放_微博新华网</th>\n",
       "      <th>站外投放_ 账号采买</th>\n",
       "      <th>相关互动量_微信</th>\n",
       "      <th>站外投放花费_种草_公众号</th>\n",
       "      <th>相关互动量_短视频</th>\n",
       "      <th>站外投放花费_种草_抖音</th>\n",
       "      <th>相关互动量_得物</th>\n",
       "      <th>站外投放花费_种草_得物</th>\n",
       "      <th>支付金额_京东</th>\n",
       "    </tr>\n",
       "  </thead>\n",
       "  <tbody>\n",
       "  </tbody>\n",
       "</table>\n",
       "</div>"
      ],
      "text/plain": [
       "Empty DataFrame\n",
       "Columns: [UID, 支付金额_总量, 流量_总量, 站外投放花费_种草_小红书, 相关互动量_小红书,  站外投放 _明星发布, 相关互动量_微博, 站外投放_KOL博主/媒体 , 站外投放_微博新华网, 站外投放_ 账号采买, 相关互动量_微信, 站外投放花费_种草_公众号, 相关互动量_短视频, 站外投放花费_种草_抖音, 相关互动量_得物, 站外投放花费_种草_得物, 支付金额_京东]\n",
       "Index: []"
      ]
     },
     "execution_count": 206,
     "metadata": {},
     "output_type": "execute_result"
    }
   ],
   "source": [
    "pd.read_csv(\"D://workspace/data/499fb518959ite1671529474571.csv\")"
   ]
  },
  {
   "cell_type": "code",
   "execution_count": null,
   "id": "47ca9209",
   "metadata": {},
   "outputs": [],
   "source": []
  }
 ],
 "metadata": {
  "kernelspec": {
   "display_name": "Python 3 (ipykernel)",
   "language": "python",
   "name": "python3"
  },
  "language_info": {
   "codemirror_mode": {
    "name": "ipython",
    "version": 3
   },
   "file_extension": ".py",
   "mimetype": "text/x-python",
   "name": "python",
   "nbconvert_exporter": "python",
   "pygments_lexer": "ipython3",
   "version": "3.9.12"
  },
  "toc": {
   "base_numbering": 1,
   "nav_menu": {},
   "number_sections": true,
   "sideBar": true,
   "skip_h1_title": false,
   "title_cell": "Table of Contents",
   "title_sidebar": "Contents",
   "toc_cell": false,
   "toc_position": {},
   "toc_section_display": true,
   "toc_window_display": true
  },
  "varInspector": {
   "cols": {
    "lenName": 16,
    "lenType": 16,
    "lenVar": 40
   },
   "kernels_config": {
    "python": {
     "delete_cmd_postfix": "",
     "delete_cmd_prefix": "del ",
     "library": "var_list.py",
     "varRefreshCmd": "print(var_dic_list())"
    },
    "r": {
     "delete_cmd_postfix": ") ",
     "delete_cmd_prefix": "rm(",
     "library": "var_list.r",
     "varRefreshCmd": "cat(var_dic_list()) "
    }
   },
   "oldHeight": 245.85000000000002,
   "position": {
    "height": "40px",
    "left": "1156.2px",
    "right": "20px",
    "top": "29px",
    "width": "350px"
   },
   "types_to_exclude": [
    "module",
    "function",
    "builtin_function_or_method",
    "instance",
    "_Feature"
   ],
   "varInspector_section_display": "none",
   "window_display": true
  }
 },
 "nbformat": 4,
 "nbformat_minor": 5
}
