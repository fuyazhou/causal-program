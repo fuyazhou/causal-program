{
 "cells": [
  {
   "cell_type": "code",
   "execution_count": 1,
   "id": "edd31e87",
   "metadata": {
    "ExecuteTime": {
     "end_time": "2022-11-29T05:59:47.351693Z",
     "start_time": "2022-11-29T05:59:44.017322Z"
    }
   },
   "outputs": [],
   "source": [
    "# imports\n",
    "import os\n",
    "import pandas as pd\n",
    "import numpy as np\n",
    "import statsmodels.api as sm\n",
    "import seaborn as sns\n",
    "\n",
    "from econml.dml import LinearDML\n",
    "from econml.dr import LinearDRLearner\n",
    "from econml.cate_interpreter import SingleTreeCateInterpreter\n",
    "from econml.dml import CausalForestDML,NonParamDML\n",
    "\n",
    "from sklearn.linear_model import LogisticRegressionCV, LinearRegression,LogisticRegression,Lasso,LassoCV\n",
    "from sklearn.ensemble import RandomForestClassifier, RandomForestRegressor,GradientBoostingClassifier\n",
    "import lightgbm as lgb\n",
    "from sklearn.preprocessing import StandardScaler\n",
    "from tqdm import tqdm\n",
    "from econml.sklearn_extensions.model_selection import GridSearchCVList\n",
    "\n",
    "\n",
    "import matplotlib.pyplot as plt\n",
    "from matplotlib.transforms import ScaledTranslation\n",
    "import seaborn as sns\n",
    "\n",
    "%matplotlib inline"
   ]
  },
  {
   "cell_type": "markdown",
   "id": "a7a50c6c",
   "metadata": {},
   "source": [
    "### 处理数据"
   ]
  },
  {
   "cell_type": "code",
   "execution_count": 2,
   "id": "96a45bb9",
   "metadata": {
    "ExecuteTime": {
     "end_time": "2022-11-29T06:00:23.044984Z",
     "start_time": "2022-11-29T05:59:57.952531Z"
    }
   },
   "outputs": [],
   "source": [
    "data=pd.read_excel(\"诸葛1129.xlsx\")"
   ]
  },
  {
   "cell_type": "code",
   "execution_count": 3,
   "id": "f6ed23ca",
   "metadata": {
    "ExecuteTime": {
     "end_time": "2022-11-29T06:00:23.344899Z",
     "start_time": "2022-11-29T06:00:23.203881Z"
    }
   },
   "outputs": [
    {
     "data": {
      "text/html": [
       "<div>\n",
       "<style scoped>\n",
       "    .dataframe tbody tr th:only-of-type {\n",
       "        vertical-align: middle;\n",
       "    }\n",
       "\n",
       "    .dataframe tbody tr th {\n",
       "        vertical-align: top;\n",
       "    }\n",
       "\n",
       "    .dataframe thead th {\n",
       "        text-align: right;\n",
       "    }\n",
       "</style>\n",
       "<table border=\"1\" class=\"dataframe\">\n",
       "  <thead>\n",
       "    <tr style=\"text-align: right;\">\n",
       "      <th></th>\n",
       "      <th>诸葛id</th>\n",
       "      <th>胆识联盟事件次数</th>\n",
       "      <th>凯迪拉克岛屿事件次数</th>\n",
       "      <th>凯迪音乐厅事件次数</th>\n",
       "      <th>时空瞭望塔事件次数</th>\n",
       "      <th>风范天地事件次数</th>\n",
       "      <th>凯迪拉克雪国战车事件次数</th>\n",
       "      <th>预约试驾-提交预约试驾事件次数</th>\n",
       "      <th>任务类型-爱车任务事件次数</th>\n",
       "      <th>任务类型-惊喜任务事件次数</th>\n",
       "      <th>任务中心-成功邀请好友事件次数</th>\n",
       "      <th>任务中心-获取克拉值事件次数</th>\n",
       "      <th>任务中心-进入用户调研页事件次数</th>\n",
       "      <th>任务中心-浏览车型主亮点事件次数</th>\n",
       "      <th>任务中心-签到事件次数</th>\n",
       "      <th>任务中心-邀请好友事件次数</th>\n",
       "      <th>进入数字展厅页事件次数</th>\n",
       "    </tr>\n",
       "  </thead>\n",
       "  <tbody>\n",
       "    <tr>\n",
       "      <th>count</th>\n",
       "      <td>7.395460e+05</td>\n",
       "      <td>11943.000000</td>\n",
       "      <td>277592.000000</td>\n",
       "      <td>11495.000000</td>\n",
       "      <td>28846.000000</td>\n",
       "      <td>13581.000000</td>\n",
       "      <td>10082.000000</td>\n",
       "      <td>9369.000000</td>\n",
       "      <td>1.0</td>\n",
       "      <td>8.0</td>\n",
       "      <td>16473.000000</td>\n",
       "      <td>25030.000000</td>\n",
       "      <td>9089.000000</td>\n",
       "      <td>4971.000000</td>\n",
       "      <td>24196.000000</td>\n",
       "      <td>62.000000</td>\n",
       "      <td>151795.000000</td>\n",
       "    </tr>\n",
       "    <tr>\n",
       "      <th>mean</th>\n",
       "      <td>5.135650e+05</td>\n",
       "      <td>9.392531</td>\n",
       "      <td>10.591325</td>\n",
       "      <td>7.379034</td>\n",
       "      <td>4.223359</td>\n",
       "      <td>14.639791</td>\n",
       "      <td>4.477286</td>\n",
       "      <td>1.163518</td>\n",
       "      <td>1.0</td>\n",
       "      <td>1.0</td>\n",
       "      <td>2.182845</td>\n",
       "      <td>3.616740</td>\n",
       "      <td>1.045219</td>\n",
       "      <td>10.515993</td>\n",
       "      <td>2.516573</td>\n",
       "      <td>1.112903</td>\n",
       "      <td>3.453638</td>\n",
       "    </tr>\n",
       "    <tr>\n",
       "      <th>std</th>\n",
       "      <td>3.351558e+05</td>\n",
       "      <td>43.985376</td>\n",
       "      <td>729.721090</td>\n",
       "      <td>14.457896</td>\n",
       "      <td>16.140916</td>\n",
       "      <td>20.207797</td>\n",
       "      <td>15.480606</td>\n",
       "      <td>0.762981</td>\n",
       "      <td>NaN</td>\n",
       "      <td>0.0</td>\n",
       "      <td>9.762357</td>\n",
       "      <td>29.291216</td>\n",
       "      <td>0.232772</td>\n",
       "      <td>163.551291</td>\n",
       "      <td>6.930507</td>\n",
       "      <td>0.319058</td>\n",
       "      <td>28.822215</td>\n",
       "    </tr>\n",
       "    <tr>\n",
       "      <th>min</th>\n",
       "      <td>1.000000e+00</td>\n",
       "      <td>1.000000</td>\n",
       "      <td>1.000000</td>\n",
       "      <td>1.000000</td>\n",
       "      <td>1.000000</td>\n",
       "      <td>1.000000</td>\n",
       "      <td>1.000000</td>\n",
       "      <td>1.000000</td>\n",
       "      <td>1.0</td>\n",
       "      <td>1.0</td>\n",
       "      <td>1.000000</td>\n",
       "      <td>1.000000</td>\n",
       "      <td>1.000000</td>\n",
       "      <td>1.000000</td>\n",
       "      <td>1.000000</td>\n",
       "      <td>1.000000</td>\n",
       "      <td>1.000000</td>\n",
       "    </tr>\n",
       "    <tr>\n",
       "      <th>25%</th>\n",
       "      <td>2.264412e+05</td>\n",
       "      <td>2.000000</td>\n",
       "      <td>1.000000</td>\n",
       "      <td>3.000000</td>\n",
       "      <td>2.000000</td>\n",
       "      <td>6.000000</td>\n",
       "      <td>2.000000</td>\n",
       "      <td>1.000000</td>\n",
       "      <td>1.0</td>\n",
       "      <td>1.0</td>\n",
       "      <td>1.000000</td>\n",
       "      <td>1.000000</td>\n",
       "      <td>1.000000</td>\n",
       "      <td>2.000000</td>\n",
       "      <td>1.000000</td>\n",
       "      <td>1.000000</td>\n",
       "      <td>1.000000</td>\n",
       "    </tr>\n",
       "    <tr>\n",
       "      <th>50%</th>\n",
       "      <td>4.611575e+05</td>\n",
       "      <td>5.000000</td>\n",
       "      <td>3.000000</td>\n",
       "      <td>6.000000</td>\n",
       "      <td>3.000000</td>\n",
       "      <td>10.000000</td>\n",
       "      <td>3.000000</td>\n",
       "      <td>1.000000</td>\n",
       "      <td>1.0</td>\n",
       "      <td>1.0</td>\n",
       "      <td>1.000000</td>\n",
       "      <td>1.000000</td>\n",
       "      <td>1.000000</td>\n",
       "      <td>4.000000</td>\n",
       "      <td>1.000000</td>\n",
       "      <td>1.000000</td>\n",
       "      <td>2.000000</td>\n",
       "    </tr>\n",
       "    <tr>\n",
       "      <th>75%</th>\n",
       "      <td>7.911788e+05</td>\n",
       "      <td>9.000000</td>\n",
       "      <td>6.000000</td>\n",
       "      <td>9.000000</td>\n",
       "      <td>4.000000</td>\n",
       "      <td>18.000000</td>\n",
       "      <td>5.000000</td>\n",
       "      <td>1.000000</td>\n",
       "      <td>1.0</td>\n",
       "      <td>1.0</td>\n",
       "      <td>2.000000</td>\n",
       "      <td>3.000000</td>\n",
       "      <td>1.000000</td>\n",
       "      <td>8.000000</td>\n",
       "      <td>2.000000</td>\n",
       "      <td>1.000000</td>\n",
       "      <td>4.000000</td>\n",
       "    </tr>\n",
       "    <tr>\n",
       "      <th>max</th>\n",
       "      <td>1.176037e+06</td>\n",
       "      <td>3156.000000</td>\n",
       "      <td>318896.000000</td>\n",
       "      <td>1204.000000</td>\n",
       "      <td>2512.000000</td>\n",
       "      <td>840.000000</td>\n",
       "      <td>1381.000000</td>\n",
       "      <td>55.000000</td>\n",
       "      <td>1.0</td>\n",
       "      <td>1.0</td>\n",
       "      <td>951.000000</td>\n",
       "      <td>4443.000000</td>\n",
       "      <td>8.000000</td>\n",
       "      <td>11506.000000</td>\n",
       "      <td>146.000000</td>\n",
       "      <td>2.000000</td>\n",
       "      <td>10891.000000</td>\n",
       "    </tr>\n",
       "  </tbody>\n",
       "</table>\n",
       "</div>"
      ],
      "text/plain": [
       "               诸葛id      胆识联盟事件次数     凯迪拉克岛屿事件次数     凯迪音乐厅事件次数     时空瞭望塔事件次数  \\\n",
       "count  7.395460e+05  11943.000000  277592.000000  11495.000000  28846.000000   \n",
       "mean   5.135650e+05      9.392531      10.591325      7.379034      4.223359   \n",
       "std    3.351558e+05     43.985376     729.721090     14.457896     16.140916   \n",
       "min    1.000000e+00      1.000000       1.000000      1.000000      1.000000   \n",
       "25%    2.264412e+05      2.000000       1.000000      3.000000      2.000000   \n",
       "50%    4.611575e+05      5.000000       3.000000      6.000000      3.000000   \n",
       "75%    7.911788e+05      9.000000       6.000000      9.000000      4.000000   \n",
       "max    1.176037e+06   3156.000000  318896.000000   1204.000000   2512.000000   \n",
       "\n",
       "           风范天地事件次数  凯迪拉克雪国战车事件次数  预约试驾-提交预约试驾事件次数  任务类型-爱车任务事件次数  \\\n",
       "count  13581.000000  10082.000000      9369.000000            1.0   \n",
       "mean      14.639791      4.477286         1.163518            1.0   \n",
       "std       20.207797     15.480606         0.762981            NaN   \n",
       "min        1.000000      1.000000         1.000000            1.0   \n",
       "25%        6.000000      2.000000         1.000000            1.0   \n",
       "50%       10.000000      3.000000         1.000000            1.0   \n",
       "75%       18.000000      5.000000         1.000000            1.0   \n",
       "max      840.000000   1381.000000        55.000000            1.0   \n",
       "\n",
       "       任务类型-惊喜任务事件次数  任务中心-成功邀请好友事件次数  任务中心-获取克拉值事件次数  任务中心-进入用户调研页事件次数  \\\n",
       "count            8.0     16473.000000    25030.000000       9089.000000   \n",
       "mean             1.0         2.182845        3.616740          1.045219   \n",
       "std              0.0         9.762357       29.291216          0.232772   \n",
       "min              1.0         1.000000        1.000000          1.000000   \n",
       "25%              1.0         1.000000        1.000000          1.000000   \n",
       "50%              1.0         1.000000        1.000000          1.000000   \n",
       "75%              1.0         2.000000        3.000000          1.000000   \n",
       "max              1.0       951.000000     4443.000000          8.000000   \n",
       "\n",
       "       任务中心-浏览车型主亮点事件次数   任务中心-签到事件次数  任务中心-邀请好友事件次数    进入数字展厅页事件次数  \n",
       "count       4971.000000  24196.000000      62.000000  151795.000000  \n",
       "mean          10.515993      2.516573       1.112903       3.453638  \n",
       "std          163.551291      6.930507       0.319058      28.822215  \n",
       "min            1.000000      1.000000       1.000000       1.000000  \n",
       "25%            2.000000      1.000000       1.000000       1.000000  \n",
       "50%            4.000000      1.000000       1.000000       2.000000  \n",
       "75%            8.000000      2.000000       1.000000       4.000000  \n",
       "max        11506.000000    146.000000       2.000000   10891.000000  "
      ]
     },
     "execution_count": 3,
     "metadata": {},
     "output_type": "execute_result"
    }
   ],
   "source": [
    "data.describe()"
   ]
  },
  {
   "cell_type": "code",
   "execution_count": 4,
   "id": "87c4feaf",
   "metadata": {
    "ExecuteTime": {
     "end_time": "2022-11-29T06:00:52.310918Z",
     "start_time": "2022-11-29T06:00:52.255812Z"
    }
   },
   "outputs": [],
   "source": [
    "data=data[pd.notna(data[\"诸葛id\"])]"
   ]
  },
  {
   "cell_type": "code",
   "execution_count": 5,
   "id": "adc32c9f",
   "metadata": {
    "ExecuteTime": {
     "end_time": "2022-11-29T06:00:52.561275Z",
     "start_time": "2022-11-29T06:00:52.552264Z"
    }
   },
   "outputs": [
    {
     "data": {
      "text/plain": [
       "Index(['诸葛id', '胆识联盟事件次数', '凯迪拉克岛屿事件次数', '凯迪音乐厅事件次数', '时空瞭望塔事件次数', '风范天地事件次数',\n",
       "       '凯迪拉克雪国战车事件次数', '预约试驾-提交预约试驾事件次数', '任务类型-爱车任务事件次数', '任务类型-惊喜任务事件次数',\n",
       "       '任务中心-成功邀请好友事件次数', '任务中心-获取克拉值事件次数', '任务中心-进入用户调研页事件次数',\n",
       "       '任务中心-浏览车型主亮点事件次数', '任务中心-签到事件次数', '任务中心-邀请好友事件次数', '进入数字展厅页事件次数'],\n",
       "      dtype='object')"
      ]
     },
     "execution_count": 5,
     "metadata": {},
     "output_type": "execute_result"
    }
   ],
   "source": [
    "data.columns"
   ]
  },
  {
   "cell_type": "code",
   "execution_count": 6,
   "id": "7f7d2c10",
   "metadata": {
    "ExecuteTime": {
     "end_time": "2022-11-29T06:00:54.882965Z",
     "start_time": "2022-11-29T06:00:54.839965Z"
    }
   },
   "outputs": [
    {
     "data": {
      "text/html": [
       "<div>\n",
       "<style scoped>\n",
       "    .dataframe tbody tr th:only-of-type {\n",
       "        vertical-align: middle;\n",
       "    }\n",
       "\n",
       "    .dataframe tbody tr th {\n",
       "        vertical-align: top;\n",
       "    }\n",
       "\n",
       "    .dataframe thead th {\n",
       "        text-align: right;\n",
       "    }\n",
       "</style>\n",
       "<table border=\"1\" class=\"dataframe\">\n",
       "  <thead>\n",
       "    <tr style=\"text-align: right;\">\n",
       "      <th></th>\n",
       "      <th>诸葛id</th>\n",
       "      <th>胆识联盟事件次数</th>\n",
       "      <th>凯迪拉克岛屿事件次数</th>\n",
       "      <th>凯迪音乐厅事件次数</th>\n",
       "      <th>时空瞭望塔事件次数</th>\n",
       "      <th>风范天地事件次数</th>\n",
       "      <th>凯迪拉克雪国战车事件次数</th>\n",
       "      <th>预约试驾-提交预约试驾事件次数</th>\n",
       "      <th>任务类型-爱车任务事件次数</th>\n",
       "      <th>任务类型-惊喜任务事件次数</th>\n",
       "      <th>任务中心-成功邀请好友事件次数</th>\n",
       "      <th>任务中心-获取克拉值事件次数</th>\n",
       "      <th>任务中心-进入用户调研页事件次数</th>\n",
       "      <th>任务中心-浏览车型主亮点事件次数</th>\n",
       "      <th>任务中心-签到事件次数</th>\n",
       "      <th>任务中心-邀请好友事件次数</th>\n",
       "      <th>进入数字展厅页事件次数</th>\n",
       "    </tr>\n",
       "  </thead>\n",
       "  <tbody>\n",
       "    <tr>\n",
       "      <th>0</th>\n",
       "      <td>1</td>\n",
       "      <td>NaN</td>\n",
       "      <td>1.0</td>\n",
       "      <td>NaN</td>\n",
       "      <td>NaN</td>\n",
       "      <td>NaN</td>\n",
       "      <td>NaN</td>\n",
       "      <td>NaN</td>\n",
       "      <td>NaN</td>\n",
       "      <td>NaN</td>\n",
       "      <td>NaN</td>\n",
       "      <td>NaN</td>\n",
       "      <td>NaN</td>\n",
       "      <td>NaN</td>\n",
       "      <td>NaN</td>\n",
       "      <td>NaN</td>\n",
       "      <td>NaN</td>\n",
       "    </tr>\n",
       "    <tr>\n",
       "      <th>1</th>\n",
       "      <td>3</td>\n",
       "      <td>NaN</td>\n",
       "      <td>5.0</td>\n",
       "      <td>NaN</td>\n",
       "      <td>NaN</td>\n",
       "      <td>NaN</td>\n",
       "      <td>NaN</td>\n",
       "      <td>NaN</td>\n",
       "      <td>NaN</td>\n",
       "      <td>NaN</td>\n",
       "      <td>NaN</td>\n",
       "      <td>NaN</td>\n",
       "      <td>NaN</td>\n",
       "      <td>NaN</td>\n",
       "      <td>NaN</td>\n",
       "      <td>NaN</td>\n",
       "      <td>9.0</td>\n",
       "    </tr>\n",
       "    <tr>\n",
       "      <th>2</th>\n",
       "      <td>4</td>\n",
       "      <td>NaN</td>\n",
       "      <td>NaN</td>\n",
       "      <td>NaN</td>\n",
       "      <td>NaN</td>\n",
       "      <td>NaN</td>\n",
       "      <td>NaN</td>\n",
       "      <td>NaN</td>\n",
       "      <td>NaN</td>\n",
       "      <td>NaN</td>\n",
       "      <td>NaN</td>\n",
       "      <td>NaN</td>\n",
       "      <td>NaN</td>\n",
       "      <td>NaN</td>\n",
       "      <td>NaN</td>\n",
       "      <td>NaN</td>\n",
       "      <td>NaN</td>\n",
       "    </tr>\n",
       "    <tr>\n",
       "      <th>3</th>\n",
       "      <td>12</td>\n",
       "      <td>NaN</td>\n",
       "      <td>NaN</td>\n",
       "      <td>NaN</td>\n",
       "      <td>NaN</td>\n",
       "      <td>NaN</td>\n",
       "      <td>NaN</td>\n",
       "      <td>NaN</td>\n",
       "      <td>NaN</td>\n",
       "      <td>NaN</td>\n",
       "      <td>NaN</td>\n",
       "      <td>1.0</td>\n",
       "      <td>NaN</td>\n",
       "      <td>NaN</td>\n",
       "      <td>NaN</td>\n",
       "      <td>NaN</td>\n",
       "      <td>NaN</td>\n",
       "    </tr>\n",
       "    <tr>\n",
       "      <th>4</th>\n",
       "      <td>16</td>\n",
       "      <td>NaN</td>\n",
       "      <td>NaN</td>\n",
       "      <td>NaN</td>\n",
       "      <td>NaN</td>\n",
       "      <td>NaN</td>\n",
       "      <td>NaN</td>\n",
       "      <td>NaN</td>\n",
       "      <td>NaN</td>\n",
       "      <td>NaN</td>\n",
       "      <td>NaN</td>\n",
       "      <td>NaN</td>\n",
       "      <td>NaN</td>\n",
       "      <td>NaN</td>\n",
       "      <td>NaN</td>\n",
       "      <td>NaN</td>\n",
       "      <td>NaN</td>\n",
       "    </tr>\n",
       "  </tbody>\n",
       "</table>\n",
       "</div>"
      ],
      "text/plain": [
       "   诸葛id  胆识联盟事件次数  凯迪拉克岛屿事件次数  凯迪音乐厅事件次数  时空瞭望塔事件次数  风范天地事件次数  凯迪拉克雪国战车事件次数  \\\n",
       "0     1       NaN         1.0        NaN        NaN       NaN           NaN   \n",
       "1     3       NaN         5.0        NaN        NaN       NaN           NaN   \n",
       "2     4       NaN         NaN        NaN        NaN       NaN           NaN   \n",
       "3    12       NaN         NaN        NaN        NaN       NaN           NaN   \n",
       "4    16       NaN         NaN        NaN        NaN       NaN           NaN   \n",
       "\n",
       "   预约试驾-提交预约试驾事件次数  任务类型-爱车任务事件次数  任务类型-惊喜任务事件次数  任务中心-成功邀请好友事件次数  \\\n",
       "0              NaN            NaN            NaN              NaN   \n",
       "1              NaN            NaN            NaN              NaN   \n",
       "2              NaN            NaN            NaN              NaN   \n",
       "3              NaN            NaN            NaN              NaN   \n",
       "4              NaN            NaN            NaN              NaN   \n",
       "\n",
       "   任务中心-获取克拉值事件次数  任务中心-进入用户调研页事件次数  任务中心-浏览车型主亮点事件次数  任务中心-签到事件次数  \\\n",
       "0             NaN               NaN               NaN          NaN   \n",
       "1             NaN               NaN               NaN          NaN   \n",
       "2             NaN               NaN               NaN          NaN   \n",
       "3             1.0               NaN               NaN          NaN   \n",
       "4             NaN               NaN               NaN          NaN   \n",
       "\n",
       "   任务中心-邀请好友事件次数  进入数字展厅页事件次数  \n",
       "0            NaN          NaN  \n",
       "1            NaN          9.0  \n",
       "2            NaN          NaN  \n",
       "3            NaN          NaN  \n",
       "4            NaN          NaN  "
      ]
     },
     "execution_count": 6,
     "metadata": {},
     "output_type": "execute_result"
    }
   ],
   "source": [
    "data = data[[i for i in data.columns if  \"时间\" not in  i ]]\n",
    "data.head()"
   ]
  },
  {
   "cell_type": "code",
   "execution_count": 7,
   "id": "893e0c7a",
   "metadata": {
    "ExecuteTime": {
     "end_time": "2022-11-29T06:00:55.757543Z",
     "start_time": "2022-11-29T06:00:55.605540Z"
    }
   },
   "outputs": [
    {
     "data": {
      "image/png": "[encoded data removed]",
      "text/latex": [
       "$\\displaystyle 739546$"
      ],
      "text/plain": [
       "739546"
      ]
     },
     "execution_count": 7,
     "metadata": {},
     "output_type": "execute_result"
    }
   ],
   "source": [
    "len(data)"
   ]
  },
  {
   "cell_type": "code",
   "execution_count": 8,
   "id": "3c0e95bd",
   "metadata": {
    "ExecuteTime": {
     "end_time": "2022-11-29T06:01:14.364602Z",
     "start_time": "2022-11-29T06:01:14.205013Z"
    }
   },
   "outputs": [],
   "source": [
    "data.drop_duplicates(subset=['胆识联盟事件次数', '凯迪拉克岛屿事件次数', '凯迪音乐厅事件次数', '时空瞭望塔事件次数', '风范天地事件次数',\n",
    "       '凯迪拉克雪国战车事件次数', '预约试驾-提交预约试驾事件次数', '任务类型-爱车任务事件次数', '任务类型-惊喜任务事件次数',\n",
    "       '任务中心-成功邀请好友事件次数', '任务中心-获取克拉值事件次数', '任务中心-进入用户调研页事件次数',\n",
    "       '任务中心-浏览车型主亮点事件次数', '任务中心-签到事件次数', '任务中心-邀请好友事件次数', '进入数字展厅页事件次数'],inplace=True)"
   ]
  },
  {
   "cell_type": "code",
   "execution_count": 9,
   "id": "d3bbdd23",
   "metadata": {
    "ExecuteTime": {
     "end_time": "2022-11-29T06:01:15.567251Z",
     "start_time": "2022-11-29T06:01:15.540997Z"
    }
   },
   "outputs": [
    {
     "data": {
      "image/png": "[encoded data removed]",
      "text/latex": [
       "$\\displaystyle 34455$"
      ],
      "text/plain": [
       "34455"
      ]
     },
     "execution_count": 9,
     "metadata": {},
     "output_type": "execute_result"
    }
   ],
   "source": [
    "len(data)"
   ]
  },
  {
   "cell_type": "code",
   "execution_count": 10,
   "id": "fb28a932",
   "metadata": {
    "ExecuteTime": {
     "end_time": "2022-11-29T06:01:18.558987Z",
     "start_time": "2022-11-29T06:01:18.549990Z"
    }
   },
   "outputs": [
    {
     "data": {
      "text/plain": [
       "诸葛id                0.000000\n",
       "胆识联盟事件次数            0.719663\n",
       "凯迪拉克岛屿事件次数          0.049514\n",
       "凯迪音乐厅事件次数           0.763489\n",
       "时空瞭望塔事件次数           0.470178\n",
       "风范天地事件次数            0.646757\n",
       "凯迪拉克雪国战车事件次数        0.783312\n",
       "预约试驾-提交预约试驾事件次数     0.765288\n",
       "任务类型-爱车任务事件次数       0.999971\n",
       "任务类型-惊喜任务事件次数       0.999768\n",
       "任务中心-成功邀请好友事件次数     0.861384\n",
       "任务中心-获取克拉值事件次数      0.548338\n",
       "任务中心-进入用户调研页事件次数    0.828878\n",
       "任务中心-浏览车型主亮点事件次数    0.871281\n",
       "任务中心-签到事件次数         0.614918\n",
       "任务中心-邀请好友事件次数       0.998201\n",
       "进入数字展厅页事件次数         0.400580\n",
       "dtype: float64"
      ]
     },
     "execution_count": 10,
     "metadata": {},
     "output_type": "execute_result"
    }
   ],
   "source": [
    "1-data.count()/len(data)"
   ]
  },
  {
   "cell_type": "code",
   "execution_count": 12,
   "id": "8b606ffe",
   "metadata": {
    "ExecuteTime": {
     "end_time": "2022-11-29T06:01:42.158799Z",
     "start_time": "2022-11-29T06:01:42.143800Z"
    }
   },
   "outputs": [
    {
     "data": {
      "text/html": [
       "<div>\n",
       "<style scoped>\n",
       "    .dataframe tbody tr th:only-of-type {\n",
       "        vertical-align: middle;\n",
       "    }\n",
       "\n",
       "    .dataframe tbody tr th {\n",
       "        vertical-align: top;\n",
       "    }\n",
       "\n",
       "    .dataframe thead th {\n",
       "        text-align: right;\n",
       "    }\n",
       "</style>\n",
       "<table border=\"1\" class=\"dataframe\">\n",
       "  <thead>\n",
       "    <tr style=\"text-align: right;\">\n",
       "      <th></th>\n",
       "      <th>诸葛id</th>\n",
       "      <th>胆识联盟事件次数</th>\n",
       "      <th>凯迪拉克岛屿事件次数</th>\n",
       "      <th>凯迪音乐厅事件次数</th>\n",
       "      <th>时空瞭望塔事件次数</th>\n",
       "      <th>风范天地事件次数</th>\n",
       "      <th>凯迪拉克雪国战车事件次数</th>\n",
       "      <th>预约试驾-提交预约试驾事件次数</th>\n",
       "      <th>任务类型-爱车任务事件次数</th>\n",
       "      <th>任务类型-惊喜任务事件次数</th>\n",
       "      <th>任务中心-成功邀请好友事件次数</th>\n",
       "      <th>任务中心-获取克拉值事件次数</th>\n",
       "      <th>任务中心-进入用户调研页事件次数</th>\n",
       "      <th>任务中心-浏览车型主亮点事件次数</th>\n",
       "      <th>任务中心-签到事件次数</th>\n",
       "      <th>任务中心-邀请好友事件次数</th>\n",
       "      <th>进入数字展厅页事件次数</th>\n",
       "    </tr>\n",
       "  </thead>\n",
       "  <tbody>\n",
       "    <tr>\n",
       "      <th>0</th>\n",
       "      <td>1</td>\n",
       "      <td>NaN</td>\n",
       "      <td>1.0</td>\n",
       "      <td>NaN</td>\n",
       "      <td>NaN</td>\n",
       "      <td>NaN</td>\n",
       "      <td>NaN</td>\n",
       "      <td>NaN</td>\n",
       "      <td>NaN</td>\n",
       "      <td>NaN</td>\n",
       "      <td>NaN</td>\n",
       "      <td>NaN</td>\n",
       "      <td>NaN</td>\n",
       "      <td>NaN</td>\n",
       "      <td>NaN</td>\n",
       "      <td>NaN</td>\n",
       "      <td>NaN</td>\n",
       "    </tr>\n",
       "    <tr>\n",
       "      <th>1</th>\n",
       "      <td>3</td>\n",
       "      <td>NaN</td>\n",
       "      <td>5.0</td>\n",
       "      <td>NaN</td>\n",
       "      <td>NaN</td>\n",
       "      <td>NaN</td>\n",
       "      <td>NaN</td>\n",
       "      <td>NaN</td>\n",
       "      <td>NaN</td>\n",
       "      <td>NaN</td>\n",
       "      <td>NaN</td>\n",
       "      <td>NaN</td>\n",
       "      <td>NaN</td>\n",
       "      <td>NaN</td>\n",
       "      <td>NaN</td>\n",
       "      <td>NaN</td>\n",
       "      <td>9.0</td>\n",
       "    </tr>\n",
       "    <tr>\n",
       "      <th>2</th>\n",
       "      <td>4</td>\n",
       "      <td>NaN</td>\n",
       "      <td>NaN</td>\n",
       "      <td>NaN</td>\n",
       "      <td>NaN</td>\n",
       "      <td>NaN</td>\n",
       "      <td>NaN</td>\n",
       "      <td>NaN</td>\n",
       "      <td>NaN</td>\n",
       "      <td>NaN</td>\n",
       "      <td>NaN</td>\n",
       "      <td>NaN</td>\n",
       "      <td>NaN</td>\n",
       "      <td>NaN</td>\n",
       "      <td>NaN</td>\n",
       "      <td>NaN</td>\n",
       "      <td>NaN</td>\n",
       "    </tr>\n",
       "    <tr>\n",
       "      <th>3</th>\n",
       "      <td>12</td>\n",
       "      <td>NaN</td>\n",
       "      <td>NaN</td>\n",
       "      <td>NaN</td>\n",
       "      <td>NaN</td>\n",
       "      <td>NaN</td>\n",
       "      <td>NaN</td>\n",
       "      <td>NaN</td>\n",
       "      <td>NaN</td>\n",
       "      <td>NaN</td>\n",
       "      <td>NaN</td>\n",
       "      <td>1.0</td>\n",
       "      <td>NaN</td>\n",
       "      <td>NaN</td>\n",
       "      <td>NaN</td>\n",
       "      <td>NaN</td>\n",
       "      <td>NaN</td>\n",
       "    </tr>\n",
       "    <tr>\n",
       "      <th>6</th>\n",
       "      <td>23</td>\n",
       "      <td>NaN</td>\n",
       "      <td>NaN</td>\n",
       "      <td>NaN</td>\n",
       "      <td>NaN</td>\n",
       "      <td>NaN</td>\n",
       "      <td>NaN</td>\n",
       "      <td>NaN</td>\n",
       "      <td>NaN</td>\n",
       "      <td>NaN</td>\n",
       "      <td>NaN</td>\n",
       "      <td>2.0</td>\n",
       "      <td>1.0</td>\n",
       "      <td>NaN</td>\n",
       "      <td>1.0</td>\n",
       "      <td>NaN</td>\n",
       "      <td>NaN</td>\n",
       "    </tr>\n",
       "  </tbody>\n",
       "</table>\n",
       "</div>"
      ],
      "text/plain": [
       "   诸葛id  胆识联盟事件次数  凯迪拉克岛屿事件次数  凯迪音乐厅事件次数  时空瞭望塔事件次数  风范天地事件次数  凯迪拉克雪国战车事件次数  \\\n",
       "0     1       NaN         1.0        NaN        NaN       NaN           NaN   \n",
       "1     3       NaN         5.0        NaN        NaN       NaN           NaN   \n",
       "2     4       NaN         NaN        NaN        NaN       NaN           NaN   \n",
       "3    12       NaN         NaN        NaN        NaN       NaN           NaN   \n",
       "6    23       NaN         NaN        NaN        NaN       NaN           NaN   \n",
       "\n",
       "   预约试驾-提交预约试驾事件次数  任务类型-爱车任务事件次数  任务类型-惊喜任务事件次数  任务中心-成功邀请好友事件次数  \\\n",
       "0              NaN            NaN            NaN              NaN   \n",
       "1              NaN            NaN            NaN              NaN   \n",
       "2              NaN            NaN            NaN              NaN   \n",
       "3              NaN            NaN            NaN              NaN   \n",
       "6              NaN            NaN            NaN              NaN   \n",
       "\n",
       "   任务中心-获取克拉值事件次数  任务中心-进入用户调研页事件次数  任务中心-浏览车型主亮点事件次数  任务中心-签到事件次数  \\\n",
       "0             NaN               NaN               NaN          NaN   \n",
       "1             NaN               NaN               NaN          NaN   \n",
       "2             NaN               NaN               NaN          NaN   \n",
       "3             1.0               NaN               NaN          NaN   \n",
       "6             2.0               1.0               NaN          1.0   \n",
       "\n",
       "   任务中心-邀请好友事件次数  进入数字展厅页事件次数  \n",
       "0            NaN          NaN  \n",
       "1            NaN          9.0  \n",
       "2            NaN          NaN  \n",
       "3            NaN          NaN  \n",
       "6            NaN          NaN  "
      ]
     },
     "execution_count": 12,
     "metadata": {},
     "output_type": "execute_result"
    }
   ],
   "source": [
    "data.head()"
   ]
  },
  {
   "cell_type": "code",
   "execution_count": 13,
   "id": "f37db510",
   "metadata": {
    "ExecuteTime": {
     "end_time": "2022-11-29T06:01:49.292289Z",
     "start_time": "2022-11-29T06:01:49.274209Z"
    }
   },
   "outputs": [
    {
     "data": {
      "text/plain": [
       "Index(['诸葛id', '胆识联盟事件次数', '凯迪拉克岛屿事件次数', '凯迪音乐厅事件次数', '时空瞭望塔事件次数', '风范天地事件次数',\n",
       "       '凯迪拉克雪国战车事件次数', '预约试驾-提交预约试驾事件次数', '任务类型-爱车任务事件次数', '任务类型-惊喜任务事件次数',\n",
       "       '任务中心-成功邀请好友事件次数', '任务中心-获取克拉值事件次数', '任务中心-进入用户调研页事件次数',\n",
       "       '任务中心-浏览车型主亮点事件次数', '任务中心-签到事件次数', '任务中心-邀请好友事件次数', '进入数字展厅页事件次数'],\n",
       "      dtype='object')"
      ]
     },
     "execution_count": 13,
     "metadata": {},
     "output_type": "execute_result"
    }
   ],
   "source": [
    "data.columns"
   ]
  },
  {
   "cell_type": "code",
   "execution_count": 14,
   "id": "46ae5922",
   "metadata": {
    "ExecuteTime": {
     "end_time": "2022-11-29T06:02:31.436880Z",
     "start_time": "2022-11-29T06:02:31.273124Z"
    }
   },
   "outputs": [],
   "source": [
    "treatments=['凯迪拉克雪国战车事件次数', '任务类型-爱车任务事件次数', '任务类型-惊喜任务事件次数',\n",
    "       '任务中心-成功邀请好友事件次数', '任务中心-获取克拉值事件次数', '任务中心-进入用户调研页事件次数',\n",
    "       '任务中心-浏览车型主亮点事件次数', '任务中心-签到事件次数', '任务中心-邀请好友事件次数']\n",
    "\n",
    "for i in treatments:\n",
    "    data[i]=data[i].apply(lambda x :  0 if  pd.isna(x) else 1 )\n",
    "    \n",
    "data.fillna(0,inplace=True)\n",
    "\n"
   ]
  },
  {
   "cell_type": "code",
   "execution_count": 15,
   "id": "ba211bf6",
   "metadata": {
    "ExecuteTime": {
     "end_time": "2022-11-29T06:02:33.096827Z",
     "start_time": "2022-11-29T06:02:33.073722Z"
    }
   },
   "outputs": [],
   "source": [
    "x_columns=[i for i in data.columns if i not in [\"诸葛id\",\"预约试驾-提交预约试驾事件次数\"]]\n",
    "y_columns=[\"预约试驾-提交预约试驾事件次数\"]\n",
    "data[\"预约试驾-提交预约试驾事件次数\"]=data[\"预约试驾-提交预约试驾事件次数\"].apply(lambda x :  0 if  x<1 else 1 )"
   ]
  },
  {
   "cell_type": "code",
   "execution_count": 16,
   "id": "a05c791e",
   "metadata": {
    "ExecuteTime": {
     "end_time": "2022-11-29T06:02:33.858446Z",
     "start_time": "2022-11-29T06:02:33.847428Z"
    }
   },
   "outputs": [
    {
     "data": {
      "text/plain": [
       "预约试驾-提交预约试驾事件次数\n",
       "0                  26368\n",
       "1                   8087\n",
       "dtype: int64"
      ]
     },
     "execution_count": 16,
     "metadata": {},
     "output_type": "execute_result"
    }
   ],
   "source": [
    "data[y_columns].value_counts()"
   ]
  },
  {
   "cell_type": "code",
   "execution_count": 17,
   "id": "a5b43daa",
   "metadata": {
    "ExecuteTime": {
     "end_time": "2022-11-29T06:02:35.641078Z",
     "start_time": "2022-11-29T06:02:35.618079Z"
    }
   },
   "outputs": [
    {
     "data": {
      "text/html": [
       "<div>\n",
       "<style scoped>\n",
       "    .dataframe tbody tr th:only-of-type {\n",
       "        vertical-align: middle;\n",
       "    }\n",
       "\n",
       "    .dataframe tbody tr th {\n",
       "        vertical-align: top;\n",
       "    }\n",
       "\n",
       "    .dataframe thead th {\n",
       "        text-align: right;\n",
       "    }\n",
       "</style>\n",
       "<table border=\"1\" class=\"dataframe\">\n",
       "  <thead>\n",
       "    <tr style=\"text-align: right;\">\n",
       "      <th></th>\n",
       "      <th>诸葛id</th>\n",
       "      <th>胆识联盟事件次数</th>\n",
       "      <th>凯迪拉克岛屿事件次数</th>\n",
       "      <th>凯迪音乐厅事件次数</th>\n",
       "      <th>时空瞭望塔事件次数</th>\n",
       "      <th>风范天地事件次数</th>\n",
       "      <th>凯迪拉克雪国战车事件次数</th>\n",
       "      <th>预约试驾-提交预约试驾事件次数</th>\n",
       "      <th>任务类型-爱车任务事件次数</th>\n",
       "      <th>任务类型-惊喜任务事件次数</th>\n",
       "      <th>任务中心-成功邀请好友事件次数</th>\n",
       "      <th>任务中心-获取克拉值事件次数</th>\n",
       "      <th>任务中心-进入用户调研页事件次数</th>\n",
       "      <th>任务中心-浏览车型主亮点事件次数</th>\n",
       "      <th>任务中心-签到事件次数</th>\n",
       "      <th>任务中心-邀请好友事件次数</th>\n",
       "      <th>进入数字展厅页事件次数</th>\n",
       "    </tr>\n",
       "  </thead>\n",
       "  <tbody>\n",
       "    <tr>\n",
       "      <th>0</th>\n",
       "      <td>1</td>\n",
       "      <td>0.0</td>\n",
       "      <td>1.0</td>\n",
       "      <td>0.0</td>\n",
       "      <td>0.0</td>\n",
       "      <td>0.0</td>\n",
       "      <td>0</td>\n",
       "      <td>0</td>\n",
       "      <td>0</td>\n",
       "      <td>0</td>\n",
       "      <td>0</td>\n",
       "      <td>0</td>\n",
       "      <td>0</td>\n",
       "      <td>0</td>\n",
       "      <td>0</td>\n",
       "      <td>0</td>\n",
       "      <td>0.0</td>\n",
       "    </tr>\n",
       "    <tr>\n",
       "      <th>1</th>\n",
       "      <td>3</td>\n",
       "      <td>0.0</td>\n",
       "      <td>5.0</td>\n",
       "      <td>0.0</td>\n",
       "      <td>0.0</td>\n",
       "      <td>0.0</td>\n",
       "      <td>0</td>\n",
       "      <td>0</td>\n",
       "      <td>0</td>\n",
       "      <td>0</td>\n",
       "      <td>0</td>\n",
       "      <td>0</td>\n",
       "      <td>0</td>\n",
       "      <td>0</td>\n",
       "      <td>0</td>\n",
       "      <td>0</td>\n",
       "      <td>9.0</td>\n",
       "    </tr>\n",
       "    <tr>\n",
       "      <th>2</th>\n",
       "      <td>4</td>\n",
       "      <td>0.0</td>\n",
       "      <td>0.0</td>\n",
       "      <td>0.0</td>\n",
       "      <td>0.0</td>\n",
       "      <td>0.0</td>\n",
       "      <td>0</td>\n",
       "      <td>0</td>\n",
       "      <td>0</td>\n",
       "      <td>0</td>\n",
       "      <td>0</td>\n",
       "      <td>0</td>\n",
       "      <td>0</td>\n",
       "      <td>0</td>\n",
       "      <td>0</td>\n",
       "      <td>0</td>\n",
       "      <td>0.0</td>\n",
       "    </tr>\n",
       "    <tr>\n",
       "      <th>3</th>\n",
       "      <td>12</td>\n",
       "      <td>0.0</td>\n",
       "      <td>0.0</td>\n",
       "      <td>0.0</td>\n",
       "      <td>0.0</td>\n",
       "      <td>0.0</td>\n",
       "      <td>0</td>\n",
       "      <td>0</td>\n",
       "      <td>0</td>\n",
       "      <td>0</td>\n",
       "      <td>0</td>\n",
       "      <td>1</td>\n",
       "      <td>0</td>\n",
       "      <td>0</td>\n",
       "      <td>0</td>\n",
       "      <td>0</td>\n",
       "      <td>0.0</td>\n",
       "    </tr>\n",
       "    <tr>\n",
       "      <th>6</th>\n",
       "      <td>23</td>\n",
       "      <td>0.0</td>\n",
       "      <td>0.0</td>\n",
       "      <td>0.0</td>\n",
       "      <td>0.0</td>\n",
       "      <td>0.0</td>\n",
       "      <td>0</td>\n",
       "      <td>0</td>\n",
       "      <td>0</td>\n",
       "      <td>0</td>\n",
       "      <td>0</td>\n",
       "      <td>1</td>\n",
       "      <td>1</td>\n",
       "      <td>0</td>\n",
       "      <td>1</td>\n",
       "      <td>0</td>\n",
       "      <td>0.0</td>\n",
       "    </tr>\n",
       "  </tbody>\n",
       "</table>\n",
       "</div>"
      ],
      "text/plain": [
       "   诸葛id  胆识联盟事件次数  凯迪拉克岛屿事件次数  凯迪音乐厅事件次数  时空瞭望塔事件次数  风范天地事件次数  凯迪拉克雪国战车事件次数  \\\n",
       "0     1       0.0         1.0        0.0        0.0       0.0             0   \n",
       "1     3       0.0         5.0        0.0        0.0       0.0             0   \n",
       "2     4       0.0         0.0        0.0        0.0       0.0             0   \n",
       "3    12       0.0         0.0        0.0        0.0       0.0             0   \n",
       "6    23       0.0         0.0        0.0        0.0       0.0             0   \n",
       "\n",
       "   预约试驾-提交预约试驾事件次数  任务类型-爱车任务事件次数  任务类型-惊喜任务事件次数  任务中心-成功邀请好友事件次数  \\\n",
       "0                0              0              0                0   \n",
       "1                0              0              0                0   \n",
       "2                0              0              0                0   \n",
       "3                0              0              0                0   \n",
       "6                0              0              0                0   \n",
       "\n",
       "   任务中心-获取克拉值事件次数  任务中心-进入用户调研页事件次数  任务中心-浏览车型主亮点事件次数  任务中心-签到事件次数  \\\n",
       "0               0                 0                 0            0   \n",
       "1               0                 0                 0            0   \n",
       "2               0                 0                 0            0   \n",
       "3               1                 0                 0            0   \n",
       "6               1                 1                 0            1   \n",
       "\n",
       "   任务中心-邀请好友事件次数  进入数字展厅页事件次数  \n",
       "0              0          0.0  \n",
       "1              0          9.0  \n",
       "2              0          0.0  \n",
       "3              0          0.0  \n",
       "6              0          0.0  "
      ]
     },
     "execution_count": 17,
     "metadata": {},
     "output_type": "execute_result"
    }
   ],
   "source": [
    "data.head()"
   ]
  },
  {
   "cell_type": "code",
   "execution_count": 18,
   "id": "32d649f0",
   "metadata": {
    "ExecuteTime": {
     "end_time": "2022-11-29T06:02:36.375527Z",
     "start_time": "2022-11-29T06:02:36.230872Z"
    }
   },
   "outputs": [],
   "source": [
    "data.to_csv(\"zhugez-done.csv\",index=False)"
   ]
  },
  {
   "cell_type": "code",
   "execution_count": 19,
   "id": "1fe9527f",
   "metadata": {
    "ExecuteTime": {
     "end_time": "2022-11-29T06:02:39.339220Z",
     "start_time": "2022-11-29T06:02:39.312070Z"
    }
   },
   "outputs": [
    {
     "name": "stdout",
     "output_type": "stream",
     "text": [
      "诸葛id\n",
      "1          1\n",
      "785945     1\n",
      "786221     1\n",
      "786208     1\n",
      "786204     1\n",
      "          ..\n",
      "583261     1\n",
      "583249     1\n",
      "583210     1\n",
      "583191     1\n",
      "1175404    1\n",
      "Name: 诸葛id, Length: 34455, dtype: int64\n",
      "\n",
      "\n",
      "\n",
      "胆识联盟事件次数\n",
      "0.0      24796\n",
      "1.0       1564\n",
      "2.0       1064\n",
      "4.0        898\n",
      "3.0        739\n",
      "         ...  \n",
      "95.0         1\n",
      "559.0        1\n",
      "823.0        1\n",
      "340.0        1\n",
      "347.0        1\n",
      "Name: 胆识联盟事件次数, Length: 161, dtype: int64\n",
      "\n",
      "\n",
      "\n",
      "凯迪拉克岛屿事件次数\n",
      "0.0      1706\n",
      "8.0      1084\n",
      "6.0      1066\n",
      "7.0      1051\n",
      "11.0     1016\n",
      "         ... \n",
      "557.0       1\n",
      "325.0       1\n",
      "415.0       1\n",
      "396.0       1\n",
      "563.0       1\n",
      "Name: 凯迪拉克岛屿事件次数, Length: 518, dtype: int64\n",
      "\n",
      "\n",
      "\n",
      "凯迪音乐厅事件次数\n",
      "0.0      26306\n",
      "6.0       1148\n",
      "3.0       1040\n",
      "4.0        919\n",
      "7.0        660\n",
      "         ...  \n",
      "163.0        1\n",
      "70.0         1\n",
      "111.0        1\n",
      "129.0        1\n",
      "119.0        1\n",
      "Name: 凯迪音乐厅事件次数, Length: 99, dtype: int64\n",
      "\n",
      "\n",
      "\n",
      "时空瞭望塔事件次数\n",
      "0.0      16200\n",
      "3.0       3933\n",
      "2.0       3145\n",
      "1.0       2913\n",
      "4.0       2334\n",
      "         ...  \n",
      "157.0        1\n",
      "219.0        1\n",
      "88.0         1\n",
      "53.0         1\n",
      "96.0         1\n",
      "Name: 时空瞭望塔事件次数, Length: 100, dtype: int64\n",
      "\n",
      "\n",
      "\n",
      "风范天地事件次数\n",
      "0.0      22284\n",
      "10.0      1457\n",
      "4.0        826\n",
      "9.0        718\n",
      "3.0        585\n",
      "         ...  \n",
      "171.0        1\n",
      "142.0        1\n",
      "461.0        1\n",
      "341.0        1\n",
      "411.0        1\n",
      "Name: 风范天地事件次数, Length: 166, dtype: int64\n",
      "\n",
      "\n",
      "\n",
      "凯迪拉克雪国战车事件次数\n",
      "0    26989\n",
      "1     7466\n",
      "Name: 凯迪拉克雪国战车事件次数, dtype: int64\n",
      "\n",
      "\n",
      "\n",
      "预约试驾-提交预约试驾事件次数\n",
      "0    26368\n",
      "1     8087\n",
      "Name: 预约试驾-提交预约试驾事件次数, dtype: int64\n",
      "\n",
      "\n",
      "\n",
      "任务类型-爱车任务事件次数\n",
      "0    34454\n",
      "1        1\n",
      "Name: 任务类型-爱车任务事件次数, dtype: int64\n",
      "\n",
      "\n",
      "\n",
      "任务类型-惊喜任务事件次数\n",
      "0    34447\n",
      "1        8\n",
      "Name: 任务类型-惊喜任务事件次数, dtype: int64\n",
      "\n",
      "\n",
      "\n",
      "任务中心-成功邀请好友事件次数\n",
      "0    29679\n",
      "1     4776\n",
      "Name: 任务中心-成功邀请好友事件次数, dtype: int64\n",
      "\n",
      "\n",
      "\n",
      "任务中心-获取克拉值事件次数\n",
      "0    18893\n",
      "1    15562\n",
      "Name: 任务中心-获取克拉值事件次数, dtype: int64\n",
      "\n",
      "\n",
      "\n",
      "任务中心-进入用户调研页事件次数\n",
      "0    28559\n",
      "1     5896\n",
      "Name: 任务中心-进入用户调研页事件次数, dtype: int64\n",
      "\n",
      "\n",
      "\n",
      "任务中心-浏览车型主亮点事件次数\n",
      "0    30020\n",
      "1     4435\n",
      "Name: 任务中心-浏览车型主亮点事件次数, dtype: int64\n",
      "\n",
      "\n",
      "\n",
      "任务中心-签到事件次数\n",
      "0    21187\n",
      "1    13268\n",
      "Name: 任务中心-签到事件次数, dtype: int64\n",
      "\n",
      "\n",
      "\n",
      "任务中心-邀请好友事件次数\n",
      "0    34393\n",
      "1       62\n",
      "Name: 任务中心-邀请好友事件次数, dtype: int64\n",
      "\n",
      "\n",
      "\n",
      "进入数字展厅页事件次数\n",
      "0.0      13802\n",
      "2.0       5401\n",
      "4.0       2637\n",
      "1.0       2003\n",
      "3.0       1680\n",
      "         ...  \n",
      "269.0        1\n",
      "143.0        1\n",
      "101.0        1\n",
      "116.0        1\n",
      "261.0        1\n",
      "Name: 进入数字展厅页事件次数, Length: 173, dtype: int64\n",
      "\n",
      "\n",
      "\n"
     ]
    }
   ],
   "source": [
    "for i in data.columns:\n",
    "    print(i)\n",
    "    print(data[i].value_counts())\n",
    "    print(\"\\n\\n\")"
   ]
  },
  {
   "cell_type": "markdown",
   "id": "0d9a96db",
   "metadata": {},
   "source": [
    "### 模型"
   ]
  },
  {
   "cell_type": "code",
   "execution_count": 20,
   "id": "0a71d809",
   "metadata": {
    "ExecuteTime": {
     "end_time": "2022-11-29T06:02:44.675552Z",
     "start_time": "2022-11-29T06:02:44.670530Z"
    }
   },
   "outputs": [],
   "source": [
    "model_reg = GridSearchCVList([LassoCV(),\n",
    "                              RandomForestRegressor(n_estimators=100),\n",
    "                              lgb.LGBMRegressor()],\n",
    "                             param_grid_list=[{},\n",
    "                                              {'max_depth': [5,10,20],'min_samples_leaf': [5, 10]},\n",
    "                                              {'learning_rate': [0.02,0.05,0.08], 'max_depth': [3, 5]}],\n",
    "                             cv=3,\n",
    "                             scoring='neg_mean_squared_error')\n",
    "\n",
    "\n",
    "model_clf = GridSearchCVList([LogisticRegressionCV(max_iter=1000),\n",
    "                                  RandomForestClassifier(n_estimators=100),\n",
    "                                  lgb.LGBMClassifier()],\n",
    "                                 param_grid_list=[{},\n",
    "                                                  {'max_depth': [5,10,20],\n",
    "                                                   'min_samples_leaf': [5, 10]},\n",
    "                                                  {'learning_rate':[0.01,0.05,0.1],\n",
    "                                                   'max_depth': [3,5]}],\n",
    "                                 cv=3,\n",
    "                                 scoring='neg_log_loss')\n",
    "# est = model.fit(X, y).best_estimator_"
   ]
  },
  {
   "cell_type": "code",
   "execution_count": 21,
   "id": "4e5841be",
   "metadata": {
    "ExecuteTime": {
     "end_time": "2022-11-29T06:03:23.555081Z",
     "start_time": "2022-11-29T06:02:46.171913Z"
    },
    "scrolled": true
   },
   "outputs": [
    {
     "name": "stderr",
     "output_type": "stream",
     "text": [
      "A column-vector y was passed when a 1d array was expected. Please change the shape of y to (n_samples, ), for example using ravel().\n",
      "A column-vector y was passed when a 1d array was expected. Please change the shape of y to (n_samples, ), for example using ravel().\n",
      "A column-vector y was passed when a 1d array was expected. Please change the shape of y to (n_samples, ), for example using ravel().\n",
      "A column-vector y was passed when a 1d array was expected. Please change the shape of y to (n_samples, ), for example using ravel().\n",
      "A column-vector y was passed when a 1d array was expected. Please change the shape of y to (n_samples,), for example using ravel().\n",
      "A column-vector y was passed when a 1d array was expected. Please change the shape of y to (n_samples,), for example using ravel().\n",
      "A column-vector y was passed when a 1d array was expected. Please change the shape of y to (n_samples,), for example using ravel().\n",
      "A column-vector y was passed when a 1d array was expected. Please change the shape of y to (n_samples,), for example using ravel().\n",
      "A column-vector y was passed when a 1d array was expected. Please change the shape of y to (n_samples,), for example using ravel().\n",
      "A column-vector y was passed when a 1d array was expected. Please change the shape of y to (n_samples,), for example using ravel().\n",
      "A column-vector y was passed when a 1d array was expected. Please change the shape of y to (n_samples,), for example using ravel().\n",
      "A column-vector y was passed when a 1d array was expected. Please change the shape of y to (n_samples,), for example using ravel().\n",
      "A column-vector y was passed when a 1d array was expected. Please change the shape of y to (n_samples,), for example using ravel().\n",
      "A column-vector y was passed when a 1d array was expected. Please change the shape of y to (n_samples,), for example using ravel().\n",
      "A column-vector y was passed when a 1d array was expected. Please change the shape of y to (n_samples,), for example using ravel().\n",
      "A column-vector y was passed when a 1d array was expected. Please change the shape of y to (n_samples,), for example using ravel().\n",
      "A column-vector y was passed when a 1d array was expected. Please change the shape of y to (n_samples,), for example using ravel().\n",
      "A column-vector y was passed when a 1d array was expected. Please change the shape of y to (n_samples,), for example using ravel().\n",
      "A column-vector y was passed when a 1d array was expected. Please change the shape of y to (n_samples,), for example using ravel().\n",
      "A column-vector y was passed when a 1d array was expected. Please change the shape of y to (n_samples,), for example using ravel().\n",
      "A column-vector y was passed when a 1d array was expected. Please change the shape of y to (n_samples,), for example using ravel().\n",
      "A column-vector y was passed when a 1d array was expected. Please change the shape of y to (n_samples,), for example using ravel().\n",
      "A column-vector y was passed when a 1d array was expected. Please change the shape of y to (n_samples,), for example using ravel().\n",
      "A column-vector y was passed when a 1d array was expected. Please change the shape of y to (n_samples, ), for example using ravel().\n",
      "A column-vector y was passed when a 1d array was expected. Please change the shape of y to (n_samples, ), for example using ravel().\n",
      "A column-vector y was passed when a 1d array was expected. Please change the shape of y to (n_samples, ), for example using ravel().\n",
      "A column-vector y was passed when a 1d array was expected. Please change the shape of y to (n_samples, ), for example using ravel().\n",
      "A column-vector y was passed when a 1d array was expected. Please change the shape of y to (n_samples, ), for example using ravel().\n",
      "A column-vector y was passed when a 1d array was expected. Please change the shape of y to (n_samples, ), for example using ravel().\n",
      "A column-vector y was passed when a 1d array was expected. Please change the shape of y to (n_samples, ), for example using ravel().\n",
      "A column-vector y was passed when a 1d array was expected. Please change the shape of y to (n_samples, ), for example using ravel().\n",
      "A column-vector y was passed when a 1d array was expected. Please change the shape of y to (n_samples, ), for example using ravel().\n",
      "A column-vector y was passed when a 1d array was expected. Please change the shape of y to (n_samples, ), for example using ravel().\n",
      "A column-vector y was passed when a 1d array was expected. Please change the shape of y to (n_samples, ), for example using ravel().\n",
      "A column-vector y was passed when a 1d array was expected. Please change the shape of y to (n_samples, ), for example using ravel().\n",
      "A column-vector y was passed when a 1d array was expected. Please change the shape of y to (n_samples, ), for example using ravel().\n",
      "A column-vector y was passed when a 1d array was expected. Please change the shape of y to (n_samples, ), for example using ravel().\n",
      "A column-vector y was passed when a 1d array was expected. Please change the shape of y to (n_samples, ), for example using ravel().\n",
      "A column-vector y was passed when a 1d array was expected. Please change the shape of y to (n_samples, ), for example using ravel().\n",
      "A column-vector y was passed when a 1d array was expected. Please change the shape of y to (n_samples, ), for example using ravel().\n",
      "A column-vector y was passed when a 1d array was expected. Please change the shape of y to (n_samples, ), for example using ravel().\n",
      "A column-vector y was passed when a 1d array was expected. Please change the shape of y to (n_samples, ), for example using ravel().\n",
      "A column-vector y was passed when a 1d array was expected. Please change the shape of y to (n_samples, ), for example using ravel().\n",
      "A column-vector y was passed when a 1d array was expected. Please change the shape of y to (n_samples, ), for example using ravel().\n",
      "A column-vector y was passed when a 1d array was expected. Please change the shape of y to (n_samples, ), for example using ravel().\n",
      "A column-vector y was passed when a 1d array was expected. Please change the shape of y to (n_samples, ), for example using ravel().\n",
      "A column-vector y was passed when a 1d array was expected. Please change the shape of y to (n_samples, ), for example using ravel().\n",
      "A column-vector y was passed when a 1d array was expected. Please change the shape of y to (n_samples, ), for example using ravel().\n",
      "A column-vector y was passed when a 1d array was expected. Please change the shape of y to (n_samples, ), for example using ravel().\n",
      "A column-vector y was passed when a 1d array was expected. Please change the shape of y to (n_samples, ), for example using ravel().\n",
      "A column-vector y was passed when a 1d array was expected. Please change the shape of y to (n_samples, ), for example using ravel().\n",
      "A column-vector y was passed when a 1d array was expected. Please change the shape of y to (n_samples, ), for example using ravel().\n",
      "A column-vector y was passed when a 1d array was expected. Please change the shape of y to (n_samples, ), for example using ravel().\n",
      "A column-vector y was passed when a 1d array was expected. Please change the shape of y to (n_samples, ), for example using ravel().\n",
      "A column-vector y was passed when a 1d array was expected. Please change the shape of y to (n_samples, ), for example using ravel().\n",
      "A column-vector y was passed when a 1d array was expected. Please change the shape of y to (n_samples, ), for example using ravel().\n",
      "A column-vector y was passed when a 1d array was expected. Please change the shape of y to (n_samples, ), for example using ravel().\n",
      "A column-vector y was passed when a 1d array was expected. Please change the shape of y to (n_samples, ), for example using ravel().\n",
      "A column-vector y was passed when a 1d array was expected. Please change the shape of y to (n_samples, ), for example using ravel().\n",
      "A column-vector y was passed when a 1d array was expected. Please change the shape of y to (n_samples, ), for example using ravel().\n",
      "A column-vector y was passed when a 1d array was expected. Please change the shape of y to (n_samples, ), for example using ravel().\n"
     ]
    }
   ],
   "source": [
    "best_est = model_clf.fit(data[x_columns], data[y_columns]).best_estimator_"
   ]
  },
  {
   "cell_type": "code",
   "execution_count": null,
   "id": "7c26124a",
   "metadata": {
    "ExecuteTime": {
     "end_time": "2022-11-29T06:03:54.523029Z",
     "start_time": "2022-11-29T06:03:54.502025Z"
    }
   },
   "outputs": [],
   "source": []
  },
  {
   "cell_type": "code",
   "execution_count": 26,
   "id": "23fc8a2c",
   "metadata": {
    "ExecuteTime": {
     "end_time": "2022-11-29T06:04:00.940084Z",
     "start_time": "2022-11-29T06:04:00.834085Z"
    }
   },
   "outputs": [
    {
     "data": {
      "image/png": "[encoded data removed]",
      "text/latex": [
       "$\\displaystyle 0.927325497025105$"
      ],
      "text/plain": [
       "0.9273254970251052"
      ]
     },
     "execution_count": 26,
     "metadata": {},
     "output_type": "execute_result"
    }
   ],
   "source": [
    "best_est.score(data[x_columns], data[y_columns])"
   ]
  },
  {
   "cell_type": "code",
   "execution_count": 337,
   "id": "1c725328",
   "metadata": {
    "ExecuteTime": {
     "end_time": "2022-11-28T09:16:31.964297Z",
     "start_time": "2022-11-28T09:16:31.146393Z"
    }
   },
   "outputs": [
    {
     "data": {
      "text/html": [
       "<div>\n",
       "<style scoped>\n",
       "    .dataframe tbody tr th:only-of-type {\n",
       "        vertical-align: middle;\n",
       "    }\n",
       "\n",
       "    .dataframe tbody tr th {\n",
       "        vertical-align: top;\n",
       "    }\n",
       "\n",
       "    .dataframe thead th {\n",
       "        text-align: right;\n",
       "    }\n",
       "</style>\n",
       "<table border=\"1\" class=\"dataframe\">\n",
       "  <thead>\n",
       "    <tr style=\"text-align: right;\">\n",
       "      <th></th>\n",
       "      <th>treatment</th>\n",
       "      <th>uplift</th>\n",
       "    </tr>\n",
       "  </thead>\n",
       "  <tbody>\n",
       "    <tr>\n",
       "      <th>0</th>\n",
       "      <td>任务类型-爱车任务事件次数_uplift</td>\n",
       "      <td>0.000000</td>\n",
       "    </tr>\n",
       "    <tr>\n",
       "      <th>1</th>\n",
       "      <td>任务类型-惊喜任务事件次数_uplift</td>\n",
       "      <td>0.000000</td>\n",
       "    </tr>\n",
       "    <tr>\n",
       "      <th>2</th>\n",
       "      <td>任务中心-成功邀请好友事件次数_uplift</td>\n",
       "      <td>-0.043288</td>\n",
       "    </tr>\n",
       "    <tr>\n",
       "      <th>3</th>\n",
       "      <td>任务中心-获取克拉值事件次数_uplift</td>\n",
       "      <td>-0.010625</td>\n",
       "    </tr>\n",
       "    <tr>\n",
       "      <th>4</th>\n",
       "      <td>任务中心-进入提交门店反馈页事件次数_uplift</td>\n",
       "      <td>0.289728</td>\n",
       "    </tr>\n",
       "    <tr>\n",
       "      <th>5</th>\n",
       "      <td>任务中心-进入用户调研页事件次数_uplift</td>\n",
       "      <td>-0.007781</td>\n",
       "    </tr>\n",
       "    <tr>\n",
       "      <th>6</th>\n",
       "      <td>任务中心-浏览车型主亮点事件次数_uplift</td>\n",
       "      <td>0.000785</td>\n",
       "    </tr>\n",
       "    <tr>\n",
       "      <th>7</th>\n",
       "      <td>任务中心-签到事件次数_uplift</td>\n",
       "      <td>-0.008623</td>\n",
       "    </tr>\n",
       "    <tr>\n",
       "      <th>8</th>\n",
       "      <td>任务中心-邀请好友事件次数_uplift</td>\n",
       "      <td>0.004952</td>\n",
       "    </tr>\n",
       "    <tr>\n",
       "      <th>9</th>\n",
       "      <td>full_uplift</td>\n",
       "      <td>0.647260</td>\n",
       "    </tr>\n",
       "  </tbody>\n",
       "</table>\n",
       "</div>"
      ],
      "text/plain": [
       "                   treatment    uplift\n",
       "0       任务类型-爱车任务事件次数_uplift  0.000000\n",
       "1       任务类型-惊喜任务事件次数_uplift  0.000000\n",
       "2     任务中心-成功邀请好友事件次数_uplift -0.043288\n",
       "3      任务中心-获取克拉值事件次数_uplift -0.010625\n",
       "4  任务中心-进入提交门店反馈页事件次数_uplift  0.289728\n",
       "5    任务中心-进入用户调研页事件次数_uplift -0.007781\n",
       "6    任务中心-浏览车型主亮点事件次数_uplift  0.000785\n",
       "7         任务中心-签到事件次数_uplift -0.008623\n",
       "8       任务中心-邀请好友事件次数_uplift  0.004952\n",
       "9                full_uplift  0.647260"
      ]
     },
     "execution_count": 337,
     "metadata": {},
     "output_type": "execute_result"
    }
   ],
   "source": [
    "pd_outcome=pd.DataFrame()\n",
    "\n",
    "origin_outcome = best_est.predict_proba(data[x_columns])\n",
    "pd_outcome[\"origin_outcome\"] = origin_outcome[:, 1]\n",
    "\n",
    "data_1 = data.copy(deep=True)\n",
    "\n",
    "data_1[treatments] = 1\n",
    "pd_outcome[\"all_treatment=1\"] = best_est.predict_proba(data_1[x_columns])[:, 1]\n",
    "\n",
    "data_1[treatments] = 0\n",
    "pd_outcome[\"all_treatment=0\"] = best_est.predict_proba(data_1[x_columns])[:, 1]\n",
    "\n",
    "for i in treatments:\n",
    "    data_2 = data_1.copy(deep=True)\n",
    "    data_2[i] = 1\n",
    "    pd_outcome[i] = best_est.predict_proba(data_2[x_columns])[:, 1]\n",
    "\n",
    "for i in treatments:\n",
    "    pd_outcome[i+\"_uplift\"] = pd_outcome[i]-pd_outcome[\"all_treatment=0\"]\n",
    "    \n",
    "    \n",
    "pd_outcome[\"full_uplift\"] = pd_outcome[\"all_treatment=1\"]-pd_outcome[\"all_treatment=0\"]\n",
    "\n",
    "# pd_outcome= pd_outcome[[i for i in pd_outcome.columns if \"uplift\" in i]]\n",
    "uplift=pd_outcome[[i for i in pd_outcome.columns if \"uplift\" in i]].mean().reset_index()\n",
    "uplift.columns=[\"treatment\",\"uplift\"]\n",
    "uplift"
   ]
  },
  {
   "cell_type": "code",
   "execution_count": 36,
   "id": "6f5a752f",
   "metadata": {
    "ExecuteTime": {
     "end_time": "2022-11-29T06:05:10.103129Z",
     "start_time": "2022-11-29T06:05:09.430129Z"
    }
   },
   "outputs": [
    {
     "data": {
      "text/html": [
       "<div>\n",
       "<style scoped>\n",
       "    .dataframe tbody tr th:only-of-type {\n",
       "        vertical-align: middle;\n",
       "    }\n",
       "\n",
       "    .dataframe tbody tr th {\n",
       "        vertical-align: top;\n",
       "    }\n",
       "\n",
       "    .dataframe thead th {\n",
       "        text-align: right;\n",
       "    }\n",
       "</style>\n",
       "<table border=\"1\" class=\"dataframe\">\n",
       "  <thead>\n",
       "    <tr style=\"text-align: right;\">\n",
       "      <th></th>\n",
       "      <th>treatment</th>\n",
       "      <th>uplift</th>\n",
       "    </tr>\n",
       "  </thead>\n",
       "  <tbody>\n",
       "    <tr>\n",
       "      <th>0</th>\n",
       "      <td>凯迪拉克雪国战车事件次数_uplift</td>\n",
       "      <td>-0.010826</td>\n",
       "    </tr>\n",
       "    <tr>\n",
       "      <th>1</th>\n",
       "      <td>任务类型-爱车任务事件次数_uplift</td>\n",
       "      <td>0.000000</td>\n",
       "    </tr>\n",
       "    <tr>\n",
       "      <th>2</th>\n",
       "      <td>任务类型-惊喜任务事件次数_uplift</td>\n",
       "      <td>0.000000</td>\n",
       "    </tr>\n",
       "    <tr>\n",
       "      <th>3</th>\n",
       "      <td>任务中心-成功邀请好友事件次数_uplift</td>\n",
       "      <td>-0.000029</td>\n",
       "    </tr>\n",
       "    <tr>\n",
       "      <th>4</th>\n",
       "      <td>任务中心-获取克拉值事件次数_uplift</td>\n",
       "      <td>0.008446</td>\n",
       "    </tr>\n",
       "    <tr>\n",
       "      <th>5</th>\n",
       "      <td>任务中心-进入用户调研页事件次数_uplift</td>\n",
       "      <td>0.003628</td>\n",
       "    </tr>\n",
       "    <tr>\n",
       "      <th>6</th>\n",
       "      <td>任务中心-浏览车型主亮点事件次数_uplift</td>\n",
       "      <td>0.005514</td>\n",
       "    </tr>\n",
       "    <tr>\n",
       "      <th>7</th>\n",
       "      <td>任务中心-签到事件次数_uplift</td>\n",
       "      <td>0.030126</td>\n",
       "    </tr>\n",
       "    <tr>\n",
       "      <th>8</th>\n",
       "      <td>任务中心-邀请好友事件次数_uplift</td>\n",
       "      <td>0.000000</td>\n",
       "    </tr>\n",
       "    <tr>\n",
       "      <th>9</th>\n",
       "      <td>full_uplift</td>\n",
       "      <td>0.124800</td>\n",
       "    </tr>\n",
       "  </tbody>\n",
       "</table>\n",
       "</div>"
      ],
      "text/plain": [
       "                 treatment    uplift\n",
       "0      凯迪拉克雪国战车事件次数_uplift -0.010826\n",
       "1     任务类型-爱车任务事件次数_uplift  0.000000\n",
       "2     任务类型-惊喜任务事件次数_uplift  0.000000\n",
       "3   任务中心-成功邀请好友事件次数_uplift -0.000029\n",
       "4    任务中心-获取克拉值事件次数_uplift  0.008446\n",
       "5  任务中心-进入用户调研页事件次数_uplift  0.003628\n",
       "6  任务中心-浏览车型主亮点事件次数_uplift  0.005514\n",
       "7       任务中心-签到事件次数_uplift  0.030126\n",
       "8     任务中心-邀请好友事件次数_uplift  0.000000\n",
       "9              full_uplift  0.124800"
      ]
     },
     "execution_count": 36,
     "metadata": {},
     "output_type": "execute_result"
    }
   ],
   "source": [
    "pd_outcome=pd.DataFrame()\n",
    "\n",
    "origin_outcome = best_est.predict(data[x_columns])\n",
    "pd_outcome[\"origin_outcome\"] = origin_outcome\n",
    "\n",
    "data_1 = data.copy(deep=True)\n",
    "\n",
    "data_1[treatments] = 1\n",
    "pd_outcome[\"all_treatment=1\"] = best_est.predict(data_1[x_columns])\n",
    "\n",
    "data_1[treatments] = 0\n",
    "pd_outcome[\"all_treatment=0\"] = best_est.predict(data_1[x_columns])\n",
    "\n",
    "for i in treatments:\n",
    "    data_2 = data_1.copy(deep=True)\n",
    "    data_2[i] = 1\n",
    "    pd_outcome[i] = best_est.predict(data_2[x_columns])\n",
    "\n",
    "for i in treatments:\n",
    "    pd_outcome[i+\"_uplift\"] = pd_outcome[i]-pd_outcome[\"all_treatment=0\"]\n",
    "    \n",
    "    \n",
    "pd_outcome[\"full_uplift\"] = pd_outcome[\"all_treatment=1\"]-pd_outcome[\"all_treatment=0\"]\n",
    "\n",
    "\n",
    "# pd_outcome= pd_outcome[[i for i in pd_outcome.columns if \"uplift\" in i]]\n",
    "uplift=pd_outcome[[i for i in pd_outcome.columns if \"uplift\" in i]].mean().reset_index()\n",
    "uplift.columns=[\"treatment\",\"uplift\"]\n",
    "uplift"
   ]
  },
  {
   "cell_type": "code",
   "execution_count": 37,
   "id": "628f5b9e",
   "metadata": {
    "ExecuteTime": {
     "end_time": "2022-11-29T06:05:13.029366Z",
     "start_time": "2022-11-29T06:05:13.025369Z"
    }
   },
   "outputs": [],
   "source": [
    "uplift[\"uplift\"]=uplift[\"uplift\"].apply(lambda x : 0 if x<0 else x)"
   ]
  },
  {
   "cell_type": "code",
   "execution_count": 38,
   "id": "22c50690",
   "metadata": {
    "ExecuteTime": {
     "end_time": "2022-11-29T06:05:14.256956Z",
     "start_time": "2022-11-29T06:05:14.243953Z"
    }
   },
   "outputs": [],
   "source": [
    "full_uplift = uplift.iloc[-1,-1]"
   ]
  },
  {
   "cell_type": "code",
   "execution_count": 39,
   "id": "5a2d4ffa",
   "metadata": {
    "ExecuteTime": {
     "end_time": "2022-11-29T06:05:17.631497Z",
     "start_time": "2022-11-29T06:05:17.617496Z"
    }
   },
   "outputs": [],
   "source": [
    "uplift[\"uplift\"]=uplift[\"uplift\"]/sum(uplift[\"uplift\"][0:-1])"
   ]
  },
  {
   "cell_type": "code",
   "execution_count": 41,
   "id": "13ba8449",
   "metadata": {
    "ExecuteTime": {
     "end_time": "2022-11-29T06:05:28.165861Z",
     "start_time": "2022-11-29T06:05:28.135493Z"
    }
   },
   "outputs": [
    {
     "data": {
      "image/png": "[encoded data removed]",
      "text/latex": [
       "$\\displaystyle 0.124800464373821$"
      ],
      "text/plain": [
       "0.12480046437382093"
      ]
     },
     "execution_count": 41,
     "metadata": {},
     "output_type": "execute_result"
    }
   ],
   "source": [
    "full_uplift"
   ]
  },
  {
   "cell_type": "code",
   "execution_count": 44,
   "id": "25861963",
   "metadata": {
    "ExecuteTime": {
     "end_time": "2022-11-29T06:05:32.834605Z",
     "start_time": "2022-11-29T06:05:32.825586Z"
    }
   },
   "outputs": [
    {
     "data": {
      "text/html": [
       "<div>\n",
       "<style scoped>\n",
       "    .dataframe tbody tr th:only-of-type {\n",
       "        vertical-align: middle;\n",
       "    }\n",
       "\n",
       "    .dataframe tbody tr th {\n",
       "        vertical-align: top;\n",
       "    }\n",
       "\n",
       "    .dataframe thead th {\n",
       "        text-align: right;\n",
       "    }\n",
       "</style>\n",
       "<table border=\"1\" class=\"dataframe\">\n",
       "  <thead>\n",
       "    <tr style=\"text-align: right;\">\n",
       "      <th></th>\n",
       "      <th>treatment</th>\n",
       "      <th>uplift</th>\n",
       "    </tr>\n",
       "  </thead>\n",
       "  <tbody>\n",
       "    <tr>\n",
       "      <th>0</th>\n",
       "      <td>凯迪拉克雪国战车事件次数_uplift</td>\n",
       "      <td>0.000000</td>\n",
       "    </tr>\n",
       "    <tr>\n",
       "      <th>1</th>\n",
       "      <td>任务类型-爱车任务事件次数_uplift</td>\n",
       "      <td>0.000000</td>\n",
       "    </tr>\n",
       "    <tr>\n",
       "      <th>2</th>\n",
       "      <td>任务类型-惊喜任务事件次数_uplift</td>\n",
       "      <td>0.000000</td>\n",
       "    </tr>\n",
       "    <tr>\n",
       "      <th>3</th>\n",
       "      <td>任务中心-成功邀请好友事件次数_uplift</td>\n",
       "      <td>0.000000</td>\n",
       "    </tr>\n",
       "    <tr>\n",
       "      <th>4</th>\n",
       "      <td>任务中心-获取克拉值事件次数_uplift</td>\n",
       "      <td>0.177007</td>\n",
       "    </tr>\n",
       "    <tr>\n",
       "      <th>5</th>\n",
       "      <td>任务中心-进入用户调研页事件次数_uplift</td>\n",
       "      <td>0.076034</td>\n",
       "    </tr>\n",
       "    <tr>\n",
       "      <th>6</th>\n",
       "      <td>任务中心-浏览车型主亮点事件次数_uplift</td>\n",
       "      <td>0.115572</td>\n",
       "    </tr>\n",
       "    <tr>\n",
       "      <th>7</th>\n",
       "      <td>任务中心-签到事件次数_uplift</td>\n",
       "      <td>0.631387</td>\n",
       "    </tr>\n",
       "    <tr>\n",
       "      <th>8</th>\n",
       "      <td>任务中心-邀请好友事件次数_uplift</td>\n",
       "      <td>0.000000</td>\n",
       "    </tr>\n",
       "    <tr>\n",
       "      <th>9</th>\n",
       "      <td>full_uplift</td>\n",
       "      <td>0.124800</td>\n",
       "    </tr>\n",
       "  </tbody>\n",
       "</table>\n",
       "</div>"
      ],
      "text/plain": [
       "                 treatment    uplift\n",
       "0      凯迪拉克雪国战车事件次数_uplift  0.000000\n",
       "1     任务类型-爱车任务事件次数_uplift  0.000000\n",
       "2     任务类型-惊喜任务事件次数_uplift  0.000000\n",
       "3   任务中心-成功邀请好友事件次数_uplift  0.000000\n",
       "4    任务中心-获取克拉值事件次数_uplift  0.177007\n",
       "5  任务中心-进入用户调研页事件次数_uplift  0.076034\n",
       "6  任务中心-浏览车型主亮点事件次数_uplift  0.115572\n",
       "7       任务中心-签到事件次数_uplift  0.631387\n",
       "8     任务中心-邀请好友事件次数_uplift  0.000000\n",
       "9              full_uplift  0.124800"
      ]
     },
     "execution_count": 44,
     "metadata": {},
     "output_type": "execute_result"
    }
   ],
   "source": [
    "uplift"
   ]
  },
  {
   "cell_type": "code",
   "execution_count": 43,
   "id": "f9ace574",
   "metadata": {
    "ExecuteTime": {
     "end_time": "2022-11-29T06:05:30.529978Z",
     "start_time": "2022-11-29T06:05:30.519982Z"
    }
   },
   "outputs": [],
   "source": [
    "uplift.iloc[-1,-1]=full_uplift"
   ]
  },
  {
   "cell_type": "code",
   "execution_count": 45,
   "id": "4a8e9867",
   "metadata": {
    "ExecuteTime": {
     "end_time": "2022-11-29T06:05:35.656863Z",
     "start_time": "2022-11-29T06:05:35.650865Z"
    }
   },
   "outputs": [],
   "source": [
    "uplift.iloc[0:-1,-1] = uplift.iloc[0:-1,-1]*uplift.iloc[-1,-1]"
   ]
  },
  {
   "cell_type": "code",
   "execution_count": 46,
   "id": "66118bfe",
   "metadata": {
    "ExecuteTime": {
     "end_time": "2022-11-29T06:05:36.264851Z",
     "start_time": "2022-11-29T06:05:36.247851Z"
    }
   },
   "outputs": [
    {
     "data": {
      "text/html": [
       "<div>\n",
       "<style scoped>\n",
       "    .dataframe tbody tr th:only-of-type {\n",
       "        vertical-align: middle;\n",
       "    }\n",
       "\n",
       "    .dataframe tbody tr th {\n",
       "        vertical-align: top;\n",
       "    }\n",
       "\n",
       "    .dataframe thead th {\n",
       "        text-align: right;\n",
       "    }\n",
       "</style>\n",
       "<table border=\"1\" class=\"dataframe\">\n",
       "  <thead>\n",
       "    <tr style=\"text-align: right;\">\n",
       "      <th></th>\n",
       "      <th>treatment</th>\n",
       "      <th>uplift</th>\n",
       "    </tr>\n",
       "  </thead>\n",
       "  <tbody>\n",
       "    <tr>\n",
       "      <th>0</th>\n",
       "      <td>凯迪拉克雪国战车事件次数_uplift</td>\n",
       "      <td>0.000000</td>\n",
       "    </tr>\n",
       "    <tr>\n",
       "      <th>1</th>\n",
       "      <td>任务类型-爱车任务事件次数_uplift</td>\n",
       "      <td>0.000000</td>\n",
       "    </tr>\n",
       "    <tr>\n",
       "      <th>2</th>\n",
       "      <td>任务类型-惊喜任务事件次数_uplift</td>\n",
       "      <td>0.000000</td>\n",
       "    </tr>\n",
       "    <tr>\n",
       "      <th>3</th>\n",
       "      <td>任务中心-成功邀请好友事件次数_uplift</td>\n",
       "      <td>0.000000</td>\n",
       "    </tr>\n",
       "    <tr>\n",
       "      <th>4</th>\n",
       "      <td>任务中心-获取克拉值事件次数_uplift</td>\n",
       "      <td>0.022091</td>\n",
       "    </tr>\n",
       "    <tr>\n",
       "      <th>5</th>\n",
       "      <td>任务中心-进入用户调研页事件次数_uplift</td>\n",
       "      <td>0.009489</td>\n",
       "    </tr>\n",
       "    <tr>\n",
       "      <th>6</th>\n",
       "      <td>任务中心-浏览车型主亮点事件次数_uplift</td>\n",
       "      <td>0.014423</td>\n",
       "    </tr>\n",
       "    <tr>\n",
       "      <th>7</th>\n",
       "      <td>任务中心-签到事件次数_uplift</td>\n",
       "      <td>0.078797</td>\n",
       "    </tr>\n",
       "    <tr>\n",
       "      <th>8</th>\n",
       "      <td>任务中心-邀请好友事件次数_uplift</td>\n",
       "      <td>0.000000</td>\n",
       "    </tr>\n",
       "    <tr>\n",
       "      <th>9</th>\n",
       "      <td>full_uplift</td>\n",
       "      <td>0.124800</td>\n",
       "    </tr>\n",
       "  </tbody>\n",
       "</table>\n",
       "</div>"
      ],
      "text/plain": [
       "                 treatment    uplift\n",
       "0      凯迪拉克雪国战车事件次数_uplift  0.000000\n",
       "1     任务类型-爱车任务事件次数_uplift  0.000000\n",
       "2     任务类型-惊喜任务事件次数_uplift  0.000000\n",
       "3   任务中心-成功邀请好友事件次数_uplift  0.000000\n",
       "4    任务中心-获取克拉值事件次数_uplift  0.022091\n",
       "5  任务中心-进入用户调研页事件次数_uplift  0.009489\n",
       "6  任务中心-浏览车型主亮点事件次数_uplift  0.014423\n",
       "7       任务中心-签到事件次数_uplift  0.078797\n",
       "8     任务中心-邀请好友事件次数_uplift  0.000000\n",
       "9              full_uplift  0.124800"
      ]
     },
     "execution_count": 46,
     "metadata": {},
     "output_type": "execute_result"
    }
   ],
   "source": [
    "uplift"
   ]
  },
  {
   "cell_type": "code",
   "execution_count": null,
   "id": "c8122d83",
   "metadata": {
    "ExecuteTime": {
     "end_time": "2022-11-28T09:19:41.113281Z",
     "start_time": "2022-11-28T09:19:41.076971Z"
    }
   },
   "outputs": [],
   "source": []
  },
  {
   "cell_type": "markdown",
   "id": "817d32e4",
   "metadata": {},
   "source": [
    "### casual 的尝试"
   ]
  },
  {
   "cell_type": "code",
   "execution_count": 376,
   "id": "a38c3b0d",
   "metadata": {
    "ExecuteTime": {
     "end_time": "2022-11-28T09:29:13.526136Z",
     "start_time": "2022-11-28T09:29:13.501859Z"
    }
   },
   "outputs": [
    {
     "data": {
      "text/html": [
       "<div>\n",
       "<style scoped>\n",
       "    .dataframe tbody tr th:only-of-type {\n",
       "        vertical-align: middle;\n",
       "    }\n",
       "\n",
       "    .dataframe tbody tr th {\n",
       "        vertical-align: top;\n",
       "    }\n",
       "\n",
       "    .dataframe thead th {\n",
       "        text-align: right;\n",
       "    }\n",
       "</style>\n",
       "<table border=\"1\" class=\"dataframe\">\n",
       "  <thead>\n",
       "    <tr style=\"text-align: right;\">\n",
       "      <th></th>\n",
       "      <th>诸葛id</th>\n",
       "      <th>胆识联盟事件次数</th>\n",
       "      <th>个人中心事件次数</th>\n",
       "      <th>凯迪拉克岛屿事件次数</th>\n",
       "      <th>凯迪音乐厅事件次数</th>\n",
       "      <th>时空瞭望塔事件次数</th>\n",
       "      <th>风范天地事件次数</th>\n",
       "      <th>预约试驾-提交预约试驾事件次数</th>\n",
       "      <th>任务类型-爱车任务事件次数</th>\n",
       "      <th>任务类型-惊喜任务事件次数</th>\n",
       "      <th>任务中心-成功邀请好友事件次数</th>\n",
       "      <th>任务中心-获取克拉值事件次数</th>\n",
       "      <th>任务中心-进入提交门店反馈页事件次数</th>\n",
       "      <th>任务中心-进入用户调研页事件次数</th>\n",
       "      <th>任务中心-浏览车型主亮点事件次数</th>\n",
       "      <th>任务中心-签到事件次数</th>\n",
       "      <th>任务中心-邀请好友事件次数</th>\n",
       "      <th>进入数字展厅页事件次数</th>\n",
       "    </tr>\n",
       "  </thead>\n",
       "  <tbody>\n",
       "    <tr>\n",
       "      <th>0</th>\n",
       "      <td>1</td>\n",
       "      <td>0.0</td>\n",
       "      <td>0.0</td>\n",
       "      <td>1.0</td>\n",
       "      <td>0.0</td>\n",
       "      <td>0.0</td>\n",
       "      <td>0.0</td>\n",
       "      <td>0</td>\n",
       "      <td>0</td>\n",
       "      <td>0</td>\n",
       "      <td>0</td>\n",
       "      <td>0</td>\n",
       "      <td>0</td>\n",
       "      <td>0</td>\n",
       "      <td>0</td>\n",
       "      <td>0</td>\n",
       "      <td>0</td>\n",
       "      <td>0.0</td>\n",
       "    </tr>\n",
       "    <tr>\n",
       "      <th>1</th>\n",
       "      <td>3</td>\n",
       "      <td>0.0</td>\n",
       "      <td>3.0</td>\n",
       "      <td>5.0</td>\n",
       "      <td>0.0</td>\n",
       "      <td>0.0</td>\n",
       "      <td>0.0</td>\n",
       "      <td>0</td>\n",
       "      <td>0</td>\n",
       "      <td>0</td>\n",
       "      <td>0</td>\n",
       "      <td>0</td>\n",
       "      <td>0</td>\n",
       "      <td>0</td>\n",
       "      <td>0</td>\n",
       "      <td>0</td>\n",
       "      <td>0</td>\n",
       "      <td>9.0</td>\n",
       "    </tr>\n",
       "    <tr>\n",
       "      <th>2</th>\n",
       "      <td>4</td>\n",
       "      <td>0.0</td>\n",
       "      <td>0.0</td>\n",
       "      <td>0.0</td>\n",
       "      <td>0.0</td>\n",
       "      <td>0.0</td>\n",
       "      <td>0.0</td>\n",
       "      <td>0</td>\n",
       "      <td>0</td>\n",
       "      <td>0</td>\n",
       "      <td>0</td>\n",
       "      <td>0</td>\n",
       "      <td>0</td>\n",
       "      <td>0</td>\n",
       "      <td>0</td>\n",
       "      <td>0</td>\n",
       "      <td>0</td>\n",
       "      <td>0.0</td>\n",
       "    </tr>\n",
       "    <tr>\n",
       "      <th>3</th>\n",
       "      <td>12</td>\n",
       "      <td>0.0</td>\n",
       "      <td>0.0</td>\n",
       "      <td>0.0</td>\n",
       "      <td>0.0</td>\n",
       "      <td>0.0</td>\n",
       "      <td>0.0</td>\n",
       "      <td>0</td>\n",
       "      <td>0</td>\n",
       "      <td>0</td>\n",
       "      <td>0</td>\n",
       "      <td>1</td>\n",
       "      <td>0</td>\n",
       "      <td>0</td>\n",
       "      <td>0</td>\n",
       "      <td>0</td>\n",
       "      <td>0</td>\n",
       "      <td>0.0</td>\n",
       "    </tr>\n",
       "    <tr>\n",
       "      <th>6</th>\n",
       "      <td>23</td>\n",
       "      <td>0.0</td>\n",
       "      <td>0.0</td>\n",
       "      <td>0.0</td>\n",
       "      <td>0.0</td>\n",
       "      <td>0.0</td>\n",
       "      <td>0.0</td>\n",
       "      <td>0</td>\n",
       "      <td>0</td>\n",
       "      <td>0</td>\n",
       "      <td>0</td>\n",
       "      <td>1</td>\n",
       "      <td>0</td>\n",
       "      <td>1</td>\n",
       "      <td>0</td>\n",
       "      <td>1</td>\n",
       "      <td>0</td>\n",
       "      <td>0.0</td>\n",
       "    </tr>\n",
       "  </tbody>\n",
       "</table>\n",
       "</div>"
      ],
      "text/plain": [
       "   诸葛id  胆识联盟事件次数  个人中心事件次数  凯迪拉克岛屿事件次数  凯迪音乐厅事件次数  时空瞭望塔事件次数  风范天地事件次数  \\\n",
       "0     1       0.0       0.0         1.0        0.0        0.0       0.0   \n",
       "1     3       0.0       3.0         5.0        0.0        0.0       0.0   \n",
       "2     4       0.0       0.0         0.0        0.0        0.0       0.0   \n",
       "3    12       0.0       0.0         0.0        0.0        0.0       0.0   \n",
       "6    23       0.0       0.0         0.0        0.0        0.0       0.0   \n",
       "\n",
       "   预约试驾-提交预约试驾事件次数  任务类型-爱车任务事件次数  任务类型-惊喜任务事件次数  任务中心-成功邀请好友事件次数  \\\n",
       "0                0              0              0                0   \n",
       "1                0              0              0                0   \n",
       "2                0              0              0                0   \n",
       "3                0              0              0                0   \n",
       "6                0              0              0                0   \n",
       "\n",
       "   任务中心-获取克拉值事件次数  任务中心-进入提交门店反馈页事件次数  任务中心-进入用户调研页事件次数  任务中心-浏览车型主亮点事件次数  \\\n",
       "0               0                   0                 0                 0   \n",
       "1               0                   0                 0                 0   \n",
       "2               0                   0                 0                 0   \n",
       "3               1                   0                 0                 0   \n",
       "6               1                   0                 1                 0   \n",
       "\n",
       "   任务中心-签到事件次数  任务中心-邀请好友事件次数  进入数字展厅页事件次数  \n",
       "0            0              0          0.0  \n",
       "1            0              0          9.0  \n",
       "2            0              0          0.0  \n",
       "3            0              0          0.0  \n",
       "6            1              0          0.0  "
      ]
     },
     "execution_count": 376,
     "metadata": {},
     "output_type": "execute_result"
    }
   ],
   "source": [
    "data.head(5)"
   ]
  },
  {
   "cell_type": "code",
   "execution_count": 375,
   "id": "ee6868a6",
   "metadata": {
    "ExecuteTime": {
     "end_time": "2022-11-28T09:29:03.827873Z",
     "start_time": "2022-11-28T09:29:03.810874Z"
    }
   },
   "outputs": [
    {
     "data": {
      "text/plain": [
       "Index(['诸葛id', '胆识联盟事件次数', '个人中心事件次数', '凯迪拉克岛屿事件次数', '凯迪音乐厅事件次数', '时空瞭望塔事件次数',\n",
       "       '风范天地事件次数', '预约试驾-提交预约试驾事件次数', '任务类型-爱车任务事件次数', '任务类型-惊喜任务事件次数',\n",
       "       '任务中心-成功邀请好友事件次数', '任务中心-获取克拉值事件次数', '任务中心-进入提交门店反馈页事件次数',\n",
       "       '任务中心-进入用户调研页事件次数', '任务中心-浏览车型主亮点事件次数', '任务中心-签到事件次数', '任务中心-邀请好友事件次数',\n",
       "       '进入数字展厅页事件次数'],\n",
       "      dtype='object')"
      ]
     },
     "execution_count": 375,
     "metadata": {},
     "output_type": "execute_result"
    }
   ],
   "source": [
    "data.columns"
   ]
  },
  {
   "cell_type": "code",
   "execution_count": 378,
   "id": "3f5282f0",
   "metadata": {
    "ExecuteTime": {
     "end_time": "2022-11-28T09:31:21.658594Z",
     "start_time": "2022-11-28T09:31:21.645594Z"
    }
   },
   "outputs": [],
   "source": [
    "xx_columns=['胆识联盟事件次数', '个人中心事件次数', '凯迪拉克岛屿事件次数', '凯迪音乐厅事件次数', '时空瞭望塔事件次数',\n",
    "       '风范天地事件次数','进入数字展厅页事件次数']\n",
    "ww_columns=['任务类型-爱车任务事件次数', '任务类型-惊喜任务事件次数',\n",
    "       '任务中心-成功邀请好友事件次数', '任务中心-获取克拉值事件次数', '任务中心-进入提交门店反馈页事件次数',\n",
    "       '任务中心-进入用户调研页事件次数', '任务中心-浏览车型主亮点事件次数', '任务中心-签到事件次数', '任务中心-邀请好友事件次数']\n",
    "\n",
    "Y=data['预约试驾-提交预约试驾事件次数'].values\n",
    "W=data[ww_columns].values\n",
    "X=data[xx_columns].values"
   ]
  },
  {
   "cell_type": "code",
   "execution_count": 399,
   "id": "e2c2d4ed",
   "metadata": {
    "ExecuteTime": {
     "end_time": "2022-11-28T09:43:57.966497Z",
     "start_time": "2022-11-28T09:43:57.948497Z"
    }
   },
   "outputs": [
    {
     "data": {
      "text/plain": [
       "array([0, 0, 0, ..., 0, 0, 0], dtype=int64)"
      ]
     },
     "execution_count": 399,
     "metadata": {},
     "output_type": "execute_result"
    }
   ],
   "source": [
    "Y"
   ]
  },
  {
   "cell_type": "code",
   "execution_count": 397,
   "id": "f5c14588",
   "metadata": {
    "ExecuteTime": {
     "end_time": "2022-11-28T09:42:02.392871Z",
     "start_time": "2022-11-28T09:42:02.381854Z"
    }
   },
   "outputs": [],
   "source": [
    "from sklearn.ensemble import GradientBoostingRegressor,GradientBoostingClassifier\n",
    "from sklearn.multioutput import MultiOutputRegressor,MultiOutputClassifier\n",
    "est = LinearDML(model_y=GradientBoostingClassifier(n_estimators=100, max_depth=3, min_samples_leaf=20),\n",
    "                model_t=MultiOutputClassifier(GradientBoostingClassifier(n_estimators=100,\n",
    "                                                                       max_depth=3,\n",
    "                                                                       min_samples_leaf=20)),\n",
    "                featurizer=PolynomialFeatures(degree=2, include_bias=False),\n",
    "                linear_first_stages=False,\n",
    "                cv=5)"
   ]
  },
  {
   "cell_type": "code",
   "execution_count": 398,
   "id": "bafc7b08",
   "metadata": {
    "ExecuteTime": {
     "end_time": "2022-11-28T09:43:12.391693Z",
     "start_time": "2022-11-28T09:42:03.035847Z"
    }
   },
   "outputs": [
    {
     "ename": "ValueError",
     "evalue": "y contains 1 class after sample_weight trimmed classes with zero weights, while a minimum of 2 classes are required.",
     "output_type": "error",
     "traceback": [
      "\u001b[1;31m---------------------------------------------------------------------------\u001b[0m",
      "\u001b[1;31mValueError\u001b[0m                                Traceback (most recent call last)",
      "Input \u001b[1;32mIn [398]\u001b[0m, in \u001b[0;36m<cell line: 1>\u001b[1;34m()\u001b[0m\n\u001b[1;32m----> 1\u001b[0m \u001b[43mest\u001b[49m\u001b[38;5;241;43m.\u001b[39;49m\u001b[43mfit\u001b[49m\u001b[43m(\u001b[49m\u001b[43mY\u001b[49m\u001b[38;5;241;43m=\u001b[39;49m\u001b[43mY\u001b[49m\u001b[43m,\u001b[49m\u001b[43m \u001b[49m\u001b[43mT\u001b[49m\u001b[38;5;241;43m=\u001b[39;49m\u001b[43mW\u001b[49m\u001b[43m,\u001b[49m\u001b[43m \u001b[49m\u001b[43mX\u001b[49m\u001b[38;5;241;43m=\u001b[39;49m\u001b[43mX\u001b[49m\u001b[43m)\u001b[49m\n",
      "File \u001b[1;32m~\\anaconda3\\lib\\site-packages\\econml\\dml\\dml.py:655\u001b[0m, in \u001b[0;36mLinearDML.fit\u001b[1;34m(self, Y, T, X, W, sample_weight, freq_weight, sample_var, groups, cache_values, inference)\u001b[0m\n\u001b[0;32m    616\u001b[0m \u001b[38;5;28;01mdef\u001b[39;00m \u001b[38;5;21mfit\u001b[39m(\u001b[38;5;28mself\u001b[39m, Y, T, \u001b[38;5;241m*\u001b[39m, X\u001b[38;5;241m=\u001b[39m\u001b[38;5;28;01mNone\u001b[39;00m, W\u001b[38;5;241m=\u001b[39m\u001b[38;5;28;01mNone\u001b[39;00m, sample_weight\u001b[38;5;241m=\u001b[39m\u001b[38;5;28;01mNone\u001b[39;00m, freq_weight\u001b[38;5;241m=\u001b[39m\u001b[38;5;28;01mNone\u001b[39;00m, sample_var\u001b[38;5;241m=\u001b[39m\u001b[38;5;28;01mNone\u001b[39;00m, groups\u001b[38;5;241m=\u001b[39m\u001b[38;5;28;01mNone\u001b[39;00m,\n\u001b[0;32m    617\u001b[0m         cache_values\u001b[38;5;241m=\u001b[39m\u001b[38;5;28;01mFalse\u001b[39;00m, inference\u001b[38;5;241m=\u001b[39m\u001b[38;5;124m'\u001b[39m\u001b[38;5;124mauto\u001b[39m\u001b[38;5;124m'\u001b[39m):\n\u001b[0;32m    618\u001b[0m     \u001b[38;5;124;03m\"\"\"\u001b[39;00m\n\u001b[0;32m    619\u001b[0m \u001b[38;5;124;03m    Estimate the counterfactual model from data, i.e. estimates functions τ(·,·,·), ∂τ(·,·).\u001b[39;00m\n\u001b[0;32m    620\u001b[0m \n\u001b[1;32m   (...)\u001b[0m\n\u001b[0;32m    653\u001b[0m \u001b[38;5;124;03m    self\u001b[39;00m\n\u001b[0;32m    654\u001b[0m \u001b[38;5;124;03m    \"\"\"\u001b[39;00m\n\u001b[1;32m--> 655\u001b[0m     \u001b[38;5;28;01mreturn\u001b[39;00m \u001b[38;5;28;43msuper\u001b[39;49m\u001b[43m(\u001b[49m\u001b[43m)\u001b[49m\u001b[38;5;241;43m.\u001b[39;49m\u001b[43mfit\u001b[49m\u001b[43m(\u001b[49m\u001b[43mY\u001b[49m\u001b[43m,\u001b[49m\u001b[43m \u001b[49m\u001b[43mT\u001b[49m\u001b[43m,\u001b[49m\u001b[43m \u001b[49m\u001b[43mX\u001b[49m\u001b[38;5;241;43m=\u001b[39;49m\u001b[43mX\u001b[49m\u001b[43m,\u001b[49m\u001b[43m \u001b[49m\u001b[43mW\u001b[49m\u001b[38;5;241;43m=\u001b[39;49m\u001b[43mW\u001b[49m\u001b[43m,\u001b[49m\n\u001b[0;32m    656\u001b[0m \u001b[43m                       \u001b[49m\u001b[43msample_weight\u001b[49m\u001b[38;5;241;43m=\u001b[39;49m\u001b[43msample_weight\u001b[49m\u001b[43m,\u001b[49m\u001b[43m \u001b[49m\u001b[43mfreq_weight\u001b[49m\u001b[38;5;241;43m=\u001b[39;49m\u001b[43mfreq_weight\u001b[49m\u001b[43m,\u001b[49m\u001b[43m \u001b[49m\u001b[43msample_var\u001b[49m\u001b[38;5;241;43m=\u001b[39;49m\u001b[43msample_var\u001b[49m\u001b[43m,\u001b[49m\u001b[43m \u001b[49m\u001b[43mgroups\u001b[49m\u001b[38;5;241;43m=\u001b[39;49m\u001b[43mgroups\u001b[49m\u001b[43m,\u001b[49m\n\u001b[0;32m    657\u001b[0m \u001b[43m                       \u001b[49m\u001b[43mcache_values\u001b[49m\u001b[38;5;241;43m=\u001b[39;49m\u001b[43mcache_values\u001b[49m\u001b[43m,\u001b[49m\n\u001b[0;32m    658\u001b[0m \u001b[43m                       \u001b[49m\u001b[43minference\u001b[49m\u001b[38;5;241;43m=\u001b[39;49m\u001b[43minference\u001b[49m\u001b[43m)\u001b[49m\n",
      "File \u001b[1;32m~\\anaconda3\\lib\\site-packages\\econml\\dml\\dml.py:503\u001b[0m, in \u001b[0;36mDML.fit\u001b[1;34m(self, Y, T, X, W, sample_weight, freq_weight, sample_var, groups, cache_values, inference)\u001b[0m\n\u001b[0;32m    464\u001b[0m \u001b[38;5;28;01mdef\u001b[39;00m \u001b[38;5;21mfit\u001b[39m(\u001b[38;5;28mself\u001b[39m, Y, T, \u001b[38;5;241m*\u001b[39m, X\u001b[38;5;241m=\u001b[39m\u001b[38;5;28;01mNone\u001b[39;00m, W\u001b[38;5;241m=\u001b[39m\u001b[38;5;28;01mNone\u001b[39;00m, sample_weight\u001b[38;5;241m=\u001b[39m\u001b[38;5;28;01mNone\u001b[39;00m, freq_weight\u001b[38;5;241m=\u001b[39m\u001b[38;5;28;01mNone\u001b[39;00m, sample_var\u001b[38;5;241m=\u001b[39m\u001b[38;5;28;01mNone\u001b[39;00m, groups\u001b[38;5;241m=\u001b[39m\u001b[38;5;28;01mNone\u001b[39;00m,\n\u001b[0;32m    465\u001b[0m         cache_values\u001b[38;5;241m=\u001b[39m\u001b[38;5;28;01mFalse\u001b[39;00m, inference\u001b[38;5;241m=\u001b[39m\u001b[38;5;124m'\u001b[39m\u001b[38;5;124mauto\u001b[39m\u001b[38;5;124m'\u001b[39m):\n\u001b[0;32m    466\u001b[0m     \u001b[38;5;124;03m\"\"\"\u001b[39;00m\n\u001b[0;32m    467\u001b[0m \u001b[38;5;124;03m    Estimate the counterfactual model from data, i.e. estimates functions τ(·,·,·), ∂τ(·,·).\u001b[39;00m\n\u001b[0;32m    468\u001b[0m \n\u001b[1;32m   (...)\u001b[0m\n\u001b[0;32m    501\u001b[0m \u001b[38;5;124;03m    self\u001b[39;00m\n\u001b[0;32m    502\u001b[0m \u001b[38;5;124;03m    \"\"\"\u001b[39;00m\n\u001b[1;32m--> 503\u001b[0m     \u001b[38;5;28;01mreturn\u001b[39;00m \u001b[38;5;28;43msuper\u001b[39;49m\u001b[43m(\u001b[49m\u001b[43m)\u001b[49m\u001b[38;5;241;43m.\u001b[39;49m\u001b[43mfit\u001b[49m\u001b[43m(\u001b[49m\u001b[43mY\u001b[49m\u001b[43m,\u001b[49m\u001b[43m \u001b[49m\u001b[43mT\u001b[49m\u001b[43m,\u001b[49m\u001b[43m \u001b[49m\u001b[43mX\u001b[49m\u001b[38;5;241;43m=\u001b[39;49m\u001b[43mX\u001b[49m\u001b[43m,\u001b[49m\u001b[43m \u001b[49m\u001b[43mW\u001b[49m\u001b[38;5;241;43m=\u001b[39;49m\u001b[43mW\u001b[49m\u001b[43m,\u001b[49m\u001b[43m \u001b[49m\u001b[43msample_weight\u001b[49m\u001b[38;5;241;43m=\u001b[39;49m\u001b[43msample_weight\u001b[49m\u001b[43m,\u001b[49m\u001b[43m \u001b[49m\u001b[43mfreq_weight\u001b[49m\u001b[38;5;241;43m=\u001b[39;49m\u001b[43mfreq_weight\u001b[49m\u001b[43m,\u001b[49m\n\u001b[0;32m    504\u001b[0m \u001b[43m                       \u001b[49m\u001b[43msample_var\u001b[49m\u001b[38;5;241;43m=\u001b[39;49m\u001b[43msample_var\u001b[49m\u001b[43m,\u001b[49m\u001b[43m \u001b[49m\u001b[43mgroups\u001b[49m\u001b[38;5;241;43m=\u001b[39;49m\u001b[43mgroups\u001b[49m\u001b[43m,\u001b[49m\n\u001b[0;32m    505\u001b[0m \u001b[43m                       \u001b[49m\u001b[43mcache_values\u001b[49m\u001b[38;5;241;43m=\u001b[39;49m\u001b[43mcache_values\u001b[49m\u001b[43m,\u001b[49m\n\u001b[0;32m    506\u001b[0m \u001b[43m                       \u001b[49m\u001b[43minference\u001b[49m\u001b[38;5;241;43m=\u001b[39;49m\u001b[43minference\u001b[49m\u001b[43m)\u001b[49m\n",
      "File \u001b[1;32m~\\anaconda3\\lib\\site-packages\\econml\\dml\\_rlearner.py:368\u001b[0m, in \u001b[0;36m_RLearner.fit\u001b[1;34m(self, Y, T, X, W, sample_weight, freq_weight, sample_var, groups, cache_values, inference)\u001b[0m\n\u001b[0;32m    331\u001b[0m \u001b[38;5;124;03m\"\"\"\u001b[39;00m\n\u001b[0;32m    332\u001b[0m \u001b[38;5;124;03mEstimate the counterfactual model from data, i.e. estimates function :math:`\\\\theta(\\\\cdot)`.\u001b[39;00m\n\u001b[0;32m    333\u001b[0m \n\u001b[1;32m   (...)\u001b[0m\n\u001b[0;32m    365\u001b[0m \u001b[38;5;124;03mself: _RLearner instance\u001b[39;00m\n\u001b[0;32m    366\u001b[0m \u001b[38;5;124;03m\"\"\"\u001b[39;00m\n\u001b[0;32m    367\u001b[0m \u001b[38;5;66;03m# Replacing fit from _OrthoLearner, to enforce Z=None and improve the docstring\u001b[39;00m\n\u001b[1;32m--> 368\u001b[0m \u001b[38;5;28;01mreturn\u001b[39;00m \u001b[38;5;28;43msuper\u001b[39;49m\u001b[43m(\u001b[49m\u001b[43m)\u001b[49m\u001b[38;5;241;43m.\u001b[39;49m\u001b[43mfit\u001b[49m\u001b[43m(\u001b[49m\u001b[43mY\u001b[49m\u001b[43m,\u001b[49m\u001b[43m \u001b[49m\u001b[43mT\u001b[49m\u001b[43m,\u001b[49m\u001b[43m \u001b[49m\u001b[43mX\u001b[49m\u001b[38;5;241;43m=\u001b[39;49m\u001b[43mX\u001b[49m\u001b[43m,\u001b[49m\u001b[43m \u001b[49m\u001b[43mW\u001b[49m\u001b[38;5;241;43m=\u001b[39;49m\u001b[43mW\u001b[49m\u001b[43m,\u001b[49m\n\u001b[0;32m    369\u001b[0m \u001b[43m                   \u001b[49m\u001b[43msample_weight\u001b[49m\u001b[38;5;241;43m=\u001b[39;49m\u001b[43msample_weight\u001b[49m\u001b[43m,\u001b[49m\u001b[43m \u001b[49m\u001b[43mfreq_weight\u001b[49m\u001b[38;5;241;43m=\u001b[39;49m\u001b[43mfreq_weight\u001b[49m\u001b[43m,\u001b[49m\u001b[43m \u001b[49m\u001b[43msample_var\u001b[49m\u001b[38;5;241;43m=\u001b[39;49m\u001b[43msample_var\u001b[49m\u001b[43m,\u001b[49m\u001b[43m \u001b[49m\u001b[43mgroups\u001b[49m\u001b[38;5;241;43m=\u001b[39;49m\u001b[43mgroups\u001b[49m\u001b[43m,\u001b[49m\n\u001b[0;32m    370\u001b[0m \u001b[43m                   \u001b[49m\u001b[43mcache_values\u001b[49m\u001b[38;5;241;43m=\u001b[39;49m\u001b[43mcache_values\u001b[49m\u001b[43m,\u001b[49m\n\u001b[0;32m    371\u001b[0m \u001b[43m                   \u001b[49m\u001b[43minference\u001b[49m\u001b[38;5;241;43m=\u001b[39;49m\u001b[43minference\u001b[49m\u001b[43m)\u001b[49m\n",
      "File \u001b[1;32m~\\anaconda3\\lib\\site-packages\\econml\\_cate_estimator.py:130\u001b[0m, in \u001b[0;36mBaseCateEstimator._wrap_fit.<locals>.call\u001b[1;34m(self, Y, T, inference, *args, **kwargs)\u001b[0m\n\u001b[0;32m    128\u001b[0m     inference\u001b[38;5;241m.\u001b[39mprefit(\u001b[38;5;28mself\u001b[39m, Y, T, \u001b[38;5;241m*\u001b[39margs, \u001b[38;5;241m*\u001b[39m\u001b[38;5;241m*\u001b[39mkwargs)\n\u001b[0;32m    129\u001b[0m \u001b[38;5;66;03m# call the wrapped fit method\u001b[39;00m\n\u001b[1;32m--> 130\u001b[0m m(\u001b[38;5;28mself\u001b[39m, Y, T, \u001b[38;5;241m*\u001b[39margs, \u001b[38;5;241m*\u001b[39m\u001b[38;5;241m*\u001b[39mkwargs)\n\u001b[0;32m    131\u001b[0m \u001b[38;5;28mself\u001b[39m\u001b[38;5;241m.\u001b[39m_postfit(Y, T, \u001b[38;5;241m*\u001b[39margs, \u001b[38;5;241m*\u001b[39m\u001b[38;5;241m*\u001b[39mkwargs)\n\u001b[0;32m    132\u001b[0m \u001b[38;5;28;01mif\u001b[39;00m inference \u001b[38;5;129;01mis\u001b[39;00m \u001b[38;5;129;01mnot\u001b[39;00m \u001b[38;5;28;01mNone\u001b[39;00m:\n\u001b[0;32m    133\u001b[0m     \u001b[38;5;66;03m# NOTE: we call inference fit *after* calling the main fit method\u001b[39;00m\n",
      "File \u001b[1;32m~\\anaconda3\\lib\\site-packages\\econml\\_ortho_learner.py:636\u001b[0m, in \u001b[0;36m_OrthoLearner.fit\u001b[1;34m(self, Y, T, X, W, Z, sample_weight, freq_weight, sample_var, groups, cache_values, inference, only_final, check_input)\u001b[0m\n\u001b[0;32m    634\u001b[0m \u001b[38;5;28mself\u001b[39m\u001b[38;5;241m.\u001b[39m_models_nuisance \u001b[38;5;241m=\u001b[39m []\n\u001b[0;32m    635\u001b[0m \u001b[38;5;28;01mfor\u001b[39;00m idx \u001b[38;5;129;01min\u001b[39;00m \u001b[38;5;28mrange\u001b[39m(\u001b[38;5;28mself\u001b[39m\u001b[38;5;241m.\u001b[39mmc_iters \u001b[38;5;129;01mor\u001b[39;00m \u001b[38;5;241m1\u001b[39m):\n\u001b[1;32m--> 636\u001b[0m     nuisances, fitted_models, new_inds, scores \u001b[38;5;241m=\u001b[39m \u001b[38;5;28;43mself\u001b[39;49m\u001b[38;5;241;43m.\u001b[39;49m\u001b[43m_fit_nuisances\u001b[49m\u001b[43m(\u001b[49m\n\u001b[0;32m    637\u001b[0m \u001b[43m        \u001b[49m\u001b[43mY\u001b[49m\u001b[43m,\u001b[49m\u001b[43m \u001b[49m\u001b[43mT\u001b[49m\u001b[43m,\u001b[49m\u001b[43m \u001b[49m\u001b[43mX\u001b[49m\u001b[43m,\u001b[49m\u001b[43m \u001b[49m\u001b[43mW\u001b[49m\u001b[43m,\u001b[49m\u001b[43m \u001b[49m\u001b[43mZ\u001b[49m\u001b[43m,\u001b[49m\u001b[43m \u001b[49m\u001b[43msample_weight\u001b[49m\u001b[38;5;241;43m=\u001b[39;49m\u001b[43msample_weight_nuisances\u001b[49m\u001b[43m,\u001b[49m\u001b[43m \u001b[49m\u001b[43mgroups\u001b[49m\u001b[38;5;241;43m=\u001b[39;49m\u001b[43mgroups\u001b[49m\u001b[43m)\u001b[49m\n\u001b[0;32m    638\u001b[0m     all_nuisances\u001b[38;5;241m.\u001b[39mappend(nuisances)\n\u001b[0;32m    639\u001b[0m     \u001b[38;5;28mself\u001b[39m\u001b[38;5;241m.\u001b[39m_models_nuisance\u001b[38;5;241m.\u001b[39mappend(fitted_models)\n",
      "File \u001b[1;32m~\\anaconda3\\lib\\site-packages\\econml\\_ortho_learner.py:766\u001b[0m, in \u001b[0;36m_OrthoLearner._fit_nuisances\u001b[1;34m(self, Y, T, X, W, Z, sample_weight, groups)\u001b[0m\n\u001b[0;32m    763\u001b[0m     \u001b[38;5;28;01melse\u001b[39;00m:\n\u001b[0;32m    764\u001b[0m         folds \u001b[38;5;241m=\u001b[39m splitter\u001b[38;5;241m.\u001b[39msplit(to_split, strata)\n\u001b[1;32m--> 766\u001b[0m nuisances, fitted_models, fitted_inds, scores \u001b[38;5;241m=\u001b[39m \u001b[43m_crossfit\u001b[49m\u001b[43m(\u001b[49m\u001b[38;5;28;43mself\u001b[39;49m\u001b[38;5;241;43m.\u001b[39;49m\u001b[43m_ortho_learner_model_nuisance\u001b[49m\u001b[43m,\u001b[49m\u001b[43m \u001b[49m\u001b[43mfolds\u001b[49m\u001b[43m,\u001b[49m\n\u001b[0;32m    767\u001b[0m \u001b[43m                                                          \u001b[49m\u001b[43mY\u001b[49m\u001b[43m,\u001b[49m\u001b[43m \u001b[49m\u001b[43mT\u001b[49m\u001b[43m,\u001b[49m\u001b[43m \u001b[49m\u001b[43mX\u001b[49m\u001b[38;5;241;43m=\u001b[39;49m\u001b[43mX\u001b[49m\u001b[43m,\u001b[49m\u001b[43m \u001b[49m\u001b[43mW\u001b[49m\u001b[38;5;241;43m=\u001b[39;49m\u001b[43mW\u001b[49m\u001b[43m,\u001b[49m\u001b[43m \u001b[49m\u001b[43mZ\u001b[49m\u001b[38;5;241;43m=\u001b[39;49m\u001b[43mZ\u001b[49m\u001b[43m,\u001b[49m\n\u001b[0;32m    768\u001b[0m \u001b[43m                                                          \u001b[49m\u001b[43msample_weight\u001b[49m\u001b[38;5;241;43m=\u001b[39;49m\u001b[43msample_weight\u001b[49m\u001b[43m,\u001b[49m\u001b[43m \u001b[49m\u001b[43mgroups\u001b[49m\u001b[38;5;241;43m=\u001b[39;49m\u001b[43mgroups\u001b[49m\u001b[43m)\u001b[49m\n\u001b[0;32m    769\u001b[0m \u001b[38;5;28;01mreturn\u001b[39;00m nuisances, fitted_models, fitted_inds, scores\n",
      "File \u001b[1;32m~\\anaconda3\\lib\\site-packages\\econml\\_ortho_learner.py:168\u001b[0m, in \u001b[0;36m_crossfit\u001b[1;34m(model, folds, *args, **kwargs)\u001b[0m\n\u001b[0;32m    165\u001b[0m kwargs_train \u001b[38;5;241m=\u001b[39m {key: var[train_idxs] \u001b[38;5;28;01mfor\u001b[39;00m key, var \u001b[38;5;129;01min\u001b[39;00m kwargs\u001b[38;5;241m.\u001b[39mitems()}\n\u001b[0;32m    166\u001b[0m kwargs_test \u001b[38;5;241m=\u001b[39m {key: var[test_idxs] \u001b[38;5;28;01mfor\u001b[39;00m key, var \u001b[38;5;129;01min\u001b[39;00m kwargs\u001b[38;5;241m.\u001b[39mitems()}\n\u001b[1;32m--> 168\u001b[0m model_list[idx]\u001b[38;5;241m.\u001b[39mfit(\u001b[38;5;241m*\u001b[39margs_train, \u001b[38;5;241m*\u001b[39m\u001b[38;5;241m*\u001b[39mkwargs_train)\n\u001b[0;32m    170\u001b[0m nuisance_temp \u001b[38;5;241m=\u001b[39m model_list[idx]\u001b[38;5;241m.\u001b[39mpredict(\u001b[38;5;241m*\u001b[39margs_test, \u001b[38;5;241m*\u001b[39m\u001b[38;5;241m*\u001b[39mkwargs_test)\n\u001b[0;32m    172\u001b[0m \u001b[38;5;28;01mif\u001b[39;00m \u001b[38;5;129;01mnot\u001b[39;00m \u001b[38;5;28misinstance\u001b[39m(nuisance_temp, \u001b[38;5;28mtuple\u001b[39m):\n",
      "File \u001b[1;32m~\\anaconda3\\lib\\site-packages\\econml\\dml\\_rlearner.py:51\u001b[0m, in \u001b[0;36m_ModelNuisance.fit\u001b[1;34m(self, Y, T, X, W, Z, sample_weight, groups)\u001b[0m\n\u001b[0;32m     49\u001b[0m \u001b[38;5;28;01mdef\u001b[39;00m \u001b[38;5;21mfit\u001b[39m(\u001b[38;5;28mself\u001b[39m, Y, T, X\u001b[38;5;241m=\u001b[39m\u001b[38;5;28;01mNone\u001b[39;00m, W\u001b[38;5;241m=\u001b[39m\u001b[38;5;28;01mNone\u001b[39;00m, Z\u001b[38;5;241m=\u001b[39m\u001b[38;5;28;01mNone\u001b[39;00m, sample_weight\u001b[38;5;241m=\u001b[39m\u001b[38;5;28;01mNone\u001b[39;00m, groups\u001b[38;5;241m=\u001b[39m\u001b[38;5;28;01mNone\u001b[39;00m):\n\u001b[0;32m     50\u001b[0m     \u001b[38;5;28;01massert\u001b[39;00m Z \u001b[38;5;129;01mis\u001b[39;00m \u001b[38;5;28;01mNone\u001b[39;00m, \u001b[38;5;124m\"\u001b[39m\u001b[38;5;124mCannot accept instrument!\u001b[39m\u001b[38;5;124m\"\u001b[39m\n\u001b[1;32m---> 51\u001b[0m     \u001b[38;5;28mself\u001b[39m\u001b[38;5;241m.\u001b[39m_model_t\u001b[38;5;241m.\u001b[39mfit(X, W, T, \u001b[38;5;241m*\u001b[39m\u001b[38;5;241m*\u001b[39mfilter_none_kwargs(sample_weight\u001b[38;5;241m=\u001b[39msample_weight, groups\u001b[38;5;241m=\u001b[39mgroups))\n\u001b[0;32m     52\u001b[0m     \u001b[38;5;28mself\u001b[39m\u001b[38;5;241m.\u001b[39m_model_y\u001b[38;5;241m.\u001b[39mfit(X, W, Y, \u001b[38;5;241m*\u001b[39m\u001b[38;5;241m*\u001b[39mfilter_none_kwargs(sample_weight\u001b[38;5;241m=\u001b[39msample_weight, groups\u001b[38;5;241m=\u001b[39mgroups))\n\u001b[0;32m     53\u001b[0m     \u001b[38;5;28;01mreturn\u001b[39;00m \u001b[38;5;28mself\u001b[39m\n",
      "File \u001b[1;32m~\\anaconda3\\lib\\site-packages\\econml\\dml\\dml.py:75\u001b[0m, in \u001b[0;36m_FirstStageWrapper.fit\u001b[1;34m(self, X, W, Target, sample_weight, groups)\u001b[0m\n\u001b[0;32m     72\u001b[0m     fit_with_groups(\u001b[38;5;28mself\u001b[39m\u001b[38;5;241m.\u001b[39m_model, \u001b[38;5;28mself\u001b[39m\u001b[38;5;241m.\u001b[39m_combine(X, W, Target\u001b[38;5;241m.\u001b[39mshape[\u001b[38;5;241m0\u001b[39m]), Target, groups\u001b[38;5;241m=\u001b[39mgroups,\n\u001b[0;32m     73\u001b[0m                     sample_weight\u001b[38;5;241m=\u001b[39msample_weight)\n\u001b[0;32m     74\u001b[0m \u001b[38;5;28;01melse\u001b[39;00m:\n\u001b[1;32m---> 75\u001b[0m     \u001b[43mfit_with_groups\u001b[49m\u001b[43m(\u001b[49m\u001b[38;5;28;43mself\u001b[39;49m\u001b[38;5;241;43m.\u001b[39;49m\u001b[43m_model\u001b[49m\u001b[43m,\u001b[49m\u001b[43m \u001b[49m\u001b[38;5;28;43mself\u001b[39;49m\u001b[38;5;241;43m.\u001b[39;49m\u001b[43m_combine\u001b[49m\u001b[43m(\u001b[49m\u001b[43mX\u001b[49m\u001b[43m,\u001b[49m\u001b[43m \u001b[49m\u001b[43mW\u001b[49m\u001b[43m,\u001b[49m\u001b[43m \u001b[49m\u001b[43mTarget\u001b[49m\u001b[38;5;241;43m.\u001b[39;49m\u001b[43mshape\u001b[49m\u001b[43m[\u001b[49m\u001b[38;5;241;43m0\u001b[39;49m\u001b[43m]\u001b[49m\u001b[43m)\u001b[49m\u001b[43m,\u001b[49m\u001b[43m \u001b[49m\u001b[43mTarget\u001b[49m\u001b[43m,\u001b[49m\u001b[43m \u001b[49m\u001b[43mgroups\u001b[49m\u001b[38;5;241;43m=\u001b[39;49m\u001b[43mgroups\u001b[49m\u001b[43m)\u001b[49m\n\u001b[0;32m     76\u001b[0m \u001b[38;5;28;01mreturn\u001b[39;00m \u001b[38;5;28mself\u001b[39m\n",
      "File \u001b[1;32m~\\anaconda3\\lib\\site-packages\\econml\\utilities.py:906\u001b[0m, in \u001b[0;36mfit_with_groups\u001b[1;34m(model, X, y, groups, **kwargs)\u001b[0m\n\u001b[0;32m    903\u001b[0m         \u001b[38;5;28;01mfinally\u001b[39;00m:\n\u001b[0;32m    904\u001b[0m             model\u001b[38;5;241m.\u001b[39mcv \u001b[38;5;241m=\u001b[39m old_cv\n\u001b[1;32m--> 906\u001b[0m \u001b[38;5;28;01mreturn\u001b[39;00m model\u001b[38;5;241m.\u001b[39mfit(X, y, \u001b[38;5;241m*\u001b[39m\u001b[38;5;241m*\u001b[39mkwargs)\n",
      "File \u001b[1;32m~\\anaconda3\\lib\\site-packages\\sklearn\\multioutput.py:434\u001b[0m, in \u001b[0;36mMultiOutputClassifier.fit\u001b[1;34m(self, X, Y, sample_weight, **fit_params)\u001b[0m\n\u001b[0;32m    408\u001b[0m \u001b[38;5;28;01mdef\u001b[39;00m \u001b[38;5;21mfit\u001b[39m(\u001b[38;5;28mself\u001b[39m, X, Y, sample_weight\u001b[38;5;241m=\u001b[39m\u001b[38;5;28;01mNone\u001b[39;00m, \u001b[38;5;241m*\u001b[39m\u001b[38;5;241m*\u001b[39mfit_params):\n\u001b[0;32m    409\u001b[0m     \u001b[38;5;124;03m\"\"\"Fit the model to data matrix X and targets Y.\u001b[39;00m\n\u001b[0;32m    410\u001b[0m \n\u001b[0;32m    411\u001b[0m \u001b[38;5;124;03m    Parameters\u001b[39;00m\n\u001b[1;32m   (...)\u001b[0m\n\u001b[0;32m    432\u001b[0m \u001b[38;5;124;03m        Returns a fitted instance.\u001b[39;00m\n\u001b[0;32m    433\u001b[0m \u001b[38;5;124;03m    \"\"\"\u001b[39;00m\n\u001b[1;32m--> 434\u001b[0m     \u001b[38;5;28msuper\u001b[39m()\u001b[38;5;241m.\u001b[39mfit(X, Y, sample_weight, \u001b[38;5;241m*\u001b[39m\u001b[38;5;241m*\u001b[39mfit_params)\n\u001b[0;32m    435\u001b[0m     \u001b[38;5;28mself\u001b[39m\u001b[38;5;241m.\u001b[39mclasses_ \u001b[38;5;241m=\u001b[39m [estimator\u001b[38;5;241m.\u001b[39mclasses_ \u001b[38;5;28;01mfor\u001b[39;00m estimator \u001b[38;5;129;01min\u001b[39;00m \u001b[38;5;28mself\u001b[39m\u001b[38;5;241m.\u001b[39mestimators_]\n\u001b[0;32m    436\u001b[0m     \u001b[38;5;28;01mreturn\u001b[39;00m \u001b[38;5;28mself\u001b[39m\n",
      "File \u001b[1;32m~\\anaconda3\\lib\\site-packages\\sklearn\\multioutput.py:202\u001b[0m, in \u001b[0;36m_MultiOutputEstimator.fit\u001b[1;34m(self, X, y, sample_weight, **fit_params)\u001b[0m\n\u001b[0;32m    198\u001b[0m     \u001b[38;5;28;01mraise\u001b[39;00m \u001b[38;5;167;01mValueError\u001b[39;00m(\u001b[38;5;124m\"\u001b[39m\u001b[38;5;124mUnderlying estimator does not support sample weights.\u001b[39m\u001b[38;5;124m\"\u001b[39m)\n\u001b[0;32m    200\u001b[0m fit_params_validated \u001b[38;5;241m=\u001b[39m _check_fit_params(X, fit_params)\n\u001b[1;32m--> 202\u001b[0m \u001b[38;5;28mself\u001b[39m\u001b[38;5;241m.\u001b[39mestimators_ \u001b[38;5;241m=\u001b[39m \u001b[43mParallel\u001b[49m\u001b[43m(\u001b[49m\u001b[43mn_jobs\u001b[49m\u001b[38;5;241;43m=\u001b[39;49m\u001b[38;5;28;43mself\u001b[39;49m\u001b[38;5;241;43m.\u001b[39;49m\u001b[43mn_jobs\u001b[49m\u001b[43m)\u001b[49m\u001b[43m(\u001b[49m\n\u001b[0;32m    203\u001b[0m \u001b[43m    \u001b[49m\u001b[43mdelayed\u001b[49m\u001b[43m(\u001b[49m\u001b[43m_fit_estimator\u001b[49m\u001b[43m)\u001b[49m\u001b[43m(\u001b[49m\n\u001b[0;32m    204\u001b[0m \u001b[43m        \u001b[49m\u001b[38;5;28;43mself\u001b[39;49m\u001b[38;5;241;43m.\u001b[39;49m\u001b[43mestimator\u001b[49m\u001b[43m,\u001b[49m\u001b[43m \u001b[49m\u001b[43mX\u001b[49m\u001b[43m,\u001b[49m\u001b[43m \u001b[49m\u001b[43my\u001b[49m\u001b[43m[\u001b[49m\u001b[43m:\u001b[49m\u001b[43m,\u001b[49m\u001b[43m \u001b[49m\u001b[43mi\u001b[49m\u001b[43m]\u001b[49m\u001b[43m,\u001b[49m\u001b[43m \u001b[49m\u001b[43msample_weight\u001b[49m\u001b[43m,\u001b[49m\u001b[43m \u001b[49m\u001b[38;5;241;43m*\u001b[39;49m\u001b[38;5;241;43m*\u001b[39;49m\u001b[43mfit_params_validated\u001b[49m\n\u001b[0;32m    205\u001b[0m \u001b[43m    \u001b[49m\u001b[43m)\u001b[49m\n\u001b[0;32m    206\u001b[0m \u001b[43m    \u001b[49m\u001b[38;5;28;43;01mfor\u001b[39;49;00m\u001b[43m \u001b[49m\u001b[43mi\u001b[49m\u001b[43m \u001b[49m\u001b[38;5;129;43;01min\u001b[39;49;00m\u001b[43m \u001b[49m\u001b[38;5;28;43mrange\u001b[39;49m\u001b[43m(\u001b[49m\u001b[43my\u001b[49m\u001b[38;5;241;43m.\u001b[39;49m\u001b[43mshape\u001b[49m\u001b[43m[\u001b[49m\u001b[38;5;241;43m1\u001b[39;49m\u001b[43m]\u001b[49m\u001b[43m)\u001b[49m\n\u001b[0;32m    207\u001b[0m \u001b[43m\u001b[49m\u001b[43m)\u001b[49m\n\u001b[0;32m    209\u001b[0m \u001b[38;5;28;01mif\u001b[39;00m \u001b[38;5;28mhasattr\u001b[39m(\u001b[38;5;28mself\u001b[39m\u001b[38;5;241m.\u001b[39mestimators_[\u001b[38;5;241m0\u001b[39m], \u001b[38;5;124m\"\u001b[39m\u001b[38;5;124mn_features_in_\u001b[39m\u001b[38;5;124m\"\u001b[39m):\n\u001b[0;32m    210\u001b[0m     \u001b[38;5;28mself\u001b[39m\u001b[38;5;241m.\u001b[39mn_features_in_ \u001b[38;5;241m=\u001b[39m \u001b[38;5;28mself\u001b[39m\u001b[38;5;241m.\u001b[39mestimators_[\u001b[38;5;241m0\u001b[39m]\u001b[38;5;241m.\u001b[39mn_features_in_\n",
      "File \u001b[1;32m~\\anaconda3\\lib\\site-packages\\joblib\\parallel.py:1043\u001b[0m, in \u001b[0;36mParallel.__call__\u001b[1;34m(self, iterable)\u001b[0m\n\u001b[0;32m   1034\u001b[0m \u001b[38;5;28;01mtry\u001b[39;00m:\n\u001b[0;32m   1035\u001b[0m     \u001b[38;5;66;03m# Only set self._iterating to True if at least a batch\u001b[39;00m\n\u001b[0;32m   1036\u001b[0m     \u001b[38;5;66;03m# was dispatched. In particular this covers the edge\u001b[39;00m\n\u001b[1;32m   (...)\u001b[0m\n\u001b[0;32m   1040\u001b[0m     \u001b[38;5;66;03m# was very quick and its callback already dispatched all the\u001b[39;00m\n\u001b[0;32m   1041\u001b[0m     \u001b[38;5;66;03m# remaining jobs.\u001b[39;00m\n\u001b[0;32m   1042\u001b[0m     \u001b[38;5;28mself\u001b[39m\u001b[38;5;241m.\u001b[39m_iterating \u001b[38;5;241m=\u001b[39m \u001b[38;5;28;01mFalse\u001b[39;00m\n\u001b[1;32m-> 1043\u001b[0m     \u001b[38;5;28;01mif\u001b[39;00m \u001b[38;5;28;43mself\u001b[39;49m\u001b[38;5;241;43m.\u001b[39;49m\u001b[43mdispatch_one_batch\u001b[49m\u001b[43m(\u001b[49m\u001b[43miterator\u001b[49m\u001b[43m)\u001b[49m:\n\u001b[0;32m   1044\u001b[0m         \u001b[38;5;28mself\u001b[39m\u001b[38;5;241m.\u001b[39m_iterating \u001b[38;5;241m=\u001b[39m \u001b[38;5;28mself\u001b[39m\u001b[38;5;241m.\u001b[39m_original_iterator \u001b[38;5;129;01mis\u001b[39;00m \u001b[38;5;129;01mnot\u001b[39;00m \u001b[38;5;28;01mNone\u001b[39;00m\n\u001b[0;32m   1046\u001b[0m     \u001b[38;5;28;01mwhile\u001b[39;00m \u001b[38;5;28mself\u001b[39m\u001b[38;5;241m.\u001b[39mdispatch_one_batch(iterator):\n",
      "File \u001b[1;32m~\\anaconda3\\lib\\site-packages\\joblib\\parallel.py:861\u001b[0m, in \u001b[0;36mParallel.dispatch_one_batch\u001b[1;34m(self, iterator)\u001b[0m\n\u001b[0;32m    859\u001b[0m     \u001b[38;5;28;01mreturn\u001b[39;00m \u001b[38;5;28;01mFalse\u001b[39;00m\n\u001b[0;32m    860\u001b[0m \u001b[38;5;28;01melse\u001b[39;00m:\n\u001b[1;32m--> 861\u001b[0m     \u001b[38;5;28;43mself\u001b[39;49m\u001b[38;5;241;43m.\u001b[39;49m\u001b[43m_dispatch\u001b[49m\u001b[43m(\u001b[49m\u001b[43mtasks\u001b[49m\u001b[43m)\u001b[49m\n\u001b[0;32m    862\u001b[0m     \u001b[38;5;28;01mreturn\u001b[39;00m \u001b[38;5;28;01mTrue\u001b[39;00m\n",
      "File \u001b[1;32m~\\anaconda3\\lib\\site-packages\\joblib\\parallel.py:779\u001b[0m, in \u001b[0;36mParallel._dispatch\u001b[1;34m(self, batch)\u001b[0m\n\u001b[0;32m    777\u001b[0m \u001b[38;5;28;01mwith\u001b[39;00m \u001b[38;5;28mself\u001b[39m\u001b[38;5;241m.\u001b[39m_lock:\n\u001b[0;32m    778\u001b[0m     job_idx \u001b[38;5;241m=\u001b[39m \u001b[38;5;28mlen\u001b[39m(\u001b[38;5;28mself\u001b[39m\u001b[38;5;241m.\u001b[39m_jobs)\n\u001b[1;32m--> 779\u001b[0m     job \u001b[38;5;241m=\u001b[39m \u001b[38;5;28;43mself\u001b[39;49m\u001b[38;5;241;43m.\u001b[39;49m\u001b[43m_backend\u001b[49m\u001b[38;5;241;43m.\u001b[39;49m\u001b[43mapply_async\u001b[49m\u001b[43m(\u001b[49m\u001b[43mbatch\u001b[49m\u001b[43m,\u001b[49m\u001b[43m \u001b[49m\u001b[43mcallback\u001b[49m\u001b[38;5;241;43m=\u001b[39;49m\u001b[43mcb\u001b[49m\u001b[43m)\u001b[49m\n\u001b[0;32m    780\u001b[0m     \u001b[38;5;66;03m# A job can complete so quickly than its callback is\u001b[39;00m\n\u001b[0;32m    781\u001b[0m     \u001b[38;5;66;03m# called before we get here, causing self._jobs to\u001b[39;00m\n\u001b[0;32m    782\u001b[0m     \u001b[38;5;66;03m# grow. To ensure correct results ordering, .insert is\u001b[39;00m\n\u001b[0;32m    783\u001b[0m     \u001b[38;5;66;03m# used (rather than .append) in the following line\u001b[39;00m\n\u001b[0;32m    784\u001b[0m     \u001b[38;5;28mself\u001b[39m\u001b[38;5;241m.\u001b[39m_jobs\u001b[38;5;241m.\u001b[39minsert(job_idx, job)\n",
      "File \u001b[1;32m~\\anaconda3\\lib\\site-packages\\joblib\\_parallel_backends.py:208\u001b[0m, in \u001b[0;36mSequentialBackend.apply_async\u001b[1;34m(self, func, callback)\u001b[0m\n\u001b[0;32m    206\u001b[0m \u001b[38;5;28;01mdef\u001b[39;00m \u001b[38;5;21mapply_async\u001b[39m(\u001b[38;5;28mself\u001b[39m, func, callback\u001b[38;5;241m=\u001b[39m\u001b[38;5;28;01mNone\u001b[39;00m):\n\u001b[0;32m    207\u001b[0m     \u001b[38;5;124;03m\"\"\"Schedule a func to be run\"\"\"\u001b[39;00m\n\u001b[1;32m--> 208\u001b[0m     result \u001b[38;5;241m=\u001b[39m \u001b[43mImmediateResult\u001b[49m\u001b[43m(\u001b[49m\u001b[43mfunc\u001b[49m\u001b[43m)\u001b[49m\n\u001b[0;32m    209\u001b[0m     \u001b[38;5;28;01mif\u001b[39;00m callback:\n\u001b[0;32m    210\u001b[0m         callback(result)\n",
      "File \u001b[1;32m~\\anaconda3\\lib\\site-packages\\joblib\\_parallel_backends.py:572\u001b[0m, in \u001b[0;36mImmediateResult.__init__\u001b[1;34m(self, batch)\u001b[0m\n\u001b[0;32m    569\u001b[0m \u001b[38;5;28;01mdef\u001b[39;00m \u001b[38;5;21m__init__\u001b[39m(\u001b[38;5;28mself\u001b[39m, batch):\n\u001b[0;32m    570\u001b[0m     \u001b[38;5;66;03m# Don't delay the application, to avoid keeping the input\u001b[39;00m\n\u001b[0;32m    571\u001b[0m     \u001b[38;5;66;03m# arguments in memory\u001b[39;00m\n\u001b[1;32m--> 572\u001b[0m     \u001b[38;5;28mself\u001b[39m\u001b[38;5;241m.\u001b[39mresults \u001b[38;5;241m=\u001b[39m \u001b[43mbatch\u001b[49m\u001b[43m(\u001b[49m\u001b[43m)\u001b[49m\n",
      "File \u001b[1;32m~\\anaconda3\\lib\\site-packages\\joblib\\parallel.py:262\u001b[0m, in \u001b[0;36mBatchedCalls.__call__\u001b[1;34m(self)\u001b[0m\n\u001b[0;32m    258\u001b[0m \u001b[38;5;28;01mdef\u001b[39;00m \u001b[38;5;21m__call__\u001b[39m(\u001b[38;5;28mself\u001b[39m):\n\u001b[0;32m    259\u001b[0m     \u001b[38;5;66;03m# Set the default nested backend to self._backend but do not set the\u001b[39;00m\n\u001b[0;32m    260\u001b[0m     \u001b[38;5;66;03m# change the default number of processes to -1\u001b[39;00m\n\u001b[0;32m    261\u001b[0m     \u001b[38;5;28;01mwith\u001b[39;00m parallel_backend(\u001b[38;5;28mself\u001b[39m\u001b[38;5;241m.\u001b[39m_backend, n_jobs\u001b[38;5;241m=\u001b[39m\u001b[38;5;28mself\u001b[39m\u001b[38;5;241m.\u001b[39m_n_jobs):\n\u001b[1;32m--> 262\u001b[0m         \u001b[38;5;28;01mreturn\u001b[39;00m [func(\u001b[38;5;241m*\u001b[39margs, \u001b[38;5;241m*\u001b[39m\u001b[38;5;241m*\u001b[39mkwargs)\n\u001b[0;32m    263\u001b[0m                 \u001b[38;5;28;01mfor\u001b[39;00m func, args, kwargs \u001b[38;5;129;01min\u001b[39;00m \u001b[38;5;28mself\u001b[39m\u001b[38;5;241m.\u001b[39mitems]\n",
      "File \u001b[1;32m~\\anaconda3\\lib\\site-packages\\joblib\\parallel.py:262\u001b[0m, in \u001b[0;36m<listcomp>\u001b[1;34m(.0)\u001b[0m\n\u001b[0;32m    258\u001b[0m \u001b[38;5;28;01mdef\u001b[39;00m \u001b[38;5;21m__call__\u001b[39m(\u001b[38;5;28mself\u001b[39m):\n\u001b[0;32m    259\u001b[0m     \u001b[38;5;66;03m# Set the default nested backend to self._backend but do not set the\u001b[39;00m\n\u001b[0;32m    260\u001b[0m     \u001b[38;5;66;03m# change the default number of processes to -1\u001b[39;00m\n\u001b[0;32m    261\u001b[0m     \u001b[38;5;28;01mwith\u001b[39;00m parallel_backend(\u001b[38;5;28mself\u001b[39m\u001b[38;5;241m.\u001b[39m_backend, n_jobs\u001b[38;5;241m=\u001b[39m\u001b[38;5;28mself\u001b[39m\u001b[38;5;241m.\u001b[39m_n_jobs):\n\u001b[1;32m--> 262\u001b[0m         \u001b[38;5;28;01mreturn\u001b[39;00m [func(\u001b[38;5;241m*\u001b[39margs, \u001b[38;5;241m*\u001b[39m\u001b[38;5;241m*\u001b[39mkwargs)\n\u001b[0;32m    263\u001b[0m                 \u001b[38;5;28;01mfor\u001b[39;00m func, args, kwargs \u001b[38;5;129;01min\u001b[39;00m \u001b[38;5;28mself\u001b[39m\u001b[38;5;241m.\u001b[39mitems]\n",
      "File \u001b[1;32m~\\anaconda3\\lib\\site-packages\\sklearn\\utils\\fixes.py:216\u001b[0m, in \u001b[0;36m_FuncWrapper.__call__\u001b[1;34m(self, *args, **kwargs)\u001b[0m\n\u001b[0;32m    214\u001b[0m \u001b[38;5;28;01mdef\u001b[39;00m \u001b[38;5;21m__call__\u001b[39m(\u001b[38;5;28mself\u001b[39m, \u001b[38;5;241m*\u001b[39margs, \u001b[38;5;241m*\u001b[39m\u001b[38;5;241m*\u001b[39mkwargs):\n\u001b[0;32m    215\u001b[0m     \u001b[38;5;28;01mwith\u001b[39;00m config_context(\u001b[38;5;241m*\u001b[39m\u001b[38;5;241m*\u001b[39m\u001b[38;5;28mself\u001b[39m\u001b[38;5;241m.\u001b[39mconfig):\n\u001b[1;32m--> 216\u001b[0m         \u001b[38;5;28;01mreturn\u001b[39;00m \u001b[38;5;28mself\u001b[39m\u001b[38;5;241m.\u001b[39mfunction(\u001b[38;5;241m*\u001b[39margs, \u001b[38;5;241m*\u001b[39m\u001b[38;5;241m*\u001b[39mkwargs)\n",
      "File \u001b[1;32m~\\anaconda3\\lib\\site-packages\\sklearn\\multioutput.py:44\u001b[0m, in \u001b[0;36m_fit_estimator\u001b[1;34m(estimator, X, y, sample_weight, **fit_params)\u001b[0m\n\u001b[0;32m     42\u001b[0m     estimator\u001b[38;5;241m.\u001b[39mfit(X, y, sample_weight\u001b[38;5;241m=\u001b[39msample_weight, \u001b[38;5;241m*\u001b[39m\u001b[38;5;241m*\u001b[39mfit_params)\n\u001b[0;32m     43\u001b[0m \u001b[38;5;28;01melse\u001b[39;00m:\n\u001b[1;32m---> 44\u001b[0m     estimator\u001b[38;5;241m.\u001b[39mfit(X, y, \u001b[38;5;241m*\u001b[39m\u001b[38;5;241m*\u001b[39mfit_params)\n\u001b[0;32m     45\u001b[0m \u001b[38;5;28;01mreturn\u001b[39;00m estimator\n",
      "File \u001b[1;32m~\\anaconda3\\lib\\site-packages\\sklearn\\ensemble\\_gb.py:497\u001b[0m, in \u001b[0;36mBaseGradientBoosting.fit\u001b[1;34m(self, X, y, sample_weight, monitor)\u001b[0m\n\u001b[0;32m    494\u001b[0m y \u001b[38;5;241m=\u001b[39m column_or_1d(y, warn\u001b[38;5;241m=\u001b[39m\u001b[38;5;28;01mTrue\u001b[39;00m)\n\u001b[0;32m    496\u001b[0m \u001b[38;5;28;01mif\u001b[39;00m is_classifier(\u001b[38;5;28mself\u001b[39m):\n\u001b[1;32m--> 497\u001b[0m     y \u001b[38;5;241m=\u001b[39m \u001b[38;5;28;43mself\u001b[39;49m\u001b[38;5;241;43m.\u001b[39;49m\u001b[43m_validate_y\u001b[49m\u001b[43m(\u001b[49m\u001b[43my\u001b[49m\u001b[43m,\u001b[49m\u001b[43m \u001b[49m\u001b[43msample_weight\u001b[49m\u001b[43m)\u001b[49m\n\u001b[0;32m    498\u001b[0m \u001b[38;5;28;01melse\u001b[39;00m:\n\u001b[0;32m    499\u001b[0m     y \u001b[38;5;241m=\u001b[39m \u001b[38;5;28mself\u001b[39m\u001b[38;5;241m.\u001b[39m_validate_y(y)\n",
      "File \u001b[1;32m~\\anaconda3\\lib\\site-packages\\sklearn\\ensemble\\_gb.py:1272\u001b[0m, in \u001b[0;36mGradientBoostingClassifier._validate_y\u001b[1;34m(self, y, sample_weight)\u001b[0m\n\u001b[0;32m   1270\u001b[0m n_trim_classes \u001b[38;5;241m=\u001b[39m np\u001b[38;5;241m.\u001b[39mcount_nonzero(np\u001b[38;5;241m.\u001b[39mbincount(y, sample_weight))\n\u001b[0;32m   1271\u001b[0m \u001b[38;5;28;01mif\u001b[39;00m n_trim_classes \u001b[38;5;241m<\u001b[39m \u001b[38;5;241m2\u001b[39m:\n\u001b[1;32m-> 1272\u001b[0m     \u001b[38;5;28;01mraise\u001b[39;00m \u001b[38;5;167;01mValueError\u001b[39;00m(\n\u001b[0;32m   1273\u001b[0m         \u001b[38;5;124m\"\u001b[39m\u001b[38;5;124my contains \u001b[39m\u001b[38;5;132;01m%d\u001b[39;00m\u001b[38;5;124m class after sample_weight \u001b[39m\u001b[38;5;124m\"\u001b[39m\n\u001b[0;32m   1274\u001b[0m         \u001b[38;5;124m\"\u001b[39m\u001b[38;5;124mtrimmed classes with zero weights, while a \u001b[39m\u001b[38;5;124m\"\u001b[39m\n\u001b[0;32m   1275\u001b[0m         \u001b[38;5;124m\"\u001b[39m\u001b[38;5;124mminimum of 2 classes are required.\u001b[39m\u001b[38;5;124m\"\u001b[39m \u001b[38;5;241m%\u001b[39m n_trim_classes\n\u001b[0;32m   1276\u001b[0m     )\n\u001b[0;32m   1277\u001b[0m \u001b[38;5;28mself\u001b[39m\u001b[38;5;241m.\u001b[39m_n_classes \u001b[38;5;241m=\u001b[39m \u001b[38;5;28mlen\u001b[39m(\u001b[38;5;28mself\u001b[39m\u001b[38;5;241m.\u001b[39mclasses_)\n\u001b[0;32m   1278\u001b[0m \u001b[38;5;66;03m# expose n_classes_ attribute\u001b[39;00m\n",
      "\u001b[1;31mValueError\u001b[0m: y contains 1 class after sample_weight trimmed classes with zero weights, while a minimum of 2 classes are required."
     ]
    }
   ],
   "source": [
    "est.fit(Y=Y, T=W, X=X)"
   ]
  },
  {
   "cell_type": "code",
   "execution_count": 396,
   "id": "1cee22ba",
   "metadata": {
    "ExecuteTime": {
     "end_time": "2022-11-28T09:41:41.908762Z",
     "start_time": "2022-11-28T09:41:41.900708Z"
    }
   },
   "outputs": [
    {
     "data": {
      "text/plain": [
       "0    37113\n",
       "1     8605\n",
       "dtype: int64"
      ]
     },
     "execution_count": 396,
     "metadata": {},
     "output_type": "execute_result"
    }
   ],
   "source": [
    "pd.value_counts(Y)"
   ]
  },
  {
   "cell_type": "code",
   "execution_count": 50,
   "id": "73934bec",
   "metadata": {
    "ExecuteTime": {
     "end_time": "2022-11-29T06:18:02.750698Z",
     "start_time": "2022-11-29T06:18:02.746696Z"
    }
   },
   "outputs": [],
   "source": [
    "\n",
    "a=\"zhugez-done.xlsx\""
   ]
  },
  {
   "cell_type": "code",
   "execution_count": 51,
   "id": "fe5affd5",
   "metadata": {
    "ExecuteTime": {
     "end_time": "2022-11-29T06:18:03.176010Z",
     "start_time": "2022-11-29T06:18:03.173010Z"
    }
   },
   "outputs": [
    {
     "data": {
      "text/plain": [
       "True"
      ]
     },
     "execution_count": 51,
     "metadata": {},
     "output_type": "execute_result"
    }
   ],
   "source": [
    "\n",
    "a.endswith(\"xlsx\")"
   ]
  },
  {
   "cell_type": "code",
   "execution_count": null,
   "id": "860dae72",
   "metadata": {},
   "outputs": [],
   "source": []
  }
 ],
 "metadata": {
  "kernelspec": {
   "display_name": "Python 3 (ipykernel)",
   "language": "python",
   "name": "python3"
  },
  "language_info": {
   "codemirror_mode": {
    "name": "ipython",
    "version": 3
   },
   "file_extension": ".py",
   "mimetype": "text/x-python",
   "name": "python",
   "nbconvert_exporter": "python",
   "pygments_lexer": "ipython3",
   "version": "3.9.12"
  },
  "toc": {
   "base_numbering": 1,
   "nav_menu": {},
   "number_sections": true,
   "sideBar": true,
   "skip_h1_title": false,
   "title_cell": "Table of Contents",
   "title_sidebar": "Contents",
   "toc_cell": false,
   "toc_position": {
    "height": "calc(100% - 180px)",
    "left": "10px",
    "top": "150px",
    "width": "303.837px"
   },
   "toc_section_display": true,
   "toc_window_display": true
  },
  "varInspector": {
   "cols": {
    "lenName": 16,
    "lenType": 16,
    "lenVar": 40
   },
   "kernels_config": {
    "python": {
     "delete_cmd_postfix": "",
     "delete_cmd_prefix": "del ",
     "library": "var_list.py",
     "varRefreshCmd": "print(var_dic_list())"
    },
    "r": {
     "delete_cmd_postfix": ") ",
     "delete_cmd_prefix": "rm(",
     "library": "var_list.r",
     "varRefreshCmd": "cat(var_dic_list()) "
    }
   },
   "types_to_exclude": [
    "module",
    "function",
    "builtin_function_or_method",
    "instance",
    "_Feature"
   ],
   "window_display": false
  }
 },
 "nbformat": 4,
 "nbformat_minor": 5
}
