{
 "cells": [
  {
   "cell_type": "code",
   "execution_count": 6,
   "id": "67a30738",
   "metadata": {
    "ExecuteTime": {
     "end_time": "2022-11-21T10:26:43.122286Z",
     "start_time": "2022-11-21T10:26:43.113285Z"
    }
   },
   "outputs": [],
   "source": [
    "import pandas as pd\n",
    "import numpy as np"
   ]
  },
  {
   "cell_type": "code",
   "execution_count": 7,
   "id": "55816ae4",
   "metadata": {
    "ExecuteTime": {
     "end_time": "2022-11-21T10:26:44.813787Z",
     "start_time": "2022-11-21T10:26:43.310920Z"
    }
   },
   "outputs": [],
   "source": [
    "data=pd.read_excel(\"df1121.xlsx\")"
   ]
  },
  {
   "cell_type": "code",
   "execution_count": 8,
   "id": "2c499413",
   "metadata": {
    "ExecuteTime": {
     "end_time": "2022-11-21T10:26:44.845770Z",
     "start_time": "2022-11-21T10:26:44.830772Z"
    }
   },
   "outputs": [
    {
     "data": {
      "text/html": [
       "<div>\n",
       "<style scoped>\n",
       "    .dataframe tbody tr th:only-of-type {\n",
       "        vertical-align: middle;\n",
       "    }\n",
       "\n",
       "    .dataframe tbody tr th {\n",
       "        vertical-align: top;\n",
       "    }\n",
       "\n",
       "    .dataframe thead th {\n",
       "        text-align: right;\n",
       "    }\n",
       "</style>\n",
       "<table border=\"1\" class=\"dataframe\">\n",
       "  <thead>\n",
       "    <tr style=\"text-align: right;\">\n",
       "      <th></th>\n",
       "      <th>VIN</th>\n",
       "      <th>DISCOUNT_mean机油滤清器</th>\n",
       "      <th>DISCOUNT_mean机油</th>\n",
       "      <th>age</th>\n",
       "      <th>gender</th>\n",
       "      <th>IS_WASH</th>\n",
       "      <th>LABOUR_AMOUNT</th>\n",
       "      <th>REPAIR_PART_AMOUNT</th>\n",
       "      <th>REPAIR_AMOUNT</th>\n",
       "      <th>配件数量</th>\n",
       "      <th>oneyear_average_mileage</th>\n",
       "      <th>WAIT_TIME</th>\n",
       "      <th>oneyear_tc</th>\n",
       "      <th>Retention_service</th>\n",
       "      <th>Model</th>\n",
       "      <th>auto_age</th>\n",
       "    </tr>\n",
       "  </thead>\n",
       "  <tbody>\n",
       "    <tr>\n",
       "      <th>0</th>\n",
       "      <td>L2CAB3B20KG100761</td>\n",
       "      <td>0.0</td>\n",
       "      <td>0.0</td>\n",
       "      <td>29</td>\n",
       "      <td>2</td>\n",
       "      <td>1</td>\n",
       "      <td>682.0</td>\n",
       "      <td>1038.32</td>\n",
       "      <td>1720.32</td>\n",
       "      <td>2</td>\n",
       "      <td>7741.65</td>\n",
       "      <td>95</td>\n",
       "      <td>1</td>\n",
       "      <td>1</td>\n",
       "      <td>XEL</td>\n",
       "      <td>36</td>\n",
       "    </tr>\n",
       "    <tr>\n",
       "      <th>1</th>\n",
       "      <td>L2CAB3B20KG100792</td>\n",
       "      <td>0.0</td>\n",
       "      <td>0.0</td>\n",
       "      <td>26</td>\n",
       "      <td>1</td>\n",
       "      <td>1</td>\n",
       "      <td>0.0</td>\n",
       "      <td>236.67</td>\n",
       "      <td>236.67</td>\n",
       "      <td>1</td>\n",
       "      <td>15399.35</td>\n",
       "      <td>52</td>\n",
       "      <td>2</td>\n",
       "      <td>1</td>\n",
       "      <td>XEL</td>\n",
       "      <td>33</td>\n",
       "    </tr>\n",
       "    <tr>\n",
       "      <th>2</th>\n",
       "      <td>L2CAB3B20KG101408</td>\n",
       "      <td>0.0</td>\n",
       "      <td>0.0</td>\n",
       "      <td>41</td>\n",
       "      <td>2</td>\n",
       "      <td>1</td>\n",
       "      <td>388.5</td>\n",
       "      <td>1891.27</td>\n",
       "      <td>2279.77</td>\n",
       "      <td>4</td>\n",
       "      <td>17593.00</td>\n",
       "      <td>134</td>\n",
       "      <td>7</td>\n",
       "      <td>1</td>\n",
       "      <td>XEL</td>\n",
       "      <td>31</td>\n",
       "    </tr>\n",
       "    <tr>\n",
       "      <th>3</th>\n",
       "      <td>L2CAB3B20KG101411</td>\n",
       "      <td>0.0</td>\n",
       "      <td>0.0</td>\n",
       "      <td>59</td>\n",
       "      <td>1</td>\n",
       "      <td>1</td>\n",
       "      <td>672.0</td>\n",
       "      <td>1038.32</td>\n",
       "      <td>1710.32</td>\n",
       "      <td>2</td>\n",
       "      <td>13494.05</td>\n",
       "      <td>130</td>\n",
       "      <td>8</td>\n",
       "      <td>1</td>\n",
       "      <td>XEL</td>\n",
       "      <td>31</td>\n",
       "    </tr>\n",
       "    <tr>\n",
       "      <th>4</th>\n",
       "      <td>L2CAB3B20KG101490</td>\n",
       "      <td>0.0</td>\n",
       "      <td>0.0</td>\n",
       "      <td>28</td>\n",
       "      <td>1</td>\n",
       "      <td>1</td>\n",
       "      <td>0.0</td>\n",
       "      <td>159.47</td>\n",
       "      <td>159.47</td>\n",
       "      <td>1</td>\n",
       "      <td>17257.20</td>\n",
       "      <td>47</td>\n",
       "      <td>2</td>\n",
       "      <td>0</td>\n",
       "      <td>XEL</td>\n",
       "      <td>35</td>\n",
       "    </tr>\n",
       "  </tbody>\n",
       "</table>\n",
       "</div>"
      ],
      "text/plain": [
       "                 VIN  DISCOUNT_mean机油滤清器  DISCOUNT_mean机油  age  gender  \\\n",
       "0  L2CAB3B20KG100761                 0.0              0.0   29       2   \n",
       "1  L2CAB3B20KG100792                 0.0              0.0   26       1   \n",
       "2  L2CAB3B20KG101408                 0.0              0.0   41       2   \n",
       "3  L2CAB3B20KG101411                 0.0              0.0   59       1   \n",
       "4  L2CAB3B20KG101490                 0.0              0.0   28       1   \n",
       "\n",
       "   IS_WASH  LABOUR_AMOUNT  REPAIR_PART_AMOUNT  REPAIR_AMOUNT  配件数量  \\\n",
       "0        1          682.0             1038.32        1720.32     2   \n",
       "1        1            0.0              236.67         236.67     1   \n",
       "2        1          388.5             1891.27        2279.77     4   \n",
       "3        1          672.0             1038.32        1710.32     2   \n",
       "4        1            0.0              159.47         159.47     1   \n",
       "\n",
       "   oneyear_average_mileage  WAIT_TIME  oneyear_tc  Retention_service Model  \\\n",
       "0                  7741.65         95           1                  1   XEL   \n",
       "1                 15399.35         52           2                  1   XEL   \n",
       "2                 17593.00        134           7                  1   XEL   \n",
       "3                 13494.05        130           8                  1   XEL   \n",
       "4                 17257.20         47           2                  0   XEL   \n",
       "\n",
       "   auto_age  \n",
       "0        36  \n",
       "1        33  \n",
       "2        31  \n",
       "3        31  \n",
       "4        35  "
      ]
     },
     "execution_count": 8,
     "metadata": {},
     "output_type": "execute_result"
    }
   ],
   "source": [
    "data.head()"
   ]
  },
  {
   "cell_type": "code",
   "execution_count": 18,
   "id": "1ad93049",
   "metadata": {
    "ExecuteTime": {
     "end_time": "2022-11-21T10:51:01.875821Z",
     "start_time": "2022-11-21T10:51:01.858640Z"
    }
   },
   "outputs": [
    {
     "data": {
      "text/plain": [
       "5      1503\n",
       "4      1422\n",
       "6      1387\n",
       "7      1075\n",
       "3      1039\n",
       "8       725\n",
       "9       537\n",
       "2       484\n",
       "10      371\n",
       "11      226\n",
       "1       170\n",
       "12      143\n",
       "13       93\n",
       "14       69\n",
       "15       41\n",
       "16       34\n",
       "0        28\n",
       "17       16\n",
       "18        9\n",
       "21        6\n",
       "23        4\n",
       "19        3\n",
       "20        3\n",
       "133       1\n",
       "Name: oneyear_tc, dtype: int64"
      ]
     },
     "execution_count": 18,
     "metadata": {},
     "output_type": "execute_result"
    }
   ],
   "source": [
    "data.oneyear_tc.value_counts()"
   ]
  },
  {
   "cell_type": "code",
   "execution_count": 14,
   "id": "6ced31c0",
   "metadata": {
    "ExecuteTime": {
     "end_time": "2022-11-21T10:28:35.524549Z",
     "start_time": "2022-11-21T10:28:35.509429Z"
    }
   },
   "outputs": [],
   "source": [
    "inference = data[data[\"oneyear_tc\"]<=2]"
   ]
  },
  {
   "cell_type": "code",
   "execution_count": 19,
   "id": "15d707f9",
   "metadata": {
    "ExecuteTime": {
     "end_time": "2022-11-21T10:52:01.141903Z",
     "start_time": "2022-11-21T10:52:01.082680Z"
    }
   },
   "outputs": [],
   "source": [
    "data.to_csv(\"df1121.csv\",index=False,encoding=\"utf_8_sig\")"
   ]
  },
  {
   "cell_type": "code",
   "execution_count": 20,
   "id": "afb70202",
   "metadata": {
    "ExecuteTime": {
     "end_time": "2022-11-21T10:52:01.545132Z",
     "start_time": "2022-11-21T10:52:01.531428Z"
    }
   },
   "outputs": [],
   "source": [
    "inference.to_csv(\"df1121-inference.csv\",index=False,encoding=\"utf_8_sig\")"
   ]
  },
  {
   "cell_type": "code",
   "execution_count": 10,
   "id": "41352a99",
   "metadata": {
    "ExecuteTime": {
     "end_time": "2022-11-21T10:26:47.525380Z",
     "start_time": "2022-11-21T10:26:47.516336Z"
    }
   },
   "outputs": [
    {
     "data": {
      "text/plain": [
       "Index(['VIN', 'DISCOUNT_mean机油滤清器', 'DISCOUNT_mean机油', 'age', 'gender',\n",
       "       'IS_WASH', 'LABOUR_AMOUNT', 'REPAIR_PART_AMOUNT', 'REPAIR_AMOUNT',\n",
       "       '配件数量', 'oneyear_average_mileage', 'WAIT_TIME', 'oneyear_tc',\n",
       "       'Retention_service', 'Model', 'auto_age'],\n",
       "      dtype='object')"
      ]
     },
     "execution_count": 10,
     "metadata": {},
     "output_type": "execute_result"
    }
   ],
   "source": [
    "data.columns"
   ]
  },
  {
   "cell_type": "code",
   "execution_count": null,
   "id": "df3bb745",
   "metadata": {},
   "outputs": [],
   "source": [
    "['VIN', 'DISCOUNT_mean机油滤清器', 'DISCOUNT_mean机油', 'age', 'gender',\n",
    "       'IS_WASH', 'LABOUR_AMOUNT', 'REPAIR_PART_AMOUNT', 'REPAIR_AMOUNT',\n",
    "       '配件数量', 'oneyear_average_mileage', 'WAIT_TIME', 'oneyear_tc',\n",
    "       'Retention_service', 'Model', 'auto_age']"
   ]
  },
  {
   "cell_type": "code",
   "execution_count": null,
   "id": "de8eb534",
   "metadata": {},
   "outputs": [],
   "source": [
    "['DISCOUNT_mean机油滤清器', 'DISCOUNT_mean机油', 'age', 'gender',\n",
    "       'IS_WASH', 'LABOUR_AMOUNT', 'REPAIR_PART_AMOUNT', 'REPAIR_AMOUNT',\n",
    "       '配件数量', 'oneyear_average_mileage', 'WAIT_TIME',\n",
    "       'Retention_service', 'Model', 'auto_age']"
   ]
  },
  {
   "cell_type": "code",
   "execution_count": null,
   "id": "d3ec53c1",
   "metadata": {},
   "outputs": [],
   "source": [
    "{\n",
    "    \"train_data_path\":\"df1121.csv\",\n",
    "    \"inference_data_path\":\"df1121-inference.csv\",\n",
    "    \"target_data_path\":\"df1121-inference-target.json\",\n",
    "    \"feature_columns\":['DISCOUNT_mean机油滤清器', 'DISCOUNT_mean机油', 'age', 'gender',\n",
    "       'IS_WASH', 'LABOUR_AMOUNT', 'REPAIR_PART_AMOUNT', 'REPAIR_AMOUNT',\n",
    "       '配件数量', 'oneyear_average_mileage', 'WAIT_TIME',\n",
    "       'Retention_service', 'Model', 'auto_age'],\n",
    "    \"treatment_columns_category\":[\n",
    "    ],\n",
    "    \"treatment_columns_continuous\":{\n",
    "        \"DISCOUNT_mean机油滤清器\":[\n",
    "            null,\n",
    "            null,\n",
    "            1\n",
    "        ],\n",
    "        \"DISCOUNT_mean机油\":[\n",
    "            null,\n",
    "            null,\n",
    "            1\n",
    "        ]\n",
    "        \"WAIT_TIME\":[\n",
    "            null,\n",
    "            null,\n",
    "            0\n",
    "        ]\n",
    "    },\n",
    "    \"treatment_columns_common\":[\n",
    "    ],\n",
    "    \"outcome_column\":[\n",
    "        \"oneyear_tc\"\n",
    "    ],\n",
    "    \"userid_column\":[\n",
    "        \"VIN\"\n",
    "    ]\n",
    "}"
   ]
  }
 ],
 "metadata": {
  "kernelspec": {
   "display_name": "Python 3 (ipykernel)",
   "language": "python",
   "name": "python3"
  },
  "language_info": {
   "codemirror_mode": {
    "name": "ipython",
    "version": 3
   },
   "file_extension": ".py",
   "mimetype": "text/x-python",
   "name": "python",
   "nbconvert_exporter": "python",
   "pygments_lexer": "ipython3",
   "version": "3.9.12"
  },
  "toc": {
   "base_numbering": 1,
   "nav_menu": {},
   "number_sections": true,
   "sideBar": true,
   "skip_h1_title": false,
   "title_cell": "Table of Contents",
   "title_sidebar": "Contents",
   "toc_cell": false,
   "toc_position": {},
   "toc_section_display": true,
   "toc_window_display": false
  },
  "varInspector": {
   "cols": {
    "lenName": 16,
    "lenType": 16,
    "lenVar": 40
   },
   "kernels_config": {
    "python": {
     "delete_cmd_postfix": "",
     "delete_cmd_prefix": "del ",
     "library": "var_list.py",
     "varRefreshCmd": "print(var_dic_list())"
    },
    "r": {
     "delete_cmd_postfix": ") ",
     "delete_cmd_prefix": "rm(",
     "library": "var_list.r",
     "varRefreshCmd": "cat(var_dic_list()) "
    }
   },
   "types_to_exclude": [
    "module",
    "function",
    "builtin_function_or_method",
    "instance",
    "_Feature"
   ],
   "window_display": false
  }
 },
 "nbformat": 4,
 "nbformat_minor": 5
}
